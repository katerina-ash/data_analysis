{
 "cells": [
  {
   "cell_type": "markdown",
   "metadata": {},
   "source": [
    "# Проект. Приоритизация гипотез. Анализ A/B-теста."
   ]
  },
  {
   "cell_type": "markdown",
   "metadata": {},
   "source": [
    "## Описание проекта"
   ]
  },
  {
   "cell_type": "markdown",
   "metadata": {},
   "source": [
    "**Контекст**"
   ]
  },
  {
   "cell_type": "markdown",
   "metadata": {},
   "source": [
    "Вы — аналитик крупного интернет-магазина. Вместе с отделом маркетинга вы подготовили список гипотез для увеличения выручки.\n",
    "Приоритизируйте гипотезы, запустите A/B-тест и проанализируйте результаты."
   ]
  },
  {
   "cell_type": "markdown",
   "metadata": {},
   "source": [
    "**Часть 1. Приоритизация гипотез.**"
   ]
  },
  {
   "cell_type": "markdown",
   "metadata": {},
   "source": [
    "В файле /datasets/hypothesis.csv 9 гипотез по увеличению выручки интернет-магазина с указанными параметрами Reach, Impact, Confidence, Effort."
   ]
  },
  {
   "cell_type": "markdown",
   "metadata": {},
   "source": [
    "**Задача**\n",
    "* Примените фреймворк ICE для приоритизации гипотез. Отсортируйте их по убыванию приоритета.\n",
    "* Примените фреймворк RICE для приоритизации гипотез. Отсортируйте их по убыванию приоритета.\n",
    "* Укажите, как изменилась приоритизация гипотез при применении RICE вместо ICE. Объясните, почему так произошло."
   ]
  },
  {
   "cell_type": "markdown",
   "metadata": {},
   "source": [
    "**Часть 2. Анализ A/B-теста.**"
   ]
  },
  {
   "cell_type": "markdown",
   "metadata": {},
   "source": [
    "Вы провели A/B-тест и получили результаты, которые описаны в файлах."
   ]
  },
  {
   "cell_type": "markdown",
   "metadata": {},
   "source": [
    "**Задача**\n",
    "\n",
    "Проанализируйте A/B-тест:\n",
    "1. Постройте график кумулятивной выручки по группам. Сделайте выводы и предположения.\n",
    "2. Постройте график кумулятивного среднего чека по группам. Сделайте выводы и предположения.\n",
    "3. Постройте график относительного изменения кумулятивного среднего чека группы B к группе A. Сделайте выводы и предположения.\n",
    "4. Постройте график кумулятивной конверсии по группам. Сделайте выводы и предположения.\n",
    "5. Постройте график относительного изменения кумулятивной конверсии группы B к группе A. Сделайте выводы и предположения.\n",
    "6. Постройте точечный график количества заказов по пользователям. Сделайте выводы и предположения.\n",
    "7. Посчитайте 95-й и 99-й перцентили количества заказов на пользователя. Выберите границу для определения аномальных пользователей.\n",
    "8. Постройте точечный график стоимостей заказов. Сделайте выводы и предположения.\n",
    "9. Посчитайте 95-й и 99-й перцентили стоимости заказов. Выберите границу для определения аномальных заказов.\n",
    "10. Посчитайте статистическую значимость различий в конверсии между группами по «сырым» данным. Сделайте выводы и предположения.\n",
    "11. Посчитайте статистическую значимость различий в среднем чеке заказа между группами по «сырым» данным. Сделайте выводы и предположения.\n",
    "12. Посчитайте статистическую значимость различий в конверсии между группами по «очищенным» данным. Сделайте выводы и предположения.\n",
    "13. Посчитайте статистическую значимость различий в среднем чеке заказа между группами по «очищенным» данным. Сделайте выводы и предположения.\n",
    "14. Примите решение по результатам теста и объясните его. Варианты решений: 1. Остановить тест, зафиксировать победу одной из групп. 2. Остановить тест, зафиксировать отсутствие различий между группами. 3. Продолжить тест."
   ]
  },
  {
   "cell_type": "markdown",
   "metadata": {},
   "source": [
    "## Описание данных"
   ]
  },
  {
   "cell_type": "markdown",
   "metadata": {},
   "source": [
    "**Данные для первой части**\n",
    "\n",
    "Файл /datasets/hypothesis.csv.\n",
    "* Hypothesis — краткое описание гипотезы;\n",
    "* Reach — охват пользователей по 10-балльной шкале;\n",
    "* Impact — влияние на пользователей по 10-балльной шкале;\n",
    "* Confidence — уверенность в гипотезе по 10-балльной шкале;\n",
    "* Efforts — затраты ресурсов на проверку гипотезы по 10-балльной шкале. Чем больше значение Efforts, тем дороже проверка гипотезы."
   ]
  },
  {
   "cell_type": "markdown",
   "metadata": {},
   "source": [
    "**Данные для второй части**\n",
    "\n",
    "Файл /datasets/orders.csv.\n",
    "* transactionId — идентификатор заказа;\n",
    "* visitorId — идентификатор пользователя, совершившего заказ;\n",
    "* date — дата, когда был совершён заказ;\n",
    "* revenue — выручка заказа;\n",
    "* group — группа A/B-теста, в которую попал заказ."
   ]
  },
  {
   "cell_type": "markdown",
   "metadata": {},
   "source": [
    "Файл /datasets/visitors.csv.\n",
    "* date — дата;\n",
    "* group — группа A/B-теста;\n",
    "* visitors — количество пользователей в указанную дату в указанной группе A/B-теста"
   ]
  },
  {
   "cell_type": "markdown",
   "metadata": {},
   "source": [
    "## Приоритизация гипотез"
   ]
  },
  {
   "cell_type": "code",
   "execution_count": 1,
   "metadata": {},
   "outputs": [],
   "source": [
    "# подключаю библиотеки\n",
    "import pandas as pd\n",
    "import numpy as np \n",
    "import datetime as dt\n",
    "from scipy import stats as st\n",
    "import matplotlib.pyplot as plt\n",
    "import seaborn as sns"
   ]
  },
  {
   "cell_type": "code",
   "execution_count": 2,
   "metadata": {},
   "outputs": [],
   "source": [
    "# загружаю датасет с гипотезами\n",
    "try:\n",
    "    hypotheses = pd.read_csv('hypothesis.csv')\n",
    "except FileNotFoundError as e:\n",
    "    print(e)"
   ]
  },
  {
   "cell_type": "code",
   "execution_count": 3,
   "metadata": {},
   "outputs": [
    {
     "data": {
      "text/html": [
       "<div>\n",
       "<style scoped>\n",
       "    .dataframe tbody tr th:only-of-type {\n",
       "        vertical-align: middle;\n",
       "    }\n",
       "\n",
       "    .dataframe tbody tr th {\n",
       "        vertical-align: top;\n",
       "    }\n",
       "\n",
       "    .dataframe thead th {\n",
       "        text-align: right;\n",
       "    }\n",
       "</style>\n",
       "<table border=\"1\" class=\"dataframe\">\n",
       "  <thead>\n",
       "    <tr style=\"text-align: right;\">\n",
       "      <th></th>\n",
       "      <th>Hypothesis</th>\n",
       "      <th>Reach</th>\n",
       "      <th>Impact</th>\n",
       "      <th>Confidence</th>\n",
       "      <th>Efforts</th>\n",
       "    </tr>\n",
       "  </thead>\n",
       "  <tbody>\n",
       "    <tr>\n",
       "      <th>0</th>\n",
       "      <td>Добавить два новых канала привлечения трафика, что позволит привлекать на 30% больше пользователей</td>\n",
       "      <td>3</td>\n",
       "      <td>10</td>\n",
       "      <td>8</td>\n",
       "      <td>6</td>\n",
       "    </tr>\n",
       "    <tr>\n",
       "      <th>1</th>\n",
       "      <td>Запустить собственную службу доставки, что сократит срок доставки заказов</td>\n",
       "      <td>2</td>\n",
       "      <td>5</td>\n",
       "      <td>4</td>\n",
       "      <td>10</td>\n",
       "    </tr>\n",
       "    <tr>\n",
       "      <th>2</th>\n",
       "      <td>Добавить блоки рекомендаций товаров на сайт интернет магазина, чтобы повысить конверсию и средний чек заказа</td>\n",
       "      <td>8</td>\n",
       "      <td>3</td>\n",
       "      <td>7</td>\n",
       "      <td>3</td>\n",
       "    </tr>\n",
       "    <tr>\n",
       "      <th>3</th>\n",
       "      <td>Изменить структура категорий, что увеличит конверсию, т.к. пользователи быстрее найдут нужный товар</td>\n",
       "      <td>8</td>\n",
       "      <td>3</td>\n",
       "      <td>3</td>\n",
       "      <td>8</td>\n",
       "    </tr>\n",
       "    <tr>\n",
       "      <th>4</th>\n",
       "      <td>Изменить цвет фона главной страницы, чтобы увеличить вовлеченность пользователей</td>\n",
       "      <td>3</td>\n",
       "      <td>1</td>\n",
       "      <td>1</td>\n",
       "      <td>1</td>\n",
       "    </tr>\n",
       "  </tbody>\n",
       "</table>\n",
       "</div>"
      ],
      "text/plain": [
       "                                                                                                     Hypothesis  \\\n",
       "0  Добавить два новых канала привлечения трафика, что позволит привлекать на 30% больше пользователей             \n",
       "1  Запустить собственную службу доставки, что сократит срок доставки заказов                                      \n",
       "2  Добавить блоки рекомендаций товаров на сайт интернет магазина, чтобы повысить конверсию и средний чек заказа   \n",
       "3  Изменить структура категорий, что увеличит конверсию, т.к. пользователи быстрее найдут нужный товар            \n",
       "4  Изменить цвет фона главной страницы, чтобы увеличить вовлеченность пользователей                               \n",
       "\n",
       "   Reach  Impact  Confidence  Efforts  \n",
       "0  3      10      8           6        \n",
       "1  2      5       4           10       \n",
       "2  8      3       7           3        \n",
       "3  8      3       3           8        \n",
       "4  3      1       1           1        "
      ]
     },
     "execution_count": 3,
     "metadata": {},
     "output_type": "execute_result"
    }
   ],
   "source": [
    "pd.set_option('display.max_columns', None)\n",
    "pd.set_option('max_colwidth', 0)\n",
    "hypotheses.head()"
   ]
  },
  {
   "cell_type": "markdown",
   "metadata": {},
   "source": [
    "**Фреймворк ICE для приоритизации гипотез.**"
   ]
  },
  {
   "cell_type": "code",
   "execution_count": 4,
   "metadata": {},
   "outputs": [],
   "source": [
    "hypotheses['ICE'] = round((hypotheses['Impact'] * hypotheses['Confidence']) / hypotheses['Efforts'], 2)"
   ]
  },
  {
   "cell_type": "code",
   "execution_count": 5,
   "metadata": {},
   "outputs": [
    {
     "data": {
      "text/html": [
       "<div>\n",
       "<style scoped>\n",
       "    .dataframe tbody tr th:only-of-type {\n",
       "        vertical-align: middle;\n",
       "    }\n",
       "\n",
       "    .dataframe tbody tr th {\n",
       "        vertical-align: top;\n",
       "    }\n",
       "\n",
       "    .dataframe thead th {\n",
       "        text-align: right;\n",
       "    }\n",
       "</style>\n",
       "<table border=\"1\" class=\"dataframe\">\n",
       "  <thead>\n",
       "    <tr style=\"text-align: right;\">\n",
       "      <th></th>\n",
       "      <th>Hypothesis</th>\n",
       "      <th>Reach</th>\n",
       "      <th>Impact</th>\n",
       "      <th>Confidence</th>\n",
       "      <th>Efforts</th>\n",
       "      <th>ICE</th>\n",
       "    </tr>\n",
       "  </thead>\n",
       "  <tbody>\n",
       "    <tr>\n",
       "      <th>8</th>\n",
       "      <td>Запустить акцию, дающую скидку на товар в день рождения</td>\n",
       "      <td>1</td>\n",
       "      <td>9</td>\n",
       "      <td>9</td>\n",
       "      <td>5</td>\n",
       "      <td>16.20</td>\n",
       "    </tr>\n",
       "    <tr>\n",
       "      <th>0</th>\n",
       "      <td>Добавить два новых канала привлечения трафика, что позволит привлекать на 30% больше пользователей</td>\n",
       "      <td>3</td>\n",
       "      <td>10</td>\n",
       "      <td>8</td>\n",
       "      <td>6</td>\n",
       "      <td>13.33</td>\n",
       "    </tr>\n",
       "    <tr>\n",
       "      <th>7</th>\n",
       "      <td>Добавить форму подписки на все основные страницы, чтобы собрать базу клиентов для email-рассылок</td>\n",
       "      <td>10</td>\n",
       "      <td>7</td>\n",
       "      <td>8</td>\n",
       "      <td>5</td>\n",
       "      <td>11.20</td>\n",
       "    </tr>\n",
       "    <tr>\n",
       "      <th>6</th>\n",
       "      <td>Показать на главной странице баннеры с актуальными акциями и распродажами, чтобы увеличить конверсию</td>\n",
       "      <td>5</td>\n",
       "      <td>3</td>\n",
       "      <td>8</td>\n",
       "      <td>3</td>\n",
       "      <td>8.00</td>\n",
       "    </tr>\n",
       "    <tr>\n",
       "      <th>2</th>\n",
       "      <td>Добавить блоки рекомендаций товаров на сайт интернет магазина, чтобы повысить конверсию и средний чек заказа</td>\n",
       "      <td>8</td>\n",
       "      <td>3</td>\n",
       "      <td>7</td>\n",
       "      <td>3</td>\n",
       "      <td>7.00</td>\n",
       "    </tr>\n",
       "    <tr>\n",
       "      <th>1</th>\n",
       "      <td>Запустить собственную службу доставки, что сократит срок доставки заказов</td>\n",
       "      <td>2</td>\n",
       "      <td>5</td>\n",
       "      <td>4</td>\n",
       "      <td>10</td>\n",
       "      <td>2.00</td>\n",
       "    </tr>\n",
       "    <tr>\n",
       "      <th>5</th>\n",
       "      <td>Добавить страницу отзывов клиентов о магазине, что позволит увеличить количество заказов</td>\n",
       "      <td>3</td>\n",
       "      <td>2</td>\n",
       "      <td>2</td>\n",
       "      <td>3</td>\n",
       "      <td>1.33</td>\n",
       "    </tr>\n",
       "    <tr>\n",
       "      <th>3</th>\n",
       "      <td>Изменить структура категорий, что увеличит конверсию, т.к. пользователи быстрее найдут нужный товар</td>\n",
       "      <td>8</td>\n",
       "      <td>3</td>\n",
       "      <td>3</td>\n",
       "      <td>8</td>\n",
       "      <td>1.12</td>\n",
       "    </tr>\n",
       "    <tr>\n",
       "      <th>4</th>\n",
       "      <td>Изменить цвет фона главной страницы, чтобы увеличить вовлеченность пользователей</td>\n",
       "      <td>3</td>\n",
       "      <td>1</td>\n",
       "      <td>1</td>\n",
       "      <td>1</td>\n",
       "      <td>1.00</td>\n",
       "    </tr>\n",
       "  </tbody>\n",
       "</table>\n",
       "</div>"
      ],
      "text/plain": [
       "                                                                                                     Hypothesis  \\\n",
       "8  Запустить акцию, дающую скидку на товар в день рождения                                                        \n",
       "0  Добавить два новых канала привлечения трафика, что позволит привлекать на 30% больше пользователей             \n",
       "7  Добавить форму подписки на все основные страницы, чтобы собрать базу клиентов для email-рассылок               \n",
       "6  Показать на главной странице баннеры с актуальными акциями и распродажами, чтобы увеличить конверсию           \n",
       "2  Добавить блоки рекомендаций товаров на сайт интернет магазина, чтобы повысить конверсию и средний чек заказа   \n",
       "1  Запустить собственную службу доставки, что сократит срок доставки заказов                                      \n",
       "5  Добавить страницу отзывов клиентов о магазине, что позволит увеличить количество заказов                       \n",
       "3  Изменить структура категорий, что увеличит конверсию, т.к. пользователи быстрее найдут нужный товар            \n",
       "4  Изменить цвет фона главной страницы, чтобы увеличить вовлеченность пользователей                               \n",
       "\n",
       "   Reach  Impact  Confidence  Efforts    ICE  \n",
       "8  1      9       9           5        16.20  \n",
       "0  3      10      8           6        13.33  \n",
       "7  10     7       8           5        11.20  \n",
       "6  5      3       8           3        8.00   \n",
       "2  8      3       7           3        7.00   \n",
       "1  2      5       4           10       2.00   \n",
       "5  3      2       2           3        1.33   \n",
       "3  8      3       3           8        1.12   \n",
       "4  3      1       1           1        1.00   "
      ]
     },
     "execution_count": 5,
     "metadata": {},
     "output_type": "execute_result"
    }
   ],
   "source": [
    "# Сортирую по убыванию  приоритизации гипотезы\n",
    "hypotheses.sort_values(by='ICE', ascending=False)"
   ]
  },
  {
   "cell_type": "markdown",
   "metadata": {},
   "source": [
    "**Фреймворк RICE для приоритизации гипотез.**"
   ]
  },
  {
   "cell_type": "code",
   "execution_count": 6,
   "metadata": {},
   "outputs": [],
   "source": [
    "hypotheses['RICE'] = ((hypotheses['Reach'] * hypotheses['Impact'] * hypotheses['Confidence']\n",
    "                      ) / hypotheses['Efforts'])"
   ]
  },
  {
   "cell_type": "code",
   "execution_count": 7,
   "metadata": {},
   "outputs": [
    {
     "data": {
      "text/html": [
       "<div>\n",
       "<style scoped>\n",
       "    .dataframe tbody tr th:only-of-type {\n",
       "        vertical-align: middle;\n",
       "    }\n",
       "\n",
       "    .dataframe tbody tr th {\n",
       "        vertical-align: top;\n",
       "    }\n",
       "\n",
       "    .dataframe thead th {\n",
       "        text-align: right;\n",
       "    }\n",
       "</style>\n",
       "<table border=\"1\" class=\"dataframe\">\n",
       "  <thead>\n",
       "    <tr style=\"text-align: right;\">\n",
       "      <th></th>\n",
       "      <th>Hypothesis</th>\n",
       "      <th>Reach</th>\n",
       "      <th>Impact</th>\n",
       "      <th>Confidence</th>\n",
       "      <th>Efforts</th>\n",
       "      <th>ICE</th>\n",
       "      <th>RICE</th>\n",
       "    </tr>\n",
       "  </thead>\n",
       "  <tbody>\n",
       "    <tr>\n",
       "      <th>7</th>\n",
       "      <td>Добавить форму подписки на все основные страницы, чтобы собрать базу клиентов для email-рассылок</td>\n",
       "      <td>10</td>\n",
       "      <td>7</td>\n",
       "      <td>8</td>\n",
       "      <td>5</td>\n",
       "      <td>11.20</td>\n",
       "      <td>112.0</td>\n",
       "    </tr>\n",
       "    <tr>\n",
       "      <th>2</th>\n",
       "      <td>Добавить блоки рекомендаций товаров на сайт интернет магазина, чтобы повысить конверсию и средний чек заказа</td>\n",
       "      <td>8</td>\n",
       "      <td>3</td>\n",
       "      <td>7</td>\n",
       "      <td>3</td>\n",
       "      <td>7.00</td>\n",
       "      <td>56.0</td>\n",
       "    </tr>\n",
       "    <tr>\n",
       "      <th>0</th>\n",
       "      <td>Добавить два новых канала привлечения трафика, что позволит привлекать на 30% больше пользователей</td>\n",
       "      <td>3</td>\n",
       "      <td>10</td>\n",
       "      <td>8</td>\n",
       "      <td>6</td>\n",
       "      <td>13.33</td>\n",
       "      <td>40.0</td>\n",
       "    </tr>\n",
       "    <tr>\n",
       "      <th>6</th>\n",
       "      <td>Показать на главной странице баннеры с актуальными акциями и распродажами, чтобы увеличить конверсию</td>\n",
       "      <td>5</td>\n",
       "      <td>3</td>\n",
       "      <td>8</td>\n",
       "      <td>3</td>\n",
       "      <td>8.00</td>\n",
       "      <td>40.0</td>\n",
       "    </tr>\n",
       "    <tr>\n",
       "      <th>8</th>\n",
       "      <td>Запустить акцию, дающую скидку на товар в день рождения</td>\n",
       "      <td>1</td>\n",
       "      <td>9</td>\n",
       "      <td>9</td>\n",
       "      <td>5</td>\n",
       "      <td>16.20</td>\n",
       "      <td>16.2</td>\n",
       "    </tr>\n",
       "    <tr>\n",
       "      <th>3</th>\n",
       "      <td>Изменить структура категорий, что увеличит конверсию, т.к. пользователи быстрее найдут нужный товар</td>\n",
       "      <td>8</td>\n",
       "      <td>3</td>\n",
       "      <td>3</td>\n",
       "      <td>8</td>\n",
       "      <td>1.12</td>\n",
       "      <td>9.0</td>\n",
       "    </tr>\n",
       "    <tr>\n",
       "      <th>1</th>\n",
       "      <td>Запустить собственную службу доставки, что сократит срок доставки заказов</td>\n",
       "      <td>2</td>\n",
       "      <td>5</td>\n",
       "      <td>4</td>\n",
       "      <td>10</td>\n",
       "      <td>2.00</td>\n",
       "      <td>4.0</td>\n",
       "    </tr>\n",
       "    <tr>\n",
       "      <th>5</th>\n",
       "      <td>Добавить страницу отзывов клиентов о магазине, что позволит увеличить количество заказов</td>\n",
       "      <td>3</td>\n",
       "      <td>2</td>\n",
       "      <td>2</td>\n",
       "      <td>3</td>\n",
       "      <td>1.33</td>\n",
       "      <td>4.0</td>\n",
       "    </tr>\n",
       "    <tr>\n",
       "      <th>4</th>\n",
       "      <td>Изменить цвет фона главной страницы, чтобы увеличить вовлеченность пользователей</td>\n",
       "      <td>3</td>\n",
       "      <td>1</td>\n",
       "      <td>1</td>\n",
       "      <td>1</td>\n",
       "      <td>1.00</td>\n",
       "      <td>3.0</td>\n",
       "    </tr>\n",
       "  </tbody>\n",
       "</table>\n",
       "</div>"
      ],
      "text/plain": [
       "                                                                                                     Hypothesis  \\\n",
       "7  Добавить форму подписки на все основные страницы, чтобы собрать базу клиентов для email-рассылок               \n",
       "2  Добавить блоки рекомендаций товаров на сайт интернет магазина, чтобы повысить конверсию и средний чек заказа   \n",
       "0  Добавить два новых канала привлечения трафика, что позволит привлекать на 30% больше пользователей             \n",
       "6  Показать на главной странице баннеры с актуальными акциями и распродажами, чтобы увеличить конверсию           \n",
       "8  Запустить акцию, дающую скидку на товар в день рождения                                                        \n",
       "3  Изменить структура категорий, что увеличит конверсию, т.к. пользователи быстрее найдут нужный товар            \n",
       "1  Запустить собственную службу доставки, что сократит срок доставки заказов                                      \n",
       "5  Добавить страницу отзывов клиентов о магазине, что позволит увеличить количество заказов                       \n",
       "4  Изменить цвет фона главной страницы, чтобы увеличить вовлеченность пользователей                               \n",
       "\n",
       "   Reach  Impact  Confidence  Efforts    ICE   RICE  \n",
       "7  10     7       8           5        11.20  112.0  \n",
       "2  8      3       7           3        7.00   56.0   \n",
       "0  3      10      8           6        13.33  40.0   \n",
       "6  5      3       8           3        8.00   40.0   \n",
       "8  1      9       9           5        16.20  16.2   \n",
       "3  8      3       3           8        1.12   9.0    \n",
       "1  2      5       4           10       2.00   4.0    \n",
       "5  3      2       2           3        1.33   4.0    \n",
       "4  3      1       1           1        1.00   3.0    "
      ]
     },
     "execution_count": 7,
     "metadata": {},
     "output_type": "execute_result"
    }
   ],
   "source": [
    "# Сортирую по убыванию приоритизации гипотезы\n",
    "hypotheses.sort_values(by='RICE', ascending=False)"
   ]
  },
  {
   "cell_type": "code",
   "execution_count": 8,
   "metadata": {},
   "outputs": [
    {
     "data": {
      "image/png": "[encoded data removed]",
      "text/plain": [
       "<Figure size 720x432 with 1 Axes>"
      ]
     },
     "metadata": {
      "needs_background": "light"
     },
     "output_type": "display_data"
    }
   ],
   "source": [
    "plt.figure(figsize=(10,6))\n",
    "plt.title('График значений метода ICE и RICE', size=15)\n",
    "sns.scatterplot(x=hypotheses['ICE'], y=hypotheses['RICE'])\n",
    "for line in range(0,hypotheses.shape[0]):\n",
    "     plt.text(hypotheses.ICE[line]+0.2, \n",
    "              hypotheses.RICE[line], \n",
    "              hypotheses.index[line], \n",
    "              horizontalalignment='left', size='medium', color='black', weight='semibold')\n",
    "plt.show()"
   ]
  },
  {
   "cell_type": "markdown",
   "metadata": {},
   "source": [
    "Методы приоритизации гипотез ICE и RICE отличаются только одним параметром Reach (скольких пользователей затронет изменения). Чем больше Reach, тем больше RICE.\n",
    "\n",
    "По ICE самое первое место занимает гипотиза №8, а по RICE гипотиза №8 стоит на 5 месте. Потому что у этой гипотизы Reach=1(т.е. изменения затрагивают небольшое количество пользователей), из-за этого по RICE гипотиза №8 не продвинулась выше."
   ]
  },
  {
   "cell_type": "markdown",
   "metadata": {},
   "source": [
    "## Анализ A/B-теста"
   ]
  },
  {
   "cell_type": "code",
   "execution_count": 9,
   "metadata": {},
   "outputs": [],
   "source": [
    "# датасет с заказами пользователей\n",
    "try:\n",
    "    orders = pd.read_csv('orders.csv')\n",
    "except FileNotFoundError as e:\n",
    "    print(e)"
   ]
  },
  {
   "cell_type": "code",
   "execution_count": 10,
   "metadata": {},
   "outputs": [],
   "source": [
    "# датасет с визитами пользователей\n",
    "try:\n",
    "    visitors = pd.read_csv('visitors.csv')\n",
    "except FileNotFoundError as e:\n",
    "    print(e)"
   ]
  },
  {
   "cell_type": "code",
   "execution_count": 11,
   "metadata": {},
   "outputs": [
    {
     "data": {
      "text/html": [
       "<div>\n",
       "<style scoped>\n",
       "    .dataframe tbody tr th:only-of-type {\n",
       "        vertical-align: middle;\n",
       "    }\n",
       "\n",
       "    .dataframe tbody tr th {\n",
       "        vertical-align: top;\n",
       "    }\n",
       "\n",
       "    .dataframe thead th {\n",
       "        text-align: right;\n",
       "    }\n",
       "</style>\n",
       "<table border=\"1\" class=\"dataframe\">\n",
       "  <thead>\n",
       "    <tr style=\"text-align: right;\">\n",
       "      <th></th>\n",
       "      <th>transactionId</th>\n",
       "      <th>visitorId</th>\n",
       "      <th>date</th>\n",
       "      <th>revenue</th>\n",
       "      <th>group</th>\n",
       "    </tr>\n",
       "  </thead>\n",
       "  <tbody>\n",
       "    <tr>\n",
       "      <th>0</th>\n",
       "      <td>3667963787</td>\n",
       "      <td>3312258926</td>\n",
       "      <td>2019-08-15</td>\n",
       "      <td>1650</td>\n",
       "      <td>B</td>\n",
       "    </tr>\n",
       "    <tr>\n",
       "      <th>1</th>\n",
       "      <td>2804400009</td>\n",
       "      <td>3642806036</td>\n",
       "      <td>2019-08-15</td>\n",
       "      <td>730</td>\n",
       "      <td>B</td>\n",
       "    </tr>\n",
       "    <tr>\n",
       "      <th>2</th>\n",
       "      <td>2961555356</td>\n",
       "      <td>4069496402</td>\n",
       "      <td>2019-08-15</td>\n",
       "      <td>400</td>\n",
       "      <td>A</td>\n",
       "    </tr>\n",
       "  </tbody>\n",
       "</table>\n",
       "</div>"
      ],
      "text/plain": [
       "   transactionId   visitorId        date  revenue group\n",
       "0  3667963787     3312258926  2019-08-15  1650     B   \n",
       "1  2804400009     3642806036  2019-08-15  730      B   \n",
       "2  2961555356     4069496402  2019-08-15  400      A   "
      ]
     },
     "execution_count": 11,
     "metadata": {},
     "output_type": "execute_result"
    }
   ],
   "source": [
    "orders.head(3)"
   ]
  },
  {
   "cell_type": "code",
   "execution_count": 12,
   "metadata": {},
   "outputs": [
    {
     "data": {
      "text/html": [
       "<div>\n",
       "<style scoped>\n",
       "    .dataframe tbody tr th:only-of-type {\n",
       "        vertical-align: middle;\n",
       "    }\n",
       "\n",
       "    .dataframe tbody tr th {\n",
       "        vertical-align: top;\n",
       "    }\n",
       "\n",
       "    .dataframe thead th {\n",
       "        text-align: right;\n",
       "    }\n",
       "</style>\n",
       "<table border=\"1\" class=\"dataframe\">\n",
       "  <thead>\n",
       "    <tr style=\"text-align: right;\">\n",
       "      <th></th>\n",
       "      <th>date</th>\n",
       "      <th>group</th>\n",
       "      <th>visitors</th>\n",
       "    </tr>\n",
       "  </thead>\n",
       "  <tbody>\n",
       "    <tr>\n",
       "      <th>0</th>\n",
       "      <td>2019-08-01</td>\n",
       "      <td>A</td>\n",
       "      <td>719</td>\n",
       "    </tr>\n",
       "    <tr>\n",
       "      <th>1</th>\n",
       "      <td>2019-08-02</td>\n",
       "      <td>A</td>\n",
       "      <td>619</td>\n",
       "    </tr>\n",
       "    <tr>\n",
       "      <th>2</th>\n",
       "      <td>2019-08-03</td>\n",
       "      <td>A</td>\n",
       "      <td>507</td>\n",
       "    </tr>\n",
       "  </tbody>\n",
       "</table>\n",
       "</div>"
      ],
      "text/plain": [
       "         date group  visitors\n",
       "0  2019-08-01  A     719     \n",
       "1  2019-08-02  A     619     \n",
       "2  2019-08-03  A     507     "
      ]
     },
     "execution_count": 12,
     "metadata": {},
     "output_type": "execute_result"
    }
   ],
   "source": [
    "visitors.head(3)"
   ]
  },
  {
   "cell_type": "markdown",
   "metadata": {},
   "source": [
    "Привожу дату типу к datetime"
   ]
  },
  {
   "cell_type": "code",
   "execution_count": 13,
   "metadata": {},
   "outputs": [],
   "source": [
    "orders['date'] = orders['date'].map(lambda x: dt.datetime.strptime(x, '%Y-%m-%d'))\n",
    "visitors['date'] = visitors['date'].map(lambda x: dt.datetime.strptime(x, '%Y-%m-%d'))"
   ]
  },
  {
   "cell_type": "code",
   "execution_count": 14,
   "metadata": {},
   "outputs": [
    {
     "name": "stdout",
     "output_type": "stream",
     "text": [
      "<class 'pandas.core.frame.DataFrame'>\n",
      "RangeIndex: 1197 entries, 0 to 1196\n",
      "Data columns (total 5 columns):\n",
      " #   Column         Non-Null Count  Dtype         \n",
      "---  ------         --------------  -----         \n",
      " 0   transactionId  1197 non-null   int64         \n",
      " 1   visitorId      1197 non-null   int64         \n",
      " 2   date           1197 non-null   datetime64[ns]\n",
      " 3   revenue        1197 non-null   int64         \n",
      " 4   group          1197 non-null   object        \n",
      "dtypes: datetime64[ns](1), int64(3), object(1)\n",
      "memory usage: 46.9+ KB\n"
     ]
    }
   ],
   "source": [
    "orders.info()"
   ]
  },
  {
   "cell_type": "code",
   "execution_count": 15,
   "metadata": {},
   "outputs": [
    {
     "name": "stdout",
     "output_type": "stream",
     "text": [
      "<class 'pandas.core.frame.DataFrame'>\n",
      "RangeIndex: 62 entries, 0 to 61\n",
      "Data columns (total 3 columns):\n",
      " #   Column    Non-Null Count  Dtype         \n",
      "---  ------    --------------  -----         \n",
      " 0   date      62 non-null     datetime64[ns]\n",
      " 1   group     62 non-null     object        \n",
      " 2   visitors  62 non-null     int64         \n",
      "dtypes: datetime64[ns](1), int64(1), object(1)\n",
      "memory usage: 1.6+ KB\n"
     ]
    }
   ],
   "source": [
    "visitors.info()"
   ]
  },
  {
   "cell_type": "markdown",
   "metadata": {},
   "source": [
    "Пропусков нет.\n",
    "\n",
    "Данные соответствуют типам."
   ]
  },
  {
   "cell_type": "markdown",
   "metadata": {},
   "source": [
    "**Проверю, что бы в группах А и В не было одинаковых пользователей.**"
   ]
  },
  {
   "cell_type": "code",
   "execution_count": 16,
   "metadata": {},
   "outputs": [
    {
     "data": {
      "text/plain": [
       "58"
      ]
     },
     "execution_count": 16,
     "metadata": {},
     "output_type": "execute_result"
    }
   ],
   "source": [
    "recurring_users = np.intersect1d(orders.query('group == \"A\"')['visitorId'].unique(), \n",
    "                                 orders.query('group == \"B\"')['visitorId'].unique())\n",
    "len(recurring_users)"
   ]
  },
  {
   "cell_type": "markdown",
   "metadata": {},
   "source": [
    "Эти пользователи находятся в группе А и В. Я их удалю."
   ]
  },
  {
   "cell_type": "code",
   "execution_count": 17,
   "metadata": {},
   "outputs": [
    {
     "data": {
      "text/plain": [
       "1016"
      ]
     },
     "execution_count": 17,
     "metadata": {},
     "output_type": "execute_result"
    }
   ],
   "source": [
    "orders = orders.query('visitorId not in @recurring_users')\n",
    "len(orders)"
   ]
  },
  {
   "cell_type": "markdown",
   "metadata": {},
   "source": [
    "Создаю массив уникальных пар значений дат и групп теста:"
   ]
  },
  {
   "cell_type": "code",
   "execution_count": 18,
   "metadata": {},
   "outputs": [],
   "source": [
    "datesGroups = orders[['date', 'group']].drop_duplicates()"
   ]
  },
  {
   "cell_type": "code",
   "execution_count": 19,
   "metadata": {},
   "outputs": [
    {
     "data": {
      "text/html": [
       "<div>\n",
       "<style scoped>\n",
       "    .dataframe tbody tr th:only-of-type {\n",
       "        vertical-align: middle;\n",
       "    }\n",
       "\n",
       "    .dataframe tbody tr th {\n",
       "        vertical-align: top;\n",
       "    }\n",
       "\n",
       "    .dataframe thead th {\n",
       "        text-align: right;\n",
       "    }\n",
       "</style>\n",
       "<table border=\"1\" class=\"dataframe\">\n",
       "  <thead>\n",
       "    <tr style=\"text-align: right;\">\n",
       "      <th></th>\n",
       "      <th>date</th>\n",
       "      <th>group</th>\n",
       "    </tr>\n",
       "  </thead>\n",
       "  <tbody>\n",
       "    <tr>\n",
       "      <th>0</th>\n",
       "      <td>2019-08-15</td>\n",
       "      <td>B</td>\n",
       "    </tr>\n",
       "    <tr>\n",
       "      <th>7</th>\n",
       "      <td>2019-08-15</td>\n",
       "      <td>A</td>\n",
       "    </tr>\n",
       "    <tr>\n",
       "      <th>45</th>\n",
       "      <td>2019-08-16</td>\n",
       "      <td>A</td>\n",
       "    </tr>\n",
       "  </tbody>\n",
       "</table>\n",
       "</div>"
      ],
      "text/plain": [
       "         date group\n",
       "0  2019-08-15  B   \n",
       "7  2019-08-15  A   \n",
       "45 2019-08-16  A   "
      ]
     },
     "execution_count": 19,
     "metadata": {},
     "output_type": "execute_result"
    }
   ],
   "source": [
    "datesGroups.head(3)"
   ]
  },
  {
   "cell_type": "markdown",
   "metadata": {},
   "source": [
    "Собераю агрегированные кумулятивные по дням данные о заказах.\n",
    "\n",
    "Строки таблицы orders, даты котрых меньше или равна дате элемента из datesGroups, а группа теста равна группе из datesGroups.\n",
    "\n",
    "Вычисляю максимальную дату, группу, число уникальных заказов и пользователей."
   ]
  },
  {
   "cell_type": "code",
   "execution_count": 20,
   "metadata": {},
   "outputs": [],
   "source": [
    "ordersAggregated = (datesGroups.apply\n",
    "                    (lambda x: orders[\n",
    "                        np.logical_and(orders['date'] <= x['date'], orders['group'] == x['group'])]\n",
    "                     .agg({'date': 'max', 'group': 'max', 'visitorId': 'nunique', \n",
    "                           'transactionId': 'nunique', 'revenue': 'sum'}), axis=1)\n",
    "                    .sort_values(by=['date', 'group']))"
   ]
  },
  {
   "cell_type": "code",
   "execution_count": 21,
   "metadata": {},
   "outputs": [
    {
     "data": {
      "text/html": [
       "<div>\n",
       "<style scoped>\n",
       "    .dataframe tbody tr th:only-of-type {\n",
       "        vertical-align: middle;\n",
       "    }\n",
       "\n",
       "    .dataframe tbody tr th {\n",
       "        vertical-align: top;\n",
       "    }\n",
       "\n",
       "    .dataframe thead th {\n",
       "        text-align: right;\n",
       "    }\n",
       "</style>\n",
       "<table border=\"1\" class=\"dataframe\">\n",
       "  <thead>\n",
       "    <tr style=\"text-align: right;\">\n",
       "      <th></th>\n",
       "      <th>date</th>\n",
       "      <th>group</th>\n",
       "      <th>visitorId</th>\n",
       "      <th>transactionId</th>\n",
       "      <th>revenue</th>\n",
       "    </tr>\n",
       "  </thead>\n",
       "  <tbody>\n",
       "    <tr>\n",
       "      <th>55</th>\n",
       "      <td>2019-08-01</td>\n",
       "      <td>A</td>\n",
       "      <td>19</td>\n",
       "      <td>23</td>\n",
       "      <td>142779</td>\n",
       "    </tr>\n",
       "    <tr>\n",
       "      <th>66</th>\n",
       "      <td>2019-08-01</td>\n",
       "      <td>B</td>\n",
       "      <td>17</td>\n",
       "      <td>17</td>\n",
       "      <td>59758</td>\n",
       "    </tr>\n",
       "    <tr>\n",
       "      <th>175</th>\n",
       "      <td>2019-08-02</td>\n",
       "      <td>A</td>\n",
       "      <td>36</td>\n",
       "      <td>42</td>\n",
       "      <td>234381</td>\n",
       "    </tr>\n",
       "    <tr>\n",
       "      <th>173</th>\n",
       "      <td>2019-08-02</td>\n",
       "      <td>B</td>\n",
       "      <td>39</td>\n",
       "      <td>40</td>\n",
       "      <td>221801</td>\n",
       "    </tr>\n",
       "    <tr>\n",
       "      <th>291</th>\n",
       "      <td>2019-08-03</td>\n",
       "      <td>A</td>\n",
       "      <td>60</td>\n",
       "      <td>66</td>\n",
       "      <td>346854</td>\n",
       "    </tr>\n",
       "  </tbody>\n",
       "</table>\n",
       "</div>"
      ],
      "text/plain": [
       "          date group  visitorId  transactionId  revenue\n",
       "55  2019-08-01  A     19         23             142779 \n",
       "66  2019-08-01  B     17         17             59758  \n",
       "175 2019-08-02  A     36         42             234381 \n",
       "173 2019-08-02  B     39         40             221801 \n",
       "291 2019-08-03  A     60         66             346854 "
      ]
     },
     "execution_count": 21,
     "metadata": {},
     "output_type": "execute_result"
    }
   ],
   "source": [
    "ordersAggregated.head()"
   ]
  },
  {
   "cell_type": "markdown",
   "metadata": {},
   "source": [
    "Аналогично получу агрегированные кумулятивные по дням данные о посетителях интернет-магазина:"
   ]
  },
  {
   "cell_type": "code",
   "execution_count": 22,
   "metadata": {},
   "outputs": [],
   "source": [
    "visitorsAggregated = (datesGroups.apply(lambda x: visitors[\n",
    "    np.logical_and(visitors['date'] <= x['date'], visitors['group'] == x['group'])]\n",
    "                                        .agg({'date': 'max', 'group': 'max', 'visitors': 'sum'})\n",
    "                                        , axis=1)\n",
    "                      .sort_values(by=['date', 'group']))"
   ]
  },
  {
   "cell_type": "code",
   "execution_count": 23,
   "metadata": {},
   "outputs": [
    {
     "data": {
      "text/html": [
       "<div>\n",
       "<style scoped>\n",
       "    .dataframe tbody tr th:only-of-type {\n",
       "        vertical-align: middle;\n",
       "    }\n",
       "\n",
       "    .dataframe tbody tr th {\n",
       "        vertical-align: top;\n",
       "    }\n",
       "\n",
       "    .dataframe thead th {\n",
       "        text-align: right;\n",
       "    }\n",
       "</style>\n",
       "<table border=\"1\" class=\"dataframe\">\n",
       "  <thead>\n",
       "    <tr style=\"text-align: right;\">\n",
       "      <th></th>\n",
       "      <th>date</th>\n",
       "      <th>group</th>\n",
       "      <th>visitors</th>\n",
       "    </tr>\n",
       "  </thead>\n",
       "  <tbody>\n",
       "    <tr>\n",
       "      <th>55</th>\n",
       "      <td>2019-08-01</td>\n",
       "      <td>A</td>\n",
       "      <td>719</td>\n",
       "    </tr>\n",
       "    <tr>\n",
       "      <th>66</th>\n",
       "      <td>2019-08-01</td>\n",
       "      <td>B</td>\n",
       "      <td>713</td>\n",
       "    </tr>\n",
       "    <tr>\n",
       "      <th>175</th>\n",
       "      <td>2019-08-02</td>\n",
       "      <td>A</td>\n",
       "      <td>1338</td>\n",
       "    </tr>\n",
       "    <tr>\n",
       "      <th>173</th>\n",
       "      <td>2019-08-02</td>\n",
       "      <td>B</td>\n",
       "      <td>1294</td>\n",
       "    </tr>\n",
       "    <tr>\n",
       "      <th>291</th>\n",
       "      <td>2019-08-03</td>\n",
       "      <td>A</td>\n",
       "      <td>1845</td>\n",
       "    </tr>\n",
       "  </tbody>\n",
       "</table>\n",
       "</div>"
      ],
      "text/plain": [
       "          date group  visitors\n",
       "55  2019-08-01  A     719     \n",
       "66  2019-08-01  B     713     \n",
       "175 2019-08-02  A     1338    \n",
       "173 2019-08-02  B     1294    \n",
       "291 2019-08-03  A     1845    "
      ]
     },
     "execution_count": 23,
     "metadata": {},
     "output_type": "execute_result"
    }
   ],
   "source": [
    "visitorsAggregated.head()"
   ]
  },
  {
   "cell_type": "markdown",
   "metadata": {},
   "source": [
    "Объединяю две таблицы:"
   ]
  },
  {
   "cell_type": "code",
   "execution_count": 24,
   "metadata": {},
   "outputs": [
    {
     "data": {
      "text/html": [
       "<div>\n",
       "<style scoped>\n",
       "    .dataframe tbody tr th:only-of-type {\n",
       "        vertical-align: middle;\n",
       "    }\n",
       "\n",
       "    .dataframe tbody tr th {\n",
       "        vertical-align: top;\n",
       "    }\n",
       "\n",
       "    .dataframe thead th {\n",
       "        text-align: right;\n",
       "    }\n",
       "</style>\n",
       "<table border=\"1\" class=\"dataframe\">\n",
       "  <thead>\n",
       "    <tr style=\"text-align: right;\">\n",
       "      <th></th>\n",
       "      <th>date</th>\n",
       "      <th>group</th>\n",
       "      <th>buyers</th>\n",
       "      <th>orders</th>\n",
       "      <th>revenue</th>\n",
       "      <th>visitors</th>\n",
       "    </tr>\n",
       "  </thead>\n",
       "  <tbody>\n",
       "    <tr>\n",
       "      <th>0</th>\n",
       "      <td>2019-08-01</td>\n",
       "      <td>A</td>\n",
       "      <td>19</td>\n",
       "      <td>23</td>\n",
       "      <td>142779</td>\n",
       "      <td>719</td>\n",
       "    </tr>\n",
       "    <tr>\n",
       "      <th>1</th>\n",
       "      <td>2019-08-01</td>\n",
       "      <td>B</td>\n",
       "      <td>17</td>\n",
       "      <td>17</td>\n",
       "      <td>59758</td>\n",
       "      <td>713</td>\n",
       "    </tr>\n",
       "    <tr>\n",
       "      <th>2</th>\n",
       "      <td>2019-08-02</td>\n",
       "      <td>A</td>\n",
       "      <td>36</td>\n",
       "      <td>42</td>\n",
       "      <td>234381</td>\n",
       "      <td>1338</td>\n",
       "    </tr>\n",
       "    <tr>\n",
       "      <th>3</th>\n",
       "      <td>2019-08-02</td>\n",
       "      <td>B</td>\n",
       "      <td>39</td>\n",
       "      <td>40</td>\n",
       "      <td>221801</td>\n",
       "      <td>1294</td>\n",
       "    </tr>\n",
       "    <tr>\n",
       "      <th>4</th>\n",
       "      <td>2019-08-03</td>\n",
       "      <td>A</td>\n",
       "      <td>60</td>\n",
       "      <td>66</td>\n",
       "      <td>346854</td>\n",
       "      <td>1845</td>\n",
       "    </tr>\n",
       "  </tbody>\n",
       "</table>\n",
       "</div>"
      ],
      "text/plain": [
       "        date group  buyers  orders  revenue  visitors\n",
       "0 2019-08-01  A     19      23      142779   719     \n",
       "1 2019-08-01  B     17      17      59758    713     \n",
       "2 2019-08-02  A     36      42      234381   1338    \n",
       "3 2019-08-02  B     39      40      221801   1294    \n",
       "4 2019-08-03  A     60      66      346854   1845    "
      ]
     },
     "execution_count": 24,
     "metadata": {},
     "output_type": "execute_result"
    }
   ],
   "source": [
    "cumulativeData = ordersAggregated.merge(visitorsAggregated, left_on=['date', 'group'], \n",
    "                                        right_on=['date', 'group'])\n",
    "cumulativeData.columns = ['date', 'group', 'buyers', 'orders', 'revenue', 'visitors']\n",
    "# date - дата\n",
    "# group - группа A/B-теста (A или B)\n",
    "# buyers - кумулятивное количество пользователей, совершивших хотя бы один заказ, \n",
    "#          на указанную дату в указанной группе\n",
    "# orders - кумулятивное количество заказов на указанную дату в указанной группе\n",
    "# revenue - кумулятивная выручка на указанную дату в указанной группе (средний чек)\n",
    "# visitors - кумулятивное количество посетителей интернет-магазина на указанную дату \n",
    "#            в определённой группе\n",
    "\n",
    "cumulativeData.head()"
   ]
  },
  {
   "cell_type": "markdown",
   "metadata": {},
   "source": [
    "### График кумулятивной выручки по группамм.\n",
    "\n",
    "Строю графики кумулятивной выручки по дням и группам A/B-тестирования:"
   ]
  },
  {
   "cell_type": "code",
   "execution_count": 25,
   "metadata": {},
   "outputs": [],
   "source": [
    "# датафрейм с кумулятивным количеством заказов и кумулятивной выручкой по дням в группе А\n",
    "cumulativeRevenueA = cumulativeData[cumulativeData['group'] == 'A'][['date', 'revenue', 'orders']]\n",
    "# датафрейм с кумулятивным количеством заказов и кумулятивной выручкой по дням в группе B\n",
    "cumulativeRevenueB = cumulativeData[cumulativeData['group'] == 'B'][['date', 'revenue', 'orders']]"
   ]
  },
  {
   "cell_type": "code",
   "execution_count": 26,
   "metadata": {},
   "outputs": [
    {
     "data": {
      "image/png": "[encoded data removed]",
      "text/plain": [
       "<Figure size 936x432 with 1 Axes>"
      ]
     },
     "metadata": {
      "needs_background": "light"
     },
     "output_type": "display_data"
    }
   ],
   "source": [
    "plt.figure(figsize = (13,6))\n",
    "# график выручки группы А\n",
    "plt.plot(cumulativeRevenueA['date'], cumulativeRevenueA['revenue'], label='A')\n",
    "# график выручки группы B\n",
    "plt.plot(cumulativeRevenueB['date'], cumulativeRevenueB['revenue'], label='B')\n",
    "plt.title('График кумулятивной выручки по группамм', size=13)\n",
    "plt.xlabel('Дата', size=13)\n",
    "plt.ylabel('Выручка', size=13)\n",
    "plt.legend()\n",
    "pd.set_option('chained_assignment', None)"
   ]
  },
  {
   "cell_type": "markdown",
   "metadata": {},
   "source": [
    "Выручка в обеих группах увеличивается в течении всего теста.\n",
    "\n",
    "График группы B имеет резкий рост, это может сигнализировать о всплесках заказов, либо о появлении очень дорогих заказов в выборке.\n",
    "\n",
    "График группы А почти прямой."
   ]
  },
  {
   "cell_type": "markdown",
   "metadata": {},
   "source": [
    "### График кумулятивного среднего чека по группам"
   ]
  },
  {
   "cell_type": "code",
   "execution_count": 27,
   "metadata": {},
   "outputs": [
    {
     "data": {
      "text/plain": [
       "<matplotlib.legend.Legend at 0x2249456af10>"
      ]
     },
     "execution_count": 27,
     "metadata": {},
     "output_type": "execute_result"
    },
    {
     "data": {
      "image/png": "[encoded data removed]",
      "text/plain": [
       "<Figure size 864x432 with 1 Axes>"
      ]
     },
     "metadata": {
      "needs_background": "light"
     },
     "output_type": "display_data"
    }
   ],
   "source": [
    "plt.figure(figsize = (12,6))\n",
    "plt.plot(cumulativeRevenueA['date'], cumulativeRevenueA['revenue']/cumulativeRevenueA['orders'], \n",
    "         label='A')\n",
    "plt.plot(cumulativeRevenueB['date'], cumulativeRevenueB['revenue']/cumulativeRevenueB['orders'], \n",
    "         label='B')\n",
    "plt.title('График кумулятивного среднего чека по группам', size=13)\n",
    "plt.xlabel('Дата', size=13)\n",
    "plt.ylabel('Цена среднего чека', size=13)\n",
    "plt.legend()"
   ]
  },
  {
   "cell_type": "markdown",
   "metadata": {},
   "source": [
    "Средний чек становиться более равномерным к концу теста.\n",
    "\n",
    "Средний чек в группах имеет резкий рост. Возмжно, в группы попали крупные заказы.\n",
    "\n",
    "В группе В к концу теста средний чек снижается."
   ]
  },
  {
   "cell_type": "markdown",
   "metadata": {},
   "source": [
    "### График относительного изменения кумулятивного среднего чека группы B к группе A."
   ]
  },
  {
   "cell_type": "code",
   "execution_count": 28,
   "metadata": {},
   "outputs": [
    {
     "data": {
      "text/html": [
       "<div>\n",
       "<style scoped>\n",
       "    .dataframe tbody tr th:only-of-type {\n",
       "        vertical-align: middle;\n",
       "    }\n",
       "\n",
       "    .dataframe tbody tr th {\n",
       "        vertical-align: top;\n",
       "    }\n",
       "\n",
       "    .dataframe thead th {\n",
       "        text-align: right;\n",
       "    }\n",
       "</style>\n",
       "<table border=\"1\" class=\"dataframe\">\n",
       "  <thead>\n",
       "    <tr style=\"text-align: right;\">\n",
       "      <th></th>\n",
       "      <th>date</th>\n",
       "      <th>revenueA</th>\n",
       "      <th>ordersA</th>\n",
       "      <th>revenueB</th>\n",
       "      <th>ordersB</th>\n",
       "    </tr>\n",
       "  </thead>\n",
       "  <tbody>\n",
       "    <tr>\n",
       "      <th>0</th>\n",
       "      <td>2019-08-01</td>\n",
       "      <td>142779</td>\n",
       "      <td>23</td>\n",
       "      <td>59758</td>\n",
       "      <td>17</td>\n",
       "    </tr>\n",
       "    <tr>\n",
       "      <th>1</th>\n",
       "      <td>2019-08-02</td>\n",
       "      <td>234381</td>\n",
       "      <td>42</td>\n",
       "      <td>221801</td>\n",
       "      <td>40</td>\n",
       "    </tr>\n",
       "    <tr>\n",
       "      <th>2</th>\n",
       "      <td>2019-08-03</td>\n",
       "      <td>346854</td>\n",
       "      <td>66</td>\n",
       "      <td>288850</td>\n",
       "      <td>54</td>\n",
       "    </tr>\n",
       "    <tr>\n",
       "      <th>3</th>\n",
       "      <td>2019-08-04</td>\n",
       "      <td>388030</td>\n",
       "      <td>77</td>\n",
       "      <td>385740</td>\n",
       "      <td>68</td>\n",
       "    </tr>\n",
       "    <tr>\n",
       "      <th>4</th>\n",
       "      <td>2019-08-05</td>\n",
       "      <td>474413</td>\n",
       "      <td>99</td>\n",
       "      <td>475648</td>\n",
       "      <td>89</td>\n",
       "    </tr>\n",
       "  </tbody>\n",
       "</table>\n",
       "</div>"
      ],
      "text/plain": [
       "        date  revenueA  ordersA  revenueB  ordersB\n",
       "0 2019-08-01  142779    23       59758     17     \n",
       "1 2019-08-02  234381    42       221801    40     \n",
       "2 2019-08-03  346854    66       288850    54     \n",
       "3 2019-08-04  388030    77       385740    68     \n",
       "4 2019-08-05  474413    99       475648    89     "
      ]
     },
     "execution_count": 28,
     "metadata": {},
     "output_type": "execute_result"
    }
   ],
   "source": [
    "# собираю данные в одном датафрейме\n",
    "mergedCumulativeRevenue = cumulativeRevenueA.merge(cumulativeRevenueB, left_on='date', right_on='date', \n",
    "                                                   how='left', suffixes=['A', 'B'])\n",
    "mergedCumulativeRevenue.head()"
   ]
  },
  {
   "cell_type": "code",
   "execution_count": 29,
   "metadata": {},
   "outputs": [
    {
     "data": {
      "text/plain": [
       "<matplotlib.lines.Line2D at 0x22494602460>"
      ]
     },
     "execution_count": 29,
     "metadata": {},
     "output_type": "execute_result"
    },
    {
     "data": {
      "image/png": "[encoded data removed]",
      "text/plain": [
       "<Figure size 864x432 with 1 Axes>"
      ]
     },
     "metadata": {
      "needs_background": "light"
     },
     "output_type": "display_data"
    }
   ],
   "source": [
    "plt.figure(figsize = (12,6))\n",
    "# строю отношение средних чеков\n",
    "plt.plot(mergedCumulativeRevenue['date'], (mergedCumulativeRevenue['revenueB']/mergedCumulativeRevenue['ordersB']) / (mergedCumulativeRevenue['revenueA']/mergedCumulativeRevenue['ordersA']) - 1)\n",
    "plt.title('График относительного изменения кумулятивного среднего чека группы B к группе A')\n",
    "plt.xlabel('Дата', size=13)\n",
    "plt.ylabel('Изменения кумулятивного среднегочека', size=13)\n",
    "# добавляю ось X\n",
    "plt.axhline(y=0, color='black', linestyle='--')\n"
   ]
  },
  {
   "cell_type": "markdown",
   "metadata": {},
   "source": [
    "В некоторых точках график различия между сегментами резко скачет, где-то спрятались крупные заказы, выбросы."
   ]
  },
  {
   "cell_type": "markdown",
   "metadata": {},
   "source": [
    "### График кумулятивной конверсии по группам."
   ]
  },
  {
   "cell_type": "code",
   "execution_count": 30,
   "metadata": {},
   "outputs": [
    {
     "data": {
      "text/plain": [
       "<matplotlib.legend.Legend at 0x22494aa7130>"
      ]
     },
     "execution_count": 30,
     "metadata": {},
     "output_type": "execute_result"
    },
    {
     "data": {
      "image/png": "[encoded data removed]",
      "text/plain": [
       "<Figure size 864x432 with 1 Axes>"
      ]
     },
     "metadata": {
      "needs_background": "light"
     },
     "output_type": "display_data"
    }
   ],
   "source": [
    "# считаю кумулятивную конверсию\n",
    "cumulativeData['conversion'] = cumulativeData['orders'] / cumulativeData['visitors']\n",
    "# отделяю данные по группе А\n",
    "cumulativeDataA = cumulativeData[cumulativeData['group'] == 'A']\n",
    "# отделяю данные по группе B\n",
    "cumulativeDataB = cumulativeData[cumulativeData['group'] == 'B']\n",
    "\n",
    "# строю график\n",
    "plt.figure(figsize = (12,6))\n",
    "plt.plot(cumulativeDataA['date'], cumulativeDataA['conversion'], label='A')\n",
    "plt.plot(cumulativeDataB['date'], cumulativeDataB['conversion'], label='B')\n",
    "plt.title('График кумулятивной конверсии по группам')\n",
    "plt.xlabel('Дата', size=13)\n",
    "plt.ylabel('Кумулятивная конверсия', size=13)\n",
    "plt.legend()"
   ]
  },
  {
   "cell_type": "markdown",
   "metadata": {},
   "source": [
    "Сначала конверсия группы А была выше, но потом просела и держиться ниже уровня конверсии группы В.\n",
    "\n",
    "Конверсия на протяжении всего теста скачет, в начале теста самые большие скачки. Под конец они затихают.\n",
    "\n",
    "Конверсия группы А на протяжении всего теста снижается.\n",
    "\n",
    "Конверсия группы В под конец теста становиться более равномерной.\n",
    "\n",
    "Конверсия у группы В лучше."
   ]
  },
  {
   "cell_type": "markdown",
   "metadata": {},
   "source": [
    "### График относительного изменения кумулятивной конверсии группы B к группе A."
   ]
  },
  {
   "cell_type": "code",
   "execution_count": 31,
   "metadata": {},
   "outputs": [
    {
     "data": {
      "text/plain": [
       "<matplotlib.lines.Line2D at 0x22494b34850>"
      ]
     },
     "execution_count": 31,
     "metadata": {},
     "output_type": "execute_result"
    },
    {
     "data": {
      "image/png": "[encoded data removed]",
      "text/plain": [
       "<Figure size 864x432 with 1 Axes>"
      ]
     },
     "metadata": {
      "needs_background": "light"
     },
     "output_type": "display_data"
    }
   ],
   "source": [
    "mergedCumulativeConversions = cumulativeDataA[['date', 'conversion']].merge(cumulativeDataB[['date', 'conversion']], \n",
    "                                                                            left_on='date', right_on='date', how='left', \n",
    "                                                                            suffixes=['A', 'B'])\n",
    "\n",
    "plt.figure(figsize = (12,6))\n",
    "plt.plot(mergedCumulativeConversions['date'], \n",
    "         mergedCumulativeConversions['conversionB'] / mergedCumulativeConversions['conversionA'] - 1, \n",
    "        label='Относительный прирост конверсии группы B относительно группы A')\n",
    "plt.title('График относительного изменения кумулятивной конверсии группы B к группе A')\n",
    "plt.xlabel('Дата', size=13)\n",
    "plt.ylabel('Изменения кумулятивной конверсии', size=13)\n",
    "\n",
    "plt.axhline(y=0, color='black', linestyle='--')\n",
    "plt.axhline(y=-0.1, color='grey', linestyle='--')"
   ]
  },
  {
   "cell_type": "markdown",
   "metadata": {},
   "source": [
    "В начале теста группа В проигрывала группе А по конверсии. Потом конверсия группы В выраста и стала больше группы А. И это положение держало до конца теста."
   ]
  },
  {
   "cell_type": "markdown",
   "metadata": {},
   "source": [
    "### Точечный график количества заказов по пользователям"
   ]
  },
  {
   "cell_type": "code",
   "execution_count": 32,
   "metadata": {},
   "outputs": [
    {
     "data": {
      "text/html": [
       "<div>\n",
       "<style scoped>\n",
       "    .dataframe tbody tr th:only-of-type {\n",
       "        vertical-align: middle;\n",
       "    }\n",
       "\n",
       "    .dataframe tbody tr th {\n",
       "        vertical-align: top;\n",
       "    }\n",
       "\n",
       "    .dataframe thead th {\n",
       "        text-align: right;\n",
       "    }\n",
       "</style>\n",
       "<table border=\"1\" class=\"dataframe\">\n",
       "  <thead>\n",
       "    <tr style=\"text-align: right;\">\n",
       "      <th></th>\n",
       "      <th>transactionId</th>\n",
       "      <th>visitorId</th>\n",
       "      <th>date</th>\n",
       "      <th>revenue</th>\n",
       "      <th>group</th>\n",
       "    </tr>\n",
       "  </thead>\n",
       "  <tbody>\n",
       "    <tr>\n",
       "      <th>0</th>\n",
       "      <td>3667963787</td>\n",
       "      <td>3312258926</td>\n",
       "      <td>2019-08-15</td>\n",
       "      <td>1650</td>\n",
       "      <td>B</td>\n",
       "    </tr>\n",
       "    <tr>\n",
       "      <th>1</th>\n",
       "      <td>2804400009</td>\n",
       "      <td>3642806036</td>\n",
       "      <td>2019-08-15</td>\n",
       "      <td>730</td>\n",
       "      <td>B</td>\n",
       "    </tr>\n",
       "    <tr>\n",
       "      <th>3</th>\n",
       "      <td>3797467345</td>\n",
       "      <td>1196621759</td>\n",
       "      <td>2019-08-15</td>\n",
       "      <td>9759</td>\n",
       "      <td>B</td>\n",
       "    </tr>\n",
       "  </tbody>\n",
       "</table>\n",
       "</div>"
      ],
      "text/plain": [
       "   transactionId   visitorId       date  revenue group\n",
       "0  3667963787     3312258926 2019-08-15  1650     B   \n",
       "1  2804400009     3642806036 2019-08-15  730      B   \n",
       "3  3797467345     1196621759 2019-08-15  9759     B   "
      ]
     },
     "execution_count": 32,
     "metadata": {},
     "output_type": "execute_result"
    }
   ],
   "source": [
    "orders.head(3)"
   ]
  },
  {
   "cell_type": "markdown",
   "metadata": {},
   "source": [
    "Датасет orders группирую по пользователем и считаю количество заказов для каждого пользователя."
   ]
  },
  {
   "cell_type": "code",
   "execution_count": 33,
   "metadata": {},
   "outputs": [],
   "source": [
    "orders_by_users = orders.groupby('visitorId', as_index=False).agg({'transactionId': pd.Series.nunique})\n",
    "orders_by_users.columns = ['visitorId', 'orders']"
   ]
  },
  {
   "cell_type": "code",
   "execution_count": 34,
   "metadata": {},
   "outputs": [
    {
     "data": {
      "text/html": [
       "<div>\n",
       "<style scoped>\n",
       "    .dataframe tbody tr th:only-of-type {\n",
       "        vertical-align: middle;\n",
       "    }\n",
       "\n",
       "    .dataframe tbody tr th {\n",
       "        vertical-align: top;\n",
       "    }\n",
       "\n",
       "    .dataframe thead th {\n",
       "        text-align: right;\n",
       "    }\n",
       "</style>\n",
       "<table border=\"1\" class=\"dataframe\">\n",
       "  <thead>\n",
       "    <tr style=\"text-align: right;\">\n",
       "      <th></th>\n",
       "      <th>visitorId</th>\n",
       "      <th>orders</th>\n",
       "    </tr>\n",
       "  </thead>\n",
       "  <tbody>\n",
       "    <tr>\n",
       "      <th>908</th>\n",
       "      <td>3967698036</td>\n",
       "      <td>3</td>\n",
       "    </tr>\n",
       "    <tr>\n",
       "      <th>55</th>\n",
       "      <td>249864742</td>\n",
       "      <td>3</td>\n",
       "    </tr>\n",
       "    <tr>\n",
       "      <th>478</th>\n",
       "      <td>2108163459</td>\n",
       "      <td>3</td>\n",
       "    </tr>\n",
       "    <tr>\n",
       "      <th>687</th>\n",
       "      <td>2988190573</td>\n",
       "      <td>3</td>\n",
       "    </tr>\n",
       "    <tr>\n",
       "      <th>890</th>\n",
       "      <td>3908431265</td>\n",
       "      <td>3</td>\n",
       "    </tr>\n",
       "    <tr>\n",
       "      <th>138</th>\n",
       "      <td>611059232</td>\n",
       "      <td>3</td>\n",
       "    </tr>\n",
       "    <tr>\n",
       "      <th>632</th>\n",
       "      <td>2742574263</td>\n",
       "      <td>3</td>\n",
       "    </tr>\n",
       "    <tr>\n",
       "      <th>157</th>\n",
       "      <td>678354126</td>\n",
       "      <td>2</td>\n",
       "    </tr>\n",
       "    <tr>\n",
       "      <th>323</th>\n",
       "      <td>1404560065</td>\n",
       "      <td>2</td>\n",
       "    </tr>\n",
       "    <tr>\n",
       "      <th>452</th>\n",
       "      <td>1985475298</td>\n",
       "      <td>2</td>\n",
       "    </tr>\n",
       "  </tbody>\n",
       "</table>\n",
       "</div>"
      ],
      "text/plain": [
       "      visitorId  orders\n",
       "908  3967698036  3     \n",
       "55   249864742   3     \n",
       "478  2108163459  3     \n",
       "687  2988190573  3     \n",
       "890  3908431265  3     \n",
       "138  611059232   3     \n",
       "632  2742574263  3     \n",
       "157  678354126   2     \n",
       "323  1404560065  2     \n",
       "452  1985475298  2     "
      ]
     },
     "execution_count": 34,
     "metadata": {},
     "output_type": "execute_result"
    }
   ],
   "source": [
    "orders_by_users.sort_values(by='orders', ascending=False).head(10)"
   ]
  },
  {
   "cell_type": "markdown",
   "metadata": {},
   "source": [
    "Максимальное число количество заказов - 3."
   ]
  },
  {
   "cell_type": "code",
   "execution_count": 35,
   "metadata": {},
   "outputs": [
    {
     "data": {
      "image/png": "[encoded data removed]",
      "text/plain": [
       "<Figure size 864x360 with 2 Axes>"
      ]
     },
     "metadata": {
      "needs_background": "light"
     },
     "output_type": "display_data"
    }
   ],
   "source": [
    "plt.figure(figsize=(12,5))\n",
    "plt.subplot(1, 2, 1)\n",
    "plt.hist(orders_by_users['orders'])\n",
    "plt.title('Количество заказов')\n",
    "plt.xlabel('Количество заказов на одного user')\n",
    "\n",
    "plt.subplot(1, 2, 2)\n",
    "x_values = pd.Series(range(0, len(orders_by_users)))\n",
    "plt.scatter(x_values, orders_by_users['orders'])\n",
    "plt.title('Количество заказов')\n",
    "plt.xlabel('Пользователи')\n",
    "plt.ylabel('Количество заказов на одного user')\n",
    "\n",
    "plt.show()"
   ]
  },
  {
   "cell_type": "markdown",
   "metadata": {},
   "source": [
    "Большинство пользователей сделали 1 заказ. \n",
    "\n",
    "Количетво заказов 2 и 3 похожи на выбросы."
   ]
  },
  {
   "cell_type": "markdown",
   "metadata": {},
   "source": [
    "### 95-й и 99-й перцентили количества заказов на пользователя. Граница для определения аномальных пользователей."
   ]
  },
  {
   "cell_type": "code",
   "execution_count": 36,
   "metadata": {},
   "outputs": [
    {
     "data": {
      "text/plain": [
       "array([1., 1., 2.])"
      ]
     },
     "execution_count": 36,
     "metadata": {},
     "output_type": "execute_result"
    }
   ],
   "source": [
    "np.percentile(orders_by_users['orders'], [90, 95, 99])"
   ]
  },
  {
   "cell_type": "markdown",
   "metadata": {},
   "source": [
    "Не более 1% пользователей совершили 2-3 заказа. 99% пользователей совершили по 1 заказу.\n",
    "\n",
    "Граница для анамальных пользователей - 1 заказ, все что выше этого значения - выбросы. Значит отсею все значения, которые больше одного заказа."
   ]
  },
  {
   "cell_type": "markdown",
   "metadata": {},
   "source": [
    "### Точечный график стоимостей заказов."
   ]
  },
  {
   "cell_type": "code",
   "execution_count": 37,
   "metadata": {},
   "outputs": [
    {
     "data": {
      "text/plain": [
       "Text(0.5, 0, 'Пользователи')"
      ]
     },
     "execution_count": 37,
     "metadata": {},
     "output_type": "execute_result"
    },
    {
     "data": {
      "image/png": "[encoded data removed]",
      "text/plain": [
       "<Figure size 936x360 with 2 Axes>"
      ]
     },
     "metadata": {
      "needs_background": "light"
     },
     "output_type": "display_data"
    }
   ],
   "source": [
    "plt.figure(figsize=(13,5))\n",
    "plt.subplot(1, 2, 1)\n",
    "plt.hist(orders['revenue'])\n",
    "plt.title('Стоимость заказов')\n",
    "plt.xlabel('Стоимость заказа')\n",
    "plt.ylabel('Количество пользователей')\n",
    "\n",
    "plt.subplot(1, 2, 2)\n",
    "x_values = pd.Series(range(0, len(orders)))\n",
    "plt.scatter(x_values, orders['revenue'])\n",
    "plt.title('Стоимость заказов')\n",
    "plt.ylabel('Стоимость заказа')\n",
    "plt.xlabel('Пользователи')"
   ]
  },
  {
   "cell_type": "markdown",
   "metadata": {},
   "source": [
    "На графике есть очень большие выбросы, установлю лимит по оси, что бы избавиться от выбраса."
   ]
  },
  {
   "cell_type": "code",
   "execution_count": 38,
   "metadata": {},
   "outputs": [
    {
     "data": {
      "image/png": "[encoded data removed]",
      "text/plain": [
       "<Figure size 864x360 with 1 Axes>"
      ]
     },
     "metadata": {
      "needs_background": "light"
     },
     "output_type": "display_data"
    }
   ],
   "source": [
    "plt.figure(figsize=(12,5))\n",
    "x_values = pd.Series(range(0, len(orders)))\n",
    "plt.scatter(x_values, orders['revenue'])\n",
    "plt.title('Стоимость заказов')\n",
    "plt.ylabel('Стоимость заказа')\n",
    "plt.xlabel('Пользователи')\n",
    "plt.ylim(0, 100000)\n",
    "\n",
    "plt.show()"
   ]
  },
  {
   "cell_type": "markdown",
   "metadata": {},
   "source": [
    "Есть заказы, котрые сильно отличаются от большинства заказов и это явно выбросы."
   ]
  },
  {
   "cell_type": "markdown",
   "metadata": {},
   "source": [
    "### 95-й и 99-й перцентили стоимости заказов. Граница для определения аномальных заказов."
   ]
  },
  {
   "cell_type": "code",
   "execution_count": 39,
   "metadata": {},
   "outputs": [
    {
     "data": {
      "text/plain": [
       "array([17990., 26785., 53904.])"
      ]
     },
     "execution_count": 39,
     "metadata": {},
     "output_type": "execute_result"
    }
   ],
   "source": [
    "np.percentile(orders['revenue'], [90, 95, 99])"
   ]
  },
  {
   "cell_type": "markdown",
   "metadata": {},
   "source": [
    "У 5% пользователей заказ больше 26785, у 1% пользователей заказ равен и больше 53904.\n",
    "\n",
    "Граница аномальных заказов - заказы больше 50000."
   ]
  },
  {
   "cell_type": "markdown",
   "metadata": {},
   "source": [
    "###  Cтатистическая значимость различий в конверсии между группами по «сырым» данным."
   ]
  },
  {
   "cell_type": "markdown",
   "metadata": {},
   "source": [
    "Подготовка данных."
   ]
  },
  {
   "cell_type": "code",
   "execution_count": 40,
   "metadata": {},
   "outputs": [
    {
     "data": {
      "text/html": [
       "<div>\n",
       "<style scoped>\n",
       "    .dataframe tbody tr th:only-of-type {\n",
       "        vertical-align: middle;\n",
       "    }\n",
       "\n",
       "    .dataframe tbody tr th {\n",
       "        vertical-align: top;\n",
       "    }\n",
       "\n",
       "    .dataframe thead th {\n",
       "        text-align: right;\n",
       "    }\n",
       "</style>\n",
       "<table border=\"1\" class=\"dataframe\">\n",
       "  <thead>\n",
       "    <tr style=\"text-align: right;\">\n",
       "      <th></th>\n",
       "      <th>date</th>\n",
       "      <th>group</th>\n",
       "      <th>visitors</th>\n",
       "    </tr>\n",
       "  </thead>\n",
       "  <tbody>\n",
       "    <tr>\n",
       "      <th>0</th>\n",
       "      <td>2019-08-01</td>\n",
       "      <td>A</td>\n",
       "      <td>719</td>\n",
       "    </tr>\n",
       "    <tr>\n",
       "      <th>1</th>\n",
       "      <td>2019-08-02</td>\n",
       "      <td>A</td>\n",
       "      <td>619</td>\n",
       "    </tr>\n",
       "    <tr>\n",
       "      <th>2</th>\n",
       "      <td>2019-08-03</td>\n",
       "      <td>A</td>\n",
       "      <td>507</td>\n",
       "    </tr>\n",
       "  </tbody>\n",
       "</table>\n",
       "</div>"
      ],
      "text/plain": [
       "        date group  visitors\n",
       "0 2019-08-01  A     719     \n",
       "1 2019-08-02  A     619     \n",
       "2 2019-08-03  A     507     "
      ]
     },
     "execution_count": 40,
     "metadata": {},
     "output_type": "execute_result"
    }
   ],
   "source": [
    "visitors.head(3)"
   ]
  },
  {
   "cell_type": "code",
   "execution_count": 41,
   "metadata": {},
   "outputs": [
    {
     "data": {
      "text/html": [
       "<div>\n",
       "<style scoped>\n",
       "    .dataframe tbody tr th:only-of-type {\n",
       "        vertical-align: middle;\n",
       "    }\n",
       "\n",
       "    .dataframe tbody tr th {\n",
       "        vertical-align: top;\n",
       "    }\n",
       "\n",
       "    .dataframe thead th {\n",
       "        text-align: right;\n",
       "    }\n",
       "</style>\n",
       "<table border=\"1\" class=\"dataframe\">\n",
       "  <thead>\n",
       "    <tr style=\"text-align: right;\">\n",
       "      <th></th>\n",
       "      <th>date</th>\n",
       "      <th>visitorsPerDateA</th>\n",
       "    </tr>\n",
       "  </thead>\n",
       "  <tbody>\n",
       "    <tr>\n",
       "      <th>0</th>\n",
       "      <td>2019-08-01</td>\n",
       "      <td>719</td>\n",
       "    </tr>\n",
       "    <tr>\n",
       "      <th>1</th>\n",
       "      <td>2019-08-02</td>\n",
       "      <td>619</td>\n",
       "    </tr>\n",
       "    <tr>\n",
       "      <th>2</th>\n",
       "      <td>2019-08-03</td>\n",
       "      <td>507</td>\n",
       "    </tr>\n",
       "  </tbody>\n",
       "</table>\n",
       "</div>"
      ],
      "text/plain": [
       "        date  visitorsPerDateA\n",
       "0 2019-08-01  719             \n",
       "1 2019-08-02  619             \n",
       "2 2019-08-03  507             "
      ]
     },
     "execution_count": 41,
     "metadata": {},
     "output_type": "execute_result"
    }
   ],
   "source": [
    "# Дата и количество визитов в эту дату в группе А\n",
    "visitorsADaily = visitors[visitors['group'] == 'A'][['date', 'visitors']]\n",
    "visitorsADaily.columns = ['date', 'visitorsPerDateA']\n",
    "visitorsADaily.head(3)"
   ]
  },
  {
   "cell_type": "code",
   "execution_count": 42,
   "metadata": {},
   "outputs": [
    {
     "data": {
      "text/html": [
       "<div>\n",
       "<style scoped>\n",
       "    .dataframe tbody tr th:only-of-type {\n",
       "        vertical-align: middle;\n",
       "    }\n",
       "\n",
       "    .dataframe tbody tr th {\n",
       "        vertical-align: top;\n",
       "    }\n",
       "\n",
       "    .dataframe thead th {\n",
       "        text-align: right;\n",
       "    }\n",
       "</style>\n",
       "<table border=\"1\" class=\"dataframe\">\n",
       "  <thead>\n",
       "    <tr style=\"text-align: right;\">\n",
       "      <th></th>\n",
       "      <th>date</th>\n",
       "      <th>visitorsCummulativeA</th>\n",
       "    </tr>\n",
       "  </thead>\n",
       "  <tbody>\n",
       "    <tr>\n",
       "      <th>0</th>\n",
       "      <td>2019-08-01</td>\n",
       "      <td>719</td>\n",
       "    </tr>\n",
       "    <tr>\n",
       "      <th>1</th>\n",
       "      <td>2019-08-02</td>\n",
       "      <td>1338</td>\n",
       "    </tr>\n",
       "    <tr>\n",
       "      <th>2</th>\n",
       "      <td>2019-08-03</td>\n",
       "      <td>1845</td>\n",
       "    </tr>\n",
       "    <tr>\n",
       "      <th>3</th>\n",
       "      <td>2019-08-04</td>\n",
       "      <td>2562</td>\n",
       "    </tr>\n",
       "    <tr>\n",
       "      <th>4</th>\n",
       "      <td>2019-08-05</td>\n",
       "      <td>3318</td>\n",
       "    </tr>\n",
       "  </tbody>\n",
       "</table>\n",
       "</div>"
      ],
      "text/plain": [
       "        date  visitorsCummulativeA\n",
       "0 2019-08-01  719                 \n",
       "1 2019-08-02  1338                \n",
       "2 2019-08-03  1845                \n",
       "3 2019-08-04  2562                \n",
       "4 2019-08-05  3318                "
      ]
     },
     "execution_count": 42,
     "metadata": {},
     "output_type": "execute_result"
    }
   ],
   "source": [
    "# таблица с накопленными данными по дням\n",
    "visitorsACummulative = visitorsADaily.apply(\n",
    "    lambda x: visitorsADaily[visitorsADaily['date'] <= x['date']].agg(\n",
    "        {'date': 'max', 'visitorsPerDateA': 'sum'}\n",
    "    ),\n",
    "    axis=1,\n",
    ")\n",
    "visitorsACummulative.columns = ['date', 'visitorsCummulativeA']\n",
    "visitorsACummulative.head()"
   ]
  },
  {
   "cell_type": "code",
   "execution_count": 43,
   "metadata": {},
   "outputs": [
    {
     "data": {
      "text/html": [
       "<div>\n",
       "<style scoped>\n",
       "    .dataframe tbody tr th:only-of-type {\n",
       "        vertical-align: middle;\n",
       "    }\n",
       "\n",
       "    .dataframe tbody tr th {\n",
       "        vertical-align: top;\n",
       "    }\n",
       "\n",
       "    .dataframe thead th {\n",
       "        text-align: right;\n",
       "    }\n",
       "</style>\n",
       "<table border=\"1\" class=\"dataframe\">\n",
       "  <thead>\n",
       "    <tr style=\"text-align: right;\">\n",
       "      <th></th>\n",
       "      <th>date</th>\n",
       "      <th>visitorsCummulativeB</th>\n",
       "    </tr>\n",
       "  </thead>\n",
       "  <tbody>\n",
       "    <tr>\n",
       "      <th>31</th>\n",
       "      <td>2019-08-01</td>\n",
       "      <td>713</td>\n",
       "    </tr>\n",
       "    <tr>\n",
       "      <th>32</th>\n",
       "      <td>2019-08-02</td>\n",
       "      <td>1294</td>\n",
       "    </tr>\n",
       "    <tr>\n",
       "      <th>33</th>\n",
       "      <td>2019-08-03</td>\n",
       "      <td>1803</td>\n",
       "    </tr>\n",
       "    <tr>\n",
       "      <th>34</th>\n",
       "      <td>2019-08-04</td>\n",
       "      <td>2573</td>\n",
       "    </tr>\n",
       "    <tr>\n",
       "      <th>35</th>\n",
       "      <td>2019-08-05</td>\n",
       "      <td>3280</td>\n",
       "    </tr>\n",
       "  </tbody>\n",
       "</table>\n",
       "</div>"
      ],
      "text/plain": [
       "         date  visitorsCummulativeB\n",
       "31 2019-08-01  713                 \n",
       "32 2019-08-02  1294                \n",
       "33 2019-08-03  1803                \n",
       "34 2019-08-04  2573                \n",
       "35 2019-08-05  3280                "
      ]
     },
     "execution_count": 43,
     "metadata": {},
     "output_type": "execute_result"
    }
   ],
   "source": [
    "# те же операции проделываю с группой В\n",
    "visitorsBDaily = visitors[visitors['group'] == 'B'][['date', 'visitors']]\n",
    "visitorsBDaily.columns = ['date', 'visitorsPerDateB']\n",
    "\n",
    "visitorsBCummulative = visitorsBDaily.apply(\n",
    "    lambda x: visitorsBDaily[visitorsBDaily['date'] <= x['date']].agg(\n",
    "        {'date': 'max', 'visitorsPerDateB': 'sum'}\n",
    "    ),\n",
    "    axis=1,\n",
    ")\n",
    "visitorsBCummulative.columns = ['date', 'visitorsCummulativeB']\n",
    "visitorsBCummulative.head()"
   ]
  },
  {
   "cell_type": "code",
   "execution_count": 44,
   "metadata": {},
   "outputs": [
    {
     "data": {
      "text/html": [
       "<div>\n",
       "<style scoped>\n",
       "    .dataframe tbody tr th:only-of-type {\n",
       "        vertical-align: middle;\n",
       "    }\n",
       "\n",
       "    .dataframe tbody tr th {\n",
       "        vertical-align: top;\n",
       "    }\n",
       "\n",
       "    .dataframe thead th {\n",
       "        text-align: right;\n",
       "    }\n",
       "</style>\n",
       "<table border=\"1\" class=\"dataframe\">\n",
       "  <thead>\n",
       "    <tr style=\"text-align: right;\">\n",
       "      <th></th>\n",
       "      <th>date</th>\n",
       "      <th>ordersPerDateA</th>\n",
       "      <th>revenuePerDateA</th>\n",
       "    </tr>\n",
       "  </thead>\n",
       "  <tbody>\n",
       "    <tr>\n",
       "      <th>0</th>\n",
       "      <td>2019-08-01</td>\n",
       "      <td>23</td>\n",
       "      <td>142779</td>\n",
       "    </tr>\n",
       "    <tr>\n",
       "      <th>1</th>\n",
       "      <td>2019-08-02</td>\n",
       "      <td>19</td>\n",
       "      <td>91602</td>\n",
       "    </tr>\n",
       "  </tbody>\n",
       "</table>\n",
       "</div>"
      ],
      "text/plain": [
       "        date  ordersPerDateA  revenuePerDateA\n",
       "0 2019-08-01  23              142779         \n",
       "1 2019-08-02  19              91602          "
      ]
     },
     "execution_count": 44,
     "metadata": {},
     "output_type": "execute_result"
    }
   ],
   "source": [
    "# количество заказов и их стоимость по датам в группе А\n",
    "ordersADaily = (\n",
    "    orders[orders['group'] == 'A'][['date', 'transactionId', 'visitorId', 'revenue']]\n",
    "    .groupby('date', as_index=False)\n",
    "    .agg({'transactionId': pd.Series.nunique, 'revenue': 'sum'})\n",
    ")\n",
    "ordersADaily.columns = ['date', 'ordersPerDateA', 'revenuePerDateA']\n",
    "ordersADaily.head(2)"
   ]
  },
  {
   "cell_type": "code",
   "execution_count": 45,
   "metadata": {},
   "outputs": [
    {
     "data": {
      "text/html": [
       "<div>\n",
       "<style scoped>\n",
       "    .dataframe tbody tr th:only-of-type {\n",
       "        vertical-align: middle;\n",
       "    }\n",
       "\n",
       "    .dataframe tbody tr th {\n",
       "        vertical-align: top;\n",
       "    }\n",
       "\n",
       "    .dataframe thead th {\n",
       "        text-align: right;\n",
       "    }\n",
       "</style>\n",
       "<table border=\"1\" class=\"dataframe\">\n",
       "  <thead>\n",
       "    <tr style=\"text-align: right;\">\n",
       "      <th></th>\n",
       "      <th>date</th>\n",
       "      <th>ordersCummulativeA</th>\n",
       "      <th>revenueCummulativeA</th>\n",
       "    </tr>\n",
       "  </thead>\n",
       "  <tbody>\n",
       "    <tr>\n",
       "      <th>0</th>\n",
       "      <td>2019-08-01</td>\n",
       "      <td>23</td>\n",
       "      <td>142779</td>\n",
       "    </tr>\n",
       "    <tr>\n",
       "      <th>1</th>\n",
       "      <td>2019-08-02</td>\n",
       "      <td>42</td>\n",
       "      <td>234381</td>\n",
       "    </tr>\n",
       "    <tr>\n",
       "      <th>2</th>\n",
       "      <td>2019-08-03</td>\n",
       "      <td>66</td>\n",
       "      <td>346854</td>\n",
       "    </tr>\n",
       "    <tr>\n",
       "      <th>3</th>\n",
       "      <td>2019-08-04</td>\n",
       "      <td>77</td>\n",
       "      <td>388030</td>\n",
       "    </tr>\n",
       "    <tr>\n",
       "      <th>4</th>\n",
       "      <td>2019-08-05</td>\n",
       "      <td>99</td>\n",
       "      <td>474413</td>\n",
       "    </tr>\n",
       "  </tbody>\n",
       "</table>\n",
       "</div>"
      ],
      "text/plain": [
       "        date  ordersCummulativeA  revenueCummulativeA\n",
       "0 2019-08-01  23                  142779             \n",
       "1 2019-08-02  42                  234381             \n",
       "2 2019-08-03  66                  346854             \n",
       "3 2019-08-04  77                  388030             \n",
       "4 2019-08-05  99                  474413             "
      ]
     },
     "execution_count": 45,
     "metadata": {},
     "output_type": "execute_result"
    }
   ],
   "source": [
    "# кумулятивные данные в группе А\n",
    "ordersACummulative = ordersADaily.apply(\n",
    "    lambda x: ordersADaily[ordersADaily['date'] <= x['date']].agg(\n",
    "        {'date': 'max', 'ordersPerDateA': 'sum', 'revenuePerDateA': 'sum'}\n",
    "    ),\n",
    "    axis=1,\n",
    ").sort_values(by=['date'])\n",
    "ordersACummulative.columns = [\n",
    "    'date',\n",
    "    'ordersCummulativeA',\n",
    "    'revenueCummulativeA',\n",
    "]\n",
    "\n",
    "ordersACummulative.head()"
   ]
  },
  {
   "cell_type": "code",
   "execution_count": 46,
   "metadata": {},
   "outputs": [
    {
     "data": {
      "text/html": [
       "<div>\n",
       "<style scoped>\n",
       "    .dataframe tbody tr th:only-of-type {\n",
       "        vertical-align: middle;\n",
       "    }\n",
       "\n",
       "    .dataframe tbody tr th {\n",
       "        vertical-align: top;\n",
       "    }\n",
       "\n",
       "    .dataframe thead th {\n",
       "        text-align: right;\n",
       "    }\n",
       "</style>\n",
       "<table border=\"1\" class=\"dataframe\">\n",
       "  <thead>\n",
       "    <tr style=\"text-align: right;\">\n",
       "      <th></th>\n",
       "      <th>date</th>\n",
       "      <th>ordersCummulativeB</th>\n",
       "      <th>revenueCummulativeB</th>\n",
       "    </tr>\n",
       "  </thead>\n",
       "  <tbody>\n",
       "    <tr>\n",
       "      <th>0</th>\n",
       "      <td>2019-08-01</td>\n",
       "      <td>17</td>\n",
       "      <td>59758</td>\n",
       "    </tr>\n",
       "    <tr>\n",
       "      <th>1</th>\n",
       "      <td>2019-08-02</td>\n",
       "      <td>40</td>\n",
       "      <td>221801</td>\n",
       "    </tr>\n",
       "    <tr>\n",
       "      <th>2</th>\n",
       "      <td>2019-08-03</td>\n",
       "      <td>54</td>\n",
       "      <td>288850</td>\n",
       "    </tr>\n",
       "    <tr>\n",
       "      <th>3</th>\n",
       "      <td>2019-08-04</td>\n",
       "      <td>68</td>\n",
       "      <td>385740</td>\n",
       "    </tr>\n",
       "    <tr>\n",
       "      <th>4</th>\n",
       "      <td>2019-08-05</td>\n",
       "      <td>89</td>\n",
       "      <td>475648</td>\n",
       "    </tr>\n",
       "  </tbody>\n",
       "</table>\n",
       "</div>"
      ],
      "text/plain": [
       "        date  ordersCummulativeB  revenueCummulativeB\n",
       "0 2019-08-01  17                  59758              \n",
       "1 2019-08-02  40                  221801             \n",
       "2 2019-08-03  54                  288850             \n",
       "3 2019-08-04  68                  385740             \n",
       "4 2019-08-05  89                  475648             "
      ]
     },
     "execution_count": 46,
     "metadata": {},
     "output_type": "execute_result"
    }
   ],
   "source": [
    "# те же операции проделываю с группой В в датафрейме orders\n",
    "ordersBDaily = (\n",
    "    orders[orders['group'] == 'B'][['date', 'transactionId', 'visitorId', 'revenue']]\n",
    "    .groupby('date', as_index=False)\n",
    "    .agg({'transactionId': pd.Series.nunique, 'revenue': 'sum'})\n",
    ")\n",
    "ordersBDaily.columns = ['date', 'ordersPerDateB', 'revenuePerDateB']\n",
    "\n",
    "ordersBCummulative = ordersBDaily.apply(\n",
    "    lambda x: ordersBDaily[ordersBDaily['date'] <= x['date']].agg(\n",
    "        {'date': 'max', 'ordersPerDateB': 'sum', 'revenuePerDateB': 'sum'}\n",
    "    ),\n",
    "    axis=1,\n",
    ").sort_values(by=['date'])\n",
    "ordersBCummulative.columns = [\n",
    "    'date',\n",
    "    'ordersCummulativeB',\n",
    "    'revenueCummulativeB',\n",
    "]\n",
    "\n",
    "ordersBCummulative.head()"
   ]
  },
  {
   "cell_type": "markdown",
   "metadata": {},
   "source": [
    "Объединяю таблицы:\n",
    "- ordersADaily\n",
    "- ordersBDaily\n",
    "- ordersACummulative\n",
    "- ordersBCummulative\n",
    "- visitorsADaily\n",
    "- visitorsBDaily\n",
    "- visitorsACummulative\n",
    "- visitorsBCummulative"
   ]
  },
  {
   "cell_type": "code",
   "execution_count": 47,
   "metadata": {},
   "outputs": [
    {
     "data": {
      "text/html": [
       "<div>\n",
       "<style scoped>\n",
       "    .dataframe tbody tr th:only-of-type {\n",
       "        vertical-align: middle;\n",
       "    }\n",
       "\n",
       "    .dataframe tbody tr th {\n",
       "        vertical-align: top;\n",
       "    }\n",
       "\n",
       "    .dataframe thead th {\n",
       "        text-align: right;\n",
       "    }\n",
       "</style>\n",
       "<table border=\"1\" class=\"dataframe\">\n",
       "  <thead>\n",
       "    <tr style=\"text-align: right;\">\n",
       "      <th></th>\n",
       "      <th>date</th>\n",
       "      <th>ordersPerDateA</th>\n",
       "      <th>revenuePerDateA</th>\n",
       "      <th>ordersPerDateB</th>\n",
       "      <th>revenuePerDateB</th>\n",
       "      <th>ordersCummulativeA</th>\n",
       "      <th>revenueCummulativeA</th>\n",
       "      <th>ordersCummulativeB</th>\n",
       "      <th>revenueCummulativeB</th>\n",
       "      <th>visitorsPerDateA</th>\n",
       "      <th>visitorsPerDateB</th>\n",
       "      <th>visitorsCummulativeA</th>\n",
       "      <th>visitorsCummulativeB</th>\n",
       "    </tr>\n",
       "  </thead>\n",
       "  <tbody>\n",
       "    <tr>\n",
       "      <th>0</th>\n",
       "      <td>2019-08-01</td>\n",
       "      <td>23</td>\n",
       "      <td>142779</td>\n",
       "      <td>17</td>\n",
       "      <td>59758</td>\n",
       "      <td>23</td>\n",
       "      <td>142779</td>\n",
       "      <td>17</td>\n",
       "      <td>59758</td>\n",
       "      <td>719</td>\n",
       "      <td>713</td>\n",
       "      <td>719</td>\n",
       "      <td>713</td>\n",
       "    </tr>\n",
       "    <tr>\n",
       "      <th>1</th>\n",
       "      <td>2019-08-02</td>\n",
       "      <td>19</td>\n",
       "      <td>91602</td>\n",
       "      <td>23</td>\n",
       "      <td>162043</td>\n",
       "      <td>42</td>\n",
       "      <td>234381</td>\n",
       "      <td>40</td>\n",
       "      <td>221801</td>\n",
       "      <td>619</td>\n",
       "      <td>581</td>\n",
       "      <td>1338</td>\n",
       "      <td>1294</td>\n",
       "    </tr>\n",
       "    <tr>\n",
       "      <th>2</th>\n",
       "      <td>2019-08-03</td>\n",
       "      <td>24</td>\n",
       "      <td>112473</td>\n",
       "      <td>14</td>\n",
       "      <td>67049</td>\n",
       "      <td>66</td>\n",
       "      <td>346854</td>\n",
       "      <td>54</td>\n",
       "      <td>288850</td>\n",
       "      <td>507</td>\n",
       "      <td>509</td>\n",
       "      <td>1845</td>\n",
       "      <td>1803</td>\n",
       "    </tr>\n",
       "    <tr>\n",
       "      <th>3</th>\n",
       "      <td>2019-08-04</td>\n",
       "      <td>11</td>\n",
       "      <td>41176</td>\n",
       "      <td>14</td>\n",
       "      <td>96890</td>\n",
       "      <td>77</td>\n",
       "      <td>388030</td>\n",
       "      <td>68</td>\n",
       "      <td>385740</td>\n",
       "      <td>717</td>\n",
       "      <td>770</td>\n",
       "      <td>2562</td>\n",
       "      <td>2573</td>\n",
       "    </tr>\n",
       "    <tr>\n",
       "      <th>4</th>\n",
       "      <td>2019-08-05</td>\n",
       "      <td>22</td>\n",
       "      <td>86383</td>\n",
       "      <td>21</td>\n",
       "      <td>89908</td>\n",
       "      <td>99</td>\n",
       "      <td>474413</td>\n",
       "      <td>89</td>\n",
       "      <td>475648</td>\n",
       "      <td>756</td>\n",
       "      <td>707</td>\n",
       "      <td>3318</td>\n",
       "      <td>3280</td>\n",
       "    </tr>\n",
       "  </tbody>\n",
       "</table>\n",
       "</div>"
      ],
      "text/plain": [
       "        date  ordersPerDateA  revenuePerDateA  ordersPerDateB  \\\n",
       "0 2019-08-01  23              142779           17               \n",
       "1 2019-08-02  19              91602            23               \n",
       "2 2019-08-03  24              112473           14               \n",
       "3 2019-08-04  11              41176            14               \n",
       "4 2019-08-05  22              86383            21               \n",
       "\n",
       "   revenuePerDateB  ordersCummulativeA  revenueCummulativeA  \\\n",
       "0  59758            23                  142779                \n",
       "1  162043           42                  234381                \n",
       "2  67049            66                  346854                \n",
       "3  96890            77                  388030                \n",
       "4  89908            99                  474413                \n",
       "\n",
       "   ordersCummulativeB  revenueCummulativeB  visitorsPerDateA  \\\n",
       "0  17                  59758                719                \n",
       "1  40                  221801               619                \n",
       "2  54                  288850               507                \n",
       "3  68                  385740               717                \n",
       "4  89                  475648               756                \n",
       "\n",
       "   visitorsPerDateB  visitorsCummulativeA  visitorsCummulativeB  \n",
       "0  713               719                   713                   \n",
       "1  581               1338                  1294                  \n",
       "2  509               1845                  1803                  \n",
       "3  770               2562                  2573                  \n",
       "4  707               3318                  3280                  "
      ]
     },
     "execution_count": 47,
     "metadata": {},
     "output_type": "execute_result"
    }
   ],
   "source": [
    "data = (\n",
    "    ordersADaily.merge(\n",
    "        ordersBDaily, left_on='date', right_on='date', how='left'\n",
    "    )\n",
    "    .merge(ordersACummulative, left_on='date', right_on='date', how='left')\n",
    "    .merge(ordersBCummulative, left_on='date', right_on='date', how='left')\n",
    "    .merge(visitorsADaily, left_on='date', right_on='date', how='left')\n",
    "    .merge(visitorsBDaily, left_on='date', right_on='date', how='left')\n",
    "    .merge(visitorsACummulative, left_on='date', right_on='date', how='left')\n",
    "    .merge(visitorsBCummulative, left_on='date', right_on='date', how='left')\n",
    ")\n",
    "\n",
    "data.head(5)"
   ]
  },
  {
   "cell_type": "markdown",
   "metadata": {},
   "source": [
    "Названия столбцов данных:\n",
    "- date — дата;\n",
    "- ordersPerDateA — количество заказов в выбранную дату в группе A;\n",
    "- revenuePerDateA — суммарная выручка в выбранную дату в группе A;\n",
    "- ordersPerDateB — количество заказов в выбранную дату в группе B;\n",
    "- revenuePerDateB — суммарная выручка в выбранную дату в группе B;\n",
    "- ordersCummulativeA — суммарное число заказов до выбранной даты включительно в группе A;\n",
    "- revenueCummulativeA — суммарная выручка до выбранной даты включительно в группе A;\n",
    "- ordersCummulativeB — суммарное количество заказов до выбранной даты включительно в группе B;\n",
    "- revenueCummulativeB — суммарная выручка до выбранной даты включительно в группе B;\n",
    "- visitorsPerDateA — количество пользователей в выбранную дату в группе A;\n",
    "- visitorsPerDateB — количество пользователей в выбранную дату в группе B;\n",
    "- visitorsCummulativeA — количество пользователей до выбранной даты включительно в группе A;\n",
    "- visitorsCummulativeB — количество пользователей до выбранной даты включительно в группе B."
   ]
  },
  {
   "cell_type": "markdown",
   "metadata": {},
   "source": [
    "Посчитаю статистическую значимость различия в конверсии между группами."
   ]
  },
  {
   "cell_type": "markdown",
   "metadata": {},
   "source": [
    "Создадим переменные *ordersByUsersA* и *ordersByUsersB*. В них для пользователей, укажу число совершённых заказов."
   ]
  },
  {
   "cell_type": "code",
   "execution_count": 48,
   "metadata": {},
   "outputs": [
    {
     "data": {
      "text/html": [
       "<div>\n",
       "<style scoped>\n",
       "    .dataframe tbody tr th:only-of-type {\n",
       "        vertical-align: middle;\n",
       "    }\n",
       "\n",
       "    .dataframe tbody tr th {\n",
       "        vertical-align: top;\n",
       "    }\n",
       "\n",
       "    .dataframe thead th {\n",
       "        text-align: right;\n",
       "    }\n",
       "</style>\n",
       "<table border=\"1\" class=\"dataframe\">\n",
       "  <thead>\n",
       "    <tr style=\"text-align: right;\">\n",
       "      <th></th>\n",
       "      <th>visitorId</th>\n",
       "      <th>orders</th>\n",
       "    </tr>\n",
       "  </thead>\n",
       "  <tbody>\n",
       "    <tr>\n",
       "      <th>0</th>\n",
       "      <td>11685486</td>\n",
       "      <td>1</td>\n",
       "    </tr>\n",
       "    <tr>\n",
       "      <th>1</th>\n",
       "      <td>54447517</td>\n",
       "      <td>1</td>\n",
       "    </tr>\n",
       "    <tr>\n",
       "      <th>2</th>\n",
       "      <td>66685450</td>\n",
       "      <td>1</td>\n",
       "    </tr>\n",
       "  </tbody>\n",
       "</table>\n",
       "</div>"
      ],
      "text/plain": [
       "   visitorId  orders\n",
       "0  11685486   1     \n",
       "1  54447517   1     \n",
       "2  66685450   1     "
      ]
     },
     "execution_count": 48,
     "metadata": {},
     "output_type": "execute_result"
    }
   ],
   "source": [
    "ordersByUsersA = (orders[orders['group'] == 'A']\n",
    "                  .groupby('visitorId', as_index=False)\n",
    "                  .agg({'transactionId': pd.Series.nunique}))\n",
    "ordersByUsersA.columns = ['visitorId', 'orders']\n",
    "ordersByUsersA.head(3)"
   ]
  },
  {
   "cell_type": "code",
   "execution_count": 49,
   "metadata": {},
   "outputs": [
    {
     "data": {
      "text/html": [
       "<div>\n",
       "<style scoped>\n",
       "    .dataframe tbody tr th:only-of-type {\n",
       "        vertical-align: middle;\n",
       "    }\n",
       "\n",
       "    .dataframe tbody tr th {\n",
       "        vertical-align: top;\n",
       "    }\n",
       "\n",
       "    .dataframe thead th {\n",
       "        text-align: right;\n",
       "    }\n",
       "</style>\n",
       "<table border=\"1\" class=\"dataframe\">\n",
       "  <thead>\n",
       "    <tr style=\"text-align: right;\">\n",
       "      <th></th>\n",
       "      <th>visitorId</th>\n",
       "      <th>orders</th>\n",
       "    </tr>\n",
       "  </thead>\n",
       "  <tbody>\n",
       "    <tr>\n",
       "      <th>0</th>\n",
       "      <td>5114589</td>\n",
       "      <td>1</td>\n",
       "    </tr>\n",
       "    <tr>\n",
       "      <th>1</th>\n",
       "      <td>6958315</td>\n",
       "      <td>1</td>\n",
       "    </tr>\n",
       "    <tr>\n",
       "      <th>2</th>\n",
       "      <td>39475350</td>\n",
       "      <td>1</td>\n",
       "    </tr>\n",
       "  </tbody>\n",
       "</table>\n",
       "</div>"
      ],
      "text/plain": [
       "   visitorId  orders\n",
       "0  5114589    1     \n",
       "1  6958315    1     \n",
       "2  39475350   1     "
      ]
     },
     "execution_count": 49,
     "metadata": {},
     "output_type": "execute_result"
    }
   ],
   "source": [
    "ordersByUsersB = (\n",
    "    orders[orders['group'] == 'B']\n",
    "    .groupby('visitorId', as_index=False)\n",
    "    .agg({'transactionId': pd.Series.nunique})\n",
    ")\n",
    "ordersByUsersB.columns = ['visitorId', 'orders'] \n",
    "ordersByUsersB.head(3)"
   ]
  },
  {
   "cell_type": "markdown",
   "metadata": {},
   "source": [
    "Создаю переменные sampleA и sampleB, в которых пользователям из разных групп будет соответствовать количество заказов. Тем, кто ничего не заказал, будут соответствовать нули"
   ]
  },
  {
   "cell_type": "code",
   "execution_count": 50,
   "metadata": {},
   "outputs": [
    {
     "data": {
      "text/plain": [
       "0    1\n",
       "1    1\n",
       "2    1\n",
       "3    1\n",
       "4    1\n",
       "Name: orders, dtype: int64"
      ]
     },
     "execution_count": 50,
     "metadata": {},
     "output_type": "execute_result"
    }
   ],
   "source": [
    "sampleA = pd.concat(\n",
    "    [ordersByUsersA['orders'], \n",
    "     pd.Series(0, index=np.arange(data['visitorsPerDateA'].sum() - len(ordersByUsersA['orders'])), name='orders')], axis=0)\n",
    "\n",
    "sampleB = pd.concat(\n",
    "    [ordersByUsersB['orders'], \n",
    "     pd.Series(0, index=np.arange(data['visitorsPerDateB'].sum() - len(ordersByUsersB['orders'])), name='orders')], axis=0)\n",
    "\n",
    "sampleA.head()"
   ]
  },
  {
   "cell_type": "markdown",
   "metadata": {},
   "source": [
    "**Формулировки гипотез:**\n",
    "\n",
    "Нулевая гипотиза: Статистически значимых различий в конверсии между группами А и В нет.\n",
    "\n",
    "Альтернативная гипозиза: Есть статистически значимые различия в конверсии между группами А и В.\n",
    "\n",
    "\n",
    "Нулевая гипотиза: Статистически значимых различий в среднем чеке заказа между группами А и В нет.\n",
    "\n",
    "Альтернативная гипозиза: Есть статистически значимые различия в среднем чеке заказа между группами А и В."
   ]
  },
  {
   "cell_type": "code",
   "execution_count": 51,
   "metadata": {},
   "outputs": [
    {
     "name": "stdout",
     "output_type": "stream",
     "text": [
      "0.01102\n",
      "0.15980\n"
     ]
    }
   ],
   "source": [
    "print(\"{0:.5f}\".format(st.mannwhitneyu(sampleA, sampleB)[1]))\n",
    "print(\"{0:.5f}\".format(sampleB.mean() / sampleA.mean() - 1))"
   ]
  },
  {
   "cell_type": "markdown",
   "metadata": {},
   "source": [
    "Вывод: По «сырым» данным есть различие в конверсии групп A и B.\n",
    "\n",
    "Первое число — p-value = 0.00551 меньше 0.05. Значит, нулевую гипотезу о том, что статистически значимых различий в конверсии между группами нет, отвергаем. \n",
    "\n",
    "Относительный выигрыш группы B равен 15.9% — второе число в выводе."
   ]
  },
  {
   "cell_type": "markdown",
   "metadata": {},
   "source": [
    "### Статистическая значимость различий в среднем чеке заказа между группами по «сырым» данным."
   ]
  },
  {
   "cell_type": "markdown",
   "metadata": {},
   "source": [
    "Передадаю критерию mannwhitneyu() данные о выручке с заказов."
   ]
  },
  {
   "cell_type": "code",
   "execution_count": 52,
   "metadata": {},
   "outputs": [
    {
     "name": "stdout",
     "output_type": "stream",
     "text": [
      "0.829\n",
      "0.28660\n"
     ]
    }
   ],
   "source": [
    "print('{0:.3f}'.format(st.mannwhitneyu(orders[orders['group']=='A']['revenue'],\n",
    "                                       orders[orders['group']=='B']['revenue'])[1]))\n",
    "           \n",
    "print(\"{0:.5f}\".format(\n",
    "    orders[orders['group']=='B']['revenue'].mean() / \n",
    "    orders[orders['group']=='A']['revenue'].mean() - 1))"
   ]
  },
  {
   "cell_type": "markdown",
   "metadata": {},
   "source": [
    "Провожу двусторонний тест:"
   ]
  },
  {
   "cell_type": "code",
   "execution_count": 53,
   "metadata": {},
   "outputs": [
    {
     "name": "stdout",
     "output_type": "stream",
     "text": [
      "0.829\n",
      "0.28660\n"
     ]
    }
   ],
   "source": [
    "print('{0:.3f}'.format(st.mannwhitneyu(orders[orders['group']=='A']['revenue'], \n",
    "                                       orders[orders['group']=='B']['revenue'], \n",
    "                                       alternative = 'two-sided')[1]))\n",
    "           \n",
    "print(\"{0:.5f}\".format(\n",
    "    orders[orders['group']=='B']['revenue'].mean() / \n",
    "    orders[orders['group']=='A']['revenue'].mean() - 1))"
   ]
  },
  {
   "cell_type": "code",
   "execution_count": 54,
   "metadata": {},
   "outputs": [
    {
     "data": {
      "text/plain": [
       "'1.7.1'"
      ]
     },
     "execution_count": 54,
     "metadata": {},
     "output_type": "execute_result"
    }
   ],
   "source": [
    "#Reviewer's code\n",
    "import scipy\n",
    "scipy.__version__"
   ]
  },
  {
   "cell_type": "markdown",
   "metadata": {},
   "source": [
    "p-value = 0.829, это больше 0.05. Значит, нулевая гипотиза, что средние чеги в группах А и В равны, верна.\n",
    "\n",
    "Впрочем, средний чек группы B значительно выше среднего чека группы A."
   ]
  },
  {
   "cell_type": "markdown",
   "metadata": {},
   "source": [
    "### Статистическая значимость различий в конверсии между группами по «очищенным» данным."
   ]
  },
  {
   "cell_type": "markdown",
   "metadata": {},
   "source": [
    "Приму за анамальных пользователей тех, кто сделал больше 1 заказа и совершивших заказы дороже 50000."
   ]
  },
  {
   "cell_type": "code",
   "execution_count": 55,
   "metadata": {},
   "outputs": [
    {
     "name": "stdout",
     "output_type": "stream",
     "text": [
      "(45,)\n"
     ]
    },
    {
     "data": {
      "text/plain": [
       "1099    148427295\n",
       "33      249864742\n",
       "36      366673373\n",
       "51      406208401\n",
       "67      522292794\n",
       "Name: visitorId, dtype: int64"
      ]
     },
     "execution_count": 55,
     "metadata": {},
     "output_type": "execute_result"
    }
   ],
   "source": [
    "# пользователи, совершившие больше 1го заказа\n",
    "usersWithManyOrders = pd.concat(\n",
    "    [ordersByUsersA[ordersByUsersA['orders'] >= np.percentile(orders_by_users['orders'], 99)\n",
    "                   ]['visitorId'], \n",
    "    ordersByUsersB[ordersByUsersB['orders'] >= np.percentile(orders_by_users['orders'], 99)\n",
    "                  ]['visitorId']], \n",
    "    axis=0)\n",
    "\n",
    "# пользователи, у которых заказ превышает стоимость 53904\n",
    "usersWithExpensiveOrders = orders[orders['revenue'] > np.percentile(orders['revenue'], 99)\n",
    "                                 ]['visitorId']\n",
    "\n",
    "# объединяю данные, что бы анамальные пользователи были в одной таблице\n",
    "abnormalUsers = (pd.concat([usersWithManyOrders, usersWithExpensiveOrders], axis=0)\n",
    "                 .drop_duplicates()\n",
    "                 .sort_values())\n",
    "print(abnormalUsers.shape)\n",
    "abnormalUsers.head()"
   ]
  },
  {
   "cell_type": "markdown",
   "metadata": {},
   "source": [
    "Получилось 50 аномальных пользователей.\n",
    "\n",
    "Посмотрю, как будет выглядеть статическая значимость без этих пользователей."
   ]
  },
  {
   "cell_type": "code",
   "execution_count": 56,
   "metadata": {},
   "outputs": [],
   "source": [
    "sampleAFiltered = pd.concat(\n",
    "    [\n",
    "        ordersByUsersA[\n",
    "            np.logical_not(ordersByUsersA['visitorId'].isin(abnormalUsers))\n",
    "        ]['orders'],\n",
    "        pd.Series(\n",
    "            0,\n",
    "            index=np.arange(\n",
    "                data['visitorsPerDateA'].sum() - len(ordersByUsersA['orders'])\n",
    "            ),\n",
    "            name='orders',\n",
    "        ),\n",
    "    ],\n",
    "    axis=0,\n",
    ")\n",
    "\n",
    "sampleBFiltered = pd.concat(\n",
    "    [\n",
    "        ordersByUsersB[\n",
    "            np.logical_not(ordersByUsersB['visitorId'].isin(abnormalUsers))\n",
    "        ]['orders'],\n",
    "        pd.Series(\n",
    "            0,\n",
    "            index=np.arange(\n",
    "                data['visitorsPerDateB'].sum() - len(ordersByUsersB['orders'])\n",
    "            ),\n",
    "            name='orders',\n",
    "        ),\n",
    "    ],\n",
    "    axis=0,\n",
    ") "
   ]
  },
  {
   "cell_type": "markdown",
   "metadata": {},
   "source": [
    "Применяю статистический критерий Манна-Уитни к полученным выборкам:"
   ]
  },
  {
   "cell_type": "code",
   "execution_count": 57,
   "metadata": {},
   "outputs": [
    {
     "name": "stdout",
     "output_type": "stream",
     "text": [
      "0.00820\n",
      "0.18757\n"
     ]
    }
   ],
   "source": [
    "print('{0:.5f}'.format(st.mannwhitneyu(sampleAFiltered, sampleBFiltered)[1]))\n",
    "print('{0:.5f}'.format(sampleBFiltered.mean()/sampleAFiltered.mean()-1)) "
   ]
  },
  {
   "cell_type": "markdown",
   "metadata": {},
   "source": [
    "Результаты немного изменились, но не сильно p-value стало 0.004, а было 0.005, это все меньше 0.05.\n",
    "\n",
    "Значит, нулевая гипотиза о равенстве конверсии между группами А и В неверна.\n",
    "\n",
    "Конверсии в группах различны.\n",
    "\n",
    "Относительная разница группы В была 15.9%, стала 19%."
   ]
  },
  {
   "cell_type": "markdown",
   "metadata": {},
   "source": [
    "### Статистическая значимость различий в среднем чеке заказа между группами по «очищенным» данным."
   ]
  },
  {
   "cell_type": "code",
   "execution_count": 58,
   "metadata": {},
   "outputs": [
    {
     "name": "stdout",
     "output_type": "stream",
     "text": [
      "0.96949\n",
      "0.00239\n"
     ]
    }
   ],
   "source": [
    "print(\n",
    "    '{0:.5f}'.format(\n",
    "        st.mannwhitneyu(\n",
    "            orders[\n",
    "                np.logical_and(\n",
    "                    orders['group'] == 'A',\n",
    "                    np.logical_not(orders['visitorId'].isin(abnormalUsers)),\n",
    "                )\n",
    "            ]['revenue'],\n",
    "            orders[\n",
    "                np.logical_and(\n",
    "                    orders['group'] == 'B',\n",
    "                    np.logical_not(orders['visitorId'].isin(abnormalUsers)),\n",
    "                )\n",
    "            ]['revenue'],\n",
    "        )[1]\n",
    "    )\n",
    ")\n",
    "\n",
    "print(\n",
    "    \"{0:.5f}\".format(\n",
    "        orders[\n",
    "            np.logical_and(\n",
    "                orders['group'] == 'B',\n",
    "                np.logical_not(orders['visitorId'].isin(abnormalUsers)),\n",
    "            )\n",
    "        ]['revenue'].mean()\n",
    "        / orders[\n",
    "            np.logical_and(\n",
    "                orders['group'] == 'A',\n",
    "                np.logical_not(orders['visitorId'].isin(abnormalUsers)),\n",
    "            )\n",
    "        ]['revenue'].mean()\n",
    "        - 1\n",
    "    )\n",
    ") "
   ]
  },
  {
   "cell_type": "markdown",
   "metadata": {},
   "source": [
    "После очистки данных статистическая значимость различий в среднем чеке заказа между группами А и В, немного изменилась.\n",
    "\n",
    "P-value стала 0.48, было 0.41, эти значения больше 0.05. Значит, нет различий в среднем чеке заказа между группами А и В.\n",
    "\n",
    "Так же очищенные данные показали, что средний чек группы В выше всего на 2.7%, по сырым данным это значение было равно 28.6%."
   ]
  },
  {
   "cell_type": "markdown",
   "metadata": {},
   "source": [
    "### Решение по результатам теста."
   ]
  },
  {
   "cell_type": "markdown",
   "metadata": {},
   "source": [
    "Остановить тест, зафиксировать победу группы В.\n",
    "\n",
    "Пользователи из группы В чаще совершают покупки, значит конверсия в этой группе выше. \n",
    "\n",
    "Статической значимости различий в среднем чеке между группами А и В нет. Но в группе В средний чек немного выше чем в группе А, на 2.7%\n",
    "\n",
    "Группа В приводит больше клиентов, значит выручка будет выше."
   ]
  },
  {
   "cell_type": "code",
   "execution_count": null,
   "metadata": {},
   "outputs": [],
   "source": []
  }
 ],
 "metadata": {
  "ExecuteTimeLog": [
   {
    "duration": 323,
    "start_time": "2022-03-08T13:41:19.102Z"
   },
   {
    "duration": 247,
    "start_time": "2022-03-08T13:41:19.485Z"
   },
   {
    "duration": 767,
    "start_time": "2022-03-08T13:41:29.953Z"
   },
   {
    "duration": 14,
    "start_time": "2022-03-08T13:41:30.722Z"
   },
   {
    "duration": 22,
    "start_time": "2022-03-08T13:41:30.836Z"
   },
   {
    "duration": 3,
    "start_time": "2022-03-08T13:41:57.782Z"
   },
   {
    "duration": 10,
    "start_time": "2022-03-08T13:42:09.412Z"
   },
   {
    "duration": 1037,
    "start_time": "2022-03-09T15:25:56.092Z"
   },
   {
    "duration": 17,
    "start_time": "2022-03-09T15:25:58.046Z"
   },
   {
    "duration": 10,
    "start_time": "2022-03-09T15:25:59.172Z"
   },
   {
    "duration": 7,
    "start_time": "2022-03-09T15:28:10.034Z"
   },
   {
    "duration": 7,
    "start_time": "2022-03-09T15:30:46.171Z"
   },
   {
    "duration": 9,
    "start_time": "2022-03-09T15:31:35.870Z"
   },
   {
    "duration": 4,
    "start_time": "2022-03-09T15:34:37.450Z"
   },
   {
    "duration": 3,
    "start_time": "2022-03-09T15:35:21.373Z"
   },
   {
    "duration": 9,
    "start_time": "2022-03-09T15:35:40.975Z"
   },
   {
    "duration": 50,
    "start_time": "2022-03-09T16:01:46.337Z"
   },
   {
    "duration": 16,
    "start_time": "2022-03-09T16:01:47.956Z"
   },
   {
    "duration": 7,
    "start_time": "2022-03-09T16:02:00.686Z"
   },
   {
    "duration": 7,
    "start_time": "2022-03-09T16:02:12.746Z"
   },
   {
    "duration": 7,
    "start_time": "2022-03-09T16:03:40.014Z"
   },
   {
    "duration": 2,
    "start_time": "2022-03-09T16:20:27.664Z"
   },
   {
    "duration": 13,
    "start_time": "2022-03-09T16:23:38.856Z"
   },
   {
    "duration": 6,
    "start_time": "2022-03-09T16:23:54.505Z"
   },
   {
    "duration": 318,
    "start_time": "2022-03-09T16:24:23.925Z"
   },
   {
    "duration": 257,
    "start_time": "2022-03-09T16:24:28.779Z"
   },
   {
    "duration": 5,
    "start_time": "2022-03-09T16:24:38.941Z"
   },
   {
    "duration": 6,
    "start_time": "2022-03-09T16:29:39.966Z"
   },
   {
    "duration": 11,
    "start_time": "2022-03-09T16:29:51.170Z"
   },
   {
    "duration": 6,
    "start_time": "2022-03-09T16:30:02.259Z"
   },
   {
    "duration": 164,
    "start_time": "2022-03-09T16:50:51.233Z"
   },
   {
    "duration": 8,
    "start_time": "2022-03-09T16:51:12.137Z"
   },
   {
    "duration": 165,
    "start_time": "2022-03-09T16:58:52.273Z"
   },
   {
    "duration": 8,
    "start_time": "2022-03-09T16:58:53.196Z"
   },
   {
    "duration": 138,
    "start_time": "2022-03-09T17:00:41.412Z"
   },
   {
    "duration": 7,
    "start_time": "2022-03-09T17:00:52.118Z"
   },
   {
    "duration": 13,
    "start_time": "2022-03-09T17:23:34.124Z"
   },
   {
    "duration": 12,
    "start_time": "2022-03-09T17:40:49.748Z"
   },
   {
    "duration": 7226,
    "start_time": "2022-03-09T17:43:38.473Z"
   },
   {
    "duration": 84,
    "start_time": "2022-03-09T17:45:07.589Z"
   },
   {
    "duration": 7,
    "start_time": "2022-03-09T17:45:24.469Z"
   },
   {
    "duration": 193,
    "start_time": "2022-03-09T17:48:00.655Z"
   },
   {
    "duration": 165,
    "start_time": "2022-03-09T17:55:49.753Z"
   },
   {
    "duration": 1015,
    "start_time": "2022-03-10T07:28:47.886Z"
   },
   {
    "duration": 19,
    "start_time": "2022-03-10T07:28:48.903Z"
   },
   {
    "duration": 16,
    "start_time": "2022-03-10T07:28:48.924Z"
   },
   {
    "duration": 9,
    "start_time": "2022-03-10T07:28:48.942Z"
   },
   {
    "duration": 13,
    "start_time": "2022-03-10T07:28:48.953Z"
   },
   {
    "duration": 9,
    "start_time": "2022-03-10T07:28:48.968Z"
   },
   {
    "duration": 14,
    "start_time": "2022-03-10T07:28:48.979Z"
   },
   {
    "duration": 24,
    "start_time": "2022-03-10T07:28:48.995Z"
   },
   {
    "duration": 12,
    "start_time": "2022-03-10T07:28:49.023Z"
   },
   {
    "duration": 11,
    "start_time": "2022-03-10T07:28:49.038Z"
   },
   {
    "duration": 26,
    "start_time": "2022-03-10T07:28:49.051Z"
   },
   {
    "duration": 26,
    "start_time": "2022-03-10T07:28:49.079Z"
   },
   {
    "duration": 9,
    "start_time": "2022-03-10T07:28:49.107Z"
   },
   {
    "duration": 11,
    "start_time": "2022-03-10T07:28:49.118Z"
   },
   {
    "duration": 12,
    "start_time": "2022-03-10T07:28:49.131Z"
   },
   {
    "duration": 14,
    "start_time": "2022-03-10T07:28:49.145Z"
   },
   {
    "duration": 191,
    "start_time": "2022-03-10T07:28:49.161Z"
   },
   {
    "duration": 10,
    "start_time": "2022-03-10T07:28:49.354Z"
   },
   {
    "duration": 161,
    "start_time": "2022-03-10T07:28:49.366Z"
   },
   {
    "duration": 13,
    "start_time": "2022-03-10T07:28:49.529Z"
   },
   {
    "duration": 14,
    "start_time": "2022-03-10T07:28:49.544Z"
   },
   {
    "duration": 7,
    "start_time": "2022-03-10T07:28:49.560Z"
   },
   {
    "duration": 234,
    "start_time": "2022-03-10T07:28:49.568Z"
   },
   {
    "duration": 221,
    "start_time": "2022-03-10T07:28:49.804Z"
   },
   {
    "duration": 13,
    "start_time": "2022-03-10T07:44:09.709Z"
   },
   {
    "duration": 258,
    "start_time": "2022-03-10T07:47:20.586Z"
   },
   {
    "duration": 315,
    "start_time": "2022-03-10T07:50:07.328Z"
   },
   {
    "duration": 3452,
    "start_time": "2022-03-10T08:03:24.085Z"
   },
   {
    "duration": 217,
    "start_time": "2022-03-10T08:03:47.157Z"
   },
   {
    "duration": 10,
    "start_time": "2022-03-10T08:14:26.799Z"
   },
   {
    "duration": 10,
    "start_time": "2022-03-10T08:16:25.779Z"
   },
   {
    "duration": 10,
    "start_time": "2022-03-10T08:17:35.629Z"
   },
   {
    "duration": 6,
    "start_time": "2022-03-10T08:19:57.952Z"
   },
   {
    "duration": 7,
    "start_time": "2022-03-10T08:21:06.843Z"
   },
   {
    "duration": 7,
    "start_time": "2022-03-10T08:21:07.439Z"
   },
   {
    "duration": 176,
    "start_time": "2022-03-10T08:21:17.548Z"
   },
   {
    "duration": 8,
    "start_time": "2022-03-10T08:21:19.075Z"
   },
   {
    "duration": 143,
    "start_time": "2022-03-10T08:21:21.311Z"
   },
   {
    "duration": 9,
    "start_time": "2022-03-10T08:21:21.724Z"
   },
   {
    "duration": 14,
    "start_time": "2022-03-10T08:21:23.666Z"
   },
   {
    "duration": 8,
    "start_time": "2022-03-10T08:21:30.211Z"
   },
   {
    "duration": 202,
    "start_time": "2022-03-10T08:21:31.998Z"
   },
   {
    "duration": 205,
    "start_time": "2022-03-10T08:22:37.836Z"
   },
   {
    "duration": 12,
    "start_time": "2022-03-10T08:23:24.243Z"
   },
   {
    "duration": 310,
    "start_time": "2022-03-10T08:23:25.345Z"
   },
   {
    "duration": 260,
    "start_time": "2022-03-10T08:23:36.147Z"
   },
   {
    "duration": 335,
    "start_time": "2022-03-10T08:35:13.933Z"
   },
   {
    "duration": 9,
    "start_time": "2022-03-10T09:04:37.773Z"
   },
   {
    "duration": 93,
    "start_time": "2022-03-10T09:08:01.615Z"
   },
   {
    "duration": 7,
    "start_time": "2022-03-10T09:08:10.367Z"
   },
   {
    "duration": 95,
    "start_time": "2022-03-10T09:09:24.611Z"
   },
   {
    "duration": 8,
    "start_time": "2022-03-10T09:10:20.457Z"
   },
   {
    "duration": 8,
    "start_time": "2022-03-10T09:11:58.175Z"
   },
   {
    "duration": 8,
    "start_time": "2022-03-10T09:11:58.705Z"
   },
   {
    "duration": 101,
    "start_time": "2022-03-10T09:12:04.415Z"
   },
   {
    "duration": 12,
    "start_time": "2022-03-10T09:12:04.795Z"
   },
   {
    "duration": 179,
    "start_time": "2022-03-10T09:13:15.843Z"
   },
   {
    "duration": 279,
    "start_time": "2022-03-10T09:15:01.392Z"
   },
   {
    "duration": 9,
    "start_time": "2022-03-10T09:16:00.942Z"
   },
   {
    "duration": 137,
    "start_time": "2022-03-10T09:16:03.574Z"
   },
   {
    "duration": 9,
    "start_time": "2022-03-10T09:16:04.404Z"
   },
   {
    "duration": 5,
    "start_time": "2022-03-10T09:20:49.138Z"
   },
   {
    "duration": 360,
    "start_time": "2022-03-10T09:27:16.318Z"
   },
   {
    "duration": 335,
    "start_time": "2022-03-10T09:27:28.219Z"
   },
   {
    "duration": 183,
    "start_time": "2022-03-10T09:27:44.811Z"
   },
   {
    "duration": 179,
    "start_time": "2022-03-10T09:29:08.782Z"
   },
   {
    "duration": 287,
    "start_time": "2022-03-10T09:30:07.860Z"
   },
   {
    "duration": 5,
    "start_time": "2022-03-10T09:41:10.200Z"
   },
   {
    "duration": 8,
    "start_time": "2022-03-10T10:00:55.990Z"
   },
   {
    "duration": 8,
    "start_time": "2022-03-10T10:01:26.530Z"
   },
   {
    "duration": 6,
    "start_time": "2022-03-10T10:02:37.149Z"
   },
   {
    "duration": 10,
    "start_time": "2022-03-10T10:03:57.862Z"
   },
   {
    "duration": 61,
    "start_time": "2022-03-10T10:04:54.975Z"
   },
   {
    "duration": 59,
    "start_time": "2022-03-10T10:15:36.851Z"
   },
   {
    "duration": 61,
    "start_time": "2022-03-10T10:16:45.848Z"
   },
   {
    "duration": 19,
    "start_time": "2022-03-10T10:20:25.637Z"
   },
   {
    "duration": 69,
    "start_time": "2022-03-10T10:22:56.039Z"
   },
   {
    "duration": 20,
    "start_time": "2022-03-10T10:23:02.888Z"
   },
   {
    "duration": 152,
    "start_time": "2022-03-10T10:25:24.037Z"
   },
   {
    "duration": 3999,
    "start_time": "2022-03-10T10:25:40.916Z"
   },
   {
    "duration": 74,
    "start_time": "2022-03-10T10:26:04.376Z"
   },
   {
    "duration": 27,
    "start_time": "2022-03-10T10:29:07.973Z"
   },
   {
    "duration": 28,
    "start_time": "2022-03-10T10:29:16.205Z"
   },
   {
    "duration": 1093,
    "start_time": "2022-03-10T12:53:34.900Z"
   },
   {
    "duration": 12,
    "start_time": "2022-03-10T12:53:35.995Z"
   },
   {
    "duration": 17,
    "start_time": "2022-03-10T12:53:36.010Z"
   },
   {
    "duration": 11,
    "start_time": "2022-03-10T12:53:36.029Z"
   },
   {
    "duration": 10,
    "start_time": "2022-03-10T12:53:36.042Z"
   },
   {
    "duration": 8,
    "start_time": "2022-03-10T12:53:36.054Z"
   },
   {
    "duration": 16,
    "start_time": "2022-03-10T12:53:36.064Z"
   },
   {
    "duration": 33,
    "start_time": "2022-03-10T12:53:36.082Z"
   },
   {
    "duration": 13,
    "start_time": "2022-03-10T12:53:36.118Z"
   },
   {
    "duration": 12,
    "start_time": "2022-03-10T12:53:36.133Z"
   },
   {
    "duration": 13,
    "start_time": "2022-03-10T12:53:36.148Z"
   },
   {
    "duration": 21,
    "start_time": "2022-03-10T12:53:36.164Z"
   },
   {
    "duration": 9,
    "start_time": "2022-03-10T12:53:36.187Z"
   },
   {
    "duration": 10,
    "start_time": "2022-03-10T12:53:36.198Z"
   },
   {
    "duration": 36,
    "start_time": "2022-03-10T12:53:36.210Z"
   },
   {
    "duration": 11,
    "start_time": "2022-03-10T12:53:36.248Z"
   },
   {
    "duration": 19,
    "start_time": "2022-03-10T12:53:36.261Z"
   },
   {
    "duration": 20,
    "start_time": "2022-03-10T12:53:36.281Z"
   },
   {
    "duration": 194,
    "start_time": "2022-03-10T12:53:36.303Z"
   },
   {
    "duration": 8,
    "start_time": "2022-03-10T12:53:36.499Z"
   },
   {
    "duration": 164,
    "start_time": "2022-03-10T12:53:36.509Z"
   },
   {
    "duration": 11,
    "start_time": "2022-03-10T12:53:36.675Z"
   },
   {
    "duration": 14,
    "start_time": "2022-03-10T12:53:36.689Z"
   },
   {
    "duration": 8,
    "start_time": "2022-03-10T12:53:36.705Z"
   },
   {
    "duration": 229,
    "start_time": "2022-03-10T12:53:36.737Z"
   },
   {
    "duration": 227,
    "start_time": "2022-03-10T12:53:36.968Z"
   },
   {
    "duration": 14,
    "start_time": "2022-03-10T12:53:37.198Z"
   },
   {
    "duration": 333,
    "start_time": "2022-03-10T12:53:37.214Z"
   },
   {
    "duration": 233,
    "start_time": "2022-03-10T12:53:37.549Z"
   },
   {
    "duration": 294,
    "start_time": "2022-03-10T12:53:37.784Z"
   },
   {
    "duration": 9,
    "start_time": "2022-03-10T12:53:38.080Z"
   },
   {
    "duration": 114,
    "start_time": "2022-03-10T12:53:38.091Z"
   },
   {
    "duration": 8,
    "start_time": "2022-03-10T12:53:38.207Z"
   },
   {
    "duration": 215,
    "start_time": "2022-03-10T12:53:38.216Z"
   },
   {
    "duration": 318,
    "start_time": "2022-03-10T12:53:38.437Z"
   },
   {
    "duration": 6,
    "start_time": "2022-03-10T12:53:38.757Z"
   },
   {
    "duration": 217,
    "start_time": "2022-03-10T12:53:38.764Z"
   },
   {
    "duration": 410,
    "start_time": "2022-03-10T12:53:38.983Z"
   },
   {
    "duration": 5,
    "start_time": "2022-03-10T12:53:39.395Z"
   },
   {
    "duration": 11,
    "start_time": "2022-03-10T12:53:39.401Z"
   },
   {
    "duration": 28,
    "start_time": "2022-03-10T12:53:39.414Z"
   },
   {
    "duration": 68,
    "start_time": "2022-03-10T12:53:39.444Z"
   },
   {
    "duration": 73,
    "start_time": "2022-03-10T12:53:39.513Z"
   },
   {
    "duration": 23,
    "start_time": "2022-03-10T12:53:39.588Z"
   },
   {
    "duration": 88,
    "start_time": "2022-03-10T12:53:39.613Z"
   },
   {
    "duration": 94,
    "start_time": "2022-03-10T12:53:39.703Z"
   },
   {
    "duration": 46,
    "start_time": "2022-03-10T12:53:39.799Z"
   },
   {
    "duration": 65,
    "start_time": "2022-03-10T12:58:10.043Z"
   },
   {
    "duration": 64,
    "start_time": "2022-03-10T12:58:22.888Z"
   },
   {
    "duration": 65,
    "start_time": "2022-03-10T12:59:14.497Z"
   },
   {
    "duration": 43,
    "start_time": "2022-03-10T13:10:21.040Z"
   },
   {
    "duration": 51,
    "start_time": "2022-03-10T13:10:35.479Z"
   },
   {
    "duration": 45,
    "start_time": "2022-03-10T13:10:43.139Z"
   },
   {
    "duration": 9,
    "start_time": "2022-03-10T13:10:55.929Z"
   },
   {
    "duration": 7,
    "start_time": "2022-03-10T13:11:16.724Z"
   },
   {
    "duration": 8,
    "start_time": "2022-03-10T13:11:34.706Z"
   },
   {
    "duration": 10,
    "start_time": "2022-03-10T13:11:54.791Z"
   },
   {
    "duration": 259,
    "start_time": "2022-03-10T13:20:35.522Z"
   },
   {
    "duration": 7,
    "start_time": "2022-03-10T13:20:57.087Z"
   },
   {
    "duration": 67,
    "start_time": "2022-03-10T13:32:04.942Z"
   },
   {
    "duration": 57,
    "start_time": "2022-03-10T13:33:30.000Z"
   },
   {
    "duration": 62,
    "start_time": "2022-03-10T13:35:27.321Z"
   },
   {
    "duration": 45,
    "start_time": "2022-03-10T13:36:32.587Z"
   },
   {
    "duration": 59,
    "start_time": "2022-03-10T13:36:39.782Z"
   },
   {
    "duration": 128,
    "start_time": "2022-03-10T13:38:22.931Z"
   },
   {
    "duration": 147,
    "start_time": "2022-03-10T13:38:33.445Z"
   },
   {
    "duration": 10,
    "start_time": "2022-03-10T13:38:54.639Z"
   },
   {
    "duration": 140,
    "start_time": "2022-03-10T14:25:19.841Z"
   },
   {
    "duration": 178,
    "start_time": "2022-03-10T14:25:57.941Z"
   },
   {
    "duration": 13,
    "start_time": "2022-03-10T14:26:17.615Z"
   },
   {
    "duration": 8,
    "start_time": "2022-03-10T14:32:31.095Z"
   },
   {
    "duration": 7,
    "start_time": "2022-03-10T14:33:23.389Z"
   },
   {
    "duration": 13,
    "start_time": "2022-03-10T14:40:39.779Z"
   },
   {
    "duration": 1026,
    "start_time": "2022-03-11T07:56:08.766Z"
   },
   {
    "duration": 17,
    "start_time": "2022-03-11T07:56:09.794Z"
   },
   {
    "duration": 26,
    "start_time": "2022-03-11T07:56:09.813Z"
   },
   {
    "duration": 14,
    "start_time": "2022-03-11T07:56:09.841Z"
   },
   {
    "duration": 14,
    "start_time": "2022-03-11T07:56:09.856Z"
   },
   {
    "duration": 14,
    "start_time": "2022-03-11T07:56:09.872Z"
   },
   {
    "duration": 21,
    "start_time": "2022-03-11T07:56:09.888Z"
   },
   {
    "duration": 45,
    "start_time": "2022-03-11T07:56:09.911Z"
   },
   {
    "duration": 11,
    "start_time": "2022-03-11T07:56:09.958Z"
   },
   {
    "duration": 12,
    "start_time": "2022-03-11T07:56:09.970Z"
   },
   {
    "duration": 12,
    "start_time": "2022-03-11T07:56:09.983Z"
   },
   {
    "duration": 19,
    "start_time": "2022-03-11T07:56:09.997Z"
   },
   {
    "duration": 10,
    "start_time": "2022-03-11T07:56:10.018Z"
   },
   {
    "duration": 11,
    "start_time": "2022-03-11T07:56:10.029Z"
   },
   {
    "duration": 11,
    "start_time": "2022-03-11T07:56:10.042Z"
   },
   {
    "duration": 6,
    "start_time": "2022-03-11T07:56:10.055Z"
   },
   {
    "duration": 9,
    "start_time": "2022-03-11T07:56:10.063Z"
   },
   {
    "duration": 11,
    "start_time": "2022-03-11T07:56:10.073Z"
   },
   {
    "duration": 197,
    "start_time": "2022-03-11T07:56:10.085Z"
   },
   {
    "duration": 8,
    "start_time": "2022-03-11T07:56:10.283Z"
   },
   {
    "duration": 154,
    "start_time": "2022-03-11T07:56:10.293Z"
   },
   {
    "duration": 6,
    "start_time": "2022-03-11T07:56:10.449Z"
   },
   {
    "duration": 13,
    "start_time": "2022-03-11T07:56:10.459Z"
   },
   {
    "duration": 8,
    "start_time": "2022-03-11T07:56:10.474Z"
   },
   {
    "duration": 230,
    "start_time": "2022-03-11T07:56:10.484Z"
   },
   {
    "duration": 223,
    "start_time": "2022-03-11T07:56:10.715Z"
   },
   {
    "duration": 13,
    "start_time": "2022-03-11T07:56:10.940Z"
   },
   {
    "duration": 299,
    "start_time": "2022-03-11T07:56:10.955Z"
   },
   {
    "duration": 224,
    "start_time": "2022-03-11T07:56:11.256Z"
   },
   {
    "duration": 279,
    "start_time": "2022-03-11T07:56:11.482Z"
   },
   {
    "duration": 9,
    "start_time": "2022-03-11T07:56:11.763Z"
   },
   {
    "duration": 226,
    "start_time": "2022-03-11T07:56:11.774Z"
   },
   {
    "duration": 8,
    "start_time": "2022-03-11T07:56:12.002Z"
   },
   {
    "duration": 208,
    "start_time": "2022-03-11T07:56:12.012Z"
   },
   {
    "duration": 338,
    "start_time": "2022-03-11T07:56:12.222Z"
   },
   {
    "duration": 5,
    "start_time": "2022-03-11T07:56:12.563Z"
   },
   {
    "duration": 202,
    "start_time": "2022-03-11T07:56:12.570Z"
   },
   {
    "duration": 381,
    "start_time": "2022-03-11T07:56:12.774Z"
   },
   {
    "duration": 6,
    "start_time": "2022-03-11T07:56:13.157Z"
   },
   {
    "duration": 10,
    "start_time": "2022-03-11T07:56:13.165Z"
   },
   {
    "duration": 14,
    "start_time": "2022-03-11T07:56:13.177Z"
   },
   {
    "duration": 77,
    "start_time": "2022-03-11T07:56:13.193Z"
   },
   {
    "duration": 79,
    "start_time": "2022-03-11T07:56:13.272Z"
   },
   {
    "duration": 19,
    "start_time": "2022-03-11T07:56:13.353Z"
   },
   {
    "duration": 78,
    "start_time": "2022-03-11T07:56:13.374Z"
   },
   {
    "duration": 90,
    "start_time": "2022-03-11T07:56:13.454Z"
   },
   {
    "duration": 29,
    "start_time": "2022-03-11T07:56:13.546Z"
   },
   {
    "duration": 72,
    "start_time": "2022-03-11T07:56:13.577Z"
   },
   {
    "duration": 59,
    "start_time": "2022-03-11T07:56:13.651Z"
   },
   {
    "duration": 28,
    "start_time": "2022-03-11T07:56:13.711Z"
   },
   {
    "duration": 9,
    "start_time": "2022-03-11T07:56:13.740Z"
   },
   {
    "duration": 9,
    "start_time": "2022-03-11T07:56:13.751Z"
   },
   {
    "duration": 11,
    "start_time": "2022-03-11T07:56:13.762Z"
   },
   {
    "duration": 7,
    "start_time": "2022-03-11T07:56:13.775Z"
   },
   {
    "duration": 8,
    "start_time": "2022-03-11T07:56:13.784Z"
   },
   {
    "duration": 54,
    "start_time": "2022-03-11T07:56:13.793Z"
   },
   {
    "duration": 3,
    "start_time": "2022-03-11T07:56:13.849Z"
   },
   {
    "duration": 4,
    "start_time": "2022-03-11T07:59:25.484Z"
   },
   {
    "duration": 10,
    "start_time": "2022-03-11T07:59:27.094Z"
   },
   {
    "duration": 1025,
    "start_time": "2022-03-11T07:59:40.257Z"
   },
   {
    "duration": 17,
    "start_time": "2022-03-11T07:59:42.009Z"
   },
   {
    "duration": 11,
    "start_time": "2022-03-11T07:59:43.325Z"
   },
   {
    "duration": 10,
    "start_time": "2022-03-11T07:59:44.955Z"
   },
   {
    "duration": 10,
    "start_time": "2022-03-11T07:59:45.792Z"
   },
   {
    "duration": 4,
    "start_time": "2022-03-11T07:59:57.533Z"
   },
   {
    "duration": 11,
    "start_time": "2022-03-11T07:59:58.096Z"
   },
   {
    "duration": 21,
    "start_time": "2022-03-11T08:01:59.830Z"
   },
   {
    "duration": 11,
    "start_time": "2022-03-11T08:02:01.810Z"
   },
   {
    "duration": 8,
    "start_time": "2022-03-11T08:02:02.193Z"
   },
   {
    "duration": 7,
    "start_time": "2022-03-11T08:02:03.379Z"
   },
   {
    "duration": 15,
    "start_time": "2022-03-11T08:02:06.657Z"
   },
   {
    "duration": 8,
    "start_time": "2022-03-11T08:02:08.390Z"
   },
   {
    "duration": 6,
    "start_time": "2022-03-11T08:02:08.940Z"
   },
   {
    "duration": 11,
    "start_time": "2022-03-11T08:02:16.111Z"
   },
   {
    "duration": 7,
    "start_time": "2022-03-11T08:02:26.745Z"
   },
   {
    "duration": 7,
    "start_time": "2022-03-11T08:02:32.751Z"
   },
   {
    "duration": 8,
    "start_time": "2022-03-11T08:02:33.382Z"
   },
   {
    "duration": 175,
    "start_time": "2022-03-11T08:03:42.882Z"
   },
   {
    "duration": 8,
    "start_time": "2022-03-11T08:03:43.326Z"
   },
   {
    "duration": 161,
    "start_time": "2022-03-11T08:04:00.017Z"
   },
   {
    "duration": 8,
    "start_time": "2022-03-11T08:04:01.119Z"
   },
   {
    "duration": 13,
    "start_time": "2022-03-11T08:04:04.097Z"
   },
   {
    "duration": 7,
    "start_time": "2022-03-11T08:04:10.787Z"
   },
   {
    "duration": 204,
    "start_time": "2022-03-11T08:04:12.516Z"
   },
   {
    "duration": 199,
    "start_time": "2022-03-11T08:05:44.653Z"
   },
   {
    "duration": 11,
    "start_time": "2022-03-11T08:06:41.815Z"
   },
   {
    "duration": 309,
    "start_time": "2022-03-11T08:06:59.233Z"
   },
   {
    "duration": 207,
    "start_time": "2022-03-11T08:07:17.775Z"
   },
   {
    "duration": 324,
    "start_time": "2022-03-11T08:09:02.931Z"
   },
   {
    "duration": 212,
    "start_time": "2022-03-11T08:09:54.013Z"
   },
   {
    "duration": 215,
    "start_time": "2022-03-11T08:10:17.457Z"
   },
   {
    "duration": 267,
    "start_time": "2022-03-11T08:10:47.583Z"
   },
   {
    "duration": 287,
    "start_time": "2022-03-11T08:11:11.876Z"
   },
   {
    "duration": 311,
    "start_time": "2022-03-11T08:11:39.304Z"
   },
   {
    "duration": 189,
    "start_time": "2022-03-11T08:13:16.240Z"
   },
   {
    "duration": 295,
    "start_time": "2022-03-11T08:13:20.149Z"
   },
   {
    "duration": 8,
    "start_time": "2022-03-11T08:14:15.263Z"
   },
   {
    "duration": 9,
    "start_time": "2022-03-11T08:14:21.783Z"
   },
   {
    "duration": 63,
    "start_time": "2022-03-11T08:14:37.949Z"
   },
   {
    "duration": 62,
    "start_time": "2022-03-11T08:14:41.809Z"
   },
   {
    "duration": 20,
    "start_time": "2022-03-11T08:15:02.271Z"
   },
   {
    "duration": 67,
    "start_time": "2022-03-11T08:15:20.110Z"
   },
   {
    "duration": 74,
    "start_time": "2022-03-11T08:15:22.406Z"
   },
   {
    "duration": 29,
    "start_time": "2022-03-11T08:15:24.910Z"
   },
   {
    "duration": 53,
    "start_time": "2022-03-11T08:15:38.118Z"
   },
   {
    "duration": 62,
    "start_time": "2022-03-11T08:15:54.858Z"
   },
   {
    "duration": 8,
    "start_time": "2022-03-11T08:21:38.582Z"
   },
   {
    "duration": 9,
    "start_time": "2022-03-11T08:21:40.133Z"
   },
   {
    "duration": 9,
    "start_time": "2022-03-11T08:21:48.057Z"
   },
   {
    "duration": 12,
    "start_time": "2022-03-11T08:21:52.638Z"
   },
   {
    "duration": 8,
    "start_time": "2022-03-11T08:22:26.169Z"
   },
   {
    "duration": 8,
    "start_time": "2022-03-11T08:22:29.643Z"
   },
   {
    "duration": 14,
    "start_time": "2022-03-11T08:24:13.993Z"
   },
   {
    "duration": 3,
    "start_time": "2022-03-11T08:58:57.982Z"
   },
   {
    "duration": 16,
    "start_time": "2022-03-11T08:58:59.100Z"
   },
   {
    "duration": 8,
    "start_time": "2022-03-11T08:58:59.400Z"
   },
   {
    "duration": 5,
    "start_time": "2022-03-11T08:59:01.171Z"
   },
   {
    "duration": 11,
    "start_time": "2022-03-11T08:59:01.561Z"
   },
   {
    "duration": 5,
    "start_time": "2022-03-11T08:59:03.024Z"
   },
   {
    "duration": 11,
    "start_time": "2022-03-11T08:59:03.325Z"
   },
   {
    "duration": 37,
    "start_time": "2022-03-11T08:59:05.080Z"
   },
   {
    "duration": 11,
    "start_time": "2022-03-11T08:59:06.018Z"
   },
   {
    "duration": 7,
    "start_time": "2022-03-11T08:59:06.312Z"
   },
   {
    "duration": 8,
    "start_time": "2022-03-11T08:59:06.760Z"
   },
   {
    "duration": 14,
    "start_time": "2022-03-11T08:59:08.585Z"
   },
   {
    "duration": 7,
    "start_time": "2022-03-11T08:59:08.937Z"
   },
   {
    "duration": 7,
    "start_time": "2022-03-11T08:59:10.018Z"
   },
   {
    "duration": 10,
    "start_time": "2022-03-11T08:59:11.615Z"
   },
   {
    "duration": 8,
    "start_time": "2022-03-11T08:59:15.011Z"
   },
   {
    "duration": 20,
    "start_time": "2022-03-11T08:59:15.021Z"
   },
   {
    "duration": 16,
    "start_time": "2022-03-11T08:59:15.044Z"
   },
   {
    "duration": 182,
    "start_time": "2022-03-11T08:59:16.461Z"
   },
   {
    "duration": 9,
    "start_time": "2022-03-11T08:59:18.011Z"
   },
   {
    "duration": 148,
    "start_time": "2022-03-11T08:59:18.757Z"
   },
   {
    "duration": 8,
    "start_time": "2022-03-11T08:59:19.107Z"
   },
   {
    "duration": 14,
    "start_time": "2022-03-11T08:59:20.516Z"
   },
   {
    "duration": 8,
    "start_time": "2022-03-11T08:59:21.999Z"
   },
   {
    "duration": 214,
    "start_time": "2022-03-11T08:59:22.288Z"
   },
   {
    "duration": 210,
    "start_time": "2022-03-11T08:59:23.926Z"
   },
   {
    "duration": 1011,
    "start_time": "2022-03-11T08:59:49.293Z"
   },
   {
    "duration": 12,
    "start_time": "2022-03-11T08:59:50.306Z"
   },
   {
    "duration": 14,
    "start_time": "2022-03-11T08:59:50.320Z"
   },
   {
    "duration": 9,
    "start_time": "2022-03-11T08:59:50.338Z"
   },
   {
    "duration": 14,
    "start_time": "2022-03-11T08:59:50.349Z"
   },
   {
    "duration": 5,
    "start_time": "2022-03-11T08:59:50.365Z"
   },
   {
    "duration": 12,
    "start_time": "2022-03-11T08:59:50.372Z"
   },
   {
    "duration": 33,
    "start_time": "2022-03-11T08:59:50.387Z"
   },
   {
    "duration": 11,
    "start_time": "2022-03-11T08:59:50.422Z"
   },
   {
    "duration": 12,
    "start_time": "2022-03-11T08:59:50.434Z"
   },
   {
    "duration": 9,
    "start_time": "2022-03-11T08:59:50.448Z"
   },
   {
    "duration": 15,
    "start_time": "2022-03-11T08:59:50.459Z"
   },
   {
    "duration": 17,
    "start_time": "2022-03-11T08:59:50.476Z"
   },
   {
    "duration": 11,
    "start_time": "2022-03-11T08:59:50.495Z"
   },
   {
    "duration": 12,
    "start_time": "2022-03-11T08:59:50.508Z"
   },
   {
    "duration": 20,
    "start_time": "2022-03-11T08:59:50.522Z"
   },
   {
    "duration": 12,
    "start_time": "2022-03-11T08:59:50.544Z"
   },
   {
    "duration": 11,
    "start_time": "2022-03-11T08:59:50.558Z"
   },
   {
    "duration": 205,
    "start_time": "2022-03-11T08:59:50.572Z"
   },
   {
    "duration": 9,
    "start_time": "2022-03-11T08:59:50.779Z"
   },
   {
    "duration": 181,
    "start_time": "2022-03-11T08:59:50.790Z"
   },
   {
    "duration": 17,
    "start_time": "2022-03-11T08:59:50.972Z"
   },
   {
    "duration": 25,
    "start_time": "2022-03-11T08:59:50.992Z"
   },
   {
    "duration": 18,
    "start_time": "2022-03-11T08:59:51.020Z"
   },
   {
    "duration": 249,
    "start_time": "2022-03-11T08:59:51.040Z"
   },
   {
    "duration": 237,
    "start_time": "2022-03-11T08:59:51.290Z"
   },
   {
    "duration": 18,
    "start_time": "2022-03-11T08:59:51.530Z"
   },
   {
    "duration": 345,
    "start_time": "2022-03-11T08:59:51.550Z"
   },
   {
    "duration": 254,
    "start_time": "2022-03-11T08:59:51.897Z"
   },
   {
    "duration": 323,
    "start_time": "2022-03-11T08:59:52.154Z"
   },
   {
    "duration": 8,
    "start_time": "2022-03-11T08:59:52.479Z"
   },
   {
    "duration": 107,
    "start_time": "2022-03-11T08:59:52.489Z"
   },
   {
    "duration": 7,
    "start_time": "2022-03-11T08:59:52.598Z"
   },
   {
    "duration": 209,
    "start_time": "2022-03-11T08:59:52.607Z"
   },
   {
    "duration": 326,
    "start_time": "2022-03-11T08:59:52.817Z"
   },
   {
    "duration": 5,
    "start_time": "2022-03-11T08:59:53.145Z"
   },
   {
    "duration": 208,
    "start_time": "2022-03-11T08:59:53.152Z"
   },
   {
    "duration": 392,
    "start_time": "2022-03-11T08:59:53.362Z"
   },
   {
    "duration": 7,
    "start_time": "2022-03-11T08:59:53.756Z"
   },
   {
    "duration": 21,
    "start_time": "2022-03-11T08:59:53.765Z"
   },
   {
    "duration": 16,
    "start_time": "2022-03-11T08:59:53.788Z"
   },
   {
    "duration": 78,
    "start_time": "2022-03-11T08:59:53.806Z"
   },
   {
    "duration": 73,
    "start_time": "2022-03-11T08:59:53.886Z"
   },
   {
    "duration": 24,
    "start_time": "2022-03-11T08:59:53.960Z"
   },
   {
    "duration": 82,
    "start_time": "2022-03-11T08:59:53.986Z"
   },
   {
    "duration": 92,
    "start_time": "2022-03-11T08:59:54.071Z"
   },
   {
    "duration": 34,
    "start_time": "2022-03-11T08:59:54.165Z"
   },
   {
    "duration": 87,
    "start_time": "2022-03-11T08:59:54.201Z"
   },
   {
    "duration": 95,
    "start_time": "2022-03-11T08:59:54.289Z"
   },
   {
    "duration": 9,
    "start_time": "2022-03-11T08:59:54.386Z"
   },
   {
    "duration": 12,
    "start_time": "2022-03-11T08:59:54.396Z"
   },
   {
    "duration": 36,
    "start_time": "2022-03-11T08:59:54.410Z"
   },
   {
    "duration": 28,
    "start_time": "2022-03-11T08:59:54.448Z"
   },
   {
    "duration": 28,
    "start_time": "2022-03-11T08:59:54.478Z"
   },
   {
    "duration": 33,
    "start_time": "2022-03-11T08:59:54.508Z"
   },
   {
    "duration": 14,
    "start_time": "2022-03-11T08:59:54.543Z"
   },
   {
    "duration": 228,
    "start_time": "2022-03-11T09:00:20.572Z"
   },
   {
    "duration": 1049,
    "start_time": "2022-03-11T09:00:38.903Z"
   },
   {
    "duration": 12,
    "start_time": "2022-03-11T09:00:39.954Z"
   },
   {
    "duration": 15,
    "start_time": "2022-03-11T09:00:39.968Z"
   },
   {
    "duration": 6,
    "start_time": "2022-03-11T09:00:39.985Z"
   },
   {
    "duration": 14,
    "start_time": "2022-03-11T09:00:39.993Z"
   },
   {
    "duration": 11,
    "start_time": "2022-03-11T09:00:40.009Z"
   },
   {
    "duration": 23,
    "start_time": "2022-03-11T09:00:40.022Z"
   },
   {
    "duration": 41,
    "start_time": "2022-03-11T09:00:40.047Z"
   },
   {
    "duration": 12,
    "start_time": "2022-03-11T09:00:40.091Z"
   },
   {
    "duration": 11,
    "start_time": "2022-03-11T09:00:40.105Z"
   },
   {
    "duration": 9,
    "start_time": "2022-03-11T09:00:40.118Z"
   },
   {
    "duration": 15,
    "start_time": "2022-03-11T09:00:40.129Z"
   },
   {
    "duration": 9,
    "start_time": "2022-03-11T09:00:40.146Z"
   },
   {
    "duration": 6,
    "start_time": "2022-03-11T09:00:40.157Z"
   },
   {
    "duration": 14,
    "start_time": "2022-03-11T09:00:40.165Z"
   },
   {
    "duration": 7,
    "start_time": "2022-03-11T09:00:40.181Z"
   },
   {
    "duration": 7,
    "start_time": "2022-03-11T09:00:40.189Z"
   },
   {
    "duration": 10,
    "start_time": "2022-03-11T09:00:40.198Z"
   },
   {
    "duration": 213,
    "start_time": "2022-03-11T09:00:40.209Z"
   },
   {
    "duration": 15,
    "start_time": "2022-03-11T09:00:40.423Z"
   },
   {
    "duration": 165,
    "start_time": "2022-03-11T09:00:40.439Z"
   },
   {
    "duration": 7,
    "start_time": "2022-03-11T09:00:40.605Z"
   },
   {
    "duration": 31,
    "start_time": "2022-03-11T09:00:40.616Z"
   },
   {
    "duration": 14,
    "start_time": "2022-03-11T09:00:40.649Z"
   },
   {
    "duration": 223,
    "start_time": "2022-03-11T09:00:40.665Z"
   },
   {
    "duration": 227,
    "start_time": "2022-03-11T09:00:40.889Z"
   },
   {
    "duration": 19,
    "start_time": "2022-03-11T09:00:41.118Z"
   },
   {
    "duration": 333,
    "start_time": "2022-03-11T09:00:41.139Z"
   },
   {
    "duration": 216,
    "start_time": "2022-03-11T09:00:41.474Z"
   },
   {
    "duration": 315,
    "start_time": "2022-03-11T09:00:41.692Z"
   },
   {
    "duration": 8,
    "start_time": "2022-03-11T09:00:42.009Z"
   },
   {
    "duration": 94,
    "start_time": "2022-03-11T09:00:42.019Z"
   },
   {
    "duration": 8,
    "start_time": "2022-03-11T09:00:42.115Z"
   },
   {
    "duration": 213,
    "start_time": "2022-03-11T09:00:42.124Z"
   },
   {
    "duration": 323,
    "start_time": "2022-03-11T09:00:42.339Z"
   },
   {
    "duration": 5,
    "start_time": "2022-03-11T09:00:42.664Z"
   },
   {
    "duration": 213,
    "start_time": "2022-03-11T09:00:42.671Z"
   },
   {
    "duration": 370,
    "start_time": "2022-03-11T09:00:42.885Z"
   },
   {
    "duration": 5,
    "start_time": "2022-03-11T09:00:43.256Z"
   },
   {
    "duration": 10,
    "start_time": "2022-03-11T09:00:43.263Z"
   },
   {
    "duration": 15,
    "start_time": "2022-03-11T09:00:43.274Z"
   },
   {
    "duration": 78,
    "start_time": "2022-03-11T09:00:43.291Z"
   },
   {
    "duration": 76,
    "start_time": "2022-03-11T09:00:43.371Z"
   },
   {
    "duration": 21,
    "start_time": "2022-03-11T09:00:43.448Z"
   },
   {
    "duration": 79,
    "start_time": "2022-03-11T09:00:43.471Z"
   },
   {
    "duration": 92,
    "start_time": "2022-03-11T09:00:43.551Z"
   },
   {
    "duration": 30,
    "start_time": "2022-03-11T09:00:43.645Z"
   },
   {
    "duration": 73,
    "start_time": "2022-03-11T09:00:43.677Z"
   },
   {
    "duration": 61,
    "start_time": "2022-03-11T09:00:43.752Z"
   },
   {
    "duration": 31,
    "start_time": "2022-03-11T09:00:43.815Z"
   },
   {
    "duration": 12,
    "start_time": "2022-03-11T09:00:43.847Z"
   },
   {
    "duration": 9,
    "start_time": "2022-03-11T09:00:43.861Z"
   },
   {
    "duration": 11,
    "start_time": "2022-03-11T09:00:43.872Z"
   },
   {
    "duration": 12,
    "start_time": "2022-03-11T09:00:43.884Z"
   },
   {
    "duration": 42,
    "start_time": "2022-03-11T09:00:43.897Z"
   },
   {
    "duration": 12,
    "start_time": "2022-03-11T09:00:43.941Z"
   },
   {
    "duration": 1133,
    "start_time": "2022-03-11T18:53:45.631Z"
   },
   {
    "duration": 17,
    "start_time": "2022-03-11T18:53:46.765Z"
   },
   {
    "duration": 14,
    "start_time": "2022-03-11T18:53:46.784Z"
   },
   {
    "duration": 6,
    "start_time": "2022-03-11T18:53:46.800Z"
   },
   {
    "duration": 17,
    "start_time": "2022-03-11T18:53:46.808Z"
   },
   {
    "duration": 10,
    "start_time": "2022-03-11T18:53:46.828Z"
   },
   {
    "duration": 15,
    "start_time": "2022-03-11T18:53:46.839Z"
   },
   {
    "duration": 93,
    "start_time": "2022-03-11T18:53:46.856Z"
   },
   {
    "duration": 16,
    "start_time": "2022-03-11T18:53:46.952Z"
   },
   {
    "duration": 10,
    "start_time": "2022-03-11T18:53:46.970Z"
   },
   {
    "duration": 10,
    "start_time": "2022-03-11T18:53:46.982Z"
   },
   {
    "duration": 17,
    "start_time": "2022-03-11T18:53:46.994Z"
   },
   {
    "duration": 12,
    "start_time": "2022-03-11T18:53:47.013Z"
   },
   {
    "duration": 9,
    "start_time": "2022-03-11T18:53:47.027Z"
   },
   {
    "duration": 12,
    "start_time": "2022-03-11T18:53:47.038Z"
   },
   {
    "duration": 28,
    "start_time": "2022-03-11T18:53:47.052Z"
   },
   {
    "duration": 10,
    "start_time": "2022-03-11T18:53:47.082Z"
   },
   {
    "duration": 13,
    "start_time": "2022-03-11T18:53:47.094Z"
   },
   {
    "duration": 218,
    "start_time": "2022-03-11T18:53:47.109Z"
   },
   {
    "duration": 8,
    "start_time": "2022-03-11T18:53:47.329Z"
   },
   {
    "duration": 176,
    "start_time": "2022-03-11T18:53:47.339Z"
   },
   {
    "duration": 8,
    "start_time": "2022-03-11T18:53:47.517Z"
   },
   {
    "duration": 17,
    "start_time": "2022-03-11T18:53:47.527Z"
   },
   {
    "duration": 10,
    "start_time": "2022-03-11T18:53:47.546Z"
   },
   {
    "duration": 262,
    "start_time": "2022-03-11T18:53:47.558Z"
   },
   {
    "duration": 258,
    "start_time": "2022-03-11T18:53:47.822Z"
   },
   {
    "duration": 14,
    "start_time": "2022-03-11T18:53:48.085Z"
   },
   {
    "duration": 352,
    "start_time": "2022-03-11T18:53:48.101Z"
   },
   {
    "duration": 263,
    "start_time": "2022-03-11T18:53:48.455Z"
   },
   {
    "duration": 323,
    "start_time": "2022-03-11T18:53:48.720Z"
   },
   {
    "duration": 10,
    "start_time": "2022-03-11T18:53:49.046Z"
   },
   {
    "duration": 144,
    "start_time": "2022-03-11T18:53:49.058Z"
   },
   {
    "duration": 10,
    "start_time": "2022-03-11T18:53:49.204Z"
   },
   {
    "duration": 251,
    "start_time": "2022-03-11T18:53:49.216Z"
   },
   {
    "duration": 354,
    "start_time": "2022-03-11T18:53:49.469Z"
   },
   {
    "duration": 5,
    "start_time": "2022-03-11T18:53:49.825Z"
   },
   {
    "duration": 220,
    "start_time": "2022-03-11T18:53:49.832Z"
   },
   {
    "duration": 362,
    "start_time": "2022-03-11T18:53:50.054Z"
   },
   {
    "duration": 5,
    "start_time": "2022-03-11T18:53:50.418Z"
   },
   {
    "duration": 11,
    "start_time": "2022-03-11T18:53:50.425Z"
   },
   {
    "duration": 11,
    "start_time": "2022-03-11T18:53:50.438Z"
   },
   {
    "duration": 83,
    "start_time": "2022-03-11T18:53:50.450Z"
   },
   {
    "duration": 76,
    "start_time": "2022-03-11T18:53:50.535Z"
   },
   {
    "duration": 24,
    "start_time": "2022-03-11T18:53:50.613Z"
   },
   {
    "duration": 83,
    "start_time": "2022-03-11T18:53:50.638Z"
   },
   {
    "duration": 95,
    "start_time": "2022-03-11T18:53:50.723Z"
   },
   {
    "duration": 36,
    "start_time": "2022-03-11T18:53:50.820Z"
   },
   {
    "duration": 77,
    "start_time": "2022-03-11T18:53:50.858Z"
   },
   {
    "duration": 79,
    "start_time": "2022-03-11T18:53:50.938Z"
   },
   {
    "duration": 9,
    "start_time": "2022-03-11T18:53:51.019Z"
   },
   {
    "duration": 9,
    "start_time": "2022-03-11T18:53:51.030Z"
   },
   {
    "duration": 12,
    "start_time": "2022-03-11T18:53:51.040Z"
   },
   {
    "duration": 12,
    "start_time": "2022-03-11T18:53:51.077Z"
   },
   {
    "duration": 10,
    "start_time": "2022-03-11T18:53:51.091Z"
   },
   {
    "duration": 8,
    "start_time": "2022-03-11T18:53:51.103Z"
   },
   {
    "duration": 14,
    "start_time": "2022-03-11T18:53:51.112Z"
   },
   {
    "duration": 679,
    "start_time": "2022-03-11T18:58:35.726Z"
   },
   {
    "duration": 435,
    "start_time": "2022-03-11T18:58:55.547Z"
   },
   {
    "duration": 101,
    "start_time": "2022-03-11T18:59:15.596Z"
   },
   {
    "duration": 5,
    "start_time": "2022-03-11T19:09:49.064Z"
   },
   {
    "duration": 276,
    "start_time": "2022-03-11T19:11:18.234Z"
   },
   {
    "duration": 5,
    "start_time": "2022-03-11T19:12:02.692Z"
   },
   {
    "duration": 6,
    "start_time": "2022-03-11T19:12:11.502Z"
   },
   {
    "duration": 96,
    "start_time": "2022-03-11T19:12:37.102Z"
   },
   {
    "duration": 4,
    "start_time": "2022-03-11T19:12:40.224Z"
   },
   {
    "duration": 4,
    "start_time": "2022-03-11T19:12:51.925Z"
   },
   {
    "duration": 4,
    "start_time": "2022-03-11T19:12:56.878Z"
   },
   {
    "duration": 1033,
    "start_time": "2022-03-12T10:59:10.590Z"
   },
   {
    "duration": 12,
    "start_time": "2022-03-12T10:59:12.543Z"
   },
   {
    "duration": 12,
    "start_time": "2022-03-12T10:59:14.079Z"
   },
   {
    "duration": 6,
    "start_time": "2022-03-12T10:59:23.872Z"
   },
   {
    "duration": 10,
    "start_time": "2022-03-12T10:59:24.961Z"
   },
   {
    "duration": 5,
    "start_time": "2022-03-12T10:59:35.189Z"
   },
   {
    "duration": 12,
    "start_time": "2022-03-12T10:59:35.687Z"
   },
   {
    "duration": 86,
    "start_time": "2022-03-12T11:00:25.329Z"
   },
   {
    "duration": 369,
    "start_time": "2022-03-12T11:01:08.932Z"
   },
   {
    "duration": 1169,
    "start_time": "2022-03-12T11:09:25.570Z"
   },
   {
    "duration": 17,
    "start_time": "2022-03-12T11:09:26.740Z"
   },
   {
    "duration": 13,
    "start_time": "2022-03-12T11:09:26.759Z"
   },
   {
    "duration": 7,
    "start_time": "2022-03-12T11:09:26.774Z"
   },
   {
    "duration": 10,
    "start_time": "2022-03-12T11:09:26.783Z"
   },
   {
    "duration": 7,
    "start_time": "2022-03-12T11:09:26.795Z"
   },
   {
    "duration": 15,
    "start_time": "2022-03-12T11:09:26.804Z"
   },
   {
    "duration": 430,
    "start_time": "2022-03-12T11:09:26.821Z"
   },
   {
    "duration": 21,
    "start_time": "2022-03-12T11:09:27.254Z"
   },
   {
    "duration": 11,
    "start_time": "2022-03-12T11:09:27.277Z"
   },
   {
    "duration": 9,
    "start_time": "2022-03-12T11:09:27.290Z"
   },
   {
    "duration": 8,
    "start_time": "2022-03-12T11:09:27.301Z"
   },
   {
    "duration": 15,
    "start_time": "2022-03-12T11:09:27.311Z"
   },
   {
    "duration": 7,
    "start_time": "2022-03-12T11:09:27.328Z"
   },
   {
    "duration": 21,
    "start_time": "2022-03-12T11:09:27.337Z"
   },
   {
    "duration": 13,
    "start_time": "2022-03-12T11:09:27.360Z"
   },
   {
    "duration": 8,
    "start_time": "2022-03-12T11:09:27.374Z"
   },
   {
    "duration": 6,
    "start_time": "2022-03-12T11:09:27.384Z"
   },
   {
    "duration": 9,
    "start_time": "2022-03-12T11:09:27.391Z"
   },
   {
    "duration": 221,
    "start_time": "2022-03-12T11:09:27.401Z"
   },
   {
    "duration": 8,
    "start_time": "2022-03-12T11:09:27.624Z"
   },
   {
    "duration": 172,
    "start_time": "2022-03-12T11:09:27.634Z"
   },
   {
    "duration": 7,
    "start_time": "2022-03-12T11:09:27.809Z"
   },
   {
    "duration": 13,
    "start_time": "2022-03-12T11:09:27.818Z"
   },
   {
    "duration": 8,
    "start_time": "2022-03-12T11:09:34.060Z"
   },
   {
    "duration": 611,
    "start_time": "2022-03-12T11:12:08.194Z"
   },
   {
    "duration": 501,
    "start_time": "2022-03-12T11:12:43.912Z"
   },
   {
    "duration": 280,
    "start_time": "2022-03-12T11:13:06.650Z"
   },
   {
    "duration": 277,
    "start_time": "2022-03-12T11:13:44.625Z"
   },
   {
    "duration": 337,
    "start_time": "2022-03-12T11:13:49.137Z"
   },
   {
    "duration": 293,
    "start_time": "2022-03-12T11:14:02.576Z"
   },
   {
    "duration": 210,
    "start_time": "2022-03-12T11:15:41.688Z"
   },
   {
    "duration": 273,
    "start_time": "2022-03-12T11:16:46.750Z"
   },
   {
    "duration": 285,
    "start_time": "2022-03-12T11:17:06.451Z"
   },
   {
    "duration": 13,
    "start_time": "2022-03-12T11:17:19.252Z"
   },
   {
    "duration": 349,
    "start_time": "2022-03-12T11:24:10.787Z"
   },
   {
    "duration": 293,
    "start_time": "2022-03-12T11:25:13.875Z"
   },
   {
    "duration": 393,
    "start_time": "2022-03-12T11:26:32.335Z"
   },
   {
    "duration": 9,
    "start_time": "2022-03-12T11:27:05.100Z"
   },
   {
    "duration": 106,
    "start_time": "2022-03-12T11:27:08.017Z"
   },
   {
    "duration": 8,
    "start_time": "2022-03-12T11:27:13.762Z"
   },
   {
    "duration": 204,
    "start_time": "2022-03-12T11:27:18.255Z"
   },
   {
    "duration": 217,
    "start_time": "2022-03-12T11:28:13.970Z"
   },
   {
    "duration": 238,
    "start_time": "2022-03-12T11:28:21.021Z"
   },
   {
    "duration": 526,
    "start_time": "2022-03-12T11:36:19.058Z"
   },
   {
    "duration": 509,
    "start_time": "2022-03-12T11:37:45.820Z"
   },
   {
    "duration": 516,
    "start_time": "2022-03-12T11:37:57.234Z"
   },
   {
    "duration": 11,
    "start_time": "2022-03-12T11:44:52.263Z"
   },
   {
    "duration": 6,
    "start_time": "2022-03-12T11:45:07.176Z"
   },
   {
    "duration": 5,
    "start_time": "2022-03-12T11:45:16.639Z"
   },
   {
    "duration": 526,
    "start_time": "2022-03-12T11:49:09.552Z"
   },
   {
    "duration": 499,
    "start_time": "2022-03-12T11:49:21.995Z"
   },
   {
    "duration": 515,
    "start_time": "2022-03-12T11:50:46.956Z"
   },
   {
    "duration": 588,
    "start_time": "2022-03-12T11:52:05.276Z"
   },
   {
    "duration": 506,
    "start_time": "2022-03-12T11:52:15.668Z"
   },
   {
    "duration": 483,
    "start_time": "2022-03-12T11:54:28.988Z"
   },
   {
    "duration": 292,
    "start_time": "2022-03-12T11:55:26.885Z"
   },
   {
    "duration": 305,
    "start_time": "2022-03-12T11:55:48.716Z"
   },
   {
    "duration": 6,
    "start_time": "2022-03-12T12:01:55.103Z"
   },
   {
    "duration": 7,
    "start_time": "2022-03-12T12:01:59.832Z"
   },
   {
    "duration": 10,
    "start_time": "2022-03-12T12:02:02.927Z"
   },
   {
    "duration": 60,
    "start_time": "2022-03-12T12:02:03.478Z"
   },
   {
    "duration": 66,
    "start_time": "2022-03-12T12:02:04.796Z"
   },
   {
    "duration": 20,
    "start_time": "2022-03-12T12:02:06.271Z"
   },
   {
    "duration": 67,
    "start_time": "2022-03-12T12:02:07.317Z"
   },
   {
    "duration": 78,
    "start_time": "2022-03-12T12:02:08.510Z"
   },
   {
    "duration": 30,
    "start_time": "2022-03-12T12:02:10.116Z"
   },
   {
    "duration": 55,
    "start_time": "2022-03-12T12:02:13.935Z"
   },
   {
    "duration": 63,
    "start_time": "2022-03-12T12:02:15.130Z"
   },
   {
    "duration": 10,
    "start_time": "2022-03-12T12:02:17.078Z"
   },
   {
    "duration": 8,
    "start_time": "2022-03-12T12:16:07.974Z"
   },
   {
    "duration": 10,
    "start_time": "2022-03-12T12:16:12.525Z"
   },
   {
    "duration": 11,
    "start_time": "2022-03-12T12:21:35.384Z"
   },
   {
    "duration": 12,
    "start_time": "2022-03-12T12:23:39.984Z"
   },
   {
    "duration": 11,
    "start_time": "2022-03-12T12:23:50.057Z"
   },
   {
    "duration": 5,
    "start_time": "2022-03-12T12:24:44.738Z"
   },
   {
    "duration": 6,
    "start_time": "2022-03-12T12:25:45.286Z"
   },
   {
    "duration": 13,
    "start_time": "2022-03-12T12:26:23.284Z"
   },
   {
    "duration": 14,
    "start_time": "2022-03-12T12:26:41.802Z"
   },
   {
    "duration": 9,
    "start_time": "2022-03-12T12:27:21.684Z"
   },
   {
    "duration": 7,
    "start_time": "2022-03-12T12:27:24.092Z"
   },
   {
    "duration": 21,
    "start_time": "2022-03-12T12:29:41.020Z"
   },
   {
    "duration": 1161,
    "start_time": "2022-03-12T12:32:00.852Z"
   },
   {
    "duration": 12,
    "start_time": "2022-03-12T12:32:02.015Z"
   },
   {
    "duration": 15,
    "start_time": "2022-03-12T12:32:02.029Z"
   },
   {
    "duration": 8,
    "start_time": "2022-03-12T12:32:02.046Z"
   },
   {
    "duration": 10,
    "start_time": "2022-03-12T12:32:02.059Z"
   },
   {
    "duration": 5,
    "start_time": "2022-03-12T12:32:02.071Z"
   },
   {
    "duration": 14,
    "start_time": "2022-03-12T12:32:02.078Z"
   },
   {
    "duration": 359,
    "start_time": "2022-03-12T12:32:02.095Z"
   },
   {
    "duration": 22,
    "start_time": "2022-03-12T12:32:02.456Z"
   },
   {
    "duration": 10,
    "start_time": "2022-03-12T12:32:02.480Z"
   },
   {
    "duration": 9,
    "start_time": "2022-03-12T12:32:02.491Z"
   },
   {
    "duration": 7,
    "start_time": "2022-03-12T12:32:02.502Z"
   },
   {
    "duration": 15,
    "start_time": "2022-03-12T12:32:02.511Z"
   },
   {
    "duration": 17,
    "start_time": "2022-03-12T12:32:02.527Z"
   },
   {
    "duration": 8,
    "start_time": "2022-03-12T12:32:02.546Z"
   },
   {
    "duration": 11,
    "start_time": "2022-03-12T12:32:02.559Z"
   },
   {
    "duration": 6,
    "start_time": "2022-03-12T12:32:02.571Z"
   },
   {
    "duration": 7,
    "start_time": "2022-03-12T12:32:02.578Z"
   },
   {
    "duration": 8,
    "start_time": "2022-03-12T12:32:02.587Z"
   },
   {
    "duration": 211,
    "start_time": "2022-03-12T12:32:02.597Z"
   },
   {
    "duration": 8,
    "start_time": "2022-03-12T12:32:02.809Z"
   },
   {
    "duration": 154,
    "start_time": "2022-03-12T12:32:02.819Z"
   },
   {
    "duration": 7,
    "start_time": "2022-03-12T12:32:02.977Z"
   },
   {
    "duration": 14,
    "start_time": "2022-03-12T12:32:02.986Z"
   },
   {
    "duration": 10,
    "start_time": "2022-03-12T12:32:03.001Z"
   },
   {
    "duration": 310,
    "start_time": "2022-03-12T12:32:03.012Z"
   },
   {
    "duration": 297,
    "start_time": "2022-03-12T12:32:03.324Z"
   },
   {
    "duration": 12,
    "start_time": "2022-03-12T12:32:03.623Z"
   },
   {
    "duration": 398,
    "start_time": "2022-03-12T12:32:03.637Z"
   },
   {
    "duration": 290,
    "start_time": "2022-03-12T12:32:04.036Z"
   },
   {
    "duration": 429,
    "start_time": "2022-03-12T12:32:04.327Z"
   },
   {
    "duration": 8,
    "start_time": "2022-03-12T12:32:04.759Z"
   },
   {
    "duration": 117,
    "start_time": "2022-03-12T12:32:04.769Z"
   },
   {
    "duration": 7,
    "start_time": "2022-03-12T12:32:04.888Z"
   },
   {
    "duration": 524,
    "start_time": "2022-03-12T12:32:04.897Z"
   },
   {
    "duration": 5,
    "start_time": "2022-03-12T12:32:05.423Z"
   },
   {
    "duration": 527,
    "start_time": "2022-03-12T12:32:05.429Z"
   },
   {
    "duration": 360,
    "start_time": "2022-03-12T12:32:05.958Z"
   },
   {
    "duration": 5,
    "start_time": "2022-03-12T12:32:06.319Z"
   },
   {
    "duration": 22,
    "start_time": "2022-03-12T12:32:06.326Z"
   },
   {
    "duration": 19,
    "start_time": "2022-03-12T12:32:06.350Z"
   },
   {
    "duration": 70,
    "start_time": "2022-03-12T12:32:06.371Z"
   },
   {
    "duration": 87,
    "start_time": "2022-03-12T12:32:06.443Z"
   },
   {
    "duration": 35,
    "start_time": "2022-03-12T12:32:06.532Z"
   },
   {
    "duration": 86,
    "start_time": "2022-03-12T12:32:06.569Z"
   },
   {
    "duration": 99,
    "start_time": "2022-03-12T12:32:06.657Z"
   },
   {
    "duration": 30,
    "start_time": "2022-03-12T12:32:06.758Z"
   },
   {
    "duration": 70,
    "start_time": "2022-03-12T12:32:06.790Z"
   },
   {
    "duration": 62,
    "start_time": "2022-03-12T12:32:06.862Z"
   },
   {
    "duration": 7,
    "start_time": "2022-03-12T12:32:06.926Z"
   },
   {
    "duration": 8,
    "start_time": "2022-03-12T12:32:06.959Z"
   },
   {
    "duration": 17,
    "start_time": "2022-03-12T12:32:06.969Z"
   },
   {
    "duration": 9,
    "start_time": "2022-03-12T12:32:06.987Z"
   },
   {
    "duration": 8,
    "start_time": "2022-03-12T12:32:06.998Z"
   },
   {
    "duration": 16,
    "start_time": "2022-03-12T12:32:07.007Z"
   },
   {
    "duration": 17,
    "start_time": "2022-03-12T12:32:07.025Z"
   },
   {
    "duration": 23,
    "start_time": "2022-03-12T12:32:07.043Z"
   },
   {
    "duration": 12,
    "start_time": "2022-03-12T12:32:07.067Z"
   },
   {
    "duration": 281,
    "start_time": "2022-03-12T12:33:20.139Z"
   },
   {
    "duration": 1540,
    "start_time": "2022-03-12T20:38:40.513Z"
   },
   {
    "duration": 19,
    "start_time": "2022-03-12T20:38:42.055Z"
   },
   {
    "duration": 18,
    "start_time": "2022-03-12T20:38:42.077Z"
   },
   {
    "duration": 9,
    "start_time": "2022-03-12T20:38:42.099Z"
   },
   {
    "duration": 15,
    "start_time": "2022-03-12T20:38:42.131Z"
   },
   {
    "duration": 7,
    "start_time": "2022-03-12T20:38:42.149Z"
   },
   {
    "duration": 19,
    "start_time": "2022-03-12T20:38:42.159Z"
   },
   {
    "duration": 551,
    "start_time": "2022-03-12T20:38:42.184Z"
   },
   {
    "duration": 55,
    "start_time": "2022-03-12T20:38:42.739Z"
   },
   {
    "duration": 21,
    "start_time": "2022-03-12T20:38:42.797Z"
   },
   {
    "duration": 12,
    "start_time": "2022-03-12T20:38:42.820Z"
   },
   {
    "duration": 12,
    "start_time": "2022-03-12T20:38:42.836Z"
   },
   {
    "duration": 24,
    "start_time": "2022-03-12T20:38:42.851Z"
   },
   {
    "duration": 11,
    "start_time": "2022-03-12T20:38:42.877Z"
   },
   {
    "duration": 49,
    "start_time": "2022-03-12T20:38:42.891Z"
   },
   {
    "duration": 16,
    "start_time": "2022-03-12T20:38:42.943Z"
   },
   {
    "duration": 9,
    "start_time": "2022-03-12T20:38:42.962Z"
   },
   {
    "duration": 7,
    "start_time": "2022-03-12T20:38:42.974Z"
   },
   {
    "duration": 56,
    "start_time": "2022-03-12T20:38:42.984Z"
   },
   {
    "duration": 322,
    "start_time": "2022-03-12T20:38:43.042Z"
   },
   {
    "duration": 12,
    "start_time": "2022-03-12T20:38:43.366Z"
   },
   {
    "duration": 274,
    "start_time": "2022-03-12T20:38:43.380Z"
   },
   {
    "duration": 11,
    "start_time": "2022-03-12T20:38:43.659Z"
   },
   {
    "duration": 19,
    "start_time": "2022-03-12T20:38:43.673Z"
   },
   {
    "duration": 42,
    "start_time": "2022-03-12T20:38:43.695Z"
   },
   {
    "duration": 433,
    "start_time": "2022-03-12T20:38:43.739Z"
   },
   {
    "duration": 427,
    "start_time": "2022-03-12T20:38:44.175Z"
   },
   {
    "duration": 17,
    "start_time": "2022-03-12T20:38:44.604Z"
   },
   {
    "duration": 531,
    "start_time": "2022-03-12T20:38:44.633Z"
   },
   {
    "duration": 438,
    "start_time": "2022-03-12T20:38:45.166Z"
   },
   {
    "duration": 565,
    "start_time": "2022-03-12T20:38:45.606Z"
   },
   {
    "duration": 12,
    "start_time": "2022-03-12T20:38:46.173Z"
   },
   {
    "duration": 198,
    "start_time": "2022-03-12T20:38:46.187Z"
   },
   {
    "duration": 11,
    "start_time": "2022-03-12T20:38:46.388Z"
   },
   {
    "duration": 711,
    "start_time": "2022-03-12T20:38:46.402Z"
   },
   {
    "duration": 17,
    "start_time": "2022-03-12T20:38:47.116Z"
   },
   {
    "duration": 679,
    "start_time": "2022-03-12T20:38:47.136Z"
   },
   {
    "duration": 470,
    "start_time": "2022-03-12T20:38:47.818Z"
   },
   {
    "duration": 7,
    "start_time": "2022-03-12T20:38:48.290Z"
   },
   {
    "duration": 12,
    "start_time": "2022-03-12T20:38:48.299Z"
   },
   {
    "duration": 14,
    "start_time": "2022-03-12T20:38:48.333Z"
   },
   {
    "duration": 120,
    "start_time": "2022-03-12T20:38:48.350Z"
   },
   {
    "duration": 116,
    "start_time": "2022-03-12T20:38:48.473Z"
   },
   {
    "duration": 47,
    "start_time": "2022-03-12T20:38:48.592Z"
   },
   {
    "duration": 122,
    "start_time": "2022-03-12T20:38:48.641Z"
   },
   {
    "duration": 140,
    "start_time": "2022-03-12T20:38:48.765Z"
   },
   {
    "duration": 64,
    "start_time": "2022-03-12T20:38:48.907Z"
   },
   {
    "duration": 120,
    "start_time": "2022-03-12T20:38:48.973Z"
   },
   {
    "duration": 120,
    "start_time": "2022-03-12T20:38:49.095Z"
   },
   {
    "duration": 19,
    "start_time": "2022-03-12T20:38:49.217Z"
   },
   {
    "duration": 13,
    "start_time": "2022-03-12T20:38:49.238Z"
   },
   {
    "duration": 13,
    "start_time": "2022-03-12T20:38:49.253Z"
   },
   {
    "duration": 14,
    "start_time": "2022-03-12T20:38:49.268Z"
   },
   {
    "duration": 4,
    "start_time": "2022-03-12T20:38:49.284Z"
   },
   {
    "duration": 57,
    "start_time": "2022-03-12T20:38:49.291Z"
   },
   {
    "duration": 12,
    "start_time": "2022-03-12T20:38:49.350Z"
   },
   {
    "duration": 9,
    "start_time": "2022-03-12T20:38:49.364Z"
   },
   {
    "duration": 60,
    "start_time": "2022-03-12T20:38:49.375Z"
   }
  ],
  "kernelspec": {
   "display_name": "Python 3 (ipykernel)",
   "language": "python",
   "name": "python3"
  },
  "language_info": {
   "codemirror_mode": {
    "name": "ipython",
    "version": 3
   },
   "file_extension": ".py",
   "mimetype": "text/x-python",
   "name": "python",
   "nbconvert_exporter": "python",
   "pygments_lexer": "ipython3",
   "version": "3.9.7"
  },
  "toc": {
   "base_numbering": 1,
   "nav_menu": {},
   "number_sections": true,
   "sideBar": true,
   "skip_h1_title": true,
   "title_cell": "Table of Contents",
   "title_sidebar": "Contents",
   "toc_cell": false,
   "toc_position": {},
   "toc_section_display": true,
   "toc_window_display": false
  }
 },
 "nbformat": 4,
 "nbformat_minor": 2
}
