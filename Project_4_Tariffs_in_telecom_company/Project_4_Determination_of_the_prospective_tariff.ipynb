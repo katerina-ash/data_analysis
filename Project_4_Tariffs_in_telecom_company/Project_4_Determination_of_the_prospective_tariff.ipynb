{
 "cells": [
  {
   "cell_type": "markdown",
   "metadata": {},
   "source": [
    "# Определение перспективного тарифа для телеком-компании"
   ]
  },
  {
   "cell_type": "markdown",
   "metadata": {},
   "source": [
    "## Описание проекта"
   ]
  },
  {
   "cell_type": "markdown",
   "metadata": {},
   "source": [
    "Вы аналитик компании «Мегалайн» — федерального оператора сотовой связи. Клиентам предлагают два тарифных плана: «Смарт» и «Ультра». Чтобы скорректировать рекламный бюджет, коммерческий департамент хочет понять, какой тариф приносит больше денег.\n",
    "\n",
    "Вам предстоит сделать предварительный анализ тарифов на небольшой выборке клиентов. В вашем распоряжении данные 500 пользователей «Мегалайна»: кто они, откуда, каким тарифом пользуются, сколько звонков и сообщений каждый отправил за 2018 год. Нужно проанализировать поведение клиентов и сделать вывод — какой тариф лучше."
   ]
  },
  {
   "cell_type": "markdown",
   "metadata": {},
   "source": [
    "**Описание тарифов**\n",
    "\n",
    "**Тариф «Смарт»**\n",
    "1. Ежемесячная плата: 550 рублей\n",
    "2. Включено 500 минут разговора, 50 сообщений и 15 Гб интернет-трафика\n",
    "3. Стоимость услуг сверх тарифного пакета: 1. минута разговора: 3 рубля («Мегалайн» всегда округляет вверх значения минут и мегабайтов. Если пользователь проговорил всего 1 секунду, в тарифе засчитывается целая минута); 2. сообщение: 3 рубля; 3. 1 Гб интернет-трафика: 200 рублей.\n",
    "\n",
    "**Тариф «Ультра»**\n",
    "1. Ежемесячная плата: 1950 рублей\n",
    "2. Включено 3000 минут разговора, 1000 сообщений и 30 Гб интернет-трафика\n",
    "3. Стоимость услуг сверх тарифного пакета: 1. минута разговора: 1 рубль; 2. сообщение: 1 рубль; 3. 1 Гб интернет-трафика: 150 рублей."
   ]
  },
  {
   "cell_type": "markdown",
   "metadata": {},
   "source": [
    "**Примечание:**\n",
    "\n",
    "«Мегалайн» всегда округляет секунды до минут, а мегабайты — до гигабайт. Каждый звонок округляется отдельно: даже если он длился всего 1 секунду, будет засчитан как 1 минута.\n",
    "\n",
    "Для веб-трафика отдельные сессии не считаются. Вместо этого общая сумма за месяц округляется в бо́льшую сторону. Если абонент использует 1025 мегабайт в этом месяце, с него возьмут плату за 2 гигабайта."
   ]
  },
  {
   "cell_type": "markdown",
   "metadata": {},
   "source": [
    "Таблица calls (информация о звонках):\n",
    "- *id* — уникальный номер звонка\n",
    "- *call_date* — дата звонка\n",
    "- *duration* — длительность звонка в минутах\n",
    "- *user_id* — идентификатор пользователя, сделавшего звонок\n",
    "\n",
    "Таблица internet (информация об интернет-сессиях):\n",
    "- *id* — уникальный номер сессии\n",
    "- *mb_used* — объём потраченного за сессию интернет-трафика (в мегабайтах)\n",
    "- *session_date* — дата интернет-сессии\n",
    "- *user_id* — идентификатор пользователя\n",
    "\n",
    "Таблица messages (информация о сообщениях):\n",
    "- *id* — уникальный номер сообщения\n",
    "- *message_date* — дата сообщения\n",
    "- *user_id* — идентификатор пользователя, отправившего сообщение\n",
    "\n",
    "Таблица tariffs (информация о тарифах):\n",
    "- *tariff_name* — название тарифа\n",
    "- *rub_monthly_fee* — ежемесячная абонентская плата в рублях\n",
    "- *minutes_included* — количество минут разговора в месяц, включённых в абонентскую плату\n",
    "- *messages_included* — количество сообщений в месяц, включённых в абонентскую плату\n",
    "- *mb_per_month_included* — объём интернет-трафика, включённого в абонентскую плату (в мегабайтах)\n",
    "- *rub_per_minute* — стоимость минуты разговора сверх тарифного пакета (например, если в тарифе 100 минут разговора в месяц, то со 101 минуты будет взиматься плата)\n",
    "- *rub_per_message* — стоимость отправки сообщения сверх тарифного пакета\n",
    "- *rub_per_gb* — стоимость дополнительного гигабайта интернет-трафика сверх тарифного пакета (1 гигабайт = 1024 мегабайта)\n",
    "\n",
    "Таблица users (информация о пользователях):\n",
    "- *user_id* — уникальный идентификатор пользователя\n",
    "- *first_name* — имя пользователя\n",
    "- *last_name* — фамилия пользователя\n",
    "- *age* — возраст пользователя (годы)\n",
    "- *reg_date* — дата подключения тарифа (день, месяц, год)\n",
    "- *churn_date* — дата прекращения пользования тарифом (если значение пропущено, то тариф ещё действовал на момент выгрузки данных)\n",
    "- *city* — город проживания пользователя\n",
    "- *tarif* — название тарифного плана"
   ]
  },
  {
   "cell_type": "markdown",
   "metadata": {},
   "source": [
    "## Загрузка файлов с данными. Изучение общей информации."
   ]
  },
  {
   "cell_type": "code",
   "execution_count": 1,
   "metadata": {},
   "outputs": [],
   "source": [
    "import pandas as pd\n",
    "import numpy as np\n",
    "from scipy import stats as st\n",
    "import matplotlib.pyplot as plt\n",
    "import math"
   ]
  },
  {
   "cell_type": "markdown",
   "metadata": {},
   "source": [
    "Данные лежат в пяти dataframe"
   ]
  },
  {
   "cell_type": "code",
   "execution_count": 2,
   "metadata": {},
   "outputs": [],
   "source": [
    "calls = pd.read_csv('calls.csv', parse_dates=['call_date'])\n",
    "internet = pd.read_csv('internet.csv', index_col=0, parse_dates=['session_date'])\n",
    "messages = pd.read_csv('messages.csv', parse_dates=['message_date'])\n",
    "tariffs = pd.read_csv('tariffs.csv')\n",
    "users = pd.read_csv('users.csv', parse_dates=['reg_date', 'churn_date'])\n",
    "\n",
    "# parse_dates - переводит дату из типа object в тип datetime\n",
    "# dayfirst=True - первое число в дате день"
   ]
  },
  {
   "cell_type": "code",
   "execution_count": 3,
   "metadata": {},
   "outputs": [
    {
     "data": {
      "text/html": [
       "<div>\n",
       "<style scoped>\n",
       "    .dataframe tbody tr th:only-of-type {\n",
       "        vertical-align: middle;\n",
       "    }\n",
       "\n",
       "    .dataframe tbody tr th {\n",
       "        vertical-align: top;\n",
       "    }\n",
       "\n",
       "    .dataframe thead th {\n",
       "        text-align: right;\n",
       "    }\n",
       "</style>\n",
       "<table border=\"1\" class=\"dataframe\">\n",
       "  <thead>\n",
       "    <tr style=\"text-align: right;\">\n",
       "      <th></th>\n",
       "      <th>id</th>\n",
       "      <th>call_date</th>\n",
       "      <th>duration</th>\n",
       "      <th>user_id</th>\n",
       "    </tr>\n",
       "  </thead>\n",
       "  <tbody>\n",
       "    <tr>\n",
       "      <th>0</th>\n",
       "      <td>1000_0</td>\n",
       "      <td>2018-07-25</td>\n",
       "      <td>0.00</td>\n",
       "      <td>1000</td>\n",
       "    </tr>\n",
       "    <tr>\n",
       "      <th>1</th>\n",
       "      <td>1000_1</td>\n",
       "      <td>2018-08-17</td>\n",
       "      <td>0.00</td>\n",
       "      <td>1000</td>\n",
       "    </tr>\n",
       "    <tr>\n",
       "      <th>2</th>\n",
       "      <td>1000_2</td>\n",
       "      <td>2018-06-11</td>\n",
       "      <td>2.85</td>\n",
       "      <td>1000</td>\n",
       "    </tr>\n",
       "    <tr>\n",
       "      <th>3</th>\n",
       "      <td>1000_3</td>\n",
       "      <td>2018-09-21</td>\n",
       "      <td>13.80</td>\n",
       "      <td>1000</td>\n",
       "    </tr>\n",
       "    <tr>\n",
       "      <th>4</th>\n",
       "      <td>1000_4</td>\n",
       "      <td>2018-12-15</td>\n",
       "      <td>5.18</td>\n",
       "      <td>1000</td>\n",
       "    </tr>\n",
       "  </tbody>\n",
       "</table>\n",
       "</div>"
      ],
      "text/plain": [
       "       id  call_date  duration  user_id\n",
       "0  1000_0 2018-07-25      0.00     1000\n",
       "1  1000_1 2018-08-17      0.00     1000\n",
       "2  1000_2 2018-06-11      2.85     1000\n",
       "3  1000_3 2018-09-21     13.80     1000\n",
       "4  1000_4 2018-12-15      5.18     1000"
      ]
     },
     "execution_count": 3,
     "metadata": {},
     "output_type": "execute_result"
    }
   ],
   "source": [
    "calls.head()"
   ]
  },
  {
   "cell_type": "markdown",
   "metadata": {},
   "source": [
    "Таблица calls (информация о звонках):\n",
    "- *id* — уникальный номер звонка\n",
    "- *call_date* — дата звонка\n",
    "- *duration* — длительность звонка в минутах\n",
    "- *user_id* — идентификатор пользователя, сделавшего звонок"
   ]
  },
  {
   "cell_type": "code",
   "execution_count": 4,
   "metadata": {},
   "outputs": [
    {
     "name": "stdout",
     "output_type": "stream",
     "text": [
      "<class 'pandas.core.frame.DataFrame'>\n",
      "RangeIndex: 202607 entries, 0 to 202606\n",
      "Data columns (total 4 columns):\n",
      " #   Column     Non-Null Count   Dtype         \n",
      "---  ------     --------------   -----         \n",
      " 0   id         202607 non-null  object        \n",
      " 1   call_date  202607 non-null  datetime64[ns]\n",
      " 2   duration   202607 non-null  float64       \n",
      " 3   user_id    202607 non-null  int64         \n",
      "dtypes: datetime64[ns](1), float64(1), int64(1), object(1)\n",
      "memory usage: 6.2+ MB\n"
     ]
    }
   ],
   "source": [
    "calls.info()"
   ]
  },
  {
   "cell_type": "markdown",
   "metadata": {},
   "source": [
    "В датафрейме *calls* пропуски отсутствуют. id пользователя - целое число.\n",
    "\n",
    "Столбец *duration* нужно будет округлить до целого числа."
   ]
  },
  {
   "cell_type": "code",
   "execution_count": 5,
   "metadata": {},
   "outputs": [
    {
     "data": {
      "text/html": [
       "<div>\n",
       "<style scoped>\n",
       "    .dataframe tbody tr th:only-of-type {\n",
       "        vertical-align: middle;\n",
       "    }\n",
       "\n",
       "    .dataframe tbody tr th {\n",
       "        vertical-align: top;\n",
       "    }\n",
       "\n",
       "    .dataframe thead th {\n",
       "        text-align: right;\n",
       "    }\n",
       "</style>\n",
       "<table border=\"1\" class=\"dataframe\">\n",
       "  <thead>\n",
       "    <tr style=\"text-align: right;\">\n",
       "      <th></th>\n",
       "      <th>id</th>\n",
       "      <th>mb_used</th>\n",
       "      <th>session_date</th>\n",
       "      <th>user_id</th>\n",
       "    </tr>\n",
       "  </thead>\n",
       "  <tbody>\n",
       "    <tr>\n",
       "      <th>0</th>\n",
       "      <td>1000_0</td>\n",
       "      <td>112.95</td>\n",
       "      <td>2018-11-25</td>\n",
       "      <td>1000</td>\n",
       "    </tr>\n",
       "    <tr>\n",
       "      <th>1</th>\n",
       "      <td>1000_1</td>\n",
       "      <td>1052.81</td>\n",
       "      <td>2018-09-07</td>\n",
       "      <td>1000</td>\n",
       "    </tr>\n",
       "    <tr>\n",
       "      <th>2</th>\n",
       "      <td>1000_2</td>\n",
       "      <td>1197.26</td>\n",
       "      <td>2018-06-25</td>\n",
       "      <td>1000</td>\n",
       "    </tr>\n",
       "    <tr>\n",
       "      <th>3</th>\n",
       "      <td>1000_3</td>\n",
       "      <td>550.27</td>\n",
       "      <td>2018-08-22</td>\n",
       "      <td>1000</td>\n",
       "    </tr>\n",
       "    <tr>\n",
       "      <th>4</th>\n",
       "      <td>1000_4</td>\n",
       "      <td>302.56</td>\n",
       "      <td>2018-09-24</td>\n",
       "      <td>1000</td>\n",
       "    </tr>\n",
       "  </tbody>\n",
       "</table>\n",
       "</div>"
      ],
      "text/plain": [
       "       id  mb_used session_date  user_id\n",
       "0  1000_0   112.95   2018-11-25     1000\n",
       "1  1000_1  1052.81   2018-09-07     1000\n",
       "2  1000_2  1197.26   2018-06-25     1000\n",
       "3  1000_3   550.27   2018-08-22     1000\n",
       "4  1000_4   302.56   2018-09-24     1000"
      ]
     },
     "execution_count": 5,
     "metadata": {},
     "output_type": "execute_result"
    }
   ],
   "source": [
    "internet.head()"
   ]
  },
  {
   "cell_type": "markdown",
   "metadata": {},
   "source": [
    "Таблица internet (информация об интернет-сессиях):\n",
    "- *id* — уникальный номер сессии\n",
    "- *mb_used* — объём потраченного за сессию интернет-трафика (в мегабайтах)\n",
    "- *session_date* — дата интернет-сессии\n",
    "- *user_id* — идентификатор пользователя"
   ]
  },
  {
   "cell_type": "code",
   "execution_count": 6,
   "metadata": {},
   "outputs": [
    {
     "name": "stdout",
     "output_type": "stream",
     "text": [
      "<class 'pandas.core.frame.DataFrame'>\n",
      "Int64Index: 149396 entries, 0 to 149395\n",
      "Data columns (total 4 columns):\n",
      " #   Column        Non-Null Count   Dtype         \n",
      "---  ------        --------------   -----         \n",
      " 0   id            149396 non-null  object        \n",
      " 1   mb_used       149396 non-null  float64       \n",
      " 2   session_date  149396 non-null  datetime64[ns]\n",
      " 3   user_id       149396 non-null  int64         \n",
      "dtypes: datetime64[ns](1), float64(1), int64(1), object(1)\n",
      "memory usage: 5.7+ MB\n"
     ]
    }
   ],
   "source": [
    "internet.info()"
   ]
  },
  {
   "cell_type": "markdown",
   "metadata": {},
   "source": [
    "Пропусков нет."
   ]
  },
  {
   "cell_type": "code",
   "execution_count": 7,
   "metadata": {},
   "outputs": [
    {
     "data": {
      "text/html": [
       "<div>\n",
       "<style scoped>\n",
       "    .dataframe tbody tr th:only-of-type {\n",
       "        vertical-align: middle;\n",
       "    }\n",
       "\n",
       "    .dataframe tbody tr th {\n",
       "        vertical-align: top;\n",
       "    }\n",
       "\n",
       "    .dataframe thead th {\n",
       "        text-align: right;\n",
       "    }\n",
       "</style>\n",
       "<table border=\"1\" class=\"dataframe\">\n",
       "  <thead>\n",
       "    <tr style=\"text-align: right;\">\n",
       "      <th></th>\n",
       "      <th>id</th>\n",
       "      <th>message_date</th>\n",
       "      <th>user_id</th>\n",
       "    </tr>\n",
       "  </thead>\n",
       "  <tbody>\n",
       "    <tr>\n",
       "      <th>0</th>\n",
       "      <td>1000_0</td>\n",
       "      <td>2018-06-27</td>\n",
       "      <td>1000</td>\n",
       "    </tr>\n",
       "    <tr>\n",
       "      <th>1</th>\n",
       "      <td>1000_1</td>\n",
       "      <td>2018-10-08</td>\n",
       "      <td>1000</td>\n",
       "    </tr>\n",
       "    <tr>\n",
       "      <th>2</th>\n",
       "      <td>1000_2</td>\n",
       "      <td>2018-08-04</td>\n",
       "      <td>1000</td>\n",
       "    </tr>\n",
       "    <tr>\n",
       "      <th>3</th>\n",
       "      <td>1000_3</td>\n",
       "      <td>2018-06-16</td>\n",
       "      <td>1000</td>\n",
       "    </tr>\n",
       "    <tr>\n",
       "      <th>4</th>\n",
       "      <td>1000_4</td>\n",
       "      <td>2018-12-05</td>\n",
       "      <td>1000</td>\n",
       "    </tr>\n",
       "  </tbody>\n",
       "</table>\n",
       "</div>"
      ],
      "text/plain": [
       "       id message_date  user_id\n",
       "0  1000_0   2018-06-27     1000\n",
       "1  1000_1   2018-10-08     1000\n",
       "2  1000_2   2018-08-04     1000\n",
       "3  1000_3   2018-06-16     1000\n",
       "4  1000_4   2018-12-05     1000"
      ]
     },
     "execution_count": 7,
     "metadata": {},
     "output_type": "execute_result"
    }
   ],
   "source": [
    "messages.head()"
   ]
  },
  {
   "cell_type": "markdown",
   "metadata": {},
   "source": [
    "Таблица messages (информация о сообщениях):\n",
    "- *id* — уникальный номер сообщения\n",
    "- *message_date* — дата сообщения\n",
    "- *user_id* — идентификатор пользователя, отправившего сообщение"
   ]
  },
  {
   "cell_type": "code",
   "execution_count": 8,
   "metadata": {},
   "outputs": [
    {
     "name": "stdout",
     "output_type": "stream",
     "text": [
      "<class 'pandas.core.frame.DataFrame'>\n",
      "RangeIndex: 123036 entries, 0 to 123035\n",
      "Data columns (total 3 columns):\n",
      " #   Column        Non-Null Count   Dtype         \n",
      "---  ------        --------------   -----         \n",
      " 0   id            123036 non-null  object        \n",
      " 1   message_date  123036 non-null  datetime64[ns]\n",
      " 2   user_id       123036 non-null  int64         \n",
      "dtypes: datetime64[ns](1), int64(1), object(1)\n",
      "memory usage: 2.8+ MB\n"
     ]
    }
   ],
   "source": [
    "messages.info()"
   ]
  },
  {
   "cell_type": "code",
   "execution_count": 9,
   "metadata": {},
   "outputs": [
    {
     "data": {
      "text/html": [
       "<div>\n",
       "<style scoped>\n",
       "    .dataframe tbody tr th:only-of-type {\n",
       "        vertical-align: middle;\n",
       "    }\n",
       "\n",
       "    .dataframe tbody tr th {\n",
       "        vertical-align: top;\n",
       "    }\n",
       "\n",
       "    .dataframe thead th {\n",
       "        text-align: right;\n",
       "    }\n",
       "</style>\n",
       "<table border=\"1\" class=\"dataframe\">\n",
       "  <thead>\n",
       "    <tr style=\"text-align: right;\">\n",
       "      <th></th>\n",
       "      <th>messages_included</th>\n",
       "      <th>mb_per_month_included</th>\n",
       "      <th>minutes_included</th>\n",
       "      <th>rub_monthly_fee</th>\n",
       "      <th>rub_per_gb</th>\n",
       "      <th>rub_per_message</th>\n",
       "      <th>rub_per_minute</th>\n",
       "      <th>tariff_name</th>\n",
       "    </tr>\n",
       "  </thead>\n",
       "  <tbody>\n",
       "    <tr>\n",
       "      <th>0</th>\n",
       "      <td>50</td>\n",
       "      <td>15360</td>\n",
       "      <td>500</td>\n",
       "      <td>550</td>\n",
       "      <td>200</td>\n",
       "      <td>3</td>\n",
       "      <td>3</td>\n",
       "      <td>smart</td>\n",
       "    </tr>\n",
       "    <tr>\n",
       "      <th>1</th>\n",
       "      <td>1000</td>\n",
       "      <td>30720</td>\n",
       "      <td>3000</td>\n",
       "      <td>1950</td>\n",
       "      <td>150</td>\n",
       "      <td>1</td>\n",
       "      <td>1</td>\n",
       "      <td>ultra</td>\n",
       "    </tr>\n",
       "  </tbody>\n",
       "</table>\n",
       "</div>"
      ],
      "text/plain": [
       "   messages_included  mb_per_month_included  minutes_included  \\\n",
       "0                 50                  15360               500   \n",
       "1               1000                  30720              3000   \n",
       "\n",
       "   rub_monthly_fee  rub_per_gb  rub_per_message  rub_per_minute tariff_name  \n",
       "0              550         200                3               3       smart  \n",
       "1             1950         150                1               1       ultra  "
      ]
     },
     "execution_count": 9,
     "metadata": {},
     "output_type": "execute_result"
    }
   ],
   "source": [
    "tariffs.head()"
   ]
  },
  {
   "cell_type": "markdown",
   "metadata": {},
   "source": [
    "Таблица tariffs (информация о тарифах):\n",
    "- *tariff_name* — название тарифа\n",
    "- *rub_monthly_fee* — ежемесячная абонентская плата в рублях\n",
    "- *minutes_included* — количество минут разговора в месяц, включённых в абонентскую плату\n",
    "- *messages_included* — количество сообщений в месяц, включённых в абонентскую плату\n",
    "- *mb_per_month_included* — объём интернет-трафика, включённого в абонентскую плату (в мегабайтах)\n",
    "- *rub_per_minute* — стоимость минуты разговора сверх тарифного пакета (например, если в тарифе 100 минут разговора в месяц, то со 101 минуты будет взиматься плата)\n",
    "- *rub_per_message* — стоимость отправки сообщения сверх тарифного пакета\n",
    "- *rub_per_gb* — стоимость дополнительного гигабайта интернет-трафика сверх тарифного пакета (1 гигабайт = 1024 мегабайта)"
   ]
  },
  {
   "cell_type": "code",
   "execution_count": 10,
   "metadata": {},
   "outputs": [
    {
     "name": "stdout",
     "output_type": "stream",
     "text": [
      "<class 'pandas.core.frame.DataFrame'>\n",
      "RangeIndex: 2 entries, 0 to 1\n",
      "Data columns (total 8 columns):\n",
      " #   Column                 Non-Null Count  Dtype \n",
      "---  ------                 --------------  ----- \n",
      " 0   messages_included      2 non-null      int64 \n",
      " 1   mb_per_month_included  2 non-null      int64 \n",
      " 2   minutes_included       2 non-null      int64 \n",
      " 3   rub_monthly_fee        2 non-null      int64 \n",
      " 4   rub_per_gb             2 non-null      int64 \n",
      " 5   rub_per_message        2 non-null      int64 \n",
      " 6   rub_per_minute         2 non-null      int64 \n",
      " 7   tariff_name            2 non-null      object\n",
      "dtypes: int64(7), object(1)\n",
      "memory usage: 256.0+ bytes\n"
     ]
    }
   ],
   "source": [
    "tariffs.info()"
   ]
  },
  {
   "cell_type": "markdown",
   "metadata": {},
   "source": [
    "Датафрейм из двух строк, описывает 2 тарифа. Пропусков нет."
   ]
  },
  {
   "cell_type": "code",
   "execution_count": 11,
   "metadata": {},
   "outputs": [
    {
     "data": {
      "text/html": [
       "<div>\n",
       "<style scoped>\n",
       "    .dataframe tbody tr th:only-of-type {\n",
       "        vertical-align: middle;\n",
       "    }\n",
       "\n",
       "    .dataframe tbody tr th {\n",
       "        vertical-align: top;\n",
       "    }\n",
       "\n",
       "    .dataframe thead th {\n",
       "        text-align: right;\n",
       "    }\n",
       "</style>\n",
       "<table border=\"1\" class=\"dataframe\">\n",
       "  <thead>\n",
       "    <tr style=\"text-align: right;\">\n",
       "      <th></th>\n",
       "      <th>user_id</th>\n",
       "      <th>age</th>\n",
       "      <th>churn_date</th>\n",
       "      <th>city</th>\n",
       "      <th>first_name</th>\n",
       "      <th>last_name</th>\n",
       "      <th>reg_date</th>\n",
       "      <th>tariff</th>\n",
       "    </tr>\n",
       "  </thead>\n",
       "  <tbody>\n",
       "    <tr>\n",
       "      <th>0</th>\n",
       "      <td>1000</td>\n",
       "      <td>52</td>\n",
       "      <td>NaT</td>\n",
       "      <td>Краснодар</td>\n",
       "      <td>Рафаил</td>\n",
       "      <td>Верещагин</td>\n",
       "      <td>2018-05-25</td>\n",
       "      <td>ultra</td>\n",
       "    </tr>\n",
       "    <tr>\n",
       "      <th>1</th>\n",
       "      <td>1001</td>\n",
       "      <td>41</td>\n",
       "      <td>NaT</td>\n",
       "      <td>Москва</td>\n",
       "      <td>Иван</td>\n",
       "      <td>Ежов</td>\n",
       "      <td>2018-11-01</td>\n",
       "      <td>smart</td>\n",
       "    </tr>\n",
       "    <tr>\n",
       "      <th>2</th>\n",
       "      <td>1002</td>\n",
       "      <td>59</td>\n",
       "      <td>NaT</td>\n",
       "      <td>Стерлитамак</td>\n",
       "      <td>Евгений</td>\n",
       "      <td>Абрамович</td>\n",
       "      <td>2018-06-17</td>\n",
       "      <td>smart</td>\n",
       "    </tr>\n",
       "    <tr>\n",
       "      <th>3</th>\n",
       "      <td>1003</td>\n",
       "      <td>23</td>\n",
       "      <td>NaT</td>\n",
       "      <td>Москва</td>\n",
       "      <td>Белла</td>\n",
       "      <td>Белякова</td>\n",
       "      <td>2018-08-17</td>\n",
       "      <td>ultra</td>\n",
       "    </tr>\n",
       "    <tr>\n",
       "      <th>4</th>\n",
       "      <td>1004</td>\n",
       "      <td>68</td>\n",
       "      <td>NaT</td>\n",
       "      <td>Новокузнецк</td>\n",
       "      <td>Татьяна</td>\n",
       "      <td>Авдеенко</td>\n",
       "      <td>2018-05-14</td>\n",
       "      <td>ultra</td>\n",
       "    </tr>\n",
       "  </tbody>\n",
       "</table>\n",
       "</div>"
      ],
      "text/plain": [
       "   user_id  age churn_date         city first_name  last_name   reg_date  \\\n",
       "0     1000   52        NaT    Краснодар     Рафаил  Верещагин 2018-05-25   \n",
       "1     1001   41        NaT       Москва       Иван       Ежов 2018-11-01   \n",
       "2     1002   59        NaT  Стерлитамак    Евгений  Абрамович 2018-06-17   \n",
       "3     1003   23        NaT       Москва      Белла   Белякова 2018-08-17   \n",
       "4     1004   68        NaT  Новокузнецк    Татьяна   Авдеенко 2018-05-14   \n",
       "\n",
       "  tariff  \n",
       "0  ultra  \n",
       "1  smart  \n",
       "2  smart  \n",
       "3  ultra  \n",
       "4  ultra  "
      ]
     },
     "execution_count": 11,
     "metadata": {},
     "output_type": "execute_result"
    }
   ],
   "source": [
    "users.head()"
   ]
  },
  {
   "cell_type": "markdown",
   "metadata": {},
   "source": [
    "Таблица users (информация о пользователях):\n",
    "- *user_id* — уникальный идентификатор пользователя\n",
    "- *first_name* — имя пользователя\n",
    "- *last_name* — фамилия пользователя\n",
    "- *age* — возраст пользователя (годы)\n",
    "- *reg_date* — дата подключения тарифа (день, месяц, год)\n",
    "- *churn_date* — дата прекращения пользования тарифом (если значение пропущено, то тариф ещё действовал на момент выгрузки данных)\n",
    "- *city* — город проживания пользователя\n",
    "- *tarif* — название тарифного плана"
   ]
  },
  {
   "cell_type": "code",
   "execution_count": 12,
   "metadata": {},
   "outputs": [
    {
     "name": "stdout",
     "output_type": "stream",
     "text": [
      "<class 'pandas.core.frame.DataFrame'>\n",
      "RangeIndex: 500 entries, 0 to 499\n",
      "Data columns (total 8 columns):\n",
      " #   Column      Non-Null Count  Dtype         \n",
      "---  ------      --------------  -----         \n",
      " 0   user_id     500 non-null    int64         \n",
      " 1   age         500 non-null    int64         \n",
      " 2   churn_date  38 non-null     datetime64[ns]\n",
      " 3   city        500 non-null    object        \n",
      " 4   first_name  500 non-null    object        \n",
      " 5   last_name   500 non-null    object        \n",
      " 6   reg_date    500 non-null    datetime64[ns]\n",
      " 7   tariff      500 non-null    object        \n",
      "dtypes: datetime64[ns](2), int64(2), object(4)\n",
      "memory usage: 31.4+ KB\n"
     ]
    }
   ],
   "source": [
    "users.info()"
   ]
  },
  {
   "cell_type": "markdown",
   "metadata": {},
   "source": [
    "Всего 500 пользователей, 38 пользователей прекратили пользоваться тарифом."
   ]
  },
  {
   "cell_type": "markdown",
   "metadata": {},
   "source": [
    "## Подготовка данных"
   ]
  },
  {
   "cell_type": "markdown",
   "metadata": {},
   "source": [
    "**Таблица calls (информация о звонках)**"
   ]
  },
  {
   "cell_type": "code",
   "execution_count": 13,
   "metadata": {},
   "outputs": [
    {
     "data": {
      "text/plain": [
       "202607"
      ]
     },
     "execution_count": 13,
     "metadata": {},
     "output_type": "execute_result"
    }
   ],
   "source": [
    "len(calls['id'].unique())"
   ]
  },
  {
   "cell_type": "markdown",
   "metadata": {},
   "source": [
    "Более 202 тысяч звонков. У каждого звонка уникальный номер."
   ]
  },
  {
   "cell_type": "code",
   "execution_count": 14,
   "metadata": {},
   "outputs": [
    {
     "data": {
      "text/plain": [
       "492"
      ]
     },
     "execution_count": 14,
     "metadata": {},
     "output_type": "execute_result"
    }
   ],
   "source": [
    "len(calls['user_id'].unique())"
   ]
  },
  {
   "cell_type": "markdown",
   "metadata": {},
   "source": [
    "8 пользователей не совершали звонки."
   ]
  },
  {
   "cell_type": "markdown",
   "metadata": {},
   "source": [
    "Создам колонки сномером месяца и года."
   ]
  },
  {
   "cell_type": "code",
   "execution_count": 15,
   "metadata": {},
   "outputs": [],
   "source": [
    "calls['month'] = calls['call_date'].dt.month"
   ]
  },
  {
   "cell_type": "code",
   "execution_count": 16,
   "metadata": {},
   "outputs": [
    {
     "data": {
      "text/html": [
       "<div>\n",
       "<style scoped>\n",
       "    .dataframe tbody tr th:only-of-type {\n",
       "        vertical-align: middle;\n",
       "    }\n",
       "\n",
       "    .dataframe tbody tr th {\n",
       "        vertical-align: top;\n",
       "    }\n",
       "\n",
       "    .dataframe thead th {\n",
       "        text-align: right;\n",
       "    }\n",
       "</style>\n",
       "<table border=\"1\" class=\"dataframe\">\n",
       "  <thead>\n",
       "    <tr style=\"text-align: right;\">\n",
       "      <th></th>\n",
       "      <th>id</th>\n",
       "      <th>call_date</th>\n",
       "      <th>duration</th>\n",
       "      <th>user_id</th>\n",
       "      <th>month</th>\n",
       "    </tr>\n",
       "  </thead>\n",
       "  <tbody>\n",
       "    <tr>\n",
       "      <th>0</th>\n",
       "      <td>1000_0</td>\n",
       "      <td>2018-07-25</td>\n",
       "      <td>0.00</td>\n",
       "      <td>1000</td>\n",
       "      <td>7</td>\n",
       "    </tr>\n",
       "    <tr>\n",
       "      <th>1</th>\n",
       "      <td>1000_1</td>\n",
       "      <td>2018-08-17</td>\n",
       "      <td>0.00</td>\n",
       "      <td>1000</td>\n",
       "      <td>8</td>\n",
       "    </tr>\n",
       "    <tr>\n",
       "      <th>2</th>\n",
       "      <td>1000_2</td>\n",
       "      <td>2018-06-11</td>\n",
       "      <td>2.85</td>\n",
       "      <td>1000</td>\n",
       "      <td>6</td>\n",
       "    </tr>\n",
       "    <tr>\n",
       "      <th>3</th>\n",
       "      <td>1000_3</td>\n",
       "      <td>2018-09-21</td>\n",
       "      <td>13.80</td>\n",
       "      <td>1000</td>\n",
       "      <td>9</td>\n",
       "    </tr>\n",
       "    <tr>\n",
       "      <th>4</th>\n",
       "      <td>1000_4</td>\n",
       "      <td>2018-12-15</td>\n",
       "      <td>5.18</td>\n",
       "      <td>1000</td>\n",
       "      <td>12</td>\n",
       "    </tr>\n",
       "  </tbody>\n",
       "</table>\n",
       "</div>"
      ],
      "text/plain": [
       "       id  call_date  duration  user_id  month\n",
       "0  1000_0 2018-07-25      0.00     1000      7\n",
       "1  1000_1 2018-08-17      0.00     1000      8\n",
       "2  1000_2 2018-06-11      2.85     1000      6\n",
       "3  1000_3 2018-09-21     13.80     1000      9\n",
       "4  1000_4 2018-12-15      5.18     1000     12"
      ]
     },
     "execution_count": 16,
     "metadata": {},
     "output_type": "execute_result"
    }
   ],
   "source": [
    "calls.head()"
   ]
  },
  {
   "cell_type": "code",
   "execution_count": 17,
   "metadata": {},
   "outputs": [],
   "source": [
    "# округляю значения в колонке duration вверх\n",
    "calls['call_duration'] = calls['duration'].apply(np.ceil)"
   ]
  },
  {
   "cell_type": "code",
   "execution_count": 18,
   "metadata": {
    "scrolled": true
   },
   "outputs": [
    {
     "data": {
      "text/html": [
       "<div>\n",
       "<style scoped>\n",
       "    .dataframe tbody tr th:only-of-type {\n",
       "        vertical-align: middle;\n",
       "    }\n",
       "\n",
       "    .dataframe tbody tr th {\n",
       "        vertical-align: top;\n",
       "    }\n",
       "\n",
       "    .dataframe thead th {\n",
       "        text-align: right;\n",
       "    }\n",
       "</style>\n",
       "<table border=\"1\" class=\"dataframe\">\n",
       "  <thead>\n",
       "    <tr style=\"text-align: right;\">\n",
       "      <th></th>\n",
       "      <th>id</th>\n",
       "      <th>call_date</th>\n",
       "      <th>duration</th>\n",
       "      <th>user_id</th>\n",
       "      <th>month</th>\n",
       "      <th>call_duration</th>\n",
       "    </tr>\n",
       "  </thead>\n",
       "  <tbody>\n",
       "    <tr>\n",
       "      <th>0</th>\n",
       "      <td>1000_0</td>\n",
       "      <td>2018-07-25</td>\n",
       "      <td>0.00</td>\n",
       "      <td>1000</td>\n",
       "      <td>7</td>\n",
       "      <td>0.0</td>\n",
       "    </tr>\n",
       "    <tr>\n",
       "      <th>1</th>\n",
       "      <td>1000_1</td>\n",
       "      <td>2018-08-17</td>\n",
       "      <td>0.00</td>\n",
       "      <td>1000</td>\n",
       "      <td>8</td>\n",
       "      <td>0.0</td>\n",
       "    </tr>\n",
       "    <tr>\n",
       "      <th>2</th>\n",
       "      <td>1000_2</td>\n",
       "      <td>2018-06-11</td>\n",
       "      <td>2.85</td>\n",
       "      <td>1000</td>\n",
       "      <td>6</td>\n",
       "      <td>3.0</td>\n",
       "    </tr>\n",
       "    <tr>\n",
       "      <th>3</th>\n",
       "      <td>1000_3</td>\n",
       "      <td>2018-09-21</td>\n",
       "      <td>13.80</td>\n",
       "      <td>1000</td>\n",
       "      <td>9</td>\n",
       "      <td>14.0</td>\n",
       "    </tr>\n",
       "    <tr>\n",
       "      <th>4</th>\n",
       "      <td>1000_4</td>\n",
       "      <td>2018-12-15</td>\n",
       "      <td>5.18</td>\n",
       "      <td>1000</td>\n",
       "      <td>12</td>\n",
       "      <td>6.0</td>\n",
       "    </tr>\n",
       "  </tbody>\n",
       "</table>\n",
       "</div>"
      ],
      "text/plain": [
       "       id  call_date  duration  user_id  month  call_duration\n",
       "0  1000_0 2018-07-25      0.00     1000      7            0.0\n",
       "1  1000_1 2018-08-17      0.00     1000      8            0.0\n",
       "2  1000_2 2018-06-11      2.85     1000      6            3.0\n",
       "3  1000_3 2018-09-21     13.80     1000      9           14.0\n",
       "4  1000_4 2018-12-15      5.18     1000     12            6.0"
      ]
     },
     "execution_count": 18,
     "metadata": {},
     "output_type": "execute_result"
    }
   ],
   "source": [
    "calls.head()"
   ]
  },
  {
   "cell_type": "code",
   "execution_count": 19,
   "metadata": {},
   "outputs": [
    {
     "data": {
      "text/plain": [
       "0.0"
      ]
     },
     "execution_count": 19,
     "metadata": {},
     "output_type": "execute_result"
    }
   ],
   "source": [
    "# минимальная длина звонка\n",
    "calls['call_duration'].min()"
   ]
  },
  {
   "cell_type": "markdown",
   "metadata": {},
   "source": [
    "Значение *0* означенет, что это пропущенный вызов, пользователь не дозвонился."
   ]
  },
  {
   "cell_type": "code",
   "execution_count": 20,
   "metadata": {},
   "outputs": [
    {
     "data": {
      "text/plain": [
       "39613"
      ]
     },
     "execution_count": 20,
     "metadata": {},
     "output_type": "execute_result"
    }
   ],
   "source": [
    "len(calls[calls['call_duration'] == 0])"
   ]
  },
  {
   "cell_type": "markdown",
   "metadata": {},
   "source": [
    "Более 39 тысяч пропущенных звонков."
   ]
  },
  {
   "cell_type": "code",
   "execution_count": 21,
   "metadata": {},
   "outputs": [
    {
     "data": {
      "text/plain": [
       "38.0"
      ]
     },
     "execution_count": 21,
     "metadata": {},
     "output_type": "execute_result"
    }
   ],
   "source": [
    "# максимальная длиназвонка\n",
    "calls['call_duration'].max()"
   ]
  },
  {
   "cell_type": "code",
   "execution_count": 22,
   "metadata": {},
   "outputs": [
    {
     "data": {
      "text/plain": [
       "0"
      ]
     },
     "execution_count": 22,
     "metadata": {},
     "output_type": "execute_result"
    }
   ],
   "source": [
    "calls.duplicated().sum()"
   ]
  },
  {
   "cell_type": "markdown",
   "metadata": {},
   "source": [
    "Дубликатов нет."
   ]
  },
  {
   "cell_type": "markdown",
   "metadata": {},
   "source": [
    "**Таблица internet (информация об интернет-сессиях)**"
   ]
  },
  {
   "cell_type": "markdown",
   "metadata": {},
   "source": [
    "Добавлю столбец с номером месяца."
   ]
  },
  {
   "cell_type": "code",
   "execution_count": 23,
   "metadata": {},
   "outputs": [],
   "source": [
    "internet['month'] = internet['session_date'].dt.month"
   ]
  },
  {
   "cell_type": "markdown",
   "metadata": {},
   "source": [
    "Мбайты нужно округлить до Гбайт.\n",
    "\n",
    "1 Гбайт - 1024 Мбайт."
   ]
  },
  {
   "cell_type": "markdown",
   "metadata": {},
   "source": [
    "Группирую таблицу по пользователю и номеру месяца, количество мбайт суммирую, что бы получить интернет трафик за месяц по каждому пользователю."
   ]
  },
  {
   "cell_type": "code",
   "execution_count": 24,
   "metadata": {},
   "outputs": [
    {
     "data": {
      "text/html": [
       "<div>\n",
       "<style scoped>\n",
       "    .dataframe tbody tr th:only-of-type {\n",
       "        vertical-align: middle;\n",
       "    }\n",
       "\n",
       "    .dataframe tbody tr th {\n",
       "        vertical-align: top;\n",
       "    }\n",
       "\n",
       "    .dataframe thead th {\n",
       "        text-align: right;\n",
       "    }\n",
       "</style>\n",
       "<table border=\"1\" class=\"dataframe\">\n",
       "  <thead>\n",
       "    <tr style=\"text-align: right;\">\n",
       "      <th></th>\n",
       "      <th>user_id</th>\n",
       "      <th>month</th>\n",
       "      <th>mb_used</th>\n",
       "    </tr>\n",
       "  </thead>\n",
       "  <tbody>\n",
       "    <tr>\n",
       "      <th>0</th>\n",
       "      <td>1000</td>\n",
       "      <td>5</td>\n",
       "      <td>2253.49</td>\n",
       "    </tr>\n",
       "    <tr>\n",
       "      <th>1</th>\n",
       "      <td>1000</td>\n",
       "      <td>6</td>\n",
       "      <td>23233.77</td>\n",
       "    </tr>\n",
       "    <tr>\n",
       "      <th>2</th>\n",
       "      <td>1000</td>\n",
       "      <td>7</td>\n",
       "      <td>14003.64</td>\n",
       "    </tr>\n",
       "    <tr>\n",
       "      <th>3</th>\n",
       "      <td>1000</td>\n",
       "      <td>8</td>\n",
       "      <td>14055.93</td>\n",
       "    </tr>\n",
       "    <tr>\n",
       "      <th>4</th>\n",
       "      <td>1000</td>\n",
       "      <td>9</td>\n",
       "      <td>14568.91</td>\n",
       "    </tr>\n",
       "  </tbody>\n",
       "</table>\n",
       "</div>"
      ],
      "text/plain": [
       "   user_id  month   mb_used\n",
       "0     1000      5   2253.49\n",
       "1     1000      6  23233.77\n",
       "2     1000      7  14003.64\n",
       "3     1000      8  14055.93\n",
       "4     1000      9  14568.91"
      ]
     },
     "execution_count": 24,
     "metadata": {},
     "output_type": "execute_result"
    }
   ],
   "source": [
    "internet_user_month = internet.groupby(['user_id', 'month'])['mb_used'].sum().reset_index()\n",
    "internet_user_month.head()"
   ]
  },
  {
   "cell_type": "code",
   "execution_count": 25,
   "metadata": {},
   "outputs": [],
   "source": [
    "def converting_megabytes_to_gigabytes(data):\n",
    "    '''Мбайты делятся нацело на 1024 и на остаток от деления. Если остаток от деления не равен 0, остаток становиться 1.\n",
    "    Функция возвращает сумму двух чисел: целое от деление и остаток от деления(0, 1)'''\n",
    "    \n",
    "    integer = data // 1024\n",
    "    remains = data % 1024\n",
    "    \n",
    "    if remains != 0:\n",
    "        remains = 1\n",
    "        \n",
    "    return integer + remains"
   ]
  },
  {
   "cell_type": "code",
   "execution_count": 26,
   "metadata": {},
   "outputs": [],
   "source": [
    "internet_user_month['gb_used'] = internet_user_month['mb_used'].apply(converting_megabytes_to_gigabytes)"
   ]
  },
  {
   "cell_type": "code",
   "execution_count": 27,
   "metadata": {},
   "outputs": [
    {
     "data": {
      "text/html": [
       "<div>\n",
       "<style scoped>\n",
       "    .dataframe tbody tr th:only-of-type {\n",
       "        vertical-align: middle;\n",
       "    }\n",
       "\n",
       "    .dataframe tbody tr th {\n",
       "        vertical-align: top;\n",
       "    }\n",
       "\n",
       "    .dataframe thead th {\n",
       "        text-align: right;\n",
       "    }\n",
       "</style>\n",
       "<table border=\"1\" class=\"dataframe\">\n",
       "  <thead>\n",
       "    <tr style=\"text-align: right;\">\n",
       "      <th></th>\n",
       "      <th>user_id</th>\n",
       "      <th>month</th>\n",
       "      <th>mb_used</th>\n",
       "      <th>gb_used</th>\n",
       "    </tr>\n",
       "  </thead>\n",
       "  <tbody>\n",
       "    <tr>\n",
       "      <th>0</th>\n",
       "      <td>1000</td>\n",
       "      <td>5</td>\n",
       "      <td>2253.49</td>\n",
       "      <td>3.0</td>\n",
       "    </tr>\n",
       "    <tr>\n",
       "      <th>1</th>\n",
       "      <td>1000</td>\n",
       "      <td>6</td>\n",
       "      <td>23233.77</td>\n",
       "      <td>23.0</td>\n",
       "    </tr>\n",
       "    <tr>\n",
       "      <th>2</th>\n",
       "      <td>1000</td>\n",
       "      <td>7</td>\n",
       "      <td>14003.64</td>\n",
       "      <td>14.0</td>\n",
       "    </tr>\n",
       "    <tr>\n",
       "      <th>3</th>\n",
       "      <td>1000</td>\n",
       "      <td>8</td>\n",
       "      <td>14055.93</td>\n",
       "      <td>14.0</td>\n",
       "    </tr>\n",
       "    <tr>\n",
       "      <th>4</th>\n",
       "      <td>1000</td>\n",
       "      <td>9</td>\n",
       "      <td>14568.91</td>\n",
       "      <td>15.0</td>\n",
       "    </tr>\n",
       "  </tbody>\n",
       "</table>\n",
       "</div>"
      ],
      "text/plain": [
       "   user_id  month   mb_used  gb_used\n",
       "0     1000      5   2253.49      3.0\n",
       "1     1000      6  23233.77     23.0\n",
       "2     1000      7  14003.64     14.0\n",
       "3     1000      8  14055.93     14.0\n",
       "4     1000      9  14568.91     15.0"
      ]
     },
     "execution_count": 27,
     "metadata": {},
     "output_type": "execute_result"
    }
   ],
   "source": [
    "internet_user_month.head()"
   ]
  },
  {
   "cell_type": "code",
   "execution_count": 28,
   "metadata": {},
   "outputs": [
    {
     "data": {
      "text/plain": [
       "497"
      ]
     },
     "execution_count": 28,
     "metadata": {},
     "output_type": "execute_result"
    }
   ],
   "source": [
    "len(internet_user_month['user_id'].unique())"
   ]
  },
  {
   "cell_type": "markdown",
   "metadata": {},
   "source": [
    "Трое пользователей не пользуются интернетом."
   ]
  },
  {
   "cell_type": "code",
   "execution_count": 29,
   "metadata": {},
   "outputs": [
    {
     "data": {
      "text/plain": [
       "0.0"
      ]
     },
     "execution_count": 29,
     "metadata": {},
     "output_type": "execute_result"
    }
   ],
   "source": [
    "internet_user_month['gb_used'].min()"
   ]
  },
  {
   "cell_type": "markdown",
   "metadata": {},
   "source": [
    "Трафик нулевой, потому что пользователи не пользовались интернетом."
   ]
  },
  {
   "cell_type": "code",
   "execution_count": 30,
   "metadata": {},
   "outputs": [
    {
     "data": {
      "text/plain": [
       "49.0"
      ]
     },
     "execution_count": 30,
     "metadata": {},
     "output_type": "execute_result"
    }
   ],
   "source": [
    "internet_user_month['gb_used'].max()"
   ]
  },
  {
   "cell_type": "markdown",
   "metadata": {},
   "source": [
    "**Таблица messages (информация о сообщениях)**"
   ]
  },
  {
   "cell_type": "code",
   "execution_count": 31,
   "metadata": {},
   "outputs": [
    {
     "data": {
      "text/plain": [
       "123036"
      ]
     },
     "execution_count": 31,
     "metadata": {},
     "output_type": "execute_result"
    }
   ],
   "source": [
    "len(messages.id.unique())"
   ]
  },
  {
   "cell_type": "markdown",
   "metadata": {},
   "source": [
    "123036 уникальных номеров сообщения."
   ]
  },
  {
   "cell_type": "code",
   "execution_count": 32,
   "metadata": {},
   "outputs": [
    {
     "data": {
      "text/plain": [
       "426"
      ]
     },
     "execution_count": 32,
     "metadata": {},
     "output_type": "execute_result"
    }
   ],
   "source": [
    "len(messages.user_id.unique())"
   ]
  },
  {
   "cell_type": "markdown",
   "metadata": {},
   "source": [
    "74 пользователя не пользуются сообщениями."
   ]
  },
  {
   "cell_type": "markdown",
   "metadata": {},
   "source": [
    "Дабавляю столбец с номером месяца."
   ]
  },
  {
   "cell_type": "code",
   "execution_count": 33,
   "metadata": {},
   "outputs": [],
   "source": [
    "messages['month'] = messages['message_date'].dt.month"
   ]
  },
  {
   "cell_type": "code",
   "execution_count": 34,
   "metadata": {},
   "outputs": [
    {
     "data": {
      "text/html": [
       "<div>\n",
       "<style scoped>\n",
       "    .dataframe tbody tr th:only-of-type {\n",
       "        vertical-align: middle;\n",
       "    }\n",
       "\n",
       "    .dataframe tbody tr th {\n",
       "        vertical-align: top;\n",
       "    }\n",
       "\n",
       "    .dataframe thead th {\n",
       "        text-align: right;\n",
       "    }\n",
       "</style>\n",
       "<table border=\"1\" class=\"dataframe\">\n",
       "  <thead>\n",
       "    <tr style=\"text-align: right;\">\n",
       "      <th></th>\n",
       "      <th>id</th>\n",
       "      <th>message_date</th>\n",
       "      <th>user_id</th>\n",
       "      <th>month</th>\n",
       "    </tr>\n",
       "  </thead>\n",
       "  <tbody>\n",
       "    <tr>\n",
       "      <th>0</th>\n",
       "      <td>1000_0</td>\n",
       "      <td>2018-06-27</td>\n",
       "      <td>1000</td>\n",
       "      <td>6</td>\n",
       "    </tr>\n",
       "    <tr>\n",
       "      <th>1</th>\n",
       "      <td>1000_1</td>\n",
       "      <td>2018-10-08</td>\n",
       "      <td>1000</td>\n",
       "      <td>10</td>\n",
       "    </tr>\n",
       "    <tr>\n",
       "      <th>2</th>\n",
       "      <td>1000_2</td>\n",
       "      <td>2018-08-04</td>\n",
       "      <td>1000</td>\n",
       "      <td>8</td>\n",
       "    </tr>\n",
       "    <tr>\n",
       "      <th>3</th>\n",
       "      <td>1000_3</td>\n",
       "      <td>2018-06-16</td>\n",
       "      <td>1000</td>\n",
       "      <td>6</td>\n",
       "    </tr>\n",
       "    <tr>\n",
       "      <th>4</th>\n",
       "      <td>1000_4</td>\n",
       "      <td>2018-12-05</td>\n",
       "      <td>1000</td>\n",
       "      <td>12</td>\n",
       "    </tr>\n",
       "  </tbody>\n",
       "</table>\n",
       "</div>"
      ],
      "text/plain": [
       "       id message_date  user_id  month\n",
       "0  1000_0   2018-06-27     1000      6\n",
       "1  1000_1   2018-10-08     1000     10\n",
       "2  1000_2   2018-08-04     1000      8\n",
       "3  1000_3   2018-06-16     1000      6\n",
       "4  1000_4   2018-12-05     1000     12"
      ]
     },
     "execution_count": 34,
     "metadata": {},
     "output_type": "execute_result"
    }
   ],
   "source": [
    "messages.head()"
   ]
  },
  {
   "cell_type": "code",
   "execution_count": 35,
   "metadata": {},
   "outputs": [
    {
     "data": {
      "text/plain": [
       "0"
      ]
     },
     "execution_count": 35,
     "metadata": {},
     "output_type": "execute_result"
    }
   ],
   "source": [
    "messages.duplicated().sum()"
   ]
  },
  {
   "cell_type": "markdown",
   "metadata": {},
   "source": [
    "**Таблица users (информация о пользователях)**"
   ]
  },
  {
   "cell_type": "code",
   "execution_count": 36,
   "metadata": {},
   "outputs": [
    {
     "data": {
      "text/plain": [
       "array(['ultra', 'smart'], dtype=object)"
      ]
     },
     "execution_count": 36,
     "metadata": {},
     "output_type": "execute_result"
    }
   ],
   "source": [
    "users.tariff.unique()"
   ]
  },
  {
   "cell_type": "code",
   "execution_count": 37,
   "metadata": {},
   "outputs": [
    {
     "data": {
      "text/plain": [
       "500"
      ]
     },
     "execution_count": 37,
     "metadata": {},
     "output_type": "execute_result"
    }
   ],
   "source": [
    "len(users.user_id.unique())"
   ]
  },
  {
   "cell_type": "markdown",
   "metadata": {},
   "source": [
    "Уникальных номеров user_id - 500, как и количество пользователей."
   ]
  },
  {
   "cell_type": "code",
   "execution_count": 38,
   "metadata": {},
   "outputs": [
    {
     "data": {
      "text/plain": [
       "array([52, 41, 59, 23, 68, 67, 21, 65, 63, 24, 26, 44, 38, 36, 64, 58, 73,\n",
       "       71, 61, 72, 42, 56, 32, 62, 20, 51, 28, 66, 31, 37, 47, 40, 69, 48,\n",
       "       33, 39, 43, 46, 45, 55, 53, 34, 49, 25, 18, 70, 50, 19, 54, 60, 29,\n",
       "       27, 74, 22, 30, 75, 57, 35], dtype=int64)"
      ]
     },
     "execution_count": 38,
     "metadata": {},
     "output_type": "execute_result"
    }
   ],
   "source": [
    "users.age.unique()"
   ]
  },
  {
   "cell_type": "markdown",
   "metadata": {},
   "source": [
    "Пользователи разного возраста."
   ]
  },
  {
   "cell_type": "code",
   "execution_count": 39,
   "metadata": {},
   "outputs": [
    {
     "data": {
      "text/plain": [
       "18"
      ]
     },
     "execution_count": 39,
     "metadata": {},
     "output_type": "execute_result"
    }
   ],
   "source": [
    "# минимальный возраст\n",
    "users.age.min()"
   ]
  },
  {
   "cell_type": "code",
   "execution_count": 40,
   "metadata": {},
   "outputs": [
    {
     "data": {
      "text/plain": [
       "75"
      ]
     },
     "execution_count": 40,
     "metadata": {},
     "output_type": "execute_result"
    }
   ],
   "source": [
    "# максимальный возраст\n",
    "users.age.max()"
   ]
  },
  {
   "cell_type": "markdown",
   "metadata": {},
   "source": [
    "Все даты перевожу к типу datetime."
   ]
  },
  {
   "cell_type": "markdown",
   "metadata": {},
   "source": [
    "Добавлю номер месяца, когда пользователь начал пользоваться тарифом и когда отказался от тарифа."
   ]
  },
  {
   "cell_type": "code",
   "execution_count": 41,
   "metadata": {},
   "outputs": [],
   "source": [
    "users['churn_month'] = users['churn_date'].dt.month"
   ]
  },
  {
   "cell_type": "code",
   "execution_count": 42,
   "metadata": {},
   "outputs": [],
   "source": [
    "users['reg_month'] = users['reg_date'].dt.month"
   ]
  },
  {
   "cell_type": "code",
   "execution_count": 43,
   "metadata": {},
   "outputs": [
    {
     "data": {
      "text/html": [
       "<div>\n",
       "<style scoped>\n",
       "    .dataframe tbody tr th:only-of-type {\n",
       "        vertical-align: middle;\n",
       "    }\n",
       "\n",
       "    .dataframe tbody tr th {\n",
       "        vertical-align: top;\n",
       "    }\n",
       "\n",
       "    .dataframe thead th {\n",
       "        text-align: right;\n",
       "    }\n",
       "</style>\n",
       "<table border=\"1\" class=\"dataframe\">\n",
       "  <thead>\n",
       "    <tr style=\"text-align: right;\">\n",
       "      <th></th>\n",
       "      <th>user_id</th>\n",
       "      <th>age</th>\n",
       "      <th>churn_date</th>\n",
       "      <th>city</th>\n",
       "      <th>first_name</th>\n",
       "      <th>last_name</th>\n",
       "      <th>reg_date</th>\n",
       "      <th>tariff</th>\n",
       "      <th>churn_month</th>\n",
       "      <th>reg_month</th>\n",
       "    </tr>\n",
       "  </thead>\n",
       "  <tbody>\n",
       "    <tr>\n",
       "      <th>0</th>\n",
       "      <td>1000</td>\n",
       "      <td>52</td>\n",
       "      <td>NaT</td>\n",
       "      <td>Краснодар</td>\n",
       "      <td>Рафаил</td>\n",
       "      <td>Верещагин</td>\n",
       "      <td>2018-05-25</td>\n",
       "      <td>ultra</td>\n",
       "      <td>NaN</td>\n",
       "      <td>5</td>\n",
       "    </tr>\n",
       "    <tr>\n",
       "      <th>1</th>\n",
       "      <td>1001</td>\n",
       "      <td>41</td>\n",
       "      <td>NaT</td>\n",
       "      <td>Москва</td>\n",
       "      <td>Иван</td>\n",
       "      <td>Ежов</td>\n",
       "      <td>2018-11-01</td>\n",
       "      <td>smart</td>\n",
       "      <td>NaN</td>\n",
       "      <td>11</td>\n",
       "    </tr>\n",
       "    <tr>\n",
       "      <th>2</th>\n",
       "      <td>1002</td>\n",
       "      <td>59</td>\n",
       "      <td>NaT</td>\n",
       "      <td>Стерлитамак</td>\n",
       "      <td>Евгений</td>\n",
       "      <td>Абрамович</td>\n",
       "      <td>2018-06-17</td>\n",
       "      <td>smart</td>\n",
       "      <td>NaN</td>\n",
       "      <td>6</td>\n",
       "    </tr>\n",
       "    <tr>\n",
       "      <th>3</th>\n",
       "      <td>1003</td>\n",
       "      <td>23</td>\n",
       "      <td>NaT</td>\n",
       "      <td>Москва</td>\n",
       "      <td>Белла</td>\n",
       "      <td>Белякова</td>\n",
       "      <td>2018-08-17</td>\n",
       "      <td>ultra</td>\n",
       "      <td>NaN</td>\n",
       "      <td>8</td>\n",
       "    </tr>\n",
       "    <tr>\n",
       "      <th>4</th>\n",
       "      <td>1004</td>\n",
       "      <td>68</td>\n",
       "      <td>NaT</td>\n",
       "      <td>Новокузнецк</td>\n",
       "      <td>Татьяна</td>\n",
       "      <td>Авдеенко</td>\n",
       "      <td>2018-05-14</td>\n",
       "      <td>ultra</td>\n",
       "      <td>NaN</td>\n",
       "      <td>5</td>\n",
       "    </tr>\n",
       "  </tbody>\n",
       "</table>\n",
       "</div>"
      ],
      "text/plain": [
       "   user_id  age churn_date         city first_name  last_name   reg_date  \\\n",
       "0     1000   52        NaT    Краснодар     Рафаил  Верещагин 2018-05-25   \n",
       "1     1001   41        NaT       Москва       Иван       Ежов 2018-11-01   \n",
       "2     1002   59        NaT  Стерлитамак    Евгений  Абрамович 2018-06-17   \n",
       "3     1003   23        NaT       Москва      Белла   Белякова 2018-08-17   \n",
       "4     1004   68        NaT  Новокузнецк    Татьяна   Авдеенко 2018-05-14   \n",
       "\n",
       "  tariff  churn_month  reg_month  \n",
       "0  ultra          NaN          5  \n",
       "1  smart          NaN         11  \n",
       "2  smart          NaN          6  \n",
       "3  ultra          NaN          8  \n",
       "4  ultra          NaN          5  "
      ]
     },
     "execution_count": 43,
     "metadata": {},
     "output_type": "execute_result"
    }
   ],
   "source": [
    "users.head()"
   ]
  },
  {
   "cell_type": "code",
   "execution_count": 44,
   "metadata": {},
   "outputs": [
    {
     "data": {
      "text/plain": [
       "76"
      ]
     },
     "execution_count": 44,
     "metadata": {},
     "output_type": "execute_result"
    }
   ],
   "source": [
    "len(users.city.unique())"
   ]
  },
  {
   "cell_type": "markdown",
   "metadata": {},
   "source": [
    "Пользователи из 76 городов."
   ]
  },
  {
   "cell_type": "markdown",
   "metadata": {},
   "source": [
    "Пропуски в колонке *churn_date* - пользователь еще пользуется тарифом."
   ]
  },
  {
   "cell_type": "markdown",
   "metadata": {},
   "source": [
    "В данных есть нулевые значения: длительность звонка, интернет трафик.\n",
    "\n",
    "Если есть ноль в таблице internet, значит пользователь не пользуется этой услугой(интернетом) или нет интернет связи.\n",
    "\n",
    "Ноль в длительности звонка означает, что это пропущенный звонок, пользователь не дозвонился.\n",
    "\n",
    "Думаю, что строки с нулевыми значениями в колонках: лительность звонка, интернет трафик,можно удалить, так как они не понадобятся и могут мешать в дальнейшем анализе."
   ]
  },
  {
   "cell_type": "code",
   "execution_count": 45,
   "metadata": {},
   "outputs": [],
   "source": [
    "calls = calls.loc[calls.call_duration != 0]"
   ]
  },
  {
   "cell_type": "code",
   "execution_count": 46,
   "metadata": {},
   "outputs": [],
   "source": [
    "internet_user_month = internet_user_month.loc[internet_user_month.gb_used != 0]"
   ]
  },
  {
   "cell_type": "markdown",
   "metadata": {},
   "source": [
    "**Количество сделанных звонков и израсходованных минут разговора по месяцам у каждого пользователя**"
   ]
  },
  {
   "cell_type": "code",
   "execution_count": 47,
   "metadata": {},
   "outputs": [
    {
     "data": {
      "text/html": [
       "<div>\n",
       "<style scoped>\n",
       "    .dataframe tbody tr th:only-of-type {\n",
       "        vertical-align: middle;\n",
       "    }\n",
       "\n",
       "    .dataframe tbody tr th {\n",
       "        vertical-align: top;\n",
       "    }\n",
       "\n",
       "    .dataframe thead th {\n",
       "        text-align: right;\n",
       "    }\n",
       "</style>\n",
       "<table border=\"1\" class=\"dataframe\">\n",
       "  <thead>\n",
       "    <tr style=\"text-align: right;\">\n",
       "      <th></th>\n",
       "      <th>user_id</th>\n",
       "      <th>month</th>\n",
       "      <th>call_duration</th>\n",
       "    </tr>\n",
       "  </thead>\n",
       "  <tbody>\n",
       "    <tr>\n",
       "      <th>0</th>\n",
       "      <td>1000</td>\n",
       "      <td>5</td>\n",
       "      <td>159.0</td>\n",
       "    </tr>\n",
       "    <tr>\n",
       "      <th>1</th>\n",
       "      <td>1000</td>\n",
       "      <td>6</td>\n",
       "      <td>172.0</td>\n",
       "    </tr>\n",
       "    <tr>\n",
       "      <th>2</th>\n",
       "      <td>1000</td>\n",
       "      <td>7</td>\n",
       "      <td>340.0</td>\n",
       "    </tr>\n",
       "    <tr>\n",
       "      <th>3</th>\n",
       "      <td>1000</td>\n",
       "      <td>8</td>\n",
       "      <td>408.0</td>\n",
       "    </tr>\n",
       "    <tr>\n",
       "      <th>4</th>\n",
       "      <td>1000</td>\n",
       "      <td>9</td>\n",
       "      <td>466.0</td>\n",
       "    </tr>\n",
       "  </tbody>\n",
       "</table>\n",
       "</div>"
      ],
      "text/plain": [
       "   user_id  month  call_duration\n",
       "0     1000      5          159.0\n",
       "1     1000      6          172.0\n",
       "2     1000      7          340.0\n",
       "3     1000      8          408.0\n",
       "4     1000      9          466.0"
      ]
     },
     "execution_count": 47,
     "metadata": {},
     "output_type": "execute_result"
    }
   ],
   "source": [
    "# группирую данные таблицы calls по пользователю и месяцу\n",
    "duration_of_user_calls_by_month = calls.groupby(['user_id', 'month'])['call_duration'].sum().reset_index()\n",
    "duration_of_user_calls_by_month.head()"
   ]
  },
  {
   "cell_type": "markdown",
   "metadata": {},
   "source": [
    "Есть пользователи, которые приобрели тариф в середине, в конце года."
   ]
  },
  {
   "cell_type": "code",
   "execution_count": 48,
   "metadata": {},
   "outputs": [
    {
     "data": {
      "text/html": [
       "<div>\n",
       "<style scoped>\n",
       "    .dataframe tbody tr th:only-of-type {\n",
       "        vertical-align: middle;\n",
       "    }\n",
       "\n",
       "    .dataframe tbody tr th {\n",
       "        vertical-align: top;\n",
       "    }\n",
       "\n",
       "    .dataframe thead th {\n",
       "        text-align: right;\n",
       "    }\n",
       "</style>\n",
       "<table border=\"1\" class=\"dataframe\">\n",
       "  <thead>\n",
       "    <tr style=\"text-align: right;\">\n",
       "      <th></th>\n",
       "      <th>user_id</th>\n",
       "      <th>month</th>\n",
       "      <th>id</th>\n",
       "    </tr>\n",
       "  </thead>\n",
       "  <tbody>\n",
       "    <tr>\n",
       "      <th>0</th>\n",
       "      <td>1000</td>\n",
       "      <td>5</td>\n",
       "      <td>17</td>\n",
       "    </tr>\n",
       "    <tr>\n",
       "      <th>1</th>\n",
       "      <td>1000</td>\n",
       "      <td>6</td>\n",
       "      <td>28</td>\n",
       "    </tr>\n",
       "    <tr>\n",
       "      <th>2</th>\n",
       "      <td>1000</td>\n",
       "      <td>7</td>\n",
       "      <td>41</td>\n",
       "    </tr>\n",
       "    <tr>\n",
       "      <th>3</th>\n",
       "      <td>1000</td>\n",
       "      <td>8</td>\n",
       "      <td>42</td>\n",
       "    </tr>\n",
       "    <tr>\n",
       "      <th>4</th>\n",
       "      <td>1000</td>\n",
       "      <td>9</td>\n",
       "      <td>46</td>\n",
       "    </tr>\n",
       "    <tr>\n",
       "      <th>5</th>\n",
       "      <td>1000</td>\n",
       "      <td>10</td>\n",
       "      <td>44</td>\n",
       "    </tr>\n",
       "  </tbody>\n",
       "</table>\n",
       "</div>"
      ],
      "text/plain": [
       "   user_id  month  id\n",
       "0     1000      5  17\n",
       "1     1000      6  28\n",
       "2     1000      7  41\n",
       "3     1000      8  42\n",
       "4     1000      9  46\n",
       "5     1000     10  44"
      ]
     },
     "execution_count": 48,
     "metadata": {},
     "output_type": "execute_result"
    }
   ],
   "source": [
    "# количнсвто звонков у каждого пользователя по месяцам\n",
    "number_of_calls_per_month = calls.groupby(['user_id', 'month'])['id'].count().reset_index()\n",
    "number_of_calls_per_month.head(6)"
   ]
  },
  {
   "cell_type": "markdown",
   "metadata": {},
   "source": [
    "**Количество отправленных сообщений по месяцам у каждого пользователя**"
   ]
  },
  {
   "cell_type": "code",
   "execution_count": 49,
   "metadata": {},
   "outputs": [
    {
     "data": {
      "text/html": [
       "<div>\n",
       "<style scoped>\n",
       "    .dataframe tbody tr th:only-of-type {\n",
       "        vertical-align: middle;\n",
       "    }\n",
       "\n",
       "    .dataframe tbody tr th {\n",
       "        vertical-align: top;\n",
       "    }\n",
       "\n",
       "    .dataframe thead th {\n",
       "        text-align: right;\n",
       "    }\n",
       "</style>\n",
       "<table border=\"1\" class=\"dataframe\">\n",
       "  <thead>\n",
       "    <tr style=\"text-align: right;\">\n",
       "      <th></th>\n",
       "      <th>user_id</th>\n",
       "      <th>month</th>\n",
       "      <th>id</th>\n",
       "    </tr>\n",
       "  </thead>\n",
       "  <tbody>\n",
       "    <tr>\n",
       "      <th>0</th>\n",
       "      <td>1000</td>\n",
       "      <td>5</td>\n",
       "      <td>22</td>\n",
       "    </tr>\n",
       "    <tr>\n",
       "      <th>1</th>\n",
       "      <td>1000</td>\n",
       "      <td>6</td>\n",
       "      <td>60</td>\n",
       "    </tr>\n",
       "    <tr>\n",
       "      <th>2</th>\n",
       "      <td>1000</td>\n",
       "      <td>7</td>\n",
       "      <td>75</td>\n",
       "    </tr>\n",
       "    <tr>\n",
       "      <th>3</th>\n",
       "      <td>1000</td>\n",
       "      <td>8</td>\n",
       "      <td>81</td>\n",
       "    </tr>\n",
       "    <tr>\n",
       "      <th>4</th>\n",
       "      <td>1000</td>\n",
       "      <td>9</td>\n",
       "      <td>57</td>\n",
       "    </tr>\n",
       "  </tbody>\n",
       "</table>\n",
       "</div>"
      ],
      "text/plain": [
       "   user_id  month  id\n",
       "0     1000      5  22\n",
       "1     1000      6  60\n",
       "2     1000      7  75\n",
       "3     1000      8  81\n",
       "4     1000      9  57"
      ]
     },
     "execution_count": 49,
     "metadata": {},
     "output_type": "execute_result"
    }
   ],
   "source": [
    "number_of_messages_per_month = messages.groupby(['user_id', 'month'])['id'].count().reset_index()\n",
    "number_of_messages_per_month.head()"
   ]
  },
  {
   "cell_type": "markdown",
   "metadata": {},
   "source": [
    "**Объем израсходованного интернет-трафика по месяцам у каждого пользователя**"
   ]
  },
  {
   "cell_type": "code",
   "execution_count": 50,
   "metadata": {},
   "outputs": [
    {
     "data": {
      "text/html": [
       "<div>\n",
       "<style scoped>\n",
       "    .dataframe tbody tr th:only-of-type {\n",
       "        vertical-align: middle;\n",
       "    }\n",
       "\n",
       "    .dataframe tbody tr th {\n",
       "        vertical-align: top;\n",
       "    }\n",
       "\n",
       "    .dataframe thead th {\n",
       "        text-align: right;\n",
       "    }\n",
       "</style>\n",
       "<table border=\"1\" class=\"dataframe\">\n",
       "  <thead>\n",
       "    <tr style=\"text-align: right;\">\n",
       "      <th></th>\n",
       "      <th>user_id</th>\n",
       "      <th>month</th>\n",
       "      <th>mb_used</th>\n",
       "      <th>gb_used</th>\n",
       "    </tr>\n",
       "  </thead>\n",
       "  <tbody>\n",
       "    <tr>\n",
       "      <th>0</th>\n",
       "      <td>1000</td>\n",
       "      <td>5</td>\n",
       "      <td>2253.49</td>\n",
       "      <td>3.0</td>\n",
       "    </tr>\n",
       "    <tr>\n",
       "      <th>1</th>\n",
       "      <td>1000</td>\n",
       "      <td>6</td>\n",
       "      <td>23233.77</td>\n",
       "      <td>23.0</td>\n",
       "    </tr>\n",
       "    <tr>\n",
       "      <th>2</th>\n",
       "      <td>1000</td>\n",
       "      <td>7</td>\n",
       "      <td>14003.64</td>\n",
       "      <td>14.0</td>\n",
       "    </tr>\n",
       "    <tr>\n",
       "      <th>3</th>\n",
       "      <td>1000</td>\n",
       "      <td>8</td>\n",
       "      <td>14055.93</td>\n",
       "      <td>14.0</td>\n",
       "    </tr>\n",
       "    <tr>\n",
       "      <th>4</th>\n",
       "      <td>1000</td>\n",
       "      <td>9</td>\n",
       "      <td>14568.91</td>\n",
       "      <td>15.0</td>\n",
       "    </tr>\n",
       "  </tbody>\n",
       "</table>\n",
       "</div>"
      ],
      "text/plain": [
       "   user_id  month   mb_used  gb_used\n",
       "0     1000      5   2253.49      3.0\n",
       "1     1000      6  23233.77     23.0\n",
       "2     1000      7  14003.64     14.0\n",
       "3     1000      8  14055.93     14.0\n",
       "4     1000      9  14568.91     15.0"
      ]
     },
     "execution_count": 50,
     "metadata": {},
     "output_type": "execute_result"
    }
   ],
   "source": [
    "internet_user_month.head()"
   ]
  },
  {
   "cell_type": "markdown",
   "metadata": {},
   "source": [
    "Обьединяю таблицы: duration_of_user_calls_by_month, number_of_messages_per_month, internet_user_month в одну.\n",
    "\n",
    "Получиться таблица с пользователями и их затраты по тарифу по каждому месяцу."
   ]
  },
  {
   "cell_type": "code",
   "execution_count": 51,
   "metadata": {
    "scrolled": true
   },
   "outputs": [],
   "source": [
    "user_costs_per_tariff_per_month = (duration_of_user_calls_by_month\n",
    "                                   .merge(number_of_messages_per_month, on=['user_id', 'month'], how='outer')\n",
    "                                   .merge(internet_user_month[['user_id', 'month', 'gb_used']], on=['user_id', 'month'], \n",
    "                                          how='outer'))"
   ]
  },
  {
   "cell_type": "code",
   "execution_count": 52,
   "metadata": {},
   "outputs": [],
   "source": [
    "# переименую столбец id d count_messages\n",
    "user_costs_per_tariff_per_month = user_costs_per_tariff_per_month.rename(columns={'id': 'count_messages'})"
   ]
  },
  {
   "cell_type": "markdown",
   "metadata": {},
   "source": [
    "Дабавлю колонку с информацией о названии тарифа."
   ]
  },
  {
   "cell_type": "code",
   "execution_count": 53,
   "metadata": {},
   "outputs": [],
   "source": [
    "def name_of_the_tariffdef(data):\n",
    "    return users.loc[users.user_id == data]['tariff'].values[0]"
   ]
  },
  {
   "cell_type": "code",
   "execution_count": 54,
   "metadata": {},
   "outputs": [],
   "source": [
    "user_costs_per_tariff_per_month['tariff'] = user_costs_per_tariff_per_month['user_id'].apply(name_of_the_tariffdef)"
   ]
  },
  {
   "cell_type": "code",
   "execution_count": 55,
   "metadata": {},
   "outputs": [
    {
     "data": {
      "text/html": [
       "<div>\n",
       "<style scoped>\n",
       "    .dataframe tbody tr th:only-of-type {\n",
       "        vertical-align: middle;\n",
       "    }\n",
       "\n",
       "    .dataframe tbody tr th {\n",
       "        vertical-align: top;\n",
       "    }\n",
       "\n",
       "    .dataframe thead th {\n",
       "        text-align: right;\n",
       "    }\n",
       "</style>\n",
       "<table border=\"1\" class=\"dataframe\">\n",
       "  <thead>\n",
       "    <tr style=\"text-align: right;\">\n",
       "      <th></th>\n",
       "      <th>user_id</th>\n",
       "      <th>month</th>\n",
       "      <th>call_duration</th>\n",
       "      <th>count_messages</th>\n",
       "      <th>gb_used</th>\n",
       "      <th>tariff</th>\n",
       "    </tr>\n",
       "  </thead>\n",
       "  <tbody>\n",
       "    <tr>\n",
       "      <th>0</th>\n",
       "      <td>1000</td>\n",
       "      <td>5</td>\n",
       "      <td>159.0</td>\n",
       "      <td>22.0</td>\n",
       "      <td>3.0</td>\n",
       "      <td>ultra</td>\n",
       "    </tr>\n",
       "    <tr>\n",
       "      <th>1</th>\n",
       "      <td>1000</td>\n",
       "      <td>6</td>\n",
       "      <td>172.0</td>\n",
       "      <td>60.0</td>\n",
       "      <td>23.0</td>\n",
       "      <td>ultra</td>\n",
       "    </tr>\n",
       "    <tr>\n",
       "      <th>2</th>\n",
       "      <td>1000</td>\n",
       "      <td>7</td>\n",
       "      <td>340.0</td>\n",
       "      <td>75.0</td>\n",
       "      <td>14.0</td>\n",
       "      <td>ultra</td>\n",
       "    </tr>\n",
       "    <tr>\n",
       "      <th>3</th>\n",
       "      <td>1000</td>\n",
       "      <td>8</td>\n",
       "      <td>408.0</td>\n",
       "      <td>81.0</td>\n",
       "      <td>14.0</td>\n",
       "      <td>ultra</td>\n",
       "    </tr>\n",
       "    <tr>\n",
       "      <th>4</th>\n",
       "      <td>1000</td>\n",
       "      <td>9</td>\n",
       "      <td>466.0</td>\n",
       "      <td>57.0</td>\n",
       "      <td>15.0</td>\n",
       "      <td>ultra</td>\n",
       "    </tr>\n",
       "  </tbody>\n",
       "</table>\n",
       "</div>"
      ],
      "text/plain": [
       "   user_id  month  call_duration  count_messages  gb_used tariff\n",
       "0     1000      5          159.0            22.0      3.0  ultra\n",
       "1     1000      6          172.0            60.0     23.0  ultra\n",
       "2     1000      7          340.0            75.0     14.0  ultra\n",
       "3     1000      8          408.0            81.0     14.0  ultra\n",
       "4     1000      9          466.0            57.0     15.0  ultra"
      ]
     },
     "execution_count": 55,
     "metadata": {},
     "output_type": "execute_result"
    }
   ],
   "source": [
    "user_costs_per_tariff_per_month.head()"
   ]
  },
  {
   "cell_type": "code",
   "execution_count": 56,
   "metadata": {},
   "outputs": [
    {
     "data": {
      "text/html": [
       "<div>\n",
       "<style scoped>\n",
       "    .dataframe tbody tr th:only-of-type {\n",
       "        vertical-align: middle;\n",
       "    }\n",
       "\n",
       "    .dataframe tbody tr th {\n",
       "        vertical-align: top;\n",
       "    }\n",
       "\n",
       "    .dataframe thead th {\n",
       "        text-align: right;\n",
       "    }\n",
       "</style>\n",
       "<table border=\"1\" class=\"dataframe\">\n",
       "  <thead>\n",
       "    <tr style=\"text-align: right;\">\n",
       "      <th></th>\n",
       "      <th>messages_included</th>\n",
       "      <th>mb_per_month_included</th>\n",
       "      <th>minutes_included</th>\n",
       "      <th>rub_monthly_fee</th>\n",
       "      <th>rub_per_gb</th>\n",
       "      <th>rub_per_message</th>\n",
       "      <th>rub_per_minute</th>\n",
       "      <th>tariff_name</th>\n",
       "    </tr>\n",
       "  </thead>\n",
       "  <tbody>\n",
       "    <tr>\n",
       "      <th>0</th>\n",
       "      <td>50</td>\n",
       "      <td>15360</td>\n",
       "      <td>500</td>\n",
       "      <td>550</td>\n",
       "      <td>200</td>\n",
       "      <td>3</td>\n",
       "      <td>3</td>\n",
       "      <td>smart</td>\n",
       "    </tr>\n",
       "    <tr>\n",
       "      <th>1</th>\n",
       "      <td>1000</td>\n",
       "      <td>30720</td>\n",
       "      <td>3000</td>\n",
       "      <td>1950</td>\n",
       "      <td>150</td>\n",
       "      <td>1</td>\n",
       "      <td>1</td>\n",
       "      <td>ultra</td>\n",
       "    </tr>\n",
       "  </tbody>\n",
       "</table>\n",
       "</div>"
      ],
      "text/plain": [
       "   messages_included  mb_per_month_included  minutes_included  \\\n",
       "0                 50                  15360               500   \n",
       "1               1000                  30720              3000   \n",
       "\n",
       "   rub_monthly_fee  rub_per_gb  rub_per_message  rub_per_minute tariff_name  \n",
       "0              550         200                3               3       smart  \n",
       "1             1950         150                1               1       ultra  "
      ]
     },
     "execution_count": 56,
     "metadata": {},
     "output_type": "execute_result"
    }
   ],
   "source": [
    "tariffs"
   ]
  },
  {
   "cell_type": "code",
   "execution_count": 57,
   "metadata": {},
   "outputs": [
    {
     "data": {
      "text/html": [
       "<div>\n",
       "<style scoped>\n",
       "    .dataframe tbody tr th:only-of-type {\n",
       "        vertical-align: middle;\n",
       "    }\n",
       "\n",
       "    .dataframe tbody tr th {\n",
       "        vertical-align: top;\n",
       "    }\n",
       "\n",
       "    .dataframe thead th {\n",
       "        text-align: right;\n",
       "    }\n",
       "</style>\n",
       "<table border=\"1\" class=\"dataframe\">\n",
       "  <thead>\n",
       "    <tr style=\"text-align: right;\">\n",
       "      <th></th>\n",
       "      <th>messages_included</th>\n",
       "      <th>mb_per_month_included</th>\n",
       "      <th>minutes_included</th>\n",
       "      <th>rub_monthly_fee</th>\n",
       "      <th>rub_per_gb</th>\n",
       "      <th>rub_per_message</th>\n",
       "      <th>rub_per_minute</th>\n",
       "      <th>tariff_name</th>\n",
       "    </tr>\n",
       "  </thead>\n",
       "  <tbody>\n",
       "    <tr>\n",
       "      <th>0</th>\n",
       "      <td>50</td>\n",
       "      <td>15360</td>\n",
       "      <td>500</td>\n",
       "      <td>550</td>\n",
       "      <td>200</td>\n",
       "      <td>3</td>\n",
       "      <td>3</td>\n",
       "      <td>smart</td>\n",
       "    </tr>\n",
       "  </tbody>\n",
       "</table>\n",
       "</div>"
      ],
      "text/plain": [
       "   messages_included  mb_per_month_included  minutes_included  \\\n",
       "0                 50                  15360               500   \n",
       "\n",
       "   rub_monthly_fee  rub_per_gb  rub_per_message  rub_per_minute tariff_name  \n",
       "0              550         200                3               3       smart  "
      ]
     },
     "execution_count": 57,
     "metadata": {},
     "output_type": "execute_result"
    }
   ],
   "source": [
    "tariffs.loc[tariffs['tariff_name'] == 'smart']"
   ]
  },
  {
   "cell_type": "code",
   "execution_count": 58,
   "metadata": {},
   "outputs": [
    {
     "data": {
      "text/html": [
       "<div>\n",
       "<style scoped>\n",
       "    .dataframe tbody tr th:only-of-type {\n",
       "        vertical-align: middle;\n",
       "    }\n",
       "\n",
       "    .dataframe tbody tr th {\n",
       "        vertical-align: top;\n",
       "    }\n",
       "\n",
       "    .dataframe thead th {\n",
       "        text-align: right;\n",
       "    }\n",
       "</style>\n",
       "<table border=\"1\" class=\"dataframe\">\n",
       "  <thead>\n",
       "    <tr style=\"text-align: right;\">\n",
       "      <th></th>\n",
       "      <th>messages_included</th>\n",
       "      <th>mb_per_month_included</th>\n",
       "      <th>minutes_included</th>\n",
       "      <th>rub_monthly_fee</th>\n",
       "      <th>rub_per_gb</th>\n",
       "      <th>rub_per_message</th>\n",
       "      <th>rub_per_minute</th>\n",
       "      <th>tariff_name</th>\n",
       "    </tr>\n",
       "  </thead>\n",
       "  <tbody>\n",
       "    <tr>\n",
       "      <th>1</th>\n",
       "      <td>1000</td>\n",
       "      <td>30720</td>\n",
       "      <td>3000</td>\n",
       "      <td>1950</td>\n",
       "      <td>150</td>\n",
       "      <td>1</td>\n",
       "      <td>1</td>\n",
       "      <td>ultra</td>\n",
       "    </tr>\n",
       "  </tbody>\n",
       "</table>\n",
       "</div>"
      ],
      "text/plain": [
       "   messages_included  mb_per_month_included  minutes_included  \\\n",
       "1               1000                  30720              3000   \n",
       "\n",
       "   rub_monthly_fee  rub_per_gb  rub_per_message  rub_per_minute tariff_name  \n",
       "1             1950         150                1               1       ultra  "
      ]
     },
     "execution_count": 58,
     "metadata": {},
     "output_type": "execute_result"
    }
   ],
   "source": [
    "tariffs.loc[tariffs['tariff_name'] == 'ultra']"
   ]
  },
  {
   "cell_type": "markdown",
   "metadata": {},
   "source": [
    "**Помесячную выручку с каждого пользователя в каждом месяце**"
   ]
  },
  {
   "cell_type": "code",
   "execution_count": 59,
   "metadata": {},
   "outputs": [],
   "source": [
    "def price_of_tariff_in_month(data):\n",
    "   \n",
    "    # тариф пользователя\n",
    "    tariff = tariffs.loc[tariffs['tariff_name'] == data['tariff']]\n",
    "    # код пользователя\n",
    "    user = data['user_id']\n",
    "    \n",
    "    # строчки в табл. tariffs пронумерованы и в зависимости от тарифа, номер строки меняется\n",
    "    if data['tariff'] == 'smart':\n",
    "        line_number = 0\n",
    "    else:\n",
    "        line_number = 1\n",
    "        \n",
    "    # первоначальная стоимость тарифа\n",
    "    price = tariff.at[line_number, 'rub_monthly_fee']\n",
    "        \n",
    "    # лимит в тарифе на минуты, смс, интернет\n",
    "    mb_included = tariff.at[line_number, 'mb_per_month_included'] / 1024\n",
    "    messages_included = tariff.at[line_number, 'messages_included']\n",
    "    minutes_included = tariff.at[line_number, 'minutes_included']\n",
    "    \n",
    "    # если потраченные минуты, смс, интернет пользователем не превышают норму в тарифе, то price не меняется\n",
    "    # иначе излишки использованнх минут, смс, интернета умножаются на коэффиценты сверхтарифа\n",
    "    if data['call_duration'] > minutes_included:\n",
    "        price += (data['call_duration'] - minutes_included) * tariff.at[line_number, 'rub_per_minute']\n",
    "    if data['count_messages'] > messages_included:\n",
    "        price += (data['count_messages'] - messages_included) * tariff.at[line_number, 'rub_per_message']\n",
    "    if data['gb_used'] > mb_included:\n",
    "        price += (data['gb_used'] - mb_included)  * tariff.at[line_number, 'rub_per_gb']\n",
    "    return price\n",
    "            "
   ]
  },
  {
   "cell_type": "code",
   "execution_count": 60,
   "metadata": {},
   "outputs": [],
   "source": [
    "user_costs_per_tariff_per_month['price_tariff'] = user_costs_per_tariff_per_month.apply(price_of_tariff_in_month, axis=1)"
   ]
  },
  {
   "cell_type": "code",
   "execution_count": 61,
   "metadata": {},
   "outputs": [
    {
     "data": {
      "text/html": [
       "<div>\n",
       "<style scoped>\n",
       "    .dataframe tbody tr th:only-of-type {\n",
       "        vertical-align: middle;\n",
       "    }\n",
       "\n",
       "    .dataframe tbody tr th {\n",
       "        vertical-align: top;\n",
       "    }\n",
       "\n",
       "    .dataframe thead th {\n",
       "        text-align: right;\n",
       "    }\n",
       "</style>\n",
       "<table border=\"1\" class=\"dataframe\">\n",
       "  <thead>\n",
       "    <tr style=\"text-align: right;\">\n",
       "      <th></th>\n",
       "      <th>user_id</th>\n",
       "      <th>month</th>\n",
       "      <th>call_duration</th>\n",
       "      <th>count_messages</th>\n",
       "      <th>gb_used</th>\n",
       "      <th>tariff</th>\n",
       "      <th>price_tariff</th>\n",
       "    </tr>\n",
       "  </thead>\n",
       "  <tbody>\n",
       "    <tr>\n",
       "      <th>0</th>\n",
       "      <td>1000</td>\n",
       "      <td>5</td>\n",
       "      <td>159.0</td>\n",
       "      <td>22.0</td>\n",
       "      <td>3.0</td>\n",
       "      <td>ultra</td>\n",
       "      <td>1950.0</td>\n",
       "    </tr>\n",
       "    <tr>\n",
       "      <th>1</th>\n",
       "      <td>1000</td>\n",
       "      <td>6</td>\n",
       "      <td>172.0</td>\n",
       "      <td>60.0</td>\n",
       "      <td>23.0</td>\n",
       "      <td>ultra</td>\n",
       "      <td>1950.0</td>\n",
       "    </tr>\n",
       "    <tr>\n",
       "      <th>2</th>\n",
       "      <td>1000</td>\n",
       "      <td>7</td>\n",
       "      <td>340.0</td>\n",
       "      <td>75.0</td>\n",
       "      <td>14.0</td>\n",
       "      <td>ultra</td>\n",
       "      <td>1950.0</td>\n",
       "    </tr>\n",
       "    <tr>\n",
       "      <th>3</th>\n",
       "      <td>1000</td>\n",
       "      <td>8</td>\n",
       "      <td>408.0</td>\n",
       "      <td>81.0</td>\n",
       "      <td>14.0</td>\n",
       "      <td>ultra</td>\n",
       "      <td>1950.0</td>\n",
       "    </tr>\n",
       "    <tr>\n",
       "      <th>4</th>\n",
       "      <td>1000</td>\n",
       "      <td>9</td>\n",
       "      <td>466.0</td>\n",
       "      <td>57.0</td>\n",
       "      <td>15.0</td>\n",
       "      <td>ultra</td>\n",
       "      <td>1950.0</td>\n",
       "    </tr>\n",
       "    <tr>\n",
       "      <th>5</th>\n",
       "      <td>1000</td>\n",
       "      <td>10</td>\n",
       "      <td>350.0</td>\n",
       "      <td>73.0</td>\n",
       "      <td>15.0</td>\n",
       "      <td>ultra</td>\n",
       "      <td>1950.0</td>\n",
       "    </tr>\n",
       "    <tr>\n",
       "      <th>6</th>\n",
       "      <td>1000</td>\n",
       "      <td>11</td>\n",
       "      <td>338.0</td>\n",
       "      <td>58.0</td>\n",
       "      <td>15.0</td>\n",
       "      <td>ultra</td>\n",
       "      <td>1950.0</td>\n",
       "    </tr>\n",
       "    <tr>\n",
       "      <th>7</th>\n",
       "      <td>1000</td>\n",
       "      <td>12</td>\n",
       "      <td>333.0</td>\n",
       "      <td>70.0</td>\n",
       "      <td>10.0</td>\n",
       "      <td>ultra</td>\n",
       "      <td>1950.0</td>\n",
       "    </tr>\n",
       "    <tr>\n",
       "      <th>8</th>\n",
       "      <td>1001</td>\n",
       "      <td>11</td>\n",
       "      <td>430.0</td>\n",
       "      <td>NaN</td>\n",
       "      <td>18.0</td>\n",
       "      <td>smart</td>\n",
       "      <td>1150.0</td>\n",
       "    </tr>\n",
       "    <tr>\n",
       "      <th>9</th>\n",
       "      <td>1001</td>\n",
       "      <td>12</td>\n",
       "      <td>414.0</td>\n",
       "      <td>NaN</td>\n",
       "      <td>14.0</td>\n",
       "      <td>smart</td>\n",
       "      <td>550.0</td>\n",
       "    </tr>\n",
       "  </tbody>\n",
       "</table>\n",
       "</div>"
      ],
      "text/plain": [
       "   user_id  month  call_duration  count_messages  gb_used tariff  price_tariff\n",
       "0     1000      5          159.0            22.0      3.0  ultra        1950.0\n",
       "1     1000      6          172.0            60.0     23.0  ultra        1950.0\n",
       "2     1000      7          340.0            75.0     14.0  ultra        1950.0\n",
       "3     1000      8          408.0            81.0     14.0  ultra        1950.0\n",
       "4     1000      9          466.0            57.0     15.0  ultra        1950.0\n",
       "5     1000     10          350.0            73.0     15.0  ultra        1950.0\n",
       "6     1000     11          338.0            58.0     15.0  ultra        1950.0\n",
       "7     1000     12          333.0            70.0     10.0  ultra        1950.0\n",
       "8     1001     11          430.0             NaN     18.0  smart        1150.0\n",
       "9     1001     12          414.0             NaN     14.0  smart         550.0"
      ]
     },
     "execution_count": 61,
     "metadata": {},
     "output_type": "execute_result"
    }
   ],
   "source": [
    "user_costs_per_tariff_per_month.head(10)"
   ]
  },
  {
   "cell_type": "markdown",
   "metadata": {},
   "source": [
    "## Анализ данных"
   ]
  },
  {
   "cell_type": "markdown",
   "metadata": {},
   "source": [
    "\n",
    "Опишите поведение клиентов оператора, исходя из выборки. \n",
    "\n",
    "\n",
    "Сколько минут разговора, сколько сообщений и какой объём интернет-трафика требуется пользователям каждого тарифа в месяц? "
   ]
  },
  {
   "cell_type": "markdown",
   "metadata": {},
   "source": [
    "**Расходы минут пользователей по месяцам и тарифам.**"
   ]
  },
  {
   "cell_type": "code",
   "execution_count": 62,
   "metadata": {},
   "outputs": [
    {
     "data": {
      "text/html": [
       "<div>\n",
       "<style scoped>\n",
       "    .dataframe tbody tr th:only-of-type {\n",
       "        vertical-align: middle;\n",
       "    }\n",
       "\n",
       "    .dataframe tbody tr th {\n",
       "        vertical-align: top;\n",
       "    }\n",
       "\n",
       "    .dataframe thead th {\n",
       "        text-align: right;\n",
       "    }\n",
       "</style>\n",
       "<table border=\"1\" class=\"dataframe\">\n",
       "  <thead>\n",
       "    <tr style=\"text-align: right;\">\n",
       "      <th></th>\n",
       "      <th>call_duration</th>\n",
       "    </tr>\n",
       "    <tr>\n",
       "      <th>month</th>\n",
       "      <th></th>\n",
       "    </tr>\n",
       "  </thead>\n",
       "  <tbody>\n",
       "    <tr>\n",
       "      <th>1</th>\n",
       "      <td>428.111111</td>\n",
       "    </tr>\n",
       "    <tr>\n",
       "      <th>2</th>\n",
       "      <td>310.043478</td>\n",
       "    </tr>\n",
       "    <tr>\n",
       "      <th>3</th>\n",
       "      <td>489.648649</td>\n",
       "    </tr>\n",
       "    <tr>\n",
       "      <th>4</th>\n",
       "      <td>475.301887</td>\n",
       "    </tr>\n",
       "    <tr>\n",
       "      <th>5</th>\n",
       "      <td>534.250000</td>\n",
       "    </tr>\n",
       "    <tr>\n",
       "      <th>6</th>\n",
       "      <td>497.469136</td>\n",
       "    </tr>\n",
       "    <tr>\n",
       "      <th>7</th>\n",
       "      <td>570.885057</td>\n",
       "    </tr>\n",
       "    <tr>\n",
       "      <th>8</th>\n",
       "      <td>535.813725</td>\n",
       "    </tr>\n",
       "    <tr>\n",
       "      <th>9</th>\n",
       "      <td>563.963636</td>\n",
       "    </tr>\n",
       "    <tr>\n",
       "      <th>10</th>\n",
       "      <td>581.728814</td>\n",
       "    </tr>\n",
       "    <tr>\n",
       "      <th>11</th>\n",
       "      <td>562.364341</td>\n",
       "    </tr>\n",
       "    <tr>\n",
       "      <th>12</th>\n",
       "      <td>614.925373</td>\n",
       "    </tr>\n",
       "  </tbody>\n",
       "</table>\n",
       "</div>"
      ],
      "text/plain": [
       "       call_duration\n",
       "month               \n",
       "1         428.111111\n",
       "2         310.043478\n",
       "3         489.648649\n",
       "4         475.301887\n",
       "5         534.250000\n",
       "6         497.469136\n",
       "7         570.885057\n",
       "8         535.813725\n",
       "9         563.963636\n",
       "10        581.728814\n",
       "11        562.364341\n",
       "12        614.925373"
      ]
     },
     "execution_count": 62,
     "metadata": {},
     "output_type": "execute_result"
    }
   ],
   "source": [
    "tariff_ultra_duration_of_calls = (user_costs_per_tariff_per_month\n",
    "                                  .loc[user_costs_per_tariff_per_month.tariff == 'ultra'][['month', 'call_duration']]\n",
    "                                  .groupby('month').mean())\n",
    "tariff_ultra_duration_of_calls"
   ]
  },
  {
   "cell_type": "code",
   "execution_count": 63,
   "metadata": {},
   "outputs": [
    {
     "data": {
      "text/html": [
       "<div>\n",
       "<style scoped>\n",
       "    .dataframe tbody tr th:only-of-type {\n",
       "        vertical-align: middle;\n",
       "    }\n",
       "\n",
       "    .dataframe tbody tr th {\n",
       "        vertical-align: top;\n",
       "    }\n",
       "\n",
       "    .dataframe thead th {\n",
       "        text-align: right;\n",
       "    }\n",
       "</style>\n",
       "<table border=\"1\" class=\"dataframe\">\n",
       "  <thead>\n",
       "    <tr style=\"text-align: right;\">\n",
       "      <th></th>\n",
       "      <th>call_duration</th>\n",
       "    </tr>\n",
       "    <tr>\n",
       "      <th>month</th>\n",
       "      <th></th>\n",
       "    </tr>\n",
       "  </thead>\n",
       "  <tbody>\n",
       "    <tr>\n",
       "      <th>1</th>\n",
       "      <td>210.030303</td>\n",
       "    </tr>\n",
       "    <tr>\n",
       "      <th>2</th>\n",
       "      <td>298.689655</td>\n",
       "    </tr>\n",
       "    <tr>\n",
       "      <th>3</th>\n",
       "      <td>390.051948</td>\n",
       "    </tr>\n",
       "    <tr>\n",
       "      <th>4</th>\n",
       "      <td>370.441441</td>\n",
       "    </tr>\n",
       "    <tr>\n",
       "      <th>5</th>\n",
       "      <td>387.361702</td>\n",
       "    </tr>\n",
       "    <tr>\n",
       "      <th>6</th>\n",
       "      <td>398.067485</td>\n",
       "    </tr>\n",
       "    <tr>\n",
       "      <th>7</th>\n",
       "      <td>408.353234</td>\n",
       "    </tr>\n",
       "    <tr>\n",
       "      <th>8</th>\n",
       "      <td>423.269231</td>\n",
       "    </tr>\n",
       "    <tr>\n",
       "      <th>9</th>\n",
       "      <td>430.266409</td>\n",
       "    </tr>\n",
       "    <tr>\n",
       "      <th>10</th>\n",
       "      <td>427.590444</td>\n",
       "    </tr>\n",
       "    <tr>\n",
       "      <th>11</th>\n",
       "      <td>436.647619</td>\n",
       "    </tr>\n",
       "    <tr>\n",
       "      <th>12</th>\n",
       "      <td>479.985119</td>\n",
       "    </tr>\n",
       "  </tbody>\n",
       "</table>\n",
       "</div>"
      ],
      "text/plain": [
       "       call_duration\n",
       "month               \n",
       "1         210.030303\n",
       "2         298.689655\n",
       "3         390.051948\n",
       "4         370.441441\n",
       "5         387.361702\n",
       "6         398.067485\n",
       "7         408.353234\n",
       "8         423.269231\n",
       "9         430.266409\n",
       "10        427.590444\n",
       "11        436.647619\n",
       "12        479.985119"
      ]
     },
     "execution_count": 63,
     "metadata": {},
     "output_type": "execute_result"
    }
   ],
   "source": [
    "tariff_smart_duration_of_calls = (user_costs_per_tariff_per_month\n",
    "                                  .loc[user_costs_per_tariff_per_month.tariff == 'smart'][['month', 'call_duration']]\n",
    "                                  .groupby('month').mean())\n",
    "tariff_smart_duration_of_calls"
   ]
  },
  {
   "cell_type": "markdown",
   "metadata": {},
   "source": [
    "Расходы минут по месяцам в разных тарифах."
   ]
  },
  {
   "cell_type": "code",
   "execution_count": 64,
   "metadata": {},
   "outputs": [
    {
     "data": {
      "image/png": "[encoded data removed]",
      "text/plain": [
       "<Figure size 864x432 with 1 Axes>"
      ]
     },
     "metadata": {
      "needs_background": "light"
     },
     "output_type": "display_data"
    }
   ],
   "source": [
    "fig, ax = plt.subplots(figsize=(12, 6))\n",
    "\n",
    "x = np.arange(1, 13, 1)\n",
    "y = tariff_smart_duration_of_calls['call_duration']\n",
    "z = tariff_ultra_duration_of_calls['call_duration']\n",
    "\n",
    "ax.plot(y, color='blue', label='Smart')\n",
    "ax.plot(z, color='black', label='Ultra')\n",
    "ax.set_xlabel('Месяц')\n",
    "ax.set_ylabel('Средняя длятельность звонков за месяц')\n",
    "\n",
    "ax.legend()\n",
    "\n",
    "plt.show()"
   ]
  },
  {
   "cell_type": "markdown",
   "metadata": {},
   "source": [
    "Пользователи с тарифом ультра активней пользуются звонками, больше тратят минуты на звонки.\n",
    "\n",
    "В тарифе smart и ultra:\n",
    "- в начале года минимальное количество потраченных минут на звонки\n",
    "- с ростом номера месяца, растут и потраченные минуты на звонки\n",
    "- в декабре максимальное количнство потраченных минут"
   ]
  },
  {
   "cell_type": "markdown",
   "metadata": {},
   "source": [
    "**Количество сообщений пользователей по месяцам и тарифам.**"
   ]
  },
  {
   "cell_type": "code",
   "execution_count": 65,
   "metadata": {},
   "outputs": [
    {
     "data": {
      "text/html": [
       "<div>\n",
       "<style scoped>\n",
       "    .dataframe tbody tr th:only-of-type {\n",
       "        vertical-align: middle;\n",
       "    }\n",
       "\n",
       "    .dataframe tbody tr th {\n",
       "        vertical-align: top;\n",
       "    }\n",
       "\n",
       "    .dataframe thead th {\n",
       "        text-align: right;\n",
       "    }\n",
       "</style>\n",
       "<table border=\"1\" class=\"dataframe\">\n",
       "  <thead>\n",
       "    <tr style=\"text-align: right;\">\n",
       "      <th></th>\n",
       "      <th>count_messages</th>\n",
       "    </tr>\n",
       "    <tr>\n",
       "      <th>month</th>\n",
       "      <th></th>\n",
       "    </tr>\n",
       "  </thead>\n",
       "  <tbody>\n",
       "    <tr>\n",
       "      <th>1</th>\n",
       "      <td>43.428571</td>\n",
       "    </tr>\n",
       "    <tr>\n",
       "      <th>2</th>\n",
       "      <td>32.937500</td>\n",
       "    </tr>\n",
       "    <tr>\n",
       "      <th>3</th>\n",
       "      <td>47.800000</td>\n",
       "    </tr>\n",
       "    <tr>\n",
       "      <th>4</th>\n",
       "      <td>44.512821</td>\n",
       "    </tr>\n",
       "    <tr>\n",
       "      <th>5</th>\n",
       "      <td>48.769231</td>\n",
       "    </tr>\n",
       "    <tr>\n",
       "      <th>6</th>\n",
       "      <td>52.313433</td>\n",
       "    </tr>\n",
       "    <tr>\n",
       "      <th>7</th>\n",
       "      <td>62.136986</td>\n",
       "    </tr>\n",
       "    <tr>\n",
       "      <th>8</th>\n",
       "      <td>58.897727</td>\n",
       "    </tr>\n",
       "    <tr>\n",
       "      <th>9</th>\n",
       "      <td>63.294737</td>\n",
       "    </tr>\n",
       "    <tr>\n",
       "      <th>10</th>\n",
       "      <td>69.776699</td>\n",
       "    </tr>\n",
       "    <tr>\n",
       "      <th>11</th>\n",
       "      <td>66.159292</td>\n",
       "    </tr>\n",
       "    <tr>\n",
       "      <th>12</th>\n",
       "      <td>72.008547</td>\n",
       "    </tr>\n",
       "  </tbody>\n",
       "</table>\n",
       "</div>"
      ],
      "text/plain": [
       "       count_messages\n",
       "month                \n",
       "1           43.428571\n",
       "2           32.937500\n",
       "3           47.800000\n",
       "4           44.512821\n",
       "5           48.769231\n",
       "6           52.313433\n",
       "7           62.136986\n",
       "8           58.897727\n",
       "9           63.294737\n",
       "10          69.776699\n",
       "11          66.159292\n",
       "12          72.008547"
      ]
     },
     "execution_count": 65,
     "metadata": {},
     "output_type": "execute_result"
    }
   ],
   "source": [
    "tariff_ultra_count_messages = (user_costs_per_tariff_per_month\n",
    "                                  .loc[user_costs_per_tariff_per_month.tariff == 'ultra'][['month', 'count_messages']]\n",
    "                                  .groupby('month').mean())\n",
    "tariff_ultra_count_messages"
   ]
  },
  {
   "cell_type": "code",
   "execution_count": 66,
   "metadata": {},
   "outputs": [
    {
     "data": {
      "text/html": [
       "<div>\n",
       "<style scoped>\n",
       "    .dataframe tbody tr th:only-of-type {\n",
       "        vertical-align: middle;\n",
       "    }\n",
       "\n",
       "    .dataframe tbody tr th {\n",
       "        vertical-align: top;\n",
       "    }\n",
       "\n",
       "    .dataframe thead th {\n",
       "        text-align: right;\n",
       "    }\n",
       "</style>\n",
       "<table border=\"1\" class=\"dataframe\">\n",
       "  <thead>\n",
       "    <tr style=\"text-align: right;\">\n",
       "      <th></th>\n",
       "      <th>count_messages</th>\n",
       "    </tr>\n",
       "    <tr>\n",
       "      <th>month</th>\n",
       "      <th></th>\n",
       "    </tr>\n",
       "  </thead>\n",
       "  <tbody>\n",
       "    <tr>\n",
       "      <th>1</th>\n",
       "      <td>20.000000</td>\n",
       "    </tr>\n",
       "    <tr>\n",
       "      <th>2</th>\n",
       "      <td>27.940000</td>\n",
       "    </tr>\n",
       "    <tr>\n",
       "      <th>3</th>\n",
       "      <td>35.550725</td>\n",
       "    </tr>\n",
       "    <tr>\n",
       "      <th>4</th>\n",
       "      <td>35.864583</td>\n",
       "    </tr>\n",
       "    <tr>\n",
       "      <th>5</th>\n",
       "      <td>39.032787</td>\n",
       "    </tr>\n",
       "    <tr>\n",
       "      <th>6</th>\n",
       "      <td>38.577465</td>\n",
       "    </tr>\n",
       "    <tr>\n",
       "      <th>7</th>\n",
       "      <td>38.988506</td>\n",
       "    </tr>\n",
       "    <tr>\n",
       "      <th>8</th>\n",
       "      <td>38.750000</td>\n",
       "    </tr>\n",
       "    <tr>\n",
       "      <th>9</th>\n",
       "      <td>39.219731</td>\n",
       "    </tr>\n",
       "    <tr>\n",
       "      <th>10</th>\n",
       "      <td>39.082677</td>\n",
       "    </tr>\n",
       "    <tr>\n",
       "      <th>11</th>\n",
       "      <td>39.881481</td>\n",
       "    </tr>\n",
       "    <tr>\n",
       "      <th>12</th>\n",
       "      <td>42.264808</td>\n",
       "    </tr>\n",
       "  </tbody>\n",
       "</table>\n",
       "</div>"
      ],
      "text/plain": [
       "       count_messages\n",
       "month                \n",
       "1           20.000000\n",
       "2           27.940000\n",
       "3           35.550725\n",
       "4           35.864583\n",
       "5           39.032787\n",
       "6           38.577465\n",
       "7           38.988506\n",
       "8           38.750000\n",
       "9           39.219731\n",
       "10          39.082677\n",
       "11          39.881481\n",
       "12          42.264808"
      ]
     },
     "execution_count": 66,
     "metadata": {},
     "output_type": "execute_result"
    }
   ],
   "source": [
    "tariff_smart_count_messages = (user_costs_per_tariff_per_month\n",
    "                                  .loc[user_costs_per_tariff_per_month.tariff == 'smart'][['month', 'count_messages']]\n",
    "                                  .groupby('month').mean())\n",
    "tariff_smart_count_messages"
   ]
  },
  {
   "cell_type": "code",
   "execution_count": 67,
   "metadata": {},
   "outputs": [
    {
     "data": {
      "image/png": "[encoded data removed]",
      "text/plain": [
       "<Figure size 864x432 with 1 Axes>"
      ]
     },
     "metadata": {
      "needs_background": "light"
     },
     "output_type": "display_data"
    }
   ],
   "source": [
    "fig, ax = plt.subplots(figsize=(12, 6))\n",
    "\n",
    "x = np.arange(1, 12)\n",
    "y = tariff_smart_count_messages['count_messages']\n",
    "z = tariff_ultra_count_messages['count_messages']\n",
    "\n",
    "ax.plot(y, color='blue', label='Smart')\n",
    "ax.plot(z, color='black', label='Ultra')\n",
    "ax.set_xlabel('Месяц')\n",
    "ax.set_ylabel('Среднее количество сообщений в месяц')\n",
    "\n",
    "ax.legend()\n",
    "\n",
    "plt.show()"
   ]
  },
  {
   "cell_type": "markdown",
   "metadata": {},
   "source": [
    "Пользователи тарифа *ultra* больше отправляют сообщений.\n",
    "\n",
    "К концу года пользователи тарифов *smart, ultra* отправляют больше смс, в тарифе *ultra* это более выраженно."
   ]
  },
  {
   "cell_type": "markdown",
   "metadata": {},
   "source": [
    "**Использованный интернет трафик по месяцам и тарифам.**"
   ]
  },
  {
   "cell_type": "code",
   "execution_count": 68,
   "metadata": {},
   "outputs": [
    {
     "data": {
      "text/html": [
       "<div>\n",
       "<style scoped>\n",
       "    .dataframe tbody tr th:only-of-type {\n",
       "        vertical-align: middle;\n",
       "    }\n",
       "\n",
       "    .dataframe tbody tr th {\n",
       "        vertical-align: top;\n",
       "    }\n",
       "\n",
       "    .dataframe thead th {\n",
       "        text-align: right;\n",
       "    }\n",
       "</style>\n",
       "<table border=\"1\" class=\"dataframe\">\n",
       "  <thead>\n",
       "    <tr style=\"text-align: right;\">\n",
       "      <th></th>\n",
       "      <th>gb_used</th>\n",
       "    </tr>\n",
       "    <tr>\n",
       "      <th>month</th>\n",
       "      <th></th>\n",
       "    </tr>\n",
       "  </thead>\n",
       "  <tbody>\n",
       "    <tr>\n",
       "      <th>1</th>\n",
       "      <td>13.222222</td>\n",
       "    </tr>\n",
       "    <tr>\n",
       "      <th>2</th>\n",
       "      <td>13.090909</td>\n",
       "    </tr>\n",
       "    <tr>\n",
       "      <th>3</th>\n",
       "      <td>17.648649</td>\n",
       "    </tr>\n",
       "    <tr>\n",
       "      <th>4</th>\n",
       "      <td>16.963636</td>\n",
       "    </tr>\n",
       "    <tr>\n",
       "      <th>5</th>\n",
       "      <td>19.969231</td>\n",
       "    </tr>\n",
       "    <tr>\n",
       "      <th>6</th>\n",
       "      <td>19.168675</td>\n",
       "    </tr>\n",
       "    <tr>\n",
       "      <th>7</th>\n",
       "      <td>20.733333</td>\n",
       "    </tr>\n",
       "    <tr>\n",
       "      <th>8</th>\n",
       "      <td>19.783019</td>\n",
       "    </tr>\n",
       "    <tr>\n",
       "      <th>9</th>\n",
       "      <td>19.412281</td>\n",
       "    </tr>\n",
       "    <tr>\n",
       "      <th>10</th>\n",
       "      <td>20.229508</td>\n",
       "    </tr>\n",
       "    <tr>\n",
       "      <th>11</th>\n",
       "      <td>19.954887</td>\n",
       "    </tr>\n",
       "    <tr>\n",
       "      <th>12</th>\n",
       "      <td>21.898551</td>\n",
       "    </tr>\n",
       "  </tbody>\n",
       "</table>\n",
       "</div>"
      ],
      "text/plain": [
       "         gb_used\n",
       "month           \n",
       "1      13.222222\n",
       "2      13.090909\n",
       "3      17.648649\n",
       "4      16.963636\n",
       "5      19.969231\n",
       "6      19.168675\n",
       "7      20.733333\n",
       "8      19.783019\n",
       "9      19.412281\n",
       "10     20.229508\n",
       "11     19.954887\n",
       "12     21.898551"
      ]
     },
     "execution_count": 68,
     "metadata": {},
     "output_type": "execute_result"
    }
   ],
   "source": [
    "tariff_ultra_gb_used = (user_costs_per_tariff_per_month\n",
    "                                  .loc[user_costs_per_tariff_per_month.tariff == 'ultra'][['month', 'gb_used']]\n",
    "                                  .groupby('month').mean())\n",
    "tariff_ultra_gb_used"
   ]
  },
  {
   "cell_type": "code",
   "execution_count": 69,
   "metadata": {},
   "outputs": [
    {
     "data": {
      "text/html": [
       "<div>\n",
       "<style scoped>\n",
       "    .dataframe tbody tr th:only-of-type {\n",
       "        vertical-align: middle;\n",
       "    }\n",
       "\n",
       "    .dataframe tbody tr th {\n",
       "        vertical-align: top;\n",
       "    }\n",
       "\n",
       "    .dataframe thead th {\n",
       "        text-align: right;\n",
       "    }\n",
       "</style>\n",
       "<table border=\"1\" class=\"dataframe\">\n",
       "  <thead>\n",
       "    <tr style=\"text-align: right;\">\n",
       "      <th></th>\n",
       "      <th>gb_used</th>\n",
       "    </tr>\n",
       "    <tr>\n",
       "      <th>month</th>\n",
       "      <th></th>\n",
       "    </tr>\n",
       "  </thead>\n",
       "  <tbody>\n",
       "    <tr>\n",
       "      <th>1</th>\n",
       "      <td>8.735294</td>\n",
       "    </tr>\n",
       "    <tr>\n",
       "      <th>2</th>\n",
       "      <td>11.844828</td>\n",
       "    </tr>\n",
       "    <tr>\n",
       "      <th>3</th>\n",
       "      <td>15.233766</td>\n",
       "    </tr>\n",
       "    <tr>\n",
       "      <th>4</th>\n",
       "      <td>13.625000</td>\n",
       "    </tr>\n",
       "    <tr>\n",
       "      <th>5</th>\n",
       "      <td>15.907801</td>\n",
       "    </tr>\n",
       "    <tr>\n",
       "      <th>6</th>\n",
       "      <td>15.951220</td>\n",
       "    </tr>\n",
       "    <tr>\n",
       "      <th>7</th>\n",
       "      <td>15.875622</td>\n",
       "    </tr>\n",
       "    <tr>\n",
       "      <th>8</th>\n",
       "      <td>16.807692</td>\n",
       "    </tr>\n",
       "    <tr>\n",
       "      <th>9</th>\n",
       "      <td>16.392308</td>\n",
       "    </tr>\n",
       "    <tr>\n",
       "      <th>10</th>\n",
       "      <td>16.938567</td>\n",
       "    </tr>\n",
       "    <tr>\n",
       "      <th>11</th>\n",
       "      <td>17.000000</td>\n",
       "    </tr>\n",
       "    <tr>\n",
       "      <th>12</th>\n",
       "      <td>18.201780</td>\n",
       "    </tr>\n",
       "  </tbody>\n",
       "</table>\n",
       "</div>"
      ],
      "text/plain": [
       "         gb_used\n",
       "month           \n",
       "1       8.735294\n",
       "2      11.844828\n",
       "3      15.233766\n",
       "4      13.625000\n",
       "5      15.907801\n",
       "6      15.951220\n",
       "7      15.875622\n",
       "8      16.807692\n",
       "9      16.392308\n",
       "10     16.938567\n",
       "11     17.000000\n",
       "12     18.201780"
      ]
     },
     "execution_count": 69,
     "metadata": {},
     "output_type": "execute_result"
    }
   ],
   "source": [
    "tariff_smart_gb_used = (user_costs_per_tariff_per_month\n",
    "                                  .loc[user_costs_per_tariff_per_month.tariff == 'smart'][['month', 'gb_used']]\n",
    "                                  .groupby('month').mean())\n",
    "tariff_smart_gb_used"
   ]
  },
  {
   "cell_type": "code",
   "execution_count": 70,
   "metadata": {},
   "outputs": [
    {
     "data": {
      "image/png": "[encoded data removed]",
      "text/plain": [
       "<Figure size 864x432 with 1 Axes>"
      ]
     },
     "metadata": {
      "needs_background": "light"
     },
     "output_type": "display_data"
    }
   ],
   "source": [
    "fig, ax = plt.subplots(figsize=(12, 6))\n",
    "\n",
    "x = np.arange(1, 12)\n",
    "y = tariff_smart_gb_used['gb_used']\n",
    "z = tariff_ultra_gb_used['gb_used']\n",
    "\n",
    "ax.plot(y, color='blue', label='Smart')\n",
    "ax.plot(z, color='black', label='Ultra')\n",
    "ax.set_xlabel('Месяц')\n",
    "ax.set_ylabel('Среднее количество потраченных гбайт в месяц')\n",
    "\n",
    "ax.legend()\n",
    "\n",
    "plt.show()"
   ]
  },
  {
   "cell_type": "markdown",
   "metadata": {},
   "source": [
    "Пользователи тарифа *ultra* тратят больше гбайт в месяц.\n",
    "\n",
    "На графии линии тарифов почти синхронны, спад и подьем трафика в одинаковых точках.\n",
    "\n",
    "Пользователи тарифов smart и ultra в декабре больше тратят гбайт, чем в начале года."
   ]
  },
  {
   "cell_type": "markdown",
   "metadata": {},
   "source": [
    "**Среднее количество, дисперсия, стандартное отклонение и гистограмма потраченных минут на разговоры в тарифах.**"
   ]
  },
  {
   "cell_type": "code",
   "execution_count": 71,
   "metadata": {},
   "outputs": [],
   "source": [
    "# пользователи тарифа ultra\n",
    "user_costs_per_tariff_ultra_per_month = user_costs_per_tariff_per_month.loc[user_costs_per_tariff_per_month.tariff == 'ultra']"
   ]
  },
  {
   "cell_type": "code",
   "execution_count": 72,
   "metadata": {},
   "outputs": [],
   "source": [
    "# пользователи тарифа smart\n",
    "user_costs_per_tariff_smart_per_month = user_costs_per_tariff_per_month.loc[user_costs_per_tariff_per_month.tariff == 'smart']"
   ]
  },
  {
   "cell_type": "code",
   "execution_count": 73,
   "metadata": {},
   "outputs": [
    {
     "data": {
      "text/plain": [
       "419.4403421882035"
      ]
     },
     "execution_count": 73,
     "metadata": {},
     "output_type": "execute_result"
    }
   ],
   "source": [
    "# Среднее значение потраченных минут в тарифе smart\n",
    "user_costs_per_tariff_smart_per_month['call_duration'].mean()"
   ]
  },
  {
   "cell_type": "code",
   "execution_count": 74,
   "metadata": {},
   "outputs": [
    {
     "data": {
      "text/plain": [
       "35718.128533936935"
      ]
     },
     "execution_count": 74,
     "metadata": {},
     "output_type": "execute_result"
    }
   ],
   "source": [
    "# дисперсия потраченных минут в тарифе smart, добавляю ddof=1 так как датасет - это не вся выборка\n",
    "np.var(user_costs_per_tariff_smart_per_month['call_duration'], ddof=1)"
   ]
  },
  {
   "cell_type": "code",
   "execution_count": 75,
   "metadata": {},
   "outputs": [
    {
     "data": {
      "text/plain": [
       "188.9924033762652"
      ]
     },
     "execution_count": 75,
     "metadata": {},
     "output_type": "execute_result"
    }
   ],
   "source": [
    "# стандартное отклонение потраченных минут в тарифе smart\n",
    "np.std(user_costs_per_tariff_smart_per_month['call_duration'], ddof=1)"
   ]
  },
  {
   "cell_type": "code",
   "execution_count": 76,
   "metadata": {},
   "outputs": [
    {
     "data": {
      "text/plain": [
       "547.7550158394931"
      ]
     },
     "execution_count": 76,
     "metadata": {},
     "output_type": "execute_result"
    }
   ],
   "source": [
    "# Среднее значение потраченных минут в тарифе ultra\n",
    "user_costs_per_tariff_ultra_per_month['call_duration'].mean()"
   ]
  },
  {
   "cell_type": "code",
   "execution_count": 77,
   "metadata": {},
   "outputs": [
    {
     "data": {
      "text/plain": [
       "93338.4282914109"
      ]
     },
     "execution_count": 77,
     "metadata": {},
     "output_type": "execute_result"
    }
   ],
   "source": [
    "# дисперсия потраченных минут в тарифе ultra\n",
    "np.var(user_costs_per_tariff_ultra_per_month['call_duration'], ddof=1)"
   ]
  },
  {
   "cell_type": "code",
   "execution_count": 78,
   "metadata": {},
   "outputs": [
    {
     "data": {
      "text/plain": [
       "305.513384799113"
      ]
     },
     "execution_count": 78,
     "metadata": {},
     "output_type": "execute_result"
    }
   ],
   "source": [
    "# стандартное отклонение потраченных минут в тарифе ultra\n",
    "np.std(user_costs_per_tariff_ultra_per_month['call_duration'], ddof=1)"
   ]
  },
  {
   "cell_type": "markdown",
   "metadata": {},
   "source": [
    "Гистограмма потраченных минут в тарифе *smart*"
   ]
  },
  {
   "cell_type": "code",
   "execution_count": 79,
   "metadata": {},
   "outputs": [
    {
     "data": {
      "text/plain": [
       "<AxesSubplot:>"
      ]
     },
     "execution_count": 79,
     "metadata": {},
     "output_type": "execute_result"
    },
    {
     "data": {
      "image/png": "[encoded data removed]",
      "text/plain": [
       "<Figure size 432x288 with 1 Axes>"
      ]
     },
     "metadata": {
      "needs_background": "light"
     },
     "output_type": "display_data"
    }
   ],
   "source": [
    "user_costs_per_tariff_smart_per_month['call_duration'].hist(bins=50, label='smart', color='b', alpha=0.7)"
   ]
  },
  {
   "cell_type": "markdown",
   "metadata": {},
   "source": [
    "Гистограмма потраченных минут в тарифе ultra"
   ]
  },
  {
   "cell_type": "code",
   "execution_count": 80,
   "metadata": {},
   "outputs": [
    {
     "data": {
      "text/plain": [
       "<AxesSubplot:>"
      ]
     },
     "execution_count": 80,
     "metadata": {},
     "output_type": "execute_result"
    },
    {
     "data": {
      "image/png": "[encoded data removed]",
      "text/plain": [
       "<Figure size 432x288 with 1 Axes>"
      ]
     },
     "metadata": {
      "needs_background": "light"
     },
     "output_type": "display_data"
    }
   ],
   "source": [
    "user_costs_per_tariff_ultra_per_month['call_duration'].hist(bins=50, alpha=0.7, label='ultra', color='r')"
   ]
  },
  {
   "cell_type": "markdown",
   "metadata": {},
   "source": [
    "По затратам минут на разговоры 99% пользователей тарифа smart расположены в промежутке:"
   ]
  },
  {
   "cell_type": "code",
   "execution_count": 81,
   "metadata": {},
   "outputs": [
    {
     "name": "stdout",
     "output_type": "stream",
     "text": [
      "от - 0\n",
      "до - 986.417552316999\n"
     ]
    }
   ],
   "source": [
    "print('от - 0')\n",
    "print('до -', user_costs_per_tariff_smart_per_month['call_duration'].mean() + 3 * np.std(user_costs_per_tariff_smart_per_month['call_duration'], ddof=1))"
   ]
  },
  {
   "cell_type": "markdown",
   "metadata": {},
   "source": [
    "По затратам минут на разговоры 99% пользователей тарифа ultra расположены в промежутке:"
   ]
  },
  {
   "cell_type": "code",
   "execution_count": 82,
   "metadata": {},
   "outputs": [
    {
     "name": "stdout",
     "output_type": "stream",
     "text": [
      "от - 0\n",
      "до - 1464.295170236832\n"
     ]
    }
   ],
   "source": [
    "print('от - 0')\n",
    "print('до -', user_costs_per_tariff_ultra_per_month['call_duration'].mean() + 3 * np.std(user_costs_per_tariff_ultra_per_month['call_duration'], ddof=1))"
   ]
  },
  {
   "cell_type": "markdown",
   "metadata": {},
   "source": [
    "В среднем пользователи тарифа *ultra* разговаривают больше примерно на 100 минут.\n",
    "\n",
    "Обе гистограммы скошенны вправо, это значит, что среднне больше медианы. Больше половины пользователей тратят минуты ниже среднего значенияю\n",
    "\n",
    "99% пользователей тарифа ultra не переходят лимит по минутам, заложенных в тарифе. \n",
    "\n",
    "В тарифе smart почти 50% пользователей переплачивают за звонки."
   ]
  },
  {
   "cell_type": "markdown",
   "metadata": {},
   "source": [
    "**Среднее количество, дисперсия, стандартное отклонение и гистограмма отправленных сообщений.**"
   ]
  },
  {
   "cell_type": "code",
   "execution_count": 83,
   "metadata": {},
   "outputs": [
    {
     "data": {
      "text/plain": [
       "38.71644120707596"
      ]
     },
     "execution_count": 83,
     "metadata": {},
     "output_type": "execute_result"
    }
   ],
   "source": [
    "# Среднее количество отпраленных смс в тарифе smart\n",
    "user_costs_per_tariff_smart_per_month['count_messages'].mean()"
   ]
  },
  {
   "cell_type": "code",
   "execution_count": 84,
   "metadata": {},
   "outputs": [
    {
     "data": {
      "text/plain": [
       "717.5942011753527"
      ]
     },
     "execution_count": 84,
     "metadata": {},
     "output_type": "execute_result"
    }
   ],
   "source": [
    "# дисперсия количество отпраленных смс в тарифе smart, добавляю ddof=1 так как датасет - это не вся выборка\n",
    "np.var(user_costs_per_tariff_smart_per_month['count_messages'], ddof=1)"
   ]
  },
  {
   "cell_type": "code",
   "execution_count": 85,
   "metadata": {},
   "outputs": [
    {
     "data": {
      "text/plain": [
       "26.787948804926305"
      ]
     },
     "execution_count": 85,
     "metadata": {},
     "output_type": "execute_result"
    }
   ],
   "source": [
    "# стандартное отклонение количества отпраленных смс в тарифе smart\n",
    "np.std(user_costs_per_tariff_smart_per_month['count_messages'], ddof=1)"
   ]
  },
  {
   "cell_type": "code",
   "execution_count": 86,
   "metadata": {},
   "outputs": [
    {
     "data": {
      "text/plain": [
       "61.161006289308176"
      ]
     },
     "execution_count": 86,
     "metadata": {},
     "output_type": "execute_result"
    }
   ],
   "source": [
    "# Среднее количество отпраленных смс в тарифе ultra\n",
    "user_costs_per_tariff_ultra_per_month['count_messages'].mean()"
   ]
  },
  {
   "cell_type": "code",
   "execution_count": 87,
   "metadata": {},
   "outputs": [
    {
     "data": {
      "text/plain": [
       "2109.6591828652026"
      ]
     },
     "execution_count": 87,
     "metadata": {},
     "output_type": "execute_result"
    }
   ],
   "source": [
    "# дисперсия количество отпраленных смс в тарифе ultra, добавляю ddof=1 так как датасет - это не вся выборка\n",
    "np.var(user_costs_per_tariff_ultra_per_month['count_messages'], ddof=1)"
   ]
  },
  {
   "cell_type": "code",
   "execution_count": 88,
   "metadata": {},
   "outputs": [
    {
     "data": {
      "text/plain": [
       "45.93102636416045"
      ]
     },
     "execution_count": 88,
     "metadata": {},
     "output_type": "execute_result"
    }
   ],
   "source": [
    "# стандартное отклонение количества отпраленных смс в тарифе ultra\n",
    "np.std(user_costs_per_tariff_ultra_per_month['count_messages'], ddof=1)"
   ]
  },
  {
   "cell_type": "code",
   "execution_count": 89,
   "metadata": {},
   "outputs": [
    {
     "data": {
      "text/plain": [
       "<AxesSubplot:>"
      ]
     },
     "execution_count": 89,
     "metadata": {},
     "output_type": "execute_result"
    },
    {
     "data": {
      "image/png": "[encoded data removed]",
      "text/plain": [
       "<Figure size 432x288 with 1 Axes>"
      ]
     },
     "metadata": {
      "needs_background": "light"
     },
     "output_type": "display_data"
    }
   ],
   "source": [
    "user_costs_per_tariff_smart_per_month['count_messages'].hist(bins=50, alpha=0.7, label='smart', color='b')"
   ]
  },
  {
   "cell_type": "code",
   "execution_count": 90,
   "metadata": {},
   "outputs": [
    {
     "data": {
      "text/plain": [
       "<AxesSubplot:>"
      ]
     },
     "execution_count": 90,
     "metadata": {},
     "output_type": "execute_result"
    },
    {
     "data": {
      "image/png": "[encoded data removed]",
      "text/plain": [
       "<Figure size 432x288 with 1 Axes>"
      ]
     },
     "metadata": {
      "needs_background": "light"
     },
     "output_type": "display_data"
    }
   ],
   "source": [
    "user_costs_per_tariff_ultra_per_month['count_messages'].hist(bins=50, alpha=0.7, label='ultra', color='r')"
   ]
  },
  {
   "cell_type": "markdown",
   "metadata": {},
   "source": [
    "По количеству отпраленных сообщений, 99% пользователей тарифа smart расположены в промежутке:"
   ]
  },
  {
   "cell_type": "code",
   "execution_count": 91,
   "metadata": {},
   "outputs": [
    {
     "name": "stdout",
     "output_type": "stream",
     "text": [
      "от - 0\n",
      "до - 119.08028762185488\n"
     ]
    }
   ],
   "source": [
    "print('от - 0')\n",
    "print('до -', user_costs_per_tariff_smart_per_month['count_messages'].mean() + 3 * np.std(user_costs_per_tariff_smart_per_month['count_messages'], ddof=1))"
   ]
  },
  {
   "cell_type": "markdown",
   "metadata": {},
   "source": [
    "По количеству отпраленных сообщений, 99% пользователей тарифа ultra расположены в промежутке:"
   ]
  },
  {
   "cell_type": "code",
   "execution_count": 92,
   "metadata": {},
   "outputs": [
    {
     "name": "stdout",
     "output_type": "stream",
     "text": [
      "от - 0\n",
      "до - 198.95408538178953\n"
     ]
    }
   ],
   "source": [
    "print('от - 0')\n",
    "print('до -', user_costs_per_tariff_ultra_per_month['count_messages'].mean() + 3 * np.std(user_costs_per_tariff_ultra_per_month['count_messages'], ddof=1))"
   ]
  },
  {
   "cell_type": "markdown",
   "metadata": {},
   "source": [
    "Пик в обоих графиков в начале, значит максимальное количество пользователей не пользуются смс сообщениями или отпраляют сообщения очень редко.\n",
    "\n",
    "Пользователи тарифа *ultra* отправляют больше сообщений.\n",
    "\n",
    "Гистограммы количества сообщений скошенны вправо, среднее больше медианы. Большинсво количество отпраленных сообщений пользователями ниже среднего.\n",
    "\n",
    "\n",
    "99% пользователей тарифа ultra не переходят лимит по количеству сообщений, заложенных в тарифе. В тарифе smart больший процент пользователей тратят сообщения сверх тарифа. "
   ]
  },
  {
   "cell_type": "markdown",
   "metadata": {},
   "source": [
    "**Среднее количество, дисперсия, стандартное отклонение и гистограмма интернет трафика.**"
   ]
  },
  {
   "cell_type": "code",
   "execution_count": 93,
   "metadata": {},
   "outputs": [
    {
     "data": {
      "text/plain": [
       "16.34351145038168"
      ]
     },
     "execution_count": 93,
     "metadata": {},
     "output_type": "execute_result"
    }
   ],
   "source": [
    "# Среднее количество интернет трафика использованных в тарифе smart\n",
    "user_costs_per_tariff_smart_per_month['gb_used'].mean()"
   ]
  },
  {
   "cell_type": "code",
   "execution_count": 94,
   "metadata": {},
   "outputs": [
    {
     "data": {
      "text/plain": [
       "17.0"
      ]
     },
     "execution_count": 94,
     "metadata": {},
     "output_type": "execute_result"
    }
   ],
   "source": [
    "# медиана\n",
    "user_costs_per_tariff_smart_per_month['gb_used'].median()"
   ]
  },
  {
   "cell_type": "code",
   "execution_count": 95,
   "metadata": {},
   "outputs": [
    {
     "data": {
      "text/plain": [
       "32.81860455546185"
      ]
     },
     "execution_count": 95,
     "metadata": {},
     "output_type": "execute_result"
    }
   ],
   "source": [
    "# дисперсия количества интернет трафика в тарифе smart, добавляю ddof=1 так как датасет - это не вся выборка\n",
    "np.var(user_costs_per_tariff_smart_per_month['gb_used'], ddof=1)"
   ]
  },
  {
   "cell_type": "code",
   "execution_count": 96,
   "metadata": {},
   "outputs": [
    {
     "data": {
      "text/plain": [
       "5.7287524431992916"
      ]
     },
     "execution_count": 96,
     "metadata": {},
     "output_type": "execute_result"
    }
   ],
   "source": [
    "# стандартное отклонение количества интернет трафика в тарифе smart\n",
    "np.std(user_costs_per_tariff_smart_per_month['gb_used'], ddof=1)"
   ]
  },
  {
   "cell_type": "code",
   "execution_count": 97,
   "metadata": {},
   "outputs": [
    {
     "data": {
      "text/plain": [
       "19.71457905544148"
      ]
     },
     "execution_count": 97,
     "metadata": {},
     "output_type": "execute_result"
    }
   ],
   "source": [
    "# Среднее количество интернет трафика использованных в тарифе ultra\n",
    "user_costs_per_tariff_ultra_per_month['gb_used'].mean()"
   ]
  },
  {
   "cell_type": "code",
   "execution_count": 98,
   "metadata": {},
   "outputs": [
    {
     "data": {
      "text/plain": [
       "93.84445321419614"
      ]
     },
     "execution_count": 98,
     "metadata": {},
     "output_type": "execute_result"
    }
   ],
   "source": [
    "# дисперсия количества интернет трафика в тарифе ultra\n",
    "np.var(user_costs_per_tariff_ultra_per_month['gb_used'], ddof=1)"
   ]
  },
  {
   "cell_type": "code",
   "execution_count": 99,
   "metadata": {},
   "outputs": [
    {
     "data": {
      "text/plain": [
       "9.68733468061242"
      ]
     },
     "execution_count": 99,
     "metadata": {},
     "output_type": "execute_result"
    }
   ],
   "source": [
    "# стандартное отклонение количества интернет трафика в тарифе ultra\n",
    "np.std(user_costs_per_tariff_ultra_per_month['gb_used'], ddof=1)"
   ]
  },
  {
   "cell_type": "markdown",
   "metadata": {},
   "source": [
    "Гистограмма количества интернет трафика в тарифе smart."
   ]
  },
  {
   "cell_type": "code",
   "execution_count": 100,
   "metadata": {},
   "outputs": [
    {
     "data": {
      "text/plain": [
       "<AxesSubplot:>"
      ]
     },
     "execution_count": 100,
     "metadata": {},
     "output_type": "execute_result"
    },
    {
     "data": {
      "image/png": "[encoded data removed]",
      "text/plain": [
       "<Figure size 432x288 with 1 Axes>"
      ]
     },
     "metadata": {
      "needs_background": "light"
     },
     "output_type": "display_data"
    }
   ],
   "source": [
    "user_costs_per_tariff_smart_per_month['gb_used'].hist(bins=35, alpha=0.7, label='smart', color='b')"
   ]
  },
  {
   "cell_type": "markdown",
   "metadata": {},
   "source": [
    "Гистограмма количества интернет трафика в тарифе ultra."
   ]
  },
  {
   "cell_type": "code",
   "execution_count": 101,
   "metadata": {},
   "outputs": [
    {
     "data": {
      "text/plain": [
       "<AxesSubplot:>"
      ]
     },
     "execution_count": 101,
     "metadata": {},
     "output_type": "execute_result"
    },
    {
     "data": {
      "image/png": "[encoded data removed]",
      "text/plain": [
       "<Figure size 432x288 with 1 Axes>"
      ]
     },
     "metadata": {
      "needs_background": "light"
     },
     "output_type": "display_data"
    }
   ],
   "source": [
    "user_costs_per_tariff_ultra_per_month['gb_used'].hist(bins=40, alpha=0.7, label='ultra', color='r')"
   ]
  },
  {
   "cell_type": "markdown",
   "metadata": {},
   "source": [
    "По количеству интернет трафика в гбайт, 99% пользователей тарифа smart расположены в промежутке:"
   ]
  },
  {
   "cell_type": "code",
   "execution_count": 102,
   "metadata": {},
   "outputs": [
    {
     "name": "stdout",
     "output_type": "stream",
     "text": [
      "от - 0\n",
      "до - 33.529768779979555\n"
     ]
    }
   ],
   "source": [
    "print('от - 0')\n",
    "print('до -', (user_costs_per_tariff_smart_per_month['gb_used'].mean() + 3 * np.std(user_costs_per_tariff_smart_per_month['gb_used'], ddof=1)))"
   ]
  },
  {
   "cell_type": "markdown",
   "metadata": {},
   "source": [
    "По количеству интернет трафика в гбайт, 99% пользователей тарифа ultra расположены в промежутке:"
   ]
  },
  {
   "cell_type": "code",
   "execution_count": 103,
   "metadata": {},
   "outputs": [
    {
     "name": "stdout",
     "output_type": "stream",
     "text": [
      "от - 0 \n",
      "до - 48.77658309727874\n"
     ]
    }
   ],
   "source": [
    "print('от - 0 ') \n",
    "print('до -', (user_costs_per_tariff_ultra_per_month['gb_used'].mean() + 3 * np.std(user_costs_per_tariff_ultra_per_month['gb_used'], ddof=1)))"
   ]
  },
  {
   "cell_type": "markdown",
   "metadata": {},
   "source": [
    "Пользователи тарифа ultra превышают трафик интернета, заложенный в тарифе.\n",
    "\n",
    "На обоих графиках пик в 20 гбайт.\n",
    "\n",
    "Больше половины пользователем тарифа smart не хватает гбайт, заложенных в тарифе.\n",
    "\n",
    "Графики имеют нормальное распределение."
   ]
  },
  {
   "cell_type": "markdown",
   "metadata": {},
   "source": [
    "**Выводы:**\n",
    "- пользователем тарифа ultra в большинстве случаев хватает заложенных в пакете минут, сообщений. Кроме интернета.\n",
    "- пользователи тарифа smart чаще переплачивают за тариф, так как заложенные в пакете минуты, сообщения, интернет не хватает на месяц.\n",
    "- все гистограммы скошенны вправо.\n",
    "- в последние месяцы года пользователи больше тратят минуты, смс, интернет. в начале года расход минимальный."
   ]
  },
  {
   "cell_type": "markdown",
   "metadata": {},
   "source": [
    "## Проверка гипотез"
   ]
  },
  {
   "cell_type": "markdown",
   "metadata": {},
   "source": [
    "Нужно проверить две гипотизы: \n",
    "- средняя выручка пользователей тарифов «Ультра» и «Смарт» различаются\n",
    "- средняя выручка пользователей из Москвы отличается от выручки пользователей из других регионов"
   ]
  },
  {
   "cell_type": "markdown",
   "metadata": {},
   "source": [
    "1) **Средняя выручка пользователей тарифов «Ультра» и «Смарт» различаются.**"
   ]
  },
  {
   "cell_type": "code",
   "execution_count": 104,
   "metadata": {},
   "outputs": [
    {
     "data": {
      "text/html": [
       "<div>\n",
       "<style scoped>\n",
       "    .dataframe tbody tr th:only-of-type {\n",
       "        vertical-align: middle;\n",
       "    }\n",
       "\n",
       "    .dataframe tbody tr th {\n",
       "        vertical-align: top;\n",
       "    }\n",
       "\n",
       "    .dataframe thead th {\n",
       "        text-align: right;\n",
       "    }\n",
       "</style>\n",
       "<table border=\"1\" class=\"dataframe\">\n",
       "  <thead>\n",
       "    <tr style=\"text-align: right;\">\n",
       "      <th></th>\n",
       "      <th>user_id</th>\n",
       "      <th>month</th>\n",
       "      <th>call_duration</th>\n",
       "      <th>count_messages</th>\n",
       "      <th>gb_used</th>\n",
       "      <th>tariff</th>\n",
       "      <th>price_tariff</th>\n",
       "    </tr>\n",
       "  </thead>\n",
       "  <tbody>\n",
       "    <tr>\n",
       "      <th>8</th>\n",
       "      <td>1001</td>\n",
       "      <td>11</td>\n",
       "      <td>430.0</td>\n",
       "      <td>NaN</td>\n",
       "      <td>18.0</td>\n",
       "      <td>smart</td>\n",
       "      <td>1150.0</td>\n",
       "    </tr>\n",
       "    <tr>\n",
       "      <th>9</th>\n",
       "      <td>1001</td>\n",
       "      <td>12</td>\n",
       "      <td>414.0</td>\n",
       "      <td>NaN</td>\n",
       "      <td>14.0</td>\n",
       "      <td>smart</td>\n",
       "      <td>550.0</td>\n",
       "    </tr>\n",
       "    <tr>\n",
       "      <th>10</th>\n",
       "      <td>1002</td>\n",
       "      <td>6</td>\n",
       "      <td>117.0</td>\n",
       "      <td>4.0</td>\n",
       "      <td>11.0</td>\n",
       "      <td>smart</td>\n",
       "      <td>550.0</td>\n",
       "    </tr>\n",
       "  </tbody>\n",
       "</table>\n",
       "</div>"
      ],
      "text/plain": [
       "    user_id  month  call_duration  count_messages  gb_used tariff  \\\n",
       "8      1001     11          430.0             NaN     18.0  smart   \n",
       "9      1001     12          414.0             NaN     14.0  smart   \n",
       "10     1002      6          117.0             4.0     11.0  smart   \n",
       "\n",
       "    price_tariff  \n",
       "8         1150.0  \n",
       "9          550.0  \n",
       "10         550.0  "
      ]
     },
     "execution_count": 104,
     "metadata": {},
     "output_type": "execute_result"
    }
   ],
   "source": [
    "user_costs_per_tariff_smart_per_month.head(3)"
   ]
  },
  {
   "cell_type": "code",
   "execution_count": 105,
   "metadata": {},
   "outputs": [
    {
     "data": {
      "text/html": [
       "<div>\n",
       "<style scoped>\n",
       "    .dataframe tbody tr th:only-of-type {\n",
       "        vertical-align: middle;\n",
       "    }\n",
       "\n",
       "    .dataframe tbody tr th {\n",
       "        vertical-align: top;\n",
       "    }\n",
       "\n",
       "    .dataframe thead th {\n",
       "        text-align: right;\n",
       "    }\n",
       "</style>\n",
       "<table border=\"1\" class=\"dataframe\">\n",
       "  <thead>\n",
       "    <tr style=\"text-align: right;\">\n",
       "      <th></th>\n",
       "      <th>user_id</th>\n",
       "      <th>month</th>\n",
       "      <th>call_duration</th>\n",
       "      <th>count_messages</th>\n",
       "      <th>gb_used</th>\n",
       "      <th>tariff</th>\n",
       "      <th>price_tariff</th>\n",
       "    </tr>\n",
       "  </thead>\n",
       "  <tbody>\n",
       "    <tr>\n",
       "      <th>0</th>\n",
       "      <td>1000</td>\n",
       "      <td>5</td>\n",
       "      <td>159.0</td>\n",
       "      <td>22.0</td>\n",
       "      <td>3.0</td>\n",
       "      <td>ultra</td>\n",
       "      <td>1950.0</td>\n",
       "    </tr>\n",
       "    <tr>\n",
       "      <th>1</th>\n",
       "      <td>1000</td>\n",
       "      <td>6</td>\n",
       "      <td>172.0</td>\n",
       "      <td>60.0</td>\n",
       "      <td>23.0</td>\n",
       "      <td>ultra</td>\n",
       "      <td>1950.0</td>\n",
       "    </tr>\n",
       "    <tr>\n",
       "      <th>2</th>\n",
       "      <td>1000</td>\n",
       "      <td>7</td>\n",
       "      <td>340.0</td>\n",
       "      <td>75.0</td>\n",
       "      <td>14.0</td>\n",
       "      <td>ultra</td>\n",
       "      <td>1950.0</td>\n",
       "    </tr>\n",
       "  </tbody>\n",
       "</table>\n",
       "</div>"
      ],
      "text/plain": [
       "   user_id  month  call_duration  count_messages  gb_used tariff  price_tariff\n",
       "0     1000      5          159.0            22.0      3.0  ultra        1950.0\n",
       "1     1000      6          172.0            60.0     23.0  ultra        1950.0\n",
       "2     1000      7          340.0            75.0     14.0  ultra        1950.0"
      ]
     },
     "execution_count": 105,
     "metadata": {},
     "output_type": "execute_result"
    }
   ],
   "source": [
    "user_costs_per_tariff_ultra_per_month.head(3)"
   ]
  },
  {
   "cell_type": "markdown",
   "metadata": {},
   "source": [
    "Создам два массива: \n",
    "- стоимость тарифа пользователей тарифа smart\n",
    "- стоимость тарифа пользователей тарифа ultra"
   ]
  },
  {
   "cell_type": "code",
   "execution_count": 106,
   "metadata": {},
   "outputs": [],
   "source": [
    "smart = user_costs_per_tariff_smart_per_month['price_tariff'].dropna()\n",
    "ultra = user_costs_per_tariff_ultra_per_month['price_tariff'].dropna()"
   ]
  },
  {
   "cell_type": "markdown",
   "metadata": {},
   "source": [
    "Что бы проверить равенство средних значений двухвыборок, воспользуюсь t-тестом:\n",
    "\n",
    "*scipy.stats.ttest_ind(array1, array2, equal_var)*"
   ]
  },
  {
   "cell_type": "code",
   "execution_count": 107,
   "metadata": {},
   "outputs": [
    {
     "name": "stdout",
     "output_type": "stream",
     "text": [
      "p-значение:  4.2606313931076085e-250\n",
      "Не удалось отвергнуть гипотизу.\n"
     ]
    }
   ],
   "source": [
    "# критический уровень статической значимости\n",
    "alpha = .05\n",
    "\n",
    "results = st.ttest_ind(smart, ultra, equal_var=False)\n",
    "print('p-значение: ', results.pvalue)\n",
    "\n",
    "if results.pvalue < alpha:\n",
    "    print('Не удалось отвергнуть гипотизу.')\n",
    "else:\n",
    "    print('Отвергаю гипотизу.')"
   ]
  },
  {
   "cell_type": "markdown",
   "metadata": {},
   "source": [
    "pvalue получилось очень мало.\n",
    "\n",
    "**Гипотиза: Средняя выручка пользователей тарифов «Ультра» и «Смарт» различаются.** не удалось отвергнуть."
   ]
  },
  {
   "cell_type": "markdown",
   "metadata": {},
   "source": [
    "Нулевая гипотиза: средняя выручка пользователей тарифа «Смарт» 550.\n",
    "\n",
    "Нулевая гипотиза: средняя выручка пользователей тарифа «Ультра» 1950."
   ]
  },
  {
   "cell_type": "code",
   "execution_count": 108,
   "metadata": {},
   "outputs": [
    {
     "name": "stdout",
     "output_type": "stream",
     "text": [
      "p-значение:  1.7562713052272897e-291\n",
      "Отвергаю нулевую гипотизу.\n"
     ]
    }
   ],
   "source": [
    "# критический уровень статической значимости\n",
    "alpha = .05\n",
    "price_value = 550\n",
    "\n",
    "results = st.ttest_1samp(smart, price_value)\n",
    "print('p-значение: ', results.pvalue)\n",
    "\n",
    "if results.pvalue < alpha:\n",
    "    print('Отвергаю нулевую гипотизу.')\n",
    "else:\n",
    "    print('Не удалось отвергнуть нулевую гипотизу.')"
   ]
  },
  {
   "cell_type": "markdown",
   "metadata": {},
   "source": [
    "*Нулевая гипотиза \"средняя выручка пользователей тарифа «Смарт» 550\" неверна.*\n",
    "\n",
    "Из анализа было видно, что пользователи тарифа «Смарт» часто расходуют весь лимит по тарифу и пользуются дополнительными минутами, смс и интернетом. Значит Средняя стоимость тарифа должна быть выше.\n",
    "\n",
    "Альтернативная гипотиза: средняя выручка пользователей тарифа «Смарт» 1290."
   ]
  },
  {
   "cell_type": "code",
   "execution_count": 109,
   "metadata": {},
   "outputs": [
    {
     "name": "stdout",
     "output_type": "stream",
     "text": [
      "p-значение:  0.9987817954970485\n",
      "Не удалось отвергнуть альтернативную гипотизу.\n"
     ]
    }
   ],
   "source": [
    "# критический уровень статической значимости\n",
    "alpha = .05\n",
    "price_value = 1290\n",
    "\n",
    "results = st.ttest_1samp(smart, price_value)\n",
    "print('p-значение: ', results.pvalue)\n",
    "\n",
    "if results.pvalue < alpha:\n",
    "    print('Отвергаю альтернативную гипотизу.')\n",
    "else:\n",
    "    print('Не удалось отвергнуть альтернативную гипотизу.')"
   ]
  },
  {
   "cell_type": "markdown",
   "metadata": {},
   "source": [
    "**Альтернативная гипотиза: \"средняя выручка пользователей тарифа «Смарт» равна 1290\"** не удалось отвергнуть."
   ]
  },
  {
   "cell_type": "code",
   "execution_count": 110,
   "metadata": {},
   "outputs": [
    {
     "name": "stdout",
     "output_type": "stream",
     "text": [
      "p-значение:  1.385760042217399e-22\n",
      "Отвергаю нулевую гипотизу.\n"
     ]
    }
   ],
   "source": [
    "# Нулевая гипотиза: средняя выручка пользователей тарифа «Ультра» 1950.\n",
    "# критический уровень статической значимости\n",
    "alpha = .05\n",
    "price_value = 1950\n",
    "\n",
    "results = st.ttest_1samp(ultra, price_value)\n",
    "print('p-значение: ', results.pvalue)\n",
    "\n",
    "if results.pvalue < alpha:\n",
    "    print('Отвергаю нулевую гипотизу.')\n",
    "else:\n",
    "    print('Не удалось отвергнуть нулевую гипотизу.')"
   ]
  },
  {
   "cell_type": "markdown",
   "metadata": {},
   "source": [
    "Так как платить ниже тарифа нельзя, поэтому пользователи тарифа ультра тоже могли переплачивать за тариф.\n",
    "\n",
    "Альтернативная гипотиза: \"средняя выручка пользователей тарифа «Ультра» равна 2070\" "
   ]
  },
  {
   "cell_type": "code",
   "execution_count": 111,
   "metadata": {},
   "outputs": [
    {
     "name": "stdout",
     "output_type": "stream",
     "text": [
      "p-значение:  0.9898658516963028\n",
      "Не удалось отвергнуть нулевую гипотизу.\n"
     ]
    }
   ],
   "source": [
    "# Альтернативная гипотиза: \"средняя выручка пользователей тарифа «Ультра» 2070\"\n",
    "# критический уровень статической значимости\n",
    "alpha = .05\n",
    "price_value = 2070\n",
    "\n",
    "results = st.ttest_1samp(ultra, price_value)\n",
    "print('p-значение: ', results.pvalue)\n",
    "\n",
    "if results.pvalue < alpha:\n",
    "    print('Отвергаю нулевую гипотизу.')\n",
    "else:\n",
    "    print('Не удалось отвергнуть нулевую гипотизу.')"
   ]
  },
  {
   "cell_type": "markdown",
   "metadata": {},
   "source": [
    "**Альтернативная гипотиза: \"средняя выручка пользователей тарифа «Ультра» равна 2070.\"** не удалось отвергнуть."
   ]
  },
  {
   "cell_type": "markdown",
   "metadata": {},
   "source": [
    "**Вывод:**\n",
    "\n",
    "- средняя выручка пользователей тарифа «Смарт» и «Ультра» различны.\n",
    "- средняя выручка пользователей тарифа «Смарт» равна 1290.\n",
    "- средняя выручка пользователей тарифа «Ультра» равна 2070."
   ]
  },
  {
   "cell_type": "markdown",
   "metadata": {},
   "source": [
    "2) **Средняя выручка пользователей из Москвы отличается от выручки пользователей из других регионов**"
   ]
  },
  {
   "cell_type": "markdown",
   "metadata": {},
   "source": [
    "Нулевая гипотиза: \"Средняя выручка пользователей из Москвы равна выручке пользователей из других регионов.\""
   ]
  },
  {
   "cell_type": "markdown",
   "metadata": {},
   "source": [
    "В талблицу user_costs_per_tariff_per_month добавлю колонку с названием города."
   ]
  },
  {
   "cell_type": "code",
   "execution_count": 112,
   "metadata": {},
   "outputs": [],
   "source": [
    "def city_name(data):\n",
    "    return users.loc[users.user_id == data, 'city'].values[0]"
   ]
  },
  {
   "cell_type": "code",
   "execution_count": 113,
   "metadata": {},
   "outputs": [],
   "source": [
    "user_costs_per_tariff_per_month['city'] = (user_costs_per_tariff_per_month['user_id']\n",
    "                                                 .apply(city_name))"
   ]
  },
  {
   "cell_type": "markdown",
   "metadata": {},
   "source": [
    "Создам два массива: \n",
    "- средняя стоимость тарифа в месяц пользователей из Москвы\n",
    "- средняя стоимость тарифа в месяц пользователей из других регионов"
   ]
  },
  {
   "cell_type": "code",
   "execution_count": 114,
   "metadata": {},
   "outputs": [],
   "source": [
    "moscow = user_costs_per_tariff_per_month[user_costs_per_tariff_per_month.city == 'Москва']['price_tariff'].dropna()\n",
    "other_regions = user_costs_per_tariff_per_month[user_costs_per_tariff_per_month.city != 'Москва']['price_tariff'].dropna()"
   ]
  },
  {
   "cell_type": "code",
   "execution_count": 115,
   "metadata": {},
   "outputs": [
    {
     "name": "stdout",
     "output_type": "stream",
     "text": [
      "p-значение:  0.5440152911670224\n",
      "Не удалось отвергнуть гипотизу.\n"
     ]
    }
   ],
   "source": [
    "# Нулевая гипотиза: \"Средняя выручка пользователей из Москвы равна выручке пользователей из других регионов.\"\n",
    "# критический уровень статической значимости\n",
    "alpha = .05\n",
    "\n",
    "results = st.ttest_ind(moscow, other_regions)\n",
    "print('p-значение: ', results.pvalue)\n",
    "\n",
    "if results.pvalue > alpha:\n",
    "    print('Не удалось отвергнуть гипотизу.')\n",
    "else:\n",
    "    print('Отвергаю гипотизу.')"
   ]
  },
  {
   "cell_type": "markdown",
   "metadata": {},
   "source": [
    "**Вывод: нулевую гипотизу - \"Средняя выручка пользователей из Москвы равна выручке пользователей из других регионов\"** не удалось отвергнуть."
   ]
  },
  {
   "cell_type": "markdown",
   "metadata": {},
   "source": [
    "## Общий вывод"
   ]
  },
  {
   "cell_type": "markdown",
   "metadata": {},
   "source": [
    "- пользователем тарифа ultra в большинстве случаев хватает заложенных в пакете минут и сообщений.\n",
    "- пользователи тарифа ultra часто превышают лимит по гбайтам.\n",
    "- пользователи тарифа smart чаще переплачивают за тариф, так как заложенные в пакете минуты, сообщения, интернет не хватает на месяц.\n",
    "- в последние месяцы года пользователи больше тратят минуты, смс, интернет. В начале года расход по пакету тарифа меньше.\n",
    "- средняя выручка пользователей тарифа «Смарт» и «Ультра» различны.\n",
    "- средняя выручка пользователей тарифа «Смарт» равна 1290. Это больше чем два тарифа smart.\n",
    "- средняя выручка пользователей тарифа «Ультра» равна 2070. Профент переплаты небольшой.\n",
    "- средняя выручка пользователей из Москвы равна выручке пользователей из других регионов."
   ]
  }
 ],
 "metadata": {
  "ExecuteTimeLog": [
   {
    "duration": 81,
    "start_time": "2022-01-09T10:02:25.559Z"
   },
   {
    "duration": 84,
    "start_time": "2022-01-09T10:02:37.878Z"
   },
   {
    "duration": 1363,
    "start_time": "2022-01-09T10:03:29.816Z"
   },
   {
    "duration": 584,
    "start_time": "2022-01-09T10:03:38.055Z"
   },
   {
    "duration": 225,
    "start_time": "2022-01-09T10:04:36.374Z"
   },
   {
    "duration": 16,
    "start_time": "2022-01-09T10:04:48.108Z"
   },
   {
    "duration": 540,
    "start_time": "2022-01-09T10:06:34.622Z"
   },
   {
    "duration": 13,
    "start_time": "2022-01-09T10:07:03.648Z"
   },
   {
    "duration": 10,
    "start_time": "2022-01-09T10:07:06.308Z"
   },
   {
    "duration": 14,
    "start_time": "2022-01-09T10:07:07.034Z"
   },
   {
    "duration": 298,
    "start_time": "2022-01-09T10:07:07.447Z"
   },
   {
    "duration": 16,
    "start_time": "2022-01-09T10:07:11.624Z"
   },
   {
    "duration": 551,
    "start_time": "2022-01-09T10:15:39.957Z"
   },
   {
    "duration": 17,
    "start_time": "2022-01-09T10:16:37.316Z"
   },
   {
    "duration": 14,
    "start_time": "2022-01-09T10:16:40.879Z"
   },
   {
    "duration": 10,
    "start_time": "2022-01-09T10:17:31.094Z"
   },
   {
    "duration": 11,
    "start_time": "2022-01-09T10:17:58.021Z"
   },
   {
    "duration": 15,
    "start_time": "2022-01-09T10:19:13.195Z"
   },
   {
    "duration": 29,
    "start_time": "2022-01-09T10:20:34.968Z"
   },
   {
    "duration": 24,
    "start_time": "2022-01-09T10:23:02.685Z"
   },
   {
    "duration": 19,
    "start_time": "2022-01-09T10:25:57.247Z"
   },
   {
    "duration": 8,
    "start_time": "2022-01-09T10:26:24.521Z"
   },
   {
    "duration": 9,
    "start_time": "2022-01-09T10:27:35.882Z"
   },
   {
    "duration": 11,
    "start_time": "2022-01-09T10:37:48.965Z"
   },
   {
    "duration": 79,
    "start_time": "2022-01-09T10:38:19.406Z"
   },
   {
    "duration": 82,
    "start_time": "2022-01-09T10:38:37.265Z"
   },
   {
    "duration": 7,
    "start_time": "2022-01-09T10:40:20.347Z"
   },
   {
    "duration": 28,
    "start_time": "2022-01-09T10:41:47.087Z"
   },
   {
    "duration": 12,
    "start_time": "2022-01-09T10:45:58.053Z"
   },
   {
    "duration": 41,
    "start_time": "2022-01-09T10:46:52.652Z"
   },
   {
    "duration": 15,
    "start_time": "2022-01-09T10:47:06.170Z"
   },
   {
    "duration": 10,
    "start_time": "2022-01-09T10:48:37.456Z"
   },
   {
    "duration": 6,
    "start_time": "2022-01-09T10:48:48.876Z"
   },
   {
    "duration": 12,
    "start_time": "2022-01-09T10:51:28.698Z"
   },
   {
    "duration": 200,
    "start_time": "2022-01-09T10:54:50.409Z"
   },
   {
    "duration": 11,
    "start_time": "2022-01-09T10:57:41.322Z"
   },
   {
    "duration": 12,
    "start_time": "2022-01-09T10:57:42.556Z"
   },
   {
    "duration": 258,
    "start_time": "2022-01-09T10:58:11.047Z"
   },
   {
    "duration": 1412,
    "start_time": "2022-01-09T10:58:44.012Z"
   },
   {
    "duration": 519,
    "start_time": "2022-01-09T10:58:45.428Z"
   },
   {
    "duration": 15,
    "start_time": "2022-01-09T10:58:45.950Z"
   },
   {
    "duration": 31,
    "start_time": "2022-01-09T10:58:45.968Z"
   },
   {
    "duration": 12,
    "start_time": "2022-01-09T10:58:46.002Z"
   },
   {
    "duration": 55,
    "start_time": "2022-01-09T10:58:46.016Z"
   },
   {
    "duration": 11,
    "start_time": "2022-01-09T10:58:46.074Z"
   },
   {
    "duration": 25,
    "start_time": "2022-01-09T10:58:46.087Z"
   },
   {
    "duration": 12,
    "start_time": "2022-01-09T10:58:46.116Z"
   },
   {
    "duration": 9,
    "start_time": "2022-01-09T10:58:46.163Z"
   },
   {
    "duration": 16,
    "start_time": "2022-01-09T10:58:46.175Z"
   },
   {
    "duration": 15,
    "start_time": "2022-01-09T10:58:46.193Z"
   },
   {
    "duration": 115,
    "start_time": "2022-01-09T10:58:46.210Z"
   },
   {
    "duration": 7,
    "start_time": "2022-01-09T10:58:46.327Z"
   },
   {
    "duration": 58,
    "start_time": "2022-01-09T10:58:46.336Z"
   },
   {
    "duration": 13,
    "start_time": "2022-01-09T10:58:46.396Z"
   },
   {
    "duration": 6,
    "start_time": "2022-01-09T10:58:46.411Z"
   },
   {
    "duration": 6,
    "start_time": "2022-01-09T10:58:46.419Z"
   },
   {
    "duration": 176,
    "start_time": "2022-01-09T10:58:46.427Z"
   },
   {
    "duration": 13,
    "start_time": "2022-01-09T10:58:46.605Z"
   },
   {
    "duration": 11,
    "start_time": "2022-01-09T10:58:46.620Z"
   },
   {
    "duration": 12,
    "start_time": "2022-01-09T10:58:58.547Z"
   },
   {
    "duration": 33,
    "start_time": "2022-01-09T10:59:51.312Z"
   },
   {
    "duration": 22,
    "start_time": "2022-01-09T11:00:07.345Z"
   },
   {
    "duration": 7,
    "start_time": "2022-01-09T11:01:43.743Z"
   },
   {
    "duration": 6,
    "start_time": "2022-01-09T11:02:39.443Z"
   },
   {
    "duration": 22,
    "start_time": "2022-01-09T11:03:14.144Z"
   },
   {
    "duration": 9,
    "start_time": "2022-01-09T11:03:26.094Z"
   },
   {
    "duration": 13,
    "start_time": "2022-01-09T11:04:03.095Z"
   },
   {
    "duration": 7,
    "start_time": "2022-01-09T11:06:36.742Z"
   },
   {
    "duration": 27,
    "start_time": "2022-01-09T11:08:45.280Z"
   },
   {
    "duration": 65,
    "start_time": "2022-01-09T11:09:16.531Z"
   },
   {
    "duration": 11,
    "start_time": "2022-01-09T11:39:19.769Z"
   },
   {
    "duration": 20,
    "start_time": "2022-01-09T11:39:52.834Z"
   },
   {
    "duration": 39,
    "start_time": "2022-01-09T11:40:12.711Z"
   },
   {
    "duration": 6,
    "start_time": "2022-01-09T11:41:24.993Z"
   },
   {
    "duration": 11,
    "start_time": "2022-01-09T11:42:51.432Z"
   },
   {
    "duration": 24,
    "start_time": "2022-01-09T11:43:00.479Z"
   },
   {
    "duration": 63,
    "start_time": "2022-01-09T11:43:16.249Z"
   },
   {
    "duration": 15,
    "start_time": "2022-01-09T11:44:34.527Z"
   },
   {
    "duration": 6,
    "start_time": "2022-01-09T11:45:26.963Z"
   },
   {
    "duration": 6,
    "start_time": "2022-01-09T11:48:05.828Z"
   },
   {
    "duration": 5,
    "start_time": "2022-01-09T11:50:33.936Z"
   },
   {
    "duration": 6,
    "start_time": "2022-01-09T11:51:47.230Z"
   },
   {
    "duration": 6,
    "start_time": "2022-01-09T11:51:57.560Z"
   },
   {
    "duration": 6,
    "start_time": "2022-01-09T11:53:55.104Z"
   },
   {
    "duration": 7,
    "start_time": "2022-01-09T11:58:06.272Z"
   },
   {
    "duration": 7,
    "start_time": "2022-01-09T11:58:07.072Z"
   },
   {
    "duration": 18,
    "start_time": "2022-01-09T11:58:39.854Z"
   },
   {
    "duration": 6,
    "start_time": "2022-01-09T11:59:22.859Z"
   },
   {
    "duration": 5,
    "start_time": "2022-01-09T12:01:21.435Z"
   },
   {
    "duration": 9,
    "start_time": "2022-01-09T12:03:31.011Z"
   },
   {
    "duration": 9,
    "start_time": "2022-01-09T12:03:47.156Z"
   },
   {
    "duration": 10,
    "start_time": "2022-01-09T12:04:06.509Z"
   },
   {
    "duration": 104,
    "start_time": "2022-01-09T12:20:25.987Z"
   },
   {
    "duration": 15,
    "start_time": "2022-01-09T12:20:27.037Z"
   },
   {
    "duration": 93,
    "start_time": "2022-01-09T12:20:41.546Z"
   },
   {
    "duration": 14,
    "start_time": "2022-01-09T12:20:43.624Z"
   },
   {
    "duration": 72,
    "start_time": "2022-01-09T12:22:22.408Z"
   },
   {
    "duration": 15,
    "start_time": "2022-01-09T12:22:35.597Z"
   },
   {
    "duration": 7,
    "start_time": "2022-01-09T12:23:10.016Z"
   },
   {
    "duration": 64,
    "start_time": "2022-01-09T12:23:27.823Z"
   },
   {
    "duration": 15,
    "start_time": "2022-01-09T12:23:29.258Z"
   },
   {
    "duration": 1392,
    "start_time": "2022-01-09T12:23:42.047Z"
   },
   {
    "duration": 554,
    "start_time": "2022-01-09T12:23:43.441Z"
   },
   {
    "duration": 17,
    "start_time": "2022-01-09T12:23:43.998Z"
   },
   {
    "duration": 28,
    "start_time": "2022-01-09T12:23:44.017Z"
   },
   {
    "duration": 14,
    "start_time": "2022-01-09T12:23:44.048Z"
   },
   {
    "duration": 23,
    "start_time": "2022-01-09T12:23:44.065Z"
   },
   {
    "duration": 10,
    "start_time": "2022-01-09T12:23:44.090Z"
   },
   {
    "duration": 21,
    "start_time": "2022-01-09T12:23:44.103Z"
   },
   {
    "duration": 48,
    "start_time": "2022-01-09T12:23:44.126Z"
   },
   {
    "duration": 9,
    "start_time": "2022-01-09T12:23:44.177Z"
   },
   {
    "duration": 19,
    "start_time": "2022-01-09T12:23:44.188Z"
   },
   {
    "duration": 11,
    "start_time": "2022-01-09T12:23:44.210Z"
   },
   {
    "duration": 139,
    "start_time": "2022-01-09T12:23:44.223Z"
   },
   {
    "duration": 6,
    "start_time": "2022-01-09T12:23:44.365Z"
   },
   {
    "duration": 95,
    "start_time": "2022-01-09T12:23:44.374Z"
   },
   {
    "duration": 20,
    "start_time": "2022-01-09T12:23:44.472Z"
   },
   {
    "duration": 14,
    "start_time": "2022-01-09T12:23:46.775Z"
   },
   {
    "duration": 7,
    "start_time": "2022-01-09T12:23:48.182Z"
   },
   {
    "duration": 18,
    "start_time": "2022-01-09T12:23:49.686Z"
   },
   {
    "duration": 6,
    "start_time": "2022-01-09T12:23:50.663Z"
   },
   {
    "duration": 135,
    "start_time": "2022-01-09T12:23:50.995Z"
   },
   {
    "duration": 10,
    "start_time": "2022-01-09T12:23:52.941Z"
   },
   {
    "duration": 44,
    "start_time": "2022-01-09T12:23:53.269Z"
   },
   {
    "duration": 8,
    "start_time": "2022-01-09T12:23:53.910Z"
   },
   {
    "duration": 6,
    "start_time": "2022-01-09T12:23:55.593Z"
   },
   {
    "duration": 10,
    "start_time": "2022-01-09T12:23:55.955Z"
   },
   {
    "duration": 7,
    "start_time": "2022-01-09T12:23:56.954Z"
   },
   {
    "duration": 50,
    "start_time": "2022-01-09T12:24:02.483Z"
   },
   {
    "duration": 14,
    "start_time": "2022-01-09T12:24:03.872Z"
   },
   {
    "duration": 82,
    "start_time": "2022-01-09T12:24:05.923Z"
   },
   {
    "duration": 35,
    "start_time": "2022-01-09T12:24:07.015Z"
   },
   {
    "duration": 6,
    "start_time": "2022-01-09T12:24:10.214Z"
   },
   {
    "duration": 42,
    "start_time": "2022-01-09T12:26:17.084Z"
   },
   {
    "duration": 14,
    "start_time": "2022-01-09T12:26:17.964Z"
   },
   {
    "duration": 67,
    "start_time": "2022-01-09T12:26:51.984Z"
   },
   {
    "duration": 6,
    "start_time": "2022-01-09T12:26:53.425Z"
   },
   {
    "duration": 8,
    "start_time": "2022-01-09T12:26:53.777Z"
   },
   {
    "duration": 8,
    "start_time": "2022-01-09T12:26:54.598Z"
   },
   {
    "duration": 6,
    "start_time": "2022-01-09T12:26:55.990Z"
   },
   {
    "duration": 6,
    "start_time": "2022-01-09T12:26:56.444Z"
   },
   {
    "duration": 9,
    "start_time": "2022-01-09T12:27:27.156Z"
   },
   {
    "duration": 7,
    "start_time": "2022-01-09T12:27:28.876Z"
   },
   {
    "duration": 19,
    "start_time": "2022-01-09T12:27:29.982Z"
   },
   {
    "duration": 1364,
    "start_time": "2022-01-09T12:28:10.600Z"
   },
   {
    "duration": 530,
    "start_time": "2022-01-09T12:28:11.967Z"
   },
   {
    "duration": 19,
    "start_time": "2022-01-09T12:28:12.501Z"
   },
   {
    "duration": 30,
    "start_time": "2022-01-09T12:28:12.524Z"
   },
   {
    "duration": 13,
    "start_time": "2022-01-09T12:28:12.557Z"
   },
   {
    "duration": 25,
    "start_time": "2022-01-09T12:28:12.574Z"
   },
   {
    "duration": 11,
    "start_time": "2022-01-09T12:28:12.602Z"
   },
   {
    "duration": 64,
    "start_time": "2022-01-09T12:28:12.619Z"
   },
   {
    "duration": 10,
    "start_time": "2022-01-09T12:28:12.686Z"
   },
   {
    "duration": 12,
    "start_time": "2022-01-09T12:28:12.699Z"
   },
   {
    "duration": 50,
    "start_time": "2022-01-09T12:28:12.713Z"
   },
   {
    "duration": 10,
    "start_time": "2022-01-09T12:28:12.765Z"
   },
   {
    "duration": 98,
    "start_time": "2022-01-09T12:28:12.777Z"
   },
   {
    "duration": 6,
    "start_time": "2022-01-09T12:28:12.877Z"
   },
   {
    "duration": 88,
    "start_time": "2022-01-09T12:28:12.885Z"
   },
   {
    "duration": 14,
    "start_time": "2022-01-09T12:28:12.975Z"
   },
   {
    "duration": 16,
    "start_time": "2022-01-09T12:28:12.992Z"
   },
   {
    "duration": 23,
    "start_time": "2022-01-09T12:28:13.011Z"
   },
   {
    "duration": 27,
    "start_time": "2022-01-09T12:28:13.037Z"
   },
   {
    "duration": 160,
    "start_time": "2022-01-09T12:28:13.067Z"
   },
   {
    "duration": 10,
    "start_time": "2022-01-09T12:28:13.230Z"
   },
   {
    "duration": 46,
    "start_time": "2022-01-09T12:28:13.242Z"
   },
   {
    "duration": 6,
    "start_time": "2022-01-09T12:28:13.293Z"
   },
   {
    "duration": 8,
    "start_time": "2022-01-09T12:28:13.303Z"
   },
   {
    "duration": 53,
    "start_time": "2022-01-09T12:28:13.314Z"
   },
   {
    "duration": 7,
    "start_time": "2022-01-09T12:28:13.369Z"
   },
   {
    "duration": 49,
    "start_time": "2022-01-09T12:28:13.378Z"
   },
   {
    "duration": 43,
    "start_time": "2022-01-09T12:28:13.429Z"
   },
   {
    "duration": 74,
    "start_time": "2022-01-09T12:28:13.475Z"
   },
   {
    "duration": 39,
    "start_time": "2022-01-09T12:28:13.563Z"
   },
   {
    "duration": 8,
    "start_time": "2022-01-09T12:28:13.605Z"
   },
   {
    "duration": 78,
    "start_time": "2022-01-09T12:28:13.616Z"
   },
   {
    "duration": 15,
    "start_time": "2022-01-09T12:28:13.696Z"
   },
   {
    "duration": 100,
    "start_time": "2022-01-09T12:28:13.714Z"
   },
   {
    "duration": 6,
    "start_time": "2022-01-09T12:28:13.817Z"
   },
   {
    "duration": 13,
    "start_time": "2022-01-09T12:28:13.825Z"
   },
   {
    "duration": 24,
    "start_time": "2022-01-09T12:28:13.841Z"
   },
   {
    "duration": 5,
    "start_time": "2022-01-09T12:28:13.868Z"
   },
   {
    "duration": 7,
    "start_time": "2022-01-09T12:28:13.875Z"
   },
   {
    "duration": 7,
    "start_time": "2022-01-09T12:28:13.884Z"
   },
   {
    "duration": 9,
    "start_time": "2022-01-09T12:28:13.893Z"
   },
   {
    "duration": 63,
    "start_time": "2022-01-09T12:28:13.905Z"
   },
   {
    "duration": 6,
    "start_time": "2022-01-09T12:28:13.970Z"
   },
   {
    "duration": 33,
    "start_time": "2022-01-09T12:30:55.639Z"
   },
   {
    "duration": 89,
    "start_time": "2022-01-09T12:38:12.541Z"
   },
   {
    "duration": 396,
    "start_time": "2022-01-09T12:39:55.864Z"
   },
   {
    "duration": 84,
    "start_time": "2022-01-09T12:40:14.560Z"
   },
   {
    "duration": 62,
    "start_time": "2022-01-09T12:56:05.083Z"
   },
   {
    "duration": 85,
    "start_time": "2022-01-09T12:57:43.064Z"
   },
   {
    "duration": 7674,
    "start_time": "2022-01-09T12:58:19.453Z"
   },
   {
    "duration": 84,
    "start_time": "2022-01-09T12:59:59.054Z"
   },
   {
    "duration": 85,
    "start_time": "2022-01-09T13:00:15.824Z"
   },
   {
    "duration": 132,
    "start_time": "2022-01-09T13:04:16.607Z"
   },
   {
    "duration": 73,
    "start_time": "2022-01-09T13:05:06.363Z"
   },
   {
    "duration": 14,
    "start_time": "2022-01-09T13:05:26.438Z"
   },
   {
    "duration": 64,
    "start_time": "2022-01-09T13:05:52.640Z"
   },
   {
    "duration": 68,
    "start_time": "2022-01-09T13:08:39.017Z"
   },
   {
    "duration": 64,
    "start_time": "2022-01-09T13:11:31.937Z"
   },
   {
    "duration": 59,
    "start_time": "2022-01-09T13:11:46.247Z"
   },
   {
    "duration": 62,
    "start_time": "2022-01-09T13:11:57.142Z"
   },
   {
    "duration": 60,
    "start_time": "2022-01-09T13:12:02.638Z"
   },
   {
    "duration": 334,
    "start_time": "2022-01-09T13:17:22.123Z"
   },
   {
    "duration": 56,
    "start_time": "2022-01-09T13:17:58.362Z"
   },
   {
    "duration": 65,
    "start_time": "2022-01-09T13:24:16.347Z"
   },
   {
    "duration": 62,
    "start_time": "2022-01-09T13:24:21.423Z"
   },
   {
    "duration": 57,
    "start_time": "2022-01-09T13:27:29.821Z"
   },
   {
    "duration": 55,
    "start_time": "2022-01-09T13:27:37.657Z"
   },
   {
    "duration": 51,
    "start_time": "2022-01-09T13:30:15.323Z"
   },
   {
    "duration": 5,
    "start_time": "2022-01-09T13:47:21.424Z"
   },
   {
    "duration": 6,
    "start_time": "2022-01-09T13:47:25.081Z"
   },
   {
    "duration": 19,
    "start_time": "2022-01-09T13:47:28.651Z"
   },
   {
    "duration": 6,
    "start_time": "2022-01-09T13:47:29.934Z"
   },
   {
    "duration": 6,
    "start_time": "2022-01-09T13:48:41.320Z"
   },
   {
    "duration": 7,
    "start_time": "2022-01-09T13:48:41.805Z"
   },
   {
    "duration": 15,
    "start_time": "2022-01-09T13:48:42.987Z"
   },
   {
    "duration": 6,
    "start_time": "2022-01-09T13:48:44.905Z"
   },
   {
    "duration": 48,
    "start_time": "2022-01-09T13:48:52.690Z"
   },
   {
    "duration": 15,
    "start_time": "2022-01-09T13:48:53.050Z"
   },
   {
    "duration": 71,
    "start_time": "2022-01-09T13:48:57.435Z"
   },
   {
    "duration": 35,
    "start_time": "2022-01-09T13:49:02.519Z"
   },
   {
    "duration": 57,
    "start_time": "2022-01-09T13:50:15.498Z"
   },
   {
    "duration": 56,
    "start_time": "2022-01-09T13:50:19.520Z"
   },
   {
    "duration": 50,
    "start_time": "2022-01-09T13:50:22.258Z"
   },
   {
    "duration": 12,
    "start_time": "2022-01-09T14:23:40.496Z"
   },
   {
    "duration": 20,
    "start_time": "2022-01-09T14:23:55.728Z"
   },
   {
    "duration": 54,
    "start_time": "2022-01-09T14:27:33.807Z"
   },
   {
    "duration": 93,
    "start_time": "2022-01-09T14:27:44.374Z"
   },
   {
    "duration": 54,
    "start_time": "2022-01-09T14:27:47.894Z"
   },
   {
    "duration": 54,
    "start_time": "2022-01-09T14:28:12.465Z"
   },
   {
    "duration": 52,
    "start_time": "2022-01-09T14:31:08.363Z"
   },
   {
    "duration": 68,
    "start_time": "2022-01-09T14:31:58.109Z"
   },
   {
    "duration": 9,
    "start_time": "2022-01-09T14:49:12.078Z"
   },
   {
    "duration": 20,
    "start_time": "2022-01-09T14:49:14.064Z"
   },
   {
    "duration": 21,
    "start_time": "2022-01-09T14:49:46.233Z"
   },
   {
    "duration": 7582,
    "start_time": "2022-01-09T14:57:46.389Z"
   },
   {
    "duration": 4675,
    "start_time": "2022-01-09T14:57:57.024Z"
   },
   {
    "duration": 54,
    "start_time": "2022-01-09T14:58:14.021Z"
   },
   {
    "duration": 21,
    "start_time": "2022-01-09T14:58:17.712Z"
   },
   {
    "duration": 51,
    "start_time": "2022-01-09T14:58:47.017Z"
   },
   {
    "duration": 62,
    "start_time": "2022-01-09T14:58:55.731Z"
   },
   {
    "duration": 282,
    "start_time": "2022-01-09T15:00:27.370Z"
   },
   {
    "duration": 284,
    "start_time": "2022-01-09T15:00:49.194Z"
   },
   {
    "duration": 56,
    "start_time": "2022-01-09T15:00:57.044Z"
   },
   {
    "duration": 352,
    "start_time": "2022-01-09T15:01:25.878Z"
   },
   {
    "duration": 54,
    "start_time": "2022-01-09T15:01:56.212Z"
   },
   {
    "duration": 282,
    "start_time": "2022-01-09T15:02:46.979Z"
   },
   {
    "duration": 68,
    "start_time": "2022-01-09T15:02:51.550Z"
   },
   {
    "duration": 55,
    "start_time": "2022-01-09T15:03:29.608Z"
   },
   {
    "duration": 68,
    "start_time": "2022-01-09T15:03:41.660Z"
   },
   {
    "duration": 9,
    "start_time": "2022-01-09T15:38:29.738Z"
   },
   {
    "duration": 6,
    "start_time": "2022-01-09T15:39:18.655Z"
   },
   {
    "duration": 7,
    "start_time": "2022-01-09T15:39:23.686Z"
   },
   {
    "duration": 12,
    "start_time": "2022-01-09T15:39:36.025Z"
   },
   {
    "duration": 4102,
    "start_time": "2022-01-09T15:40:32.352Z"
   },
   {
    "duration": -143,
    "start_time": "2022-01-09T15:40:36.600Z"
   },
   {
    "duration": 5,
    "start_time": "2022-01-09T15:40:40.511Z"
   },
   {
    "duration": 5,
    "start_time": "2022-01-09T15:40:41.668Z"
   },
   {
    "duration": 6,
    "start_time": "2022-01-09T15:40:48.772Z"
   },
   {
    "duration": 1372,
    "start_time": "2022-01-09T20:18:13.079Z"
   },
   {
    "duration": 546,
    "start_time": "2022-01-09T20:18:14.455Z"
   },
   {
    "duration": 21,
    "start_time": "2022-01-09T20:18:15.006Z"
   },
   {
    "duration": 31,
    "start_time": "2022-01-09T20:18:15.031Z"
   },
   {
    "duration": 15,
    "start_time": "2022-01-09T20:18:15.065Z"
   },
   {
    "duration": 29,
    "start_time": "2022-01-09T20:18:15.083Z"
   },
   {
    "duration": 10,
    "start_time": "2022-01-09T20:18:15.115Z"
   },
   {
    "duration": 48,
    "start_time": "2022-01-09T20:18:15.129Z"
   },
   {
    "duration": 11,
    "start_time": "2022-01-09T20:18:15.181Z"
   },
   {
    "duration": 9,
    "start_time": "2022-01-09T20:18:15.194Z"
   },
   {
    "duration": 15,
    "start_time": "2022-01-09T20:18:15.205Z"
   },
   {
    "duration": 10,
    "start_time": "2022-01-09T20:18:15.264Z"
   },
   {
    "duration": 98,
    "start_time": "2022-01-09T20:18:15.276Z"
   },
   {
    "duration": 6,
    "start_time": "2022-01-09T20:18:15.376Z"
   },
   {
    "duration": 91,
    "start_time": "2022-01-09T20:18:15.385Z"
   },
   {
    "duration": 13,
    "start_time": "2022-01-09T20:18:15.478Z"
   },
   {
    "duration": 9,
    "start_time": "2022-01-09T20:18:15.494Z"
   },
   {
    "duration": 6,
    "start_time": "2022-01-09T20:18:15.506Z"
   },
   {
    "duration": 54,
    "start_time": "2022-01-09T20:18:15.514Z"
   },
   {
    "duration": 6,
    "start_time": "2022-01-09T20:18:15.571Z"
   },
   {
    "duration": 171,
    "start_time": "2022-01-09T20:18:15.580Z"
   },
   {
    "duration": 12,
    "start_time": "2022-01-09T20:18:15.754Z"
   },
   {
    "duration": 46,
    "start_time": "2022-01-09T20:18:15.774Z"
   },
   {
    "duration": 39,
    "start_time": "2022-01-09T20:18:15.824Z"
   },
   {
    "duration": 5,
    "start_time": "2022-01-09T20:18:15.866Z"
   },
   {
    "duration": 8,
    "start_time": "2022-01-09T20:18:15.874Z"
   },
   {
    "duration": 14,
    "start_time": "2022-01-09T20:18:15.884Z"
   },
   {
    "duration": 6,
    "start_time": "2022-01-09T20:18:15.901Z"
   },
   {
    "duration": 94,
    "start_time": "2022-01-09T20:18:15.909Z"
   },
   {
    "duration": 13,
    "start_time": "2022-01-09T20:18:16.006Z"
   },
   {
    "duration": 90,
    "start_time": "2022-01-09T20:18:16.022Z"
   },
   {
    "duration": 52,
    "start_time": "2022-01-09T20:18:16.115Z"
   },
   {
    "duration": 6,
    "start_time": "2022-01-09T20:18:16.169Z"
   },
   {
    "duration": 41,
    "start_time": "2022-01-09T20:18:16.178Z"
   },
   {
    "duration": 41,
    "start_time": "2022-01-09T20:18:16.222Z"
   },
   {
    "duration": 70,
    "start_time": "2022-01-09T20:18:16.266Z"
   },
   {
    "duration": 28,
    "start_time": "2022-01-09T20:18:16.339Z"
   },
   {
    "duration": 7,
    "start_time": "2022-01-09T20:18:16.369Z"
   },
   {
    "duration": 6,
    "start_time": "2022-01-09T20:18:16.379Z"
   },
   {
    "duration": 8,
    "start_time": "2022-01-09T20:18:16.388Z"
   },
   {
    "duration": 6,
    "start_time": "2022-01-09T20:18:16.399Z"
   },
   {
    "duration": 62,
    "start_time": "2022-01-09T20:18:16.407Z"
   },
   {
    "duration": 10,
    "start_time": "2022-01-09T20:18:16.471Z"
   },
   {
    "duration": 21,
    "start_time": "2022-01-09T20:18:16.483Z"
   },
   {
    "duration": 6,
    "start_time": "2022-01-09T20:18:16.507Z"
   },
   {
    "duration": 105,
    "start_time": "2022-01-09T20:18:16.515Z"
   },
   {
    "duration": 6,
    "start_time": "2022-01-09T20:18:16.623Z"
   },
   {
    "duration": 7,
    "start_time": "2022-01-09T20:18:16.632Z"
   },
   {
    "duration": 81,
    "start_time": "2022-01-09T20:18:16.664Z"
   },
   {
    "duration": 71,
    "start_time": "2022-01-09T20:18:16.747Z"
   },
   {
    "duration": 77,
    "start_time": "2022-01-09T20:18:16.820Z"
   },
   {
    "duration": 12,
    "start_time": "2022-01-09T20:18:16.900Z"
   },
   {
    "duration": 21,
    "start_time": "2022-01-09T20:18:16.914Z"
   },
   {
    "duration": 6,
    "start_time": "2022-01-09T20:24:52.151Z"
   },
   {
    "duration": 11,
    "start_time": "2022-01-09T20:24:53.167Z"
   },
   {
    "duration": 5,
    "start_time": "2022-01-09T20:25:13.489Z"
   },
   {
    "duration": 388,
    "start_time": "2022-01-09T20:26:09.361Z"
   },
   {
    "duration": 58,
    "start_time": "2022-01-09T20:26:18.640Z"
   },
   {
    "duration": 5,
    "start_time": "2022-01-09T20:26:30.303Z"
   },
   {
    "duration": 64,
    "start_time": "2022-01-09T20:26:39.688Z"
   },
   {
    "duration": 54,
    "start_time": "2022-01-09T20:26:47.238Z"
   },
   {
    "duration": 3,
    "start_time": "2022-01-09T20:26:59.604Z"
   },
   {
    "duration": 5,
    "start_time": "2022-01-09T20:27:02.844Z"
   },
   {
    "duration": 82,
    "start_time": "2022-01-09T20:27:13.088Z"
   },
   {
    "duration": 5,
    "start_time": "2022-01-09T20:27:16.981Z"
   },
   {
    "duration": 46,
    "start_time": "2022-01-09T20:28:58.612Z"
   },
   {
    "duration": 4,
    "start_time": "2022-01-09T20:45:59.089Z"
   },
   {
    "duration": 12,
    "start_time": "2022-01-09T20:51:06.616Z"
   },
   {
    "duration": 569,
    "start_time": "2022-01-09T20:51:08.767Z"
   },
   {
    "duration": 8,
    "start_time": "2022-01-09T20:52:00.614Z"
   },
   {
    "duration": 6651,
    "start_time": "2022-01-09T20:52:01.724Z"
   },
   {
    "duration": 9,
    "start_time": "2022-01-09T21:00:21.578Z"
   },
   {
    "duration": 7118,
    "start_time": "2022-01-09T21:00:22.219Z"
   },
   {
    "duration": 52,
    "start_time": "2022-01-09T21:01:17.271Z"
   },
   {
    "duration": 5,
    "start_time": "2022-01-09T21:02:00.006Z"
   },
   {
    "duration": 600,
    "start_time": "2022-01-09T21:02:00.016Z"
   },
   {
    "duration": 11,
    "start_time": "2022-01-09T21:02:00.618Z"
   },
   {
    "duration": 34,
    "start_time": "2022-01-09T21:02:00.633Z"
   },
   {
    "duration": 14,
    "start_time": "2022-01-09T21:02:00.670Z"
   },
   {
    "duration": 39,
    "start_time": "2022-01-09T21:02:00.686Z"
   },
   {
    "duration": 10,
    "start_time": "2022-01-09T21:02:00.728Z"
   },
   {
    "duration": 43,
    "start_time": "2022-01-09T21:02:00.741Z"
   },
   {
    "duration": 13,
    "start_time": "2022-01-09T21:02:00.786Z"
   },
   {
    "duration": 40,
    "start_time": "2022-01-09T21:02:00.803Z"
   },
   {
    "duration": 31,
    "start_time": "2022-01-09T21:02:00.847Z"
   },
   {
    "duration": 27,
    "start_time": "2022-01-09T21:02:00.881Z"
   },
   {
    "duration": 108,
    "start_time": "2022-01-09T21:02:00.911Z"
   },
   {
    "duration": 7,
    "start_time": "2022-01-09T21:02:01.022Z"
   },
   {
    "duration": 88,
    "start_time": "2022-01-09T21:02:01.032Z"
   },
   {
    "duration": 13,
    "start_time": "2022-01-09T21:02:01.123Z"
   },
   {
    "duration": 26,
    "start_time": "2022-01-09T21:02:01.139Z"
   },
   {
    "duration": 6,
    "start_time": "2022-01-09T21:02:01.167Z"
   },
   {
    "duration": 22,
    "start_time": "2022-01-09T21:02:01.175Z"
   },
   {
    "duration": 6,
    "start_time": "2022-01-09T21:02:01.199Z"
   },
   {
    "duration": 171,
    "start_time": "2022-01-09T21:02:01.208Z"
   },
   {
    "duration": 10,
    "start_time": "2022-01-09T21:02:01.382Z"
   },
   {
    "duration": 53,
    "start_time": "2022-01-09T21:02:01.394Z"
   },
   {
    "duration": 17,
    "start_time": "2022-01-09T21:02:01.449Z"
   },
   {
    "duration": 10,
    "start_time": "2022-01-09T21:02:01.468Z"
   },
   {
    "duration": 13,
    "start_time": "2022-01-09T21:02:01.480Z"
   },
   {
    "duration": 15,
    "start_time": "2022-01-09T21:02:01.495Z"
   },
   {
    "duration": 6,
    "start_time": "2022-01-09T21:02:01.516Z"
   },
   {
    "duration": 81,
    "start_time": "2022-01-09T21:02:01.525Z"
   },
   {
    "duration": 13,
    "start_time": "2022-01-09T21:02:01.609Z"
   },
   {
    "duration": 87,
    "start_time": "2022-01-09T21:02:01.624Z"
   },
   {
    "duration": 51,
    "start_time": "2022-01-09T21:02:01.713Z"
   },
   {
    "duration": 6,
    "start_time": "2022-01-09T21:02:01.767Z"
   },
   {
    "duration": 40,
    "start_time": "2022-01-09T21:02:01.777Z"
   },
   {
    "duration": 47,
    "start_time": "2022-01-09T21:02:01.820Z"
   },
   {
    "duration": 73,
    "start_time": "2022-01-09T21:02:01.870Z"
   },
   {
    "duration": 23,
    "start_time": "2022-01-09T21:02:01.945Z"
   },
   {
    "duration": 9,
    "start_time": "2022-01-09T21:02:01.971Z"
   },
   {
    "duration": 6,
    "start_time": "2022-01-09T21:02:01.983Z"
   },
   {
    "duration": 6,
    "start_time": "2022-01-09T21:02:01.992Z"
   },
   {
    "duration": 8,
    "start_time": "2022-01-09T21:02:02.001Z"
   },
   {
    "duration": 61,
    "start_time": "2022-01-09T21:02:02.012Z"
   },
   {
    "duration": 10,
    "start_time": "2022-01-09T21:02:02.075Z"
   },
   {
    "duration": 24,
    "start_time": "2022-01-09T21:02:02.087Z"
   },
   {
    "duration": 10,
    "start_time": "2022-01-09T21:02:02.113Z"
   },
   {
    "duration": 89,
    "start_time": "2022-01-09T21:02:02.125Z"
   },
   {
    "duration": 98,
    "start_time": "2022-01-09T21:02:02.217Z"
   },
   {
    "duration": 69,
    "start_time": "2022-01-09T21:02:02.318Z"
   },
   {
    "duration": 52,
    "start_time": "2022-01-09T21:02:02.389Z"
   },
   {
    "duration": 27,
    "start_time": "2022-01-09T21:02:02.443Z"
   },
   {
    "duration": 25,
    "start_time": "2022-01-09T21:02:02.473Z"
   },
   {
    "duration": 10,
    "start_time": "2022-01-09T21:02:02.501Z"
   },
   {
    "duration": 9,
    "start_time": "2022-01-09T21:02:06.878Z"
   },
   {
    "duration": 7296,
    "start_time": "2022-01-09T21:02:08.121Z"
   },
   {
    "duration": 5,
    "start_time": "2022-01-09T21:02:58.865Z"
   },
   {
    "duration": 8,
    "start_time": "2022-01-09T21:03:28.981Z"
   },
   {
    "duration": 7,
    "start_time": "2022-01-09T21:04:19.477Z"
   },
   {
    "duration": 6,
    "start_time": "2022-01-09T21:04:25.529Z"
   },
   {
    "duration": 6,
    "start_time": "2022-01-09T21:04:38.874Z"
   },
   {
    "duration": 9,
    "start_time": "2022-01-09T21:07:12.354Z"
   },
   {
    "duration": 7968,
    "start_time": "2022-01-09T21:07:14.021Z"
   },
   {
    "duration": 1129,
    "start_time": "2022-01-10T08:08:48.970Z"
   },
   {
    "duration": 532,
    "start_time": "2022-01-10T08:08:50.101Z"
   },
   {
    "duration": 11,
    "start_time": "2022-01-10T08:08:50.636Z"
   },
   {
    "duration": 23,
    "start_time": "2022-01-10T08:08:50.649Z"
   },
   {
    "duration": 8,
    "start_time": "2022-01-10T08:08:50.674Z"
   },
   {
    "duration": 21,
    "start_time": "2022-01-10T08:08:50.684Z"
   },
   {
    "duration": 7,
    "start_time": "2022-01-10T08:08:50.706Z"
   },
   {
    "duration": 16,
    "start_time": "2022-01-10T08:08:50.715Z"
   },
   {
    "duration": 8,
    "start_time": "2022-01-10T08:08:50.761Z"
   },
   {
    "duration": 9,
    "start_time": "2022-01-10T08:08:50.771Z"
   },
   {
    "duration": 12,
    "start_time": "2022-01-10T08:08:50.782Z"
   },
   {
    "duration": 7,
    "start_time": "2022-01-10T08:08:50.795Z"
   },
   {
    "duration": 90,
    "start_time": "2022-01-10T08:08:50.804Z"
   },
   {
    "duration": 5,
    "start_time": "2022-01-10T08:08:50.896Z"
   },
   {
    "duration": 61,
    "start_time": "2022-01-10T08:08:50.902Z"
   },
   {
    "duration": 10,
    "start_time": "2022-01-10T08:08:50.965Z"
   },
   {
    "duration": 15,
    "start_time": "2022-01-10T08:08:50.976Z"
   },
   {
    "duration": 20,
    "start_time": "2022-01-10T08:08:50.993Z"
   },
   {
    "duration": 47,
    "start_time": "2022-01-10T08:08:51.015Z"
   },
   {
    "duration": 5,
    "start_time": "2022-01-10T08:08:51.064Z"
   },
   {
    "duration": 121,
    "start_time": "2022-01-10T08:08:51.071Z"
   },
   {
    "duration": 6,
    "start_time": "2022-01-10T08:08:51.194Z"
   },
   {
    "duration": 53,
    "start_time": "2022-01-10T08:08:51.203Z"
   },
   {
    "duration": 12,
    "start_time": "2022-01-10T08:08:51.258Z"
   },
   {
    "duration": 17,
    "start_time": "2022-01-10T08:08:51.272Z"
   },
   {
    "duration": 30,
    "start_time": "2022-01-10T08:08:51.291Z"
   },
   {
    "duration": 29,
    "start_time": "2022-01-10T08:08:51.323Z"
   },
   {
    "duration": 49,
    "start_time": "2022-01-10T08:08:51.354Z"
   },
   {
    "duration": 53,
    "start_time": "2022-01-10T08:08:51.405Z"
   },
   {
    "duration": 10,
    "start_time": "2022-01-10T08:08:51.460Z"
   },
   {
    "duration": 66,
    "start_time": "2022-01-10T08:08:51.472Z"
   },
   {
    "duration": 29,
    "start_time": "2022-01-10T08:08:51.541Z"
   },
   {
    "duration": 6,
    "start_time": "2022-01-10T08:08:51.572Z"
   },
   {
    "duration": 48,
    "start_time": "2022-01-10T08:08:51.580Z"
   },
   {
    "duration": 11,
    "start_time": "2022-01-10T08:08:51.631Z"
   },
   {
    "duration": 81,
    "start_time": "2022-01-10T08:08:51.644Z"
   },
   {
    "duration": 6,
    "start_time": "2022-01-10T08:08:51.727Z"
   },
   {
    "duration": 25,
    "start_time": "2022-01-10T08:08:51.735Z"
   },
   {
    "duration": 5,
    "start_time": "2022-01-10T08:08:51.763Z"
   },
   {
    "duration": 9,
    "start_time": "2022-01-10T08:08:51.770Z"
   },
   {
    "duration": 6,
    "start_time": "2022-01-10T08:08:51.781Z"
   },
   {
    "duration": 10,
    "start_time": "2022-01-10T08:08:51.789Z"
   },
   {
    "duration": 10,
    "start_time": "2022-01-10T08:08:51.802Z"
   },
   {
    "duration": 15,
    "start_time": "2022-01-10T08:08:51.815Z"
   },
   {
    "duration": 30,
    "start_time": "2022-01-10T08:08:51.832Z"
   },
   {
    "duration": 64,
    "start_time": "2022-01-10T08:08:51.863Z"
   },
   {
    "duration": 102,
    "start_time": "2022-01-10T08:08:51.930Z"
   },
   {
    "duration": 75,
    "start_time": "2022-01-10T08:08:52.034Z"
   },
   {
    "duration": 58,
    "start_time": "2022-01-10T08:08:52.112Z"
   },
   {
    "duration": 11,
    "start_time": "2022-01-10T08:08:52.172Z"
   },
   {
    "duration": 17,
    "start_time": "2022-01-10T08:08:52.185Z"
   },
   {
    "duration": 13,
    "start_time": "2022-01-10T08:09:38.612Z"
   },
   {
    "duration": 8,
    "start_time": "2022-01-10T08:10:44.672Z"
   },
   {
    "duration": 8,
    "start_time": "2022-01-10T08:12:19.185Z"
   },
   {
    "duration": 5785,
    "start_time": "2022-01-10T08:12:20.759Z"
   },
   {
    "duration": 4,
    "start_time": "2022-01-10T08:14:09.380Z"
   },
   {
    "duration": 8,
    "start_time": "2022-01-10T08:14:19.282Z"
   },
   {
    "duration": 5,
    "start_time": "2022-01-10T08:14:38.823Z"
   },
   {
    "duration": 904,
    "start_time": "2022-01-10T08:15:23.289Z"
   },
   {
    "duration": 69,
    "start_time": "2022-01-10T08:15:29.182Z"
   },
   {
    "duration": 193,
    "start_time": "2022-01-10T08:15:35.964Z"
   },
   {
    "duration": 5,
    "start_time": "2022-01-10T08:16:07.174Z"
   },
   {
    "duration": 8,
    "start_time": "2022-01-10T08:18:46.177Z"
   },
   {
    "duration": 2793,
    "start_time": "2022-01-10T08:18:46.585Z"
   },
   {
    "duration": 23,
    "start_time": "2022-01-10T08:19:03.837Z"
   },
   {
    "duration": 7,
    "start_time": "2022-01-10T08:20:10.179Z"
   },
   {
    "duration": 2692,
    "start_time": "2022-01-10T08:20:11.161Z"
   },
   {
    "duration": 22,
    "start_time": "2022-01-10T08:20:15.311Z"
   },
   {
    "duration": 6,
    "start_time": "2022-01-10T08:21:58.081Z"
   },
   {
    "duration": 2827,
    "start_time": "2022-01-10T08:21:59.168Z"
   },
   {
    "duration": 21,
    "start_time": "2022-01-10T08:22:02.978Z"
   },
   {
    "duration": 19,
    "start_time": "2022-01-10T08:36:04.116Z"
   },
   {
    "duration": 21,
    "start_time": "2022-01-10T08:36:49.889Z"
   },
   {
    "duration": 967,
    "start_time": "2022-01-10T08:38:25.396Z"
   },
   {
    "duration": 17,
    "start_time": "2022-01-10T08:38:49.694Z"
   },
   {
    "duration": 18,
    "start_time": "2022-01-10T08:40:53.812Z"
   },
   {
    "duration": 203,
    "start_time": "2022-01-10T08:50:34.836Z"
   },
   {
    "duration": 28,
    "start_time": "2022-01-10T08:50:44.993Z"
   },
   {
    "duration": 66,
    "start_time": "2022-01-10T08:51:59.479Z"
   },
   {
    "duration": 20,
    "start_time": "2022-01-10T08:57:38.573Z"
   },
   {
    "duration": 17,
    "start_time": "2022-01-10T09:00:47.364Z"
   },
   {
    "duration": 20,
    "start_time": "2022-01-10T09:04:31.679Z"
   },
   {
    "duration": 18,
    "start_time": "2022-01-10T09:05:00.522Z"
   },
   {
    "duration": 17,
    "start_time": "2022-01-10T09:19:10.820Z"
   },
   {
    "duration": 6612,
    "start_time": "2022-01-10T09:24:25.905Z"
   },
   {
    "duration": 19,
    "start_time": "2022-01-10T09:24:50.010Z"
   },
   {
    "duration": 541,
    "start_time": "2022-01-10T09:24:52.975Z"
   },
   {
    "duration": 5,
    "start_time": "2022-01-10T09:25:54.670Z"
   },
   {
    "duration": 5,
    "start_time": "2022-01-10T09:26:09.949Z"
   },
   {
    "duration": 414,
    "start_time": "2022-01-10T09:26:18.845Z"
   },
   {
    "duration": 11,
    "start_time": "2022-01-10T09:26:32.243Z"
   },
   {
    "duration": 18,
    "start_time": "2022-01-10T09:27:24.248Z"
   },
   {
    "duration": 7237,
    "start_time": "2022-01-10T09:27:41.433Z"
   },
   {
    "duration": 214,
    "start_time": "2022-01-10T09:27:50.438Z"
   },
   {
    "duration": 232,
    "start_time": "2022-01-10T09:28:02.461Z"
   },
   {
    "duration": 6962,
    "start_time": "2022-01-10T09:28:07.968Z"
   },
   {
    "duration": 220,
    "start_time": "2022-01-10T09:28:31.005Z"
   },
   {
    "duration": 208,
    "start_time": "2022-01-10T09:28:38.125Z"
   },
   {
    "duration": 271,
    "start_time": "2022-01-10T09:29:04.605Z"
   },
   {
    "duration": 7898,
    "start_time": "2022-01-10T09:29:24.878Z"
   },
   {
    "duration": 18,
    "start_time": "2022-01-10T09:30:06.502Z"
   },
   {
    "duration": 23,
    "start_time": "2022-01-10T09:30:15.763Z"
   },
   {
    "duration": 236,
    "start_time": "2022-01-10T09:31:29.376Z"
   },
   {
    "duration": 238,
    "start_time": "2022-01-10T09:31:48.579Z"
   },
   {
    "duration": 11,
    "start_time": "2022-01-10T09:33:22.680Z"
   },
   {
    "duration": 209,
    "start_time": "2022-01-10T09:34:42.798Z"
   },
   {
    "duration": 246,
    "start_time": "2022-01-10T09:35:05.844Z"
   },
   {
    "duration": 217,
    "start_time": "2022-01-10T09:36:11.748Z"
   },
   {
    "duration": 239,
    "start_time": "2022-01-10T09:38:43.267Z"
   },
   {
    "duration": 81,
    "start_time": "2022-01-10T09:39:32.282Z"
   },
   {
    "duration": 90,
    "start_time": "2022-01-10T09:40:30.679Z"
   },
   {
    "duration": 19,
    "start_time": "2022-01-10T09:48:21.109Z"
   },
   {
    "duration": 111,
    "start_time": "2022-01-10T09:48:44.070Z"
   },
   {
    "duration": 18,
    "start_time": "2022-01-10T09:48:53.776Z"
   },
   {
    "duration": 16,
    "start_time": "2022-01-10T09:49:52.318Z"
   },
   {
    "duration": 6,
    "start_time": "2022-01-10T09:50:12.634Z"
   },
   {
    "duration": 4,
    "start_time": "2022-01-10T09:50:48.966Z"
   },
   {
    "duration": 4,
    "start_time": "2022-01-10T09:51:03.474Z"
   },
   {
    "duration": 11,
    "start_time": "2022-01-10T09:51:50.469Z"
   },
   {
    "duration": 11,
    "start_time": "2022-01-10T09:54:00.652Z"
   },
   {
    "duration": 192,
    "start_time": "2022-01-10T09:54:36.543Z"
   },
   {
    "duration": 14,
    "start_time": "2022-01-10T09:56:39.118Z"
   },
   {
    "duration": 17,
    "start_time": "2022-01-10T09:57:21.449Z"
   },
   {
    "duration": 15,
    "start_time": "2022-01-10T09:57:45.166Z"
   },
   {
    "duration": 15,
    "start_time": "2022-01-10T09:57:53.485Z"
   },
   {
    "duration": 15,
    "start_time": "2022-01-10T09:58:00.821Z"
   },
   {
    "duration": 214,
    "start_time": "2022-01-10T09:58:32.048Z"
   },
   {
    "duration": 14,
    "start_time": "2022-01-10T10:02:08.447Z"
   },
   {
    "duration": 15,
    "start_time": "2022-01-10T10:06:42.988Z"
   },
   {
    "duration": 517,
    "start_time": "2022-01-10T10:08:16.835Z"
   },
   {
    "duration": 405,
    "start_time": "2022-01-10T10:08:47.587Z"
   },
   {
    "duration": 241,
    "start_time": "2022-01-10T10:09:23.228Z"
   },
   {
    "duration": 212,
    "start_time": "2022-01-10T10:09:43.586Z"
   },
   {
    "duration": 314,
    "start_time": "2022-01-10T10:09:57.066Z"
   },
   {
    "duration": 211,
    "start_time": "2022-01-10T10:10:02.670Z"
   },
   {
    "duration": 235,
    "start_time": "2022-01-10T10:11:30.658Z"
   },
   {
    "duration": 420,
    "start_time": "2022-01-10T10:11:40.669Z"
   },
   {
    "duration": 322,
    "start_time": "2022-01-10T10:11:44.366Z"
   },
   {
    "duration": 213,
    "start_time": "2022-01-10T10:13:33.965Z"
   },
   {
    "duration": 21,
    "start_time": "2022-01-10T10:20:32.182Z"
   },
   {
    "duration": 15,
    "start_time": "2022-01-10T10:21:24.036Z"
   },
   {
    "duration": 232,
    "start_time": "2022-01-10T10:21:59.449Z"
   },
   {
    "duration": 1814,
    "start_time": "2022-01-10T11:10:54.550Z"
   },
   {
    "duration": 176,
    "start_time": "2022-01-10T11:12:06.487Z"
   },
   {
    "duration": 16,
    "start_time": "2022-01-10T11:12:44.374Z"
   },
   {
    "duration": 172,
    "start_time": "2022-01-10T11:12:45.659Z"
   },
   {
    "duration": 278,
    "start_time": "2022-01-10T11:13:10.842Z"
   },
   {
    "duration": 204,
    "start_time": "2022-01-10T11:13:25.046Z"
   },
   {
    "duration": 189,
    "start_time": "2022-01-10T11:14:54.171Z"
   },
   {
    "duration": 200,
    "start_time": "2022-01-10T11:15:13.954Z"
   },
   {
    "duration": 232,
    "start_time": "2022-01-10T11:18:47.019Z"
   },
   {
    "duration": 330,
    "start_time": "2022-01-10T11:20:20.187Z"
   },
   {
    "duration": 241,
    "start_time": "2022-01-10T11:20:30.919Z"
   },
   {
    "duration": 190,
    "start_time": "2022-01-10T11:20:51.522Z"
   },
   {
    "duration": 228,
    "start_time": "2022-01-10T11:21:22.112Z"
   },
   {
    "duration": 241,
    "start_time": "2022-01-10T11:21:33.073Z"
   },
   {
    "duration": 243,
    "start_time": "2022-01-10T11:21:39.912Z"
   },
   {
    "duration": 230,
    "start_time": "2022-01-10T11:21:46.991Z"
   },
   {
    "duration": 232,
    "start_time": "2022-01-10T11:23:13.065Z"
   },
   {
    "duration": 382,
    "start_time": "2022-01-10T11:25:57.571Z"
   },
   {
    "duration": 412,
    "start_time": "2022-01-10T11:26:36.063Z"
   },
   {
    "duration": 576,
    "start_time": "2022-01-10T11:26:45.323Z"
   },
   {
    "duration": 240,
    "start_time": "2022-01-10T11:28:54.700Z"
   },
   {
    "duration": 372,
    "start_time": "2022-01-10T11:30:02.802Z"
   },
   {
    "duration": 242,
    "start_time": "2022-01-10T11:30:21.722Z"
   },
   {
    "duration": 258,
    "start_time": "2022-01-10T11:30:31.218Z"
   },
   {
    "duration": 205,
    "start_time": "2022-01-10T11:32:53.094Z"
   },
   {
    "duration": 199,
    "start_time": "2022-01-10T11:33:38.993Z"
   },
   {
    "duration": 193,
    "start_time": "2022-01-10T11:34:23.589Z"
   },
   {
    "duration": 196,
    "start_time": "2022-01-10T11:37:48.123Z"
   },
   {
    "duration": 231,
    "start_time": "2022-01-10T11:49:01.756Z"
   },
   {
    "duration": 275,
    "start_time": "2022-01-10T11:49:06.915Z"
   },
   {
    "duration": 242,
    "start_time": "2022-01-10T11:50:08.668Z"
   },
   {
    "duration": 72,
    "start_time": "2022-01-10T12:00:05.182Z"
   },
   {
    "duration": 8,
    "start_time": "2022-01-10T12:01:00.456Z"
   },
   {
    "duration": 7,
    "start_time": "2022-01-10T12:01:11.150Z"
   },
   {
    "duration": 4,
    "start_time": "2022-01-10T12:02:48.576Z"
   },
   {
    "duration": 5,
    "start_time": "2022-01-10T12:03:20.543Z"
   },
   {
    "duration": 4,
    "start_time": "2022-01-10T12:03:34.042Z"
   },
   {
    "duration": 5,
    "start_time": "2022-01-10T12:06:56.336Z"
   },
   {
    "duration": 4,
    "start_time": "2022-01-10T12:07:33.981Z"
   },
   {
    "duration": 4,
    "start_time": "2022-01-10T12:09:30.601Z"
   },
   {
    "duration": 5,
    "start_time": "2022-01-10T12:09:46.197Z"
   },
   {
    "duration": 205,
    "start_time": "2022-01-10T12:12:35.923Z"
   },
   {
    "duration": 274,
    "start_time": "2022-01-10T12:12:51.724Z"
   },
   {
    "duration": 301,
    "start_time": "2022-01-10T12:14:44.599Z"
   },
   {
    "duration": 178,
    "start_time": "2022-01-10T12:15:46.757Z"
   },
   {
    "duration": 183,
    "start_time": "2022-01-10T12:16:35.741Z"
   },
   {
    "duration": 6,
    "start_time": "2022-01-10T12:21:18.106Z"
   },
   {
    "duration": 6,
    "start_time": "2022-01-10T12:21:28.790Z"
   },
   {
    "duration": 5,
    "start_time": "2022-01-10T12:23:42.236Z"
   },
   {
    "duration": 6,
    "start_time": "2022-01-10T12:23:48.230Z"
   },
   {
    "duration": 5,
    "start_time": "2022-01-10T12:24:21.869Z"
   },
   {
    "duration": 5,
    "start_time": "2022-01-10T12:34:11.565Z"
   },
   {
    "duration": 7,
    "start_time": "2022-01-10T13:08:33.471Z"
   },
   {
    "duration": 5,
    "start_time": "2022-01-10T13:12:04.204Z"
   },
   {
    "duration": 5,
    "start_time": "2022-01-10T13:12:05.168Z"
   },
   {
    "duration": 5,
    "start_time": "2022-01-10T13:12:06.970Z"
   },
   {
    "duration": 5,
    "start_time": "2022-01-10T13:12:08.762Z"
   },
   {
    "duration": 5,
    "start_time": "2022-01-10T13:12:09.732Z"
   },
   {
    "duration": 4,
    "start_time": "2022-01-10T13:12:11.486Z"
   },
   {
    "duration": 181,
    "start_time": "2022-01-10T13:14:27.002Z"
   },
   {
    "duration": 200,
    "start_time": "2022-01-10T13:14:30.302Z"
   },
   {
    "duration": 191,
    "start_time": "2022-01-10T13:14:41.757Z"
   },
   {
    "duration": 176,
    "start_time": "2022-01-10T13:14:46.316Z"
   },
   {
    "duration": 180,
    "start_time": "2022-01-10T13:14:54.972Z"
   },
   {
    "duration": 210,
    "start_time": "2022-01-10T13:14:59.858Z"
   },
   {
    "duration": 193,
    "start_time": "2022-01-10T13:15:03.636Z"
   },
   {
    "duration": 200,
    "start_time": "2022-01-10T13:15:28.516Z"
   },
   {
    "duration": 203,
    "start_time": "2022-01-10T13:15:47.759Z"
   },
   {
    "duration": 198,
    "start_time": "2022-01-10T13:15:53.616Z"
   },
   {
    "duration": 195,
    "start_time": "2022-01-10T13:15:58.768Z"
   },
   {
    "duration": 5,
    "start_time": "2022-01-10T13:19:10.057Z"
   },
   {
    "duration": 6,
    "start_time": "2022-01-10T13:20:42.378Z"
   },
   {
    "duration": 5,
    "start_time": "2022-01-10T13:24:13.230Z"
   },
   {
    "duration": 6,
    "start_time": "2022-01-10T13:24:21.591Z"
   },
   {
    "duration": 5,
    "start_time": "2022-01-10T13:25:19.210Z"
   },
   {
    "duration": 4,
    "start_time": "2022-01-10T13:25:20.066Z"
   },
   {
    "duration": 7,
    "start_time": "2022-01-10T13:31:11.609Z"
   },
   {
    "duration": 4,
    "start_time": "2022-01-10T13:36:44.337Z"
   },
   {
    "duration": 5,
    "start_time": "2022-01-10T13:36:47.286Z"
   },
   {
    "duration": 5,
    "start_time": "2022-01-10T13:36:49.784Z"
   },
   {
    "duration": 5,
    "start_time": "2022-01-10T13:36:57.307Z"
   },
   {
    "duration": 5,
    "start_time": "2022-01-10T13:36:58.444Z"
   },
   {
    "duration": 5,
    "start_time": "2022-01-10T13:36:59.100Z"
   },
   {
    "duration": 192,
    "start_time": "2022-01-10T13:37:53.800Z"
   },
   {
    "duration": 328,
    "start_time": "2022-01-10T13:38:27.500Z"
   },
   {
    "duration": 6,
    "start_time": "2022-01-10T13:43:53.065Z"
   },
   {
    "duration": 5,
    "start_time": "2022-01-10T13:44:36.529Z"
   },
   {
    "duration": 79,
    "start_time": "2022-01-10T13:45:30.491Z"
   },
   {
    "duration": 6,
    "start_time": "2022-01-10T13:45:39.529Z"
   },
   {
    "duration": 6,
    "start_time": "2022-01-10T13:46:32.752Z"
   },
   {
    "duration": 6,
    "start_time": "2022-01-10T13:50:03.549Z"
   },
   {
    "duration": 5,
    "start_time": "2022-01-10T13:53:56.410Z"
   },
   {
    "duration": 4,
    "start_time": "2022-01-10T13:53:58.931Z"
   },
   {
    "duration": 6,
    "start_time": "2022-01-10T13:54:38.173Z"
   },
   {
    "duration": 4,
    "start_time": "2022-01-10T13:55:10.498Z"
   },
   {
    "duration": 6,
    "start_time": "2022-01-10T13:55:11.093Z"
   },
   {
    "duration": 1437,
    "start_time": "2022-01-11T14:46:31.580Z"
   },
   {
    "duration": 532,
    "start_time": "2022-01-11T14:46:33.020Z"
   },
   {
    "duration": 15,
    "start_time": "2022-01-11T14:46:33.554Z"
   },
   {
    "duration": 28,
    "start_time": "2022-01-11T14:46:33.572Z"
   },
   {
    "duration": 11,
    "start_time": "2022-01-11T14:46:33.603Z"
   },
   {
    "duration": 54,
    "start_time": "2022-01-11T14:46:33.616Z"
   },
   {
    "duration": 10,
    "start_time": "2022-01-11T14:46:33.672Z"
   },
   {
    "duration": 20,
    "start_time": "2022-01-11T14:46:33.686Z"
   },
   {
    "duration": 13,
    "start_time": "2022-01-11T14:46:33.709Z"
   },
   {
    "duration": 41,
    "start_time": "2022-01-11T14:46:33.724Z"
   },
   {
    "duration": 21,
    "start_time": "2022-01-11T14:46:33.768Z"
   },
   {
    "duration": 11,
    "start_time": "2022-01-11T14:46:33.791Z"
   },
   {
    "duration": 107,
    "start_time": "2022-01-11T14:46:33.804Z"
   },
   {
    "duration": 6,
    "start_time": "2022-01-11T14:46:33.913Z"
   },
   {
    "duration": 88,
    "start_time": "2022-01-11T14:46:33.922Z"
   },
   {
    "duration": 13,
    "start_time": "2022-01-11T14:46:34.013Z"
   },
   {
    "duration": 6,
    "start_time": "2022-01-11T14:46:34.028Z"
   },
   {
    "duration": 28,
    "start_time": "2022-01-11T14:46:34.036Z"
   },
   {
    "duration": 17,
    "start_time": "2022-01-11T14:46:34.066Z"
   },
   {
    "duration": 6,
    "start_time": "2022-01-11T14:46:34.085Z"
   },
   {
    "duration": 201,
    "start_time": "2022-01-11T14:46:34.093Z"
   },
   {
    "duration": 13,
    "start_time": "2022-01-11T14:46:34.297Z"
   },
   {
    "duration": 74,
    "start_time": "2022-01-11T14:46:34.320Z"
   },
   {
    "duration": 8,
    "start_time": "2022-01-11T14:46:34.399Z"
   },
   {
    "duration": 6,
    "start_time": "2022-01-11T14:46:34.410Z"
   },
   {
    "duration": 8,
    "start_time": "2022-01-11T14:46:34.418Z"
   },
   {
    "duration": 48,
    "start_time": "2022-01-11T14:46:34.429Z"
   },
   {
    "duration": 6,
    "start_time": "2022-01-11T14:46:34.480Z"
   },
   {
    "duration": 76,
    "start_time": "2022-01-11T14:46:34.488Z"
   },
   {
    "duration": 13,
    "start_time": "2022-01-11T14:46:34.567Z"
   },
   {
    "duration": 92,
    "start_time": "2022-01-11T14:46:34.583Z"
   },
   {
    "duration": 43,
    "start_time": "2022-01-11T14:46:34.678Z"
   },
   {
    "duration": 6,
    "start_time": "2022-01-11T14:46:34.723Z"
   },
   {
    "duration": 70,
    "start_time": "2022-01-11T14:46:34.731Z"
   },
   {
    "duration": 13,
    "start_time": "2022-01-11T14:46:34.803Z"
   },
   {
    "duration": 87,
    "start_time": "2022-01-11T14:46:34.818Z"
   },
   {
    "duration": 6,
    "start_time": "2022-01-11T14:46:34.907Z"
   },
   {
    "duration": 22,
    "start_time": "2022-01-11T14:46:34.916Z"
   },
   {
    "duration": 13,
    "start_time": "2022-01-11T14:46:34.940Z"
   },
   {
    "duration": 12,
    "start_time": "2022-01-11T14:46:34.955Z"
   },
   {
    "duration": 8,
    "start_time": "2022-01-11T14:46:34.970Z"
   },
   {
    "duration": 11,
    "start_time": "2022-01-11T14:46:34.981Z"
   },
   {
    "duration": 10,
    "start_time": "2022-01-11T14:46:34.994Z"
   },
   {
    "duration": 69,
    "start_time": "2022-01-11T14:46:35.008Z"
   },
   {
    "duration": 6,
    "start_time": "2022-01-11T14:46:35.080Z"
   },
   {
    "duration": 83,
    "start_time": "2022-01-11T14:46:35.089Z"
   },
   {
    "duration": 94,
    "start_time": "2022-01-11T14:46:35.175Z"
   },
   {
    "duration": 57,
    "start_time": "2022-01-11T14:46:35.273Z"
   },
   {
    "duration": 73,
    "start_time": "2022-01-11T14:46:35.333Z"
   },
   {
    "duration": 11,
    "start_time": "2022-01-11T14:46:35.408Z"
   },
   {
    "duration": 4555,
    "start_time": "2022-01-11T14:46:35.421Z"
   },
   {
    "duration": 34,
    "start_time": "2022-01-11T14:46:39.978Z"
   },
   {
    "duration": 54,
    "start_time": "2022-01-11T14:46:40.014Z"
   },
   {
    "duration": 21,
    "start_time": "2022-01-11T14:46:40.070Z"
   },
   {
    "duration": 395,
    "start_time": "2022-01-11T14:46:40.093Z"
   },
   {
    "duration": 30,
    "start_time": "2022-01-11T14:46:40.490Z"
   },
   {
    "duration": 45,
    "start_time": "2022-01-11T14:46:40.522Z"
   },
   {
    "duration": 477,
    "start_time": "2022-01-11T14:46:40.570Z"
   },
   {
    "duration": 37,
    "start_time": "2022-01-11T14:46:41.050Z"
   },
   {
    "duration": 21,
    "start_time": "2022-01-11T14:46:41.090Z"
   },
   {
    "duration": 392,
    "start_time": "2022-01-11T14:46:41.113Z"
   },
   {
    "duration": 27,
    "start_time": "2022-01-11T14:46:41.508Z"
   },
   {
    "duration": 28,
    "start_time": "2022-01-11T14:46:41.537Z"
   },
   {
    "duration": 12,
    "start_time": "2022-01-11T14:46:41.567Z"
   },
   {
    "duration": 10,
    "start_time": "2022-01-11T14:46:41.581Z"
   },
   {
    "duration": 17,
    "start_time": "2022-01-11T14:46:41.593Z"
   },
   {
    "duration": 13,
    "start_time": "2022-01-11T14:46:41.612Z"
   },
   {
    "duration": 30,
    "start_time": "2022-01-11T14:46:41.634Z"
   },
   {
    "duration": 11,
    "start_time": "2022-01-11T14:46:41.667Z"
   },
   {
    "duration": 306,
    "start_time": "2022-01-11T14:46:41.680Z"
   },
   {
    "duration": 338,
    "start_time": "2022-01-11T14:46:41.988Z"
   },
   {
    "duration": 6,
    "start_time": "2022-01-11T14:46:42.329Z"
   },
   {
    "duration": 20,
    "start_time": "2022-01-11T14:46:42.337Z"
   },
   {
    "duration": 13,
    "start_time": "2022-01-11T14:46:42.363Z"
   },
   {
    "duration": 23,
    "start_time": "2022-01-11T14:46:42.378Z"
   },
   {
    "duration": 14,
    "start_time": "2022-01-11T14:46:42.403Z"
   },
   {
    "duration": 18,
    "start_time": "2022-01-11T14:46:42.419Z"
   },
   {
    "duration": 12,
    "start_time": "2022-01-11T14:46:42.440Z"
   },
   {
    "duration": 13,
    "start_time": "2022-01-11T14:46:42.455Z"
   },
   {
    "duration": 19,
    "start_time": "2022-01-11T14:46:42.470Z"
   },
   {
    "duration": 293,
    "start_time": "2022-01-11T14:46:42.491Z"
   },
   {
    "duration": 347,
    "start_time": "2022-01-11T14:46:42.786Z"
   },
   {
    "duration": 6,
    "start_time": "2022-01-11T14:46:43.136Z"
   },
   {
    "duration": 30,
    "start_time": "2022-01-11T14:46:43.144Z"
   },
   {
    "duration": 24,
    "start_time": "2022-01-11T14:46:43.177Z"
   },
   {
    "duration": 12,
    "start_time": "2022-01-11T14:46:43.204Z"
   },
   {
    "duration": 17,
    "start_time": "2022-01-11T14:46:43.218Z"
   },
   {
    "duration": 7,
    "start_time": "2022-01-11T14:46:43.237Z"
   },
   {
    "duration": 17,
    "start_time": "2022-01-11T14:46:43.246Z"
   },
   {
    "duration": 15,
    "start_time": "2022-01-11T14:46:43.266Z"
   },
   {
    "duration": 21,
    "start_time": "2022-01-11T14:46:43.284Z"
   },
   {
    "duration": 21,
    "start_time": "2022-01-11T14:46:43.308Z"
   },
   {
    "duration": 307,
    "start_time": "2022-01-11T14:46:43.332Z"
   },
   {
    "duration": 467,
    "start_time": "2022-01-11T14:46:43.642Z"
   },
   {
    "duration": 8,
    "start_time": "2022-01-11T14:46:44.112Z"
   },
   {
    "duration": 18,
    "start_time": "2022-01-11T14:46:44.124Z"
   },
   {
    "duration": 33,
    "start_time": "2022-01-11T15:01:16.750Z"
   },
   {
    "duration": 5,
    "start_time": "2022-01-11T15:21:04.204Z"
   },
   {
    "duration": 420,
    "start_time": "2022-01-11T15:22:33.211Z"
   },
   {
    "duration": 644,
    "start_time": "2022-01-11T15:22:46.445Z"
   },
   {
    "duration": 4,
    "start_time": "2022-01-11T15:25:36.670Z"
   },
   {
    "duration": 572,
    "start_time": "2022-01-11T15:25:38.078Z"
   },
   {
    "duration": 6,
    "start_time": "2022-01-11T15:27:44.239Z"
   },
   {
    "duration": 529,
    "start_time": "2022-01-11T15:27:44.724Z"
   },
   {
    "duration": 7,
    "start_time": "2022-01-11T15:28:32.084Z"
   },
   {
    "duration": 668,
    "start_time": "2022-01-11T15:28:32.461Z"
   },
   {
    "duration": 5,
    "start_time": "2022-01-11T15:28:43.544Z"
   },
   {
    "duration": 510,
    "start_time": "2022-01-11T15:28:43.901Z"
   },
   {
    "duration": 5,
    "start_time": "2022-01-11T15:34:12.007Z"
   },
   {
    "duration": 485,
    "start_time": "2022-01-11T15:34:12.764Z"
   },
   {
    "duration": 5,
    "start_time": "2022-01-11T15:35:35.675Z"
   },
   {
    "duration": 830,
    "start_time": "2022-01-11T15:35:36.316Z"
   },
   {
    "duration": 7,
    "start_time": "2022-01-11T15:36:53.954Z"
   },
   {
    "duration": 109,
    "start_time": "2022-01-11T15:36:54.494Z"
   },
   {
    "duration": 33,
    "start_time": "2022-01-11T15:37:05.818Z"
   },
   {
    "duration": 10,
    "start_time": "2022-01-11T15:44:12.238Z"
   },
   {
    "duration": 7,
    "start_time": "2022-01-11T15:49:51.704Z"
   },
   {
    "duration": 8,
    "start_time": "2022-01-11T15:50:21.648Z"
   },
   {
    "duration": 8,
    "start_time": "2022-01-11T15:50:40.385Z"
   },
   {
    "duration": 6,
    "start_time": "2022-01-11T15:51:21.555Z"
   },
   {
    "duration": 5,
    "start_time": "2022-01-11T15:51:33.559Z"
   },
   {
    "duration": 7,
    "start_time": "2022-01-11T15:54:00.610Z"
   },
   {
    "duration": 8,
    "start_time": "2022-01-11T15:54:03.358Z"
   },
   {
    "duration": 10,
    "start_time": "2022-01-11T15:54:11.221Z"
   },
   {
    "duration": 6,
    "start_time": "2022-01-11T15:55:37.076Z"
   },
   {
    "duration": 6,
    "start_time": "2022-01-11T15:55:49.908Z"
   },
   {
    "duration": 6,
    "start_time": "2022-01-11T15:55:59.902Z"
   },
   {
    "duration": 13,
    "start_time": "2022-01-11T15:56:49.273Z"
   },
   {
    "duration": 7,
    "start_time": "2022-01-11T15:56:55.145Z"
   },
   {
    "duration": 9,
    "start_time": "2022-01-11T15:58:21.939Z"
   },
   {
    "duration": 9,
    "start_time": "2022-01-11T15:58:26.305Z"
   },
   {
    "duration": 7,
    "start_time": "2022-01-11T15:58:27.451Z"
   },
   {
    "duration": 6,
    "start_time": "2022-01-11T15:58:32.542Z"
   },
   {
    "duration": 4,
    "start_time": "2022-01-11T15:59:10.240Z"
   },
   {
    "duration": 7,
    "start_time": "2022-01-11T15:59:33.283Z"
   },
   {
    "duration": 5,
    "start_time": "2022-01-11T15:59:49.624Z"
   },
   {
    "duration": 7,
    "start_time": "2022-01-11T16:00:09.110Z"
   },
   {
    "duration": 9,
    "start_time": "2022-01-11T16:00:56.665Z"
   },
   {
    "duration": 6,
    "start_time": "2022-01-11T16:00:57.274Z"
   },
   {
    "duration": 9,
    "start_time": "2022-01-11T16:01:13.081Z"
   },
   {
    "duration": 8,
    "start_time": "2022-01-11T16:01:13.466Z"
   },
   {
    "duration": 10,
    "start_time": "2022-01-11T16:01:37.621Z"
   },
   {
    "duration": 6,
    "start_time": "2022-01-11T16:01:38.121Z"
   },
   {
    "duration": 10,
    "start_time": "2022-01-11T16:02:29.301Z"
   },
   {
    "duration": 7,
    "start_time": "2022-01-11T16:02:29.968Z"
   },
   {
    "duration": 9,
    "start_time": "2022-01-11T16:02:38.707Z"
   },
   {
    "duration": 7,
    "start_time": "2022-01-11T16:02:39.245Z"
   },
   {
    "duration": 4,
    "start_time": "2022-01-11T16:53:35.850Z"
   },
   {
    "duration": 609,
    "start_time": "2022-01-11T16:53:35.859Z"
   },
   {
    "duration": 13,
    "start_time": "2022-01-11T16:53:36.471Z"
   },
   {
    "duration": 30,
    "start_time": "2022-01-11T16:53:36.489Z"
   },
   {
    "duration": 41,
    "start_time": "2022-01-11T16:53:36.522Z"
   },
   {
    "duration": 23,
    "start_time": "2022-01-11T16:53:36.566Z"
   },
   {
    "duration": 10,
    "start_time": "2022-01-11T16:53:36.591Z"
   },
   {
    "duration": 18,
    "start_time": "2022-01-11T16:53:36.604Z"
   },
   {
    "duration": 12,
    "start_time": "2022-01-11T16:53:36.664Z"
   },
   {
    "duration": 9,
    "start_time": "2022-01-11T16:53:36.681Z"
   },
   {
    "duration": 18,
    "start_time": "2022-01-11T16:53:36.693Z"
   },
   {
    "duration": 54,
    "start_time": "2022-01-11T16:53:36.714Z"
   },
   {
    "duration": 68,
    "start_time": "2022-01-11T16:53:36.771Z"
   },
   {
    "duration": 25,
    "start_time": "2022-01-11T16:53:36.841Z"
   },
   {
    "duration": 68,
    "start_time": "2022-01-11T16:53:36.868Z"
   },
   {
    "duration": 30,
    "start_time": "2022-01-11T16:53:36.939Z"
   },
   {
    "duration": 8,
    "start_time": "2022-01-11T16:53:36.971Z"
   },
   {
    "duration": 9,
    "start_time": "2022-01-11T16:53:36.981Z"
   },
   {
    "duration": 16,
    "start_time": "2022-01-11T16:53:36.993Z"
   },
   {
    "duration": 6,
    "start_time": "2022-01-11T16:53:37.012Z"
   },
   {
    "duration": 169,
    "start_time": "2022-01-11T16:53:37.020Z"
   },
   {
    "duration": 8,
    "start_time": "2022-01-11T16:53:37.192Z"
   },
   {
    "duration": 31,
    "start_time": "2022-01-11T16:53:37.203Z"
   },
   {
    "duration": 27,
    "start_time": "2022-01-11T16:53:37.241Z"
   },
   {
    "duration": 6,
    "start_time": "2022-01-11T16:53:37.273Z"
   },
   {
    "duration": 7,
    "start_time": "2022-01-11T16:53:37.282Z"
   },
   {
    "duration": 13,
    "start_time": "2022-01-11T16:53:37.292Z"
   },
   {
    "duration": 55,
    "start_time": "2022-01-11T16:53:37.308Z"
   },
   {
    "duration": 48,
    "start_time": "2022-01-11T16:53:37.366Z"
   },
   {
    "duration": 12,
    "start_time": "2022-01-11T16:53:37.417Z"
   },
   {
    "duration": 84,
    "start_time": "2022-01-11T16:53:37.431Z"
   },
   {
    "duration": 51,
    "start_time": "2022-01-11T16:53:37.517Z"
   },
   {
    "duration": 6,
    "start_time": "2022-01-11T16:53:37.570Z"
   },
   {
    "duration": 44,
    "start_time": "2022-01-11T16:53:37.578Z"
   },
   {
    "duration": 40,
    "start_time": "2022-01-11T16:53:37.624Z"
   },
   {
    "duration": 60,
    "start_time": "2022-01-11T16:53:37.667Z"
   },
   {
    "duration": 6,
    "start_time": "2022-01-11T16:53:37.729Z"
   },
   {
    "duration": 29,
    "start_time": "2022-01-11T16:53:37.737Z"
   },
   {
    "duration": 6,
    "start_time": "2022-01-11T16:53:37.768Z"
   },
   {
    "duration": 6,
    "start_time": "2022-01-11T16:53:37.776Z"
   },
   {
    "duration": 7,
    "start_time": "2022-01-11T16:53:37.784Z"
   },
   {
    "duration": 8,
    "start_time": "2022-01-11T16:53:37.793Z"
   },
   {
    "duration": 8,
    "start_time": "2022-01-11T16:53:37.804Z"
   },
   {
    "duration": 19,
    "start_time": "2022-01-11T16:53:37.862Z"
   },
   {
    "duration": 10,
    "start_time": "2022-01-11T16:53:37.884Z"
   },
   {
    "duration": 83,
    "start_time": "2022-01-11T16:53:37.896Z"
   },
   {
    "duration": 88,
    "start_time": "2022-01-11T16:53:37.981Z"
   },
   {
    "duration": 55,
    "start_time": "2022-01-11T16:53:38.071Z"
   },
   {
    "duration": 69,
    "start_time": "2022-01-11T16:53:38.128Z"
   },
   {
    "duration": 10,
    "start_time": "2022-01-11T16:53:38.200Z"
   },
   {
    "duration": 4791,
    "start_time": "2022-01-11T16:53:38.212Z"
   },
   {
    "duration": 34,
    "start_time": "2022-01-11T16:53:43.006Z"
   },
   {
    "duration": 47,
    "start_time": "2022-01-11T16:53:43.042Z"
   },
   {
    "duration": 20,
    "start_time": "2022-01-11T16:53:43.091Z"
   },
   {
    "duration": 396,
    "start_time": "2022-01-11T16:53:43.113Z"
   },
   {
    "duration": 29,
    "start_time": "2022-01-11T16:53:43.511Z"
   },
   {
    "duration": 37,
    "start_time": "2022-01-11T16:53:43.543Z"
   },
   {
    "duration": 372,
    "start_time": "2022-01-11T16:53:43.582Z"
   },
   {
    "duration": 30,
    "start_time": "2022-01-11T16:53:43.956Z"
   },
   {
    "duration": 20,
    "start_time": "2022-01-11T16:53:43.988Z"
   },
   {
    "duration": 390,
    "start_time": "2022-01-11T16:53:44.010Z"
   },
   {
    "duration": 27,
    "start_time": "2022-01-11T16:53:44.402Z"
   },
   {
    "duration": 34,
    "start_time": "2022-01-11T16:53:44.431Z"
   },
   {
    "duration": 5,
    "start_time": "2022-01-11T16:53:44.467Z"
   },
   {
    "duration": 8,
    "start_time": "2022-01-11T16:53:44.474Z"
   },
   {
    "duration": 6,
    "start_time": "2022-01-11T16:53:44.484Z"
   },
   {
    "duration": 5,
    "start_time": "2022-01-11T16:53:44.493Z"
   },
   {
    "duration": 7,
    "start_time": "2022-01-11T16:53:44.500Z"
   },
   {
    "duration": 51,
    "start_time": "2022-01-11T16:53:44.516Z"
   },
   {
    "duration": 316,
    "start_time": "2022-01-11T16:53:44.570Z"
   },
   {
    "duration": 328,
    "start_time": "2022-01-11T16:53:44.888Z"
   },
   {
    "duration": 7,
    "start_time": "2022-01-11T16:53:45.218Z"
   },
   {
    "duration": 8,
    "start_time": "2022-01-11T16:53:45.227Z"
   },
   {
    "duration": 34,
    "start_time": "2022-01-11T16:53:45.238Z"
   },
   {
    "duration": 6,
    "start_time": "2022-01-11T16:53:45.274Z"
   },
   {
    "duration": 6,
    "start_time": "2022-01-11T16:53:45.282Z"
   },
   {
    "duration": 6,
    "start_time": "2022-01-11T16:53:45.291Z"
   },
   {
    "duration": 5,
    "start_time": "2022-01-11T16:53:45.299Z"
   },
   {
    "duration": 9,
    "start_time": "2022-01-11T16:53:45.306Z"
   },
   {
    "duration": 52,
    "start_time": "2022-01-11T16:53:45.317Z"
   },
   {
    "duration": 314,
    "start_time": "2022-01-11T16:53:45.371Z"
   },
   {
    "duration": 337,
    "start_time": "2022-01-11T16:53:45.688Z"
   },
   {
    "duration": 7,
    "start_time": "2022-01-11T16:53:46.027Z"
   },
   {
    "duration": 26,
    "start_time": "2022-01-11T16:53:46.037Z"
   },
   {
    "duration": 11,
    "start_time": "2022-01-11T16:53:46.066Z"
   },
   {
    "duration": 5,
    "start_time": "2022-01-11T16:53:46.080Z"
   },
   {
    "duration": 6,
    "start_time": "2022-01-11T16:53:46.088Z"
   },
   {
    "duration": 6,
    "start_time": "2022-01-11T16:53:46.096Z"
   },
   {
    "duration": 57,
    "start_time": "2022-01-11T16:53:46.105Z"
   },
   {
    "duration": 5,
    "start_time": "2022-01-11T16:53:46.165Z"
   },
   {
    "duration": 7,
    "start_time": "2022-01-11T16:53:46.172Z"
   },
   {
    "duration": 6,
    "start_time": "2022-01-11T16:53:46.181Z"
   },
   {
    "duration": 333,
    "start_time": "2022-01-11T16:53:46.189Z"
   },
   {
    "duration": 378,
    "start_time": "2022-01-11T16:53:46.524Z"
   },
   {
    "duration": 9,
    "start_time": "2022-01-11T16:53:46.904Z"
   },
   {
    "duration": 9,
    "start_time": "2022-01-11T16:53:46.915Z"
   },
   {
    "duration": 62,
    "start_time": "2022-01-11T16:53:46.927Z"
   },
   {
    "duration": 82,
    "start_time": "2022-01-11T16:53:46.992Z"
   },
   {
    "duration": 1278,
    "start_time": "2022-01-11T16:53:45.798Z"
   },
   {
    "duration": 1270,
    "start_time": "2022-01-11T16:53:45.807Z"
   },
   {
    "duration": 1265,
    "start_time": "2022-01-11T16:53:45.814Z"
   },
   {
    "duration": 1258,
    "start_time": "2022-01-11T16:53:45.822Z"
   },
   {
    "duration": 1253,
    "start_time": "2022-01-11T16:53:45.829Z"
   },
   {
    "duration": 5,
    "start_time": "2022-01-11T16:54:06.596Z"
   },
   {
    "duration": 110,
    "start_time": "2022-01-11T16:54:08.597Z"
   },
   {
    "duration": 32,
    "start_time": "2022-01-11T16:54:09.624Z"
   },
   {
    "duration": 9,
    "start_time": "2022-01-11T16:54:16.103Z"
   },
   {
    "duration": 6,
    "start_time": "2022-01-11T16:54:18.025Z"
   },
   {
    "duration": 305,
    "start_time": "2022-01-11T17:03:42.703Z"
   },
   {
    "duration": 416,
    "start_time": "2022-01-11T17:04:31.759Z"
   },
   {
    "duration": 11,
    "start_time": "2022-01-11T17:04:37.345Z"
   },
   {
    "duration": 7,
    "start_time": "2022-01-11T17:04:45.711Z"
   },
   {
    "duration": 10,
    "start_time": "2022-01-11T17:04:59.588Z"
   },
   {
    "duration": 5,
    "start_time": "2022-01-11T17:05:14.917Z"
   },
   {
    "duration": 6,
    "start_time": "2022-01-11T17:05:22.940Z"
   },
   {
    "duration": 4,
    "start_time": "2022-01-11T17:12:48.352Z"
   },
   {
    "duration": 6,
    "start_time": "2022-01-11T17:12:52.071Z"
   },
   {
    "duration": 10,
    "start_time": "2022-01-11T17:13:43.109Z"
   },
   {
    "duration": 5,
    "start_time": "2022-01-11T17:13:43.592Z"
   },
   {
    "duration": 5,
    "start_time": "2022-01-11T17:13:44.063Z"
   },
   {
    "duration": 7,
    "start_time": "2022-01-11T17:16:43.597Z"
   },
   {
    "duration": 4,
    "start_time": "2022-01-11T17:17:04.092Z"
   },
   {
    "duration": 8,
    "start_time": "2022-01-11T17:18:03.418Z"
   },
   {
    "duration": 10,
    "start_time": "2022-01-11T17:20:02.611Z"
   },
   {
    "duration": 4,
    "start_time": "2022-01-11T17:20:09.645Z"
   },
   {
    "duration": 6,
    "start_time": "2022-01-11T17:20:10.857Z"
   },
   {
    "duration": 7,
    "start_time": "2022-01-11T17:20:24.670Z"
   },
   {
    "duration": 5,
    "start_time": "2022-01-11T17:21:26.367Z"
   },
   {
    "duration": 6,
    "start_time": "2022-01-11T17:21:36.545Z"
   },
   {
    "duration": 8,
    "start_time": "2022-01-11T17:21:43.671Z"
   },
   {
    "duration": 7,
    "start_time": "2022-01-11T17:25:35.601Z"
   },
   {
    "duration": 5,
    "start_time": "2022-01-11T17:25:51.278Z"
   },
   {
    "duration": 10,
    "start_time": "2022-01-11T17:26:07.740Z"
   },
   {
    "duration": 5,
    "start_time": "2022-01-11T17:26:09.819Z"
   },
   {
    "duration": 6,
    "start_time": "2022-01-11T17:26:10.996Z"
   },
   {
    "duration": 4,
    "start_time": "2022-01-11T17:26:19.770Z"
   },
   {
    "duration": 7,
    "start_time": "2022-01-11T17:26:21.148Z"
   },
   {
    "duration": 10,
    "start_time": "2022-01-11T17:26:26.989Z"
   },
   {
    "duration": 4,
    "start_time": "2022-01-11T17:26:31.541Z"
   },
   {
    "duration": 7,
    "start_time": "2022-01-11T17:26:32.588Z"
   },
   {
    "duration": 7,
    "start_time": "2022-01-11T17:27:24.292Z"
   },
   {
    "duration": 6,
    "start_time": "2022-01-11T17:28:43.003Z"
   },
   {
    "duration": 6,
    "start_time": "2022-01-11T17:29:08.089Z"
   },
   {
    "duration": 5,
    "start_time": "2022-01-11T17:30:41.511Z"
   },
   {
    "duration": 5,
    "start_time": "2022-01-11T17:30:56.043Z"
   },
   {
    "duration": 7,
    "start_time": "2022-01-11T17:38:13.244Z"
   },
   {
    "duration": 10,
    "start_time": "2022-01-11T17:38:32.494Z"
   },
   {
    "duration": 4,
    "start_time": "2022-01-11T17:38:33.772Z"
   },
   {
    "duration": 6,
    "start_time": "2022-01-11T17:38:35.350Z"
   },
   {
    "duration": 6,
    "start_time": "2022-01-11T17:39:34.891Z"
   },
   {
    "duration": 7,
    "start_time": "2022-01-11T17:40:27.207Z"
   },
   {
    "duration": 7,
    "start_time": "2022-01-11T17:41:27.413Z"
   },
   {
    "duration": 7,
    "start_time": "2022-01-11T17:41:38.657Z"
   },
   {
    "duration": 6,
    "start_time": "2022-01-11T17:41:52.048Z"
   },
   {
    "duration": 6,
    "start_time": "2022-01-11T17:54:56.236Z"
   },
   {
    "duration": 1029,
    "start_time": "2022-01-11T18:16:58.026Z"
   },
   {
    "duration": 424,
    "start_time": "2022-01-11T18:16:59.057Z"
   },
   {
    "duration": 11,
    "start_time": "2022-01-11T18:16:59.483Z"
   },
   {
    "duration": 26,
    "start_time": "2022-01-11T18:16:59.496Z"
   },
   {
    "duration": 10,
    "start_time": "2022-01-11T18:16:59.524Z"
   },
   {
    "duration": 23,
    "start_time": "2022-01-11T18:16:59.536Z"
   },
   {
    "duration": 32,
    "start_time": "2022-01-11T18:16:59.561Z"
   },
   {
    "duration": 16,
    "start_time": "2022-01-11T18:16:59.595Z"
   },
   {
    "duration": 10,
    "start_time": "2022-01-11T18:16:59.613Z"
   },
   {
    "duration": 13,
    "start_time": "2022-01-11T18:16:59.625Z"
   },
   {
    "duration": 17,
    "start_time": "2022-01-11T18:16:59.640Z"
   },
   {
    "duration": 32,
    "start_time": "2022-01-11T18:16:59.660Z"
   },
   {
    "duration": 62,
    "start_time": "2022-01-11T18:16:59.694Z"
   },
   {
    "duration": 4,
    "start_time": "2022-01-11T18:16:59.758Z"
   },
   {
    "duration": 69,
    "start_time": "2022-01-11T18:16:59.764Z"
   },
   {
    "duration": 9,
    "start_time": "2022-01-11T18:16:59.834Z"
   },
   {
    "duration": 8,
    "start_time": "2022-01-11T18:16:59.845Z"
   },
   {
    "duration": 10,
    "start_time": "2022-01-11T18:16:59.854Z"
   },
   {
    "duration": 29,
    "start_time": "2022-01-11T18:16:59.865Z"
   },
   {
    "duration": 5,
    "start_time": "2022-01-11T18:16:59.896Z"
   },
   {
    "duration": 116,
    "start_time": "2022-01-11T18:16:59.903Z"
   },
   {
    "duration": 7,
    "start_time": "2022-01-11T18:17:00.021Z"
   },
   {
    "duration": 27,
    "start_time": "2022-01-11T18:17:00.032Z"
   },
   {
    "duration": 4,
    "start_time": "2022-01-11T18:17:00.062Z"
   },
   {
    "duration": 23,
    "start_time": "2022-01-11T18:17:00.068Z"
   },
   {
    "duration": 11,
    "start_time": "2022-01-11T18:17:00.093Z"
   },
   {
    "duration": 14,
    "start_time": "2022-01-11T18:17:00.106Z"
   },
   {
    "duration": 3,
    "start_time": "2022-01-11T18:17:00.122Z"
   },
   {
    "duration": 41,
    "start_time": "2022-01-11T18:17:00.127Z"
   },
   {
    "duration": 24,
    "start_time": "2022-01-11T18:17:00.169Z"
   },
   {
    "duration": 51,
    "start_time": "2022-01-11T18:17:00.195Z"
   },
   {
    "duration": 29,
    "start_time": "2022-01-11T18:17:00.248Z"
   },
   {
    "duration": 5,
    "start_time": "2022-01-11T18:17:00.291Z"
   },
   {
    "duration": 31,
    "start_time": "2022-01-11T18:17:00.298Z"
   },
   {
    "duration": 9,
    "start_time": "2022-01-11T18:17:00.330Z"
   },
   {
    "duration": 69,
    "start_time": "2022-01-11T18:17:00.340Z"
   },
   {
    "duration": 3,
    "start_time": "2022-01-11T18:17:00.411Z"
   },
   {
    "duration": 8,
    "start_time": "2022-01-11T18:17:00.416Z"
   },
   {
    "duration": 17,
    "start_time": "2022-01-11T18:17:00.426Z"
   },
   {
    "duration": 16,
    "start_time": "2022-01-11T18:17:00.444Z"
   },
   {
    "duration": 10,
    "start_time": "2022-01-11T18:17:00.462Z"
   },
   {
    "duration": 14,
    "start_time": "2022-01-11T18:17:00.474Z"
   },
   {
    "duration": 11,
    "start_time": "2022-01-11T18:17:00.490Z"
   },
   {
    "duration": 21,
    "start_time": "2022-01-11T18:17:00.502Z"
   },
   {
    "duration": 8,
    "start_time": "2022-01-11T18:17:00.525Z"
   },
   {
    "duration": 50,
    "start_time": "2022-01-11T18:17:00.535Z"
   },
   {
    "duration": 56,
    "start_time": "2022-01-11T18:17:00.586Z"
   },
   {
    "duration": 49,
    "start_time": "2022-01-11T18:17:00.643Z"
   },
   {
    "duration": 34,
    "start_time": "2022-01-11T18:17:00.694Z"
   },
   {
    "duration": 6,
    "start_time": "2022-01-11T18:17:00.730Z"
   },
   {
    "duration": 2589,
    "start_time": "2022-01-11T18:17:00.738Z"
   },
   {
    "duration": 21,
    "start_time": "2022-01-11T18:17:03.328Z"
   },
   {
    "duration": 26,
    "start_time": "2022-01-11T18:17:03.350Z"
   },
   {
    "duration": 25,
    "start_time": "2022-01-11T18:17:03.377Z"
   },
   {
    "duration": 238,
    "start_time": "2022-01-11T18:17:03.403Z"
   },
   {
    "duration": 18,
    "start_time": "2022-01-11T18:17:03.642Z"
   },
   {
    "duration": 31,
    "start_time": "2022-01-11T18:17:03.662Z"
   },
   {
    "duration": 221,
    "start_time": "2022-01-11T18:17:03.694Z"
   },
   {
    "duration": 19,
    "start_time": "2022-01-11T18:17:03.917Z"
   },
   {
    "duration": 15,
    "start_time": "2022-01-11T18:17:03.938Z"
   },
   {
    "duration": 261,
    "start_time": "2022-01-11T18:17:03.955Z"
   },
   {
    "duration": 19,
    "start_time": "2022-01-11T18:17:04.218Z"
   },
   {
    "duration": 7,
    "start_time": "2022-01-11T18:17:04.239Z"
   },
   {
    "duration": 5,
    "start_time": "2022-01-11T18:17:04.248Z"
   },
   {
    "duration": 7,
    "start_time": "2022-01-11T18:17:04.255Z"
   },
   {
    "duration": 32,
    "start_time": "2022-01-11T18:17:04.263Z"
   },
   {
    "duration": 7,
    "start_time": "2022-01-11T18:17:04.296Z"
   },
   {
    "duration": 4,
    "start_time": "2022-01-11T18:17:04.309Z"
   },
   {
    "duration": 6,
    "start_time": "2022-01-11T18:17:04.315Z"
   },
   {
    "duration": 213,
    "start_time": "2022-01-11T18:17:04.323Z"
   },
   {
    "duration": 209,
    "start_time": "2022-01-11T18:17:04.538Z"
   },
   {
    "duration": 5,
    "start_time": "2022-01-11T18:17:04.748Z"
   },
   {
    "duration": 6,
    "start_time": "2022-01-11T18:17:04.755Z"
   },
   {
    "duration": 8,
    "start_time": "2022-01-11T18:17:04.763Z"
   },
   {
    "duration": 23,
    "start_time": "2022-01-11T18:17:04.772Z"
   },
   {
    "duration": 6,
    "start_time": "2022-01-11T18:17:04.797Z"
   },
   {
    "duration": 5,
    "start_time": "2022-01-11T18:17:04.805Z"
   },
   {
    "duration": 5,
    "start_time": "2022-01-11T18:17:04.811Z"
   },
   {
    "duration": 5,
    "start_time": "2022-01-11T18:17:04.818Z"
   },
   {
    "duration": 6,
    "start_time": "2022-01-11T18:17:04.824Z"
   },
   {
    "duration": 218,
    "start_time": "2022-01-11T18:17:04.831Z"
   },
   {
    "duration": 208,
    "start_time": "2022-01-11T18:17:05.051Z"
   },
   {
    "duration": 4,
    "start_time": "2022-01-11T18:17:05.261Z"
   },
   {
    "duration": 11,
    "start_time": "2022-01-11T18:17:05.267Z"
   },
   {
    "duration": 15,
    "start_time": "2022-01-11T18:17:05.280Z"
   },
   {
    "duration": 7,
    "start_time": "2022-01-11T18:17:05.297Z"
   },
   {
    "duration": 7,
    "start_time": "2022-01-11T18:17:05.305Z"
   },
   {
    "duration": 5,
    "start_time": "2022-01-11T18:17:05.314Z"
   },
   {
    "duration": 9,
    "start_time": "2022-01-11T18:17:05.321Z"
   },
   {
    "duration": 8,
    "start_time": "2022-01-11T18:17:05.331Z"
   },
   {
    "duration": 7,
    "start_time": "2022-01-11T18:17:05.340Z"
   },
   {
    "duration": 5,
    "start_time": "2022-01-11T18:17:05.348Z"
   },
   {
    "duration": 219,
    "start_time": "2022-01-11T18:17:05.355Z"
   },
   {
    "duration": 255,
    "start_time": "2022-01-11T18:17:05.575Z"
   },
   {
    "duration": 5,
    "start_time": "2022-01-11T18:17:05.831Z"
   },
   {
    "duration": 6,
    "start_time": "2022-01-11T18:17:05.838Z"
   },
   {
    "duration": 21,
    "start_time": "2022-01-11T18:17:05.846Z"
   },
   {
    "duration": 4,
    "start_time": "2022-01-11T18:17:05.868Z"
   },
   {
    "duration": 78,
    "start_time": "2022-01-11T18:17:05.873Z"
   },
   {
    "duration": 19,
    "start_time": "2022-01-11T18:17:05.952Z"
   },
   {
    "duration": 7,
    "start_time": "2022-01-11T18:17:05.992Z"
   },
   {
    "duration": 6,
    "start_time": "2022-01-11T18:17:06.000Z"
   },
   {
    "duration": 6,
    "start_time": "2022-01-11T18:17:06.008Z"
   },
   {
    "duration": 8,
    "start_time": "2022-01-11T18:17:06.016Z"
   },
   {
    "duration": 11,
    "start_time": "2022-01-11T18:17:06.026Z"
   },
   {
    "duration": 13,
    "start_time": "2022-01-11T18:17:06.039Z"
   },
   {
    "duration": 8,
    "start_time": "2022-01-11T18:17:06.054Z"
   },
   {
    "duration": 338,
    "start_time": "2022-01-11T18:17:06.063Z"
   },
   {
    "duration": 1054,
    "start_time": "2022-01-11T18:17:05.348Z"
   },
   {
    "duration": 5,
    "start_time": "2022-01-11T18:17:48.285Z"
   },
   {
    "duration": 4,
    "start_time": "2022-01-11T18:17:58.313Z"
   },
   {
    "duration": 7,
    "start_time": "2022-01-11T18:18:46.611Z"
   },
   {
    "duration": 4,
    "start_time": "2022-01-11T18:18:48.327Z"
   },
   {
    "duration": 5,
    "start_time": "2022-01-11T18:18:49.718Z"
   },
   {
    "duration": 5,
    "start_time": "2022-01-11T18:18:59.417Z"
   },
   {
    "duration": 4,
    "start_time": "2022-01-11T18:19:03.775Z"
   },
   {
    "duration": 5,
    "start_time": "2022-01-11T18:29:49.455Z"
   },
   {
    "duration": 5,
    "start_time": "2022-01-11T18:30:14.113Z"
   },
   {
    "duration": 6,
    "start_time": "2022-01-11T18:30:40.433Z"
   },
   {
    "duration": 1037,
    "start_time": "2022-01-13T09:32:07.028Z"
   },
   {
    "duration": 398,
    "start_time": "2022-01-13T09:32:08.067Z"
   },
   {
    "duration": 11,
    "start_time": "2022-01-13T09:32:08.467Z"
   },
   {
    "duration": 20,
    "start_time": "2022-01-13T09:32:08.480Z"
   },
   {
    "duration": 7,
    "start_time": "2022-01-13T09:32:08.502Z"
   },
   {
    "duration": 17,
    "start_time": "2022-01-13T09:32:08.511Z"
   },
   {
    "duration": 6,
    "start_time": "2022-01-13T09:32:08.529Z"
   },
   {
    "duration": 17,
    "start_time": "2022-01-13T09:32:08.538Z"
   },
   {
    "duration": 7,
    "start_time": "2022-01-13T09:32:08.557Z"
   },
   {
    "duration": 7,
    "start_time": "2022-01-13T09:32:08.565Z"
   },
   {
    "duration": 10,
    "start_time": "2022-01-13T09:32:08.573Z"
   },
   {
    "duration": 6,
    "start_time": "2022-01-13T09:32:08.585Z"
   },
   {
    "duration": 55,
    "start_time": "2022-01-13T09:32:08.627Z"
   },
   {
    "duration": 5,
    "start_time": "2022-01-13T09:32:08.684Z"
   },
   {
    "duration": 64,
    "start_time": "2022-01-13T09:32:08.691Z"
   },
   {
    "duration": 9,
    "start_time": "2022-01-13T09:32:08.757Z"
   },
   {
    "duration": 5,
    "start_time": "2022-01-13T09:32:08.768Z"
   },
   {
    "duration": 3,
    "start_time": "2022-01-13T09:32:08.775Z"
   },
   {
    "duration": 14,
    "start_time": "2022-01-13T09:32:08.780Z"
   },
   {
    "duration": 31,
    "start_time": "2022-01-13T09:32:08.796Z"
   },
   {
    "duration": 101,
    "start_time": "2022-01-13T09:32:08.828Z"
   },
   {
    "duration": 6,
    "start_time": "2022-01-13T09:32:08.931Z"
   },
   {
    "duration": 23,
    "start_time": "2022-01-13T09:32:08.940Z"
   },
   {
    "duration": 4,
    "start_time": "2022-01-13T09:32:08.966Z"
   },
   {
    "duration": 4,
    "start_time": "2022-01-13T09:32:08.971Z"
   },
   {
    "duration": 4,
    "start_time": "2022-01-13T09:32:08.977Z"
   },
   {
    "duration": 9,
    "start_time": "2022-01-13T09:32:08.983Z"
   },
   {
    "duration": 35,
    "start_time": "2022-01-13T09:32:08.994Z"
   },
   {
    "duration": 33,
    "start_time": "2022-01-13T09:32:09.030Z"
   },
   {
    "duration": 8,
    "start_time": "2022-01-13T09:32:09.065Z"
   },
   {
    "duration": 57,
    "start_time": "2022-01-13T09:32:09.075Z"
   },
   {
    "duration": 25,
    "start_time": "2022-01-13T09:32:09.134Z"
   },
   {
    "duration": 4,
    "start_time": "2022-01-13T09:32:09.161Z"
   },
   {
    "duration": 27,
    "start_time": "2022-01-13T09:32:09.166Z"
   },
   {
    "duration": 8,
    "start_time": "2022-01-13T09:32:09.195Z"
   },
   {
    "duration": 42,
    "start_time": "2022-01-13T09:32:09.227Z"
   },
   {
    "duration": 4,
    "start_time": "2022-01-13T09:32:09.271Z"
   },
   {
    "duration": 5,
    "start_time": "2022-01-13T09:32:09.276Z"
   },
   {
    "duration": 4,
    "start_time": "2022-01-13T09:32:09.283Z"
   },
   {
    "duration": 5,
    "start_time": "2022-01-13T09:32:09.288Z"
   },
   {
    "duration": 35,
    "start_time": "2022-01-13T09:32:09.294Z"
   },
   {
    "duration": 7,
    "start_time": "2022-01-13T09:32:09.330Z"
   },
   {
    "duration": 14,
    "start_time": "2022-01-13T09:32:09.339Z"
   },
   {
    "duration": 14,
    "start_time": "2022-01-13T09:32:09.355Z"
   },
   {
    "duration": 3,
    "start_time": "2022-01-13T09:32:09.371Z"
   },
   {
    "duration": 44,
    "start_time": "2022-01-13T09:32:09.375Z"
   },
   {
    "duration": 53,
    "start_time": "2022-01-13T09:32:09.420Z"
   },
   {
    "duration": 34,
    "start_time": "2022-01-13T09:32:09.474Z"
   },
   {
    "duration": 45,
    "start_time": "2022-01-13T09:32:09.509Z"
   },
   {
    "duration": 6,
    "start_time": "2022-01-13T09:32:09.556Z"
   },
   {
    "duration": 2426,
    "start_time": "2022-01-13T09:32:09.564Z"
   },
   {
    "duration": 20,
    "start_time": "2022-01-13T09:32:11.992Z"
   },
   {
    "duration": 16,
    "start_time": "2022-01-13T09:32:12.027Z"
   },
   {
    "duration": 11,
    "start_time": "2022-01-13T09:32:12.045Z"
   },
   {
    "duration": 212,
    "start_time": "2022-01-13T09:32:12.058Z"
   },
   {
    "duration": 18,
    "start_time": "2022-01-13T09:32:12.271Z"
   },
   {
    "duration": 13,
    "start_time": "2022-01-13T09:32:12.290Z"
   },
   {
    "duration": 210,
    "start_time": "2022-01-13T09:32:12.304Z"
   },
   {
    "duration": 20,
    "start_time": "2022-01-13T09:32:12.516Z"
   },
   {
    "duration": 12,
    "start_time": "2022-01-13T09:32:12.537Z"
   },
   {
    "duration": 213,
    "start_time": "2022-01-13T09:32:12.550Z"
   },
   {
    "duration": 17,
    "start_time": "2022-01-13T09:32:12.765Z"
   },
   {
    "duration": 6,
    "start_time": "2022-01-13T09:32:12.783Z"
   },
   {
    "duration": 6,
    "start_time": "2022-01-13T09:32:12.791Z"
   },
   {
    "duration": 30,
    "start_time": "2022-01-13T09:32:12.798Z"
   },
   {
    "duration": 3,
    "start_time": "2022-01-13T09:32:12.829Z"
   },
   {
    "duration": 8,
    "start_time": "2022-01-13T09:32:12.834Z"
   },
   {
    "duration": 3,
    "start_time": "2022-01-13T09:32:12.847Z"
   },
   {
    "duration": 9,
    "start_time": "2022-01-13T09:32:12.852Z"
   },
   {
    "duration": 177,
    "start_time": "2022-01-13T09:32:12.862Z"
   },
   {
    "duration": 174,
    "start_time": "2022-01-13T09:32:13.041Z"
   },
   {
    "duration": 5,
    "start_time": "2022-01-13T09:32:13.216Z"
   },
   {
    "duration": 4,
    "start_time": "2022-01-13T09:32:13.227Z"
   },
   {
    "duration": 8,
    "start_time": "2022-01-13T09:32:13.233Z"
   },
   {
    "duration": 7,
    "start_time": "2022-01-13T09:32:13.243Z"
   },
   {
    "duration": 6,
    "start_time": "2022-01-13T09:32:13.251Z"
   },
   {
    "duration": 7,
    "start_time": "2022-01-13T09:32:13.259Z"
   },
   {
    "duration": 5,
    "start_time": "2022-01-13T09:32:13.267Z"
   },
   {
    "duration": 5,
    "start_time": "2022-01-13T09:32:13.274Z"
   },
   {
    "duration": 8,
    "start_time": "2022-01-13T09:32:13.280Z"
   },
   {
    "duration": 178,
    "start_time": "2022-01-13T09:32:13.289Z"
   },
   {
    "duration": 181,
    "start_time": "2022-01-13T09:32:13.468Z"
   },
   {
    "duration": 4,
    "start_time": "2022-01-13T09:32:13.650Z"
   },
   {
    "duration": 6,
    "start_time": "2022-01-13T09:32:13.656Z"
   },
   {
    "duration": 9,
    "start_time": "2022-01-13T09:32:13.663Z"
   },
   {
    "duration": 5,
    "start_time": "2022-01-13T09:32:13.673Z"
   },
   {
    "duration": 5,
    "start_time": "2022-01-13T09:32:13.679Z"
   },
   {
    "duration": 5,
    "start_time": "2022-01-13T09:32:13.686Z"
   },
   {
    "duration": 5,
    "start_time": "2022-01-13T09:32:13.693Z"
   },
   {
    "duration": 29,
    "start_time": "2022-01-13T09:32:13.699Z"
   },
   {
    "duration": 3,
    "start_time": "2022-01-13T09:32:13.730Z"
   },
   {
    "duration": 11,
    "start_time": "2022-01-13T09:32:13.734Z"
   },
   {
    "duration": 184,
    "start_time": "2022-01-13T09:32:13.747Z"
   },
   {
    "duration": 232,
    "start_time": "2022-01-13T09:32:13.932Z"
   },
   {
    "duration": 4,
    "start_time": "2022-01-13T09:32:14.166Z"
   },
   {
    "duration": 9,
    "start_time": "2022-01-13T09:32:14.172Z"
   },
   {
    "duration": 20,
    "start_time": "2022-01-13T09:32:14.183Z"
   },
   {
    "duration": 3,
    "start_time": "2022-01-13T09:32:14.205Z"
   },
   {
    "duration": 74,
    "start_time": "2022-01-13T09:32:14.209Z"
   },
   {
    "duration": 17,
    "start_time": "2022-01-13T09:32:14.285Z"
   },
   {
    "duration": 8,
    "start_time": "2022-01-13T09:32:14.304Z"
   },
   {
    "duration": 3,
    "start_time": "2022-01-13T09:32:14.327Z"
   },
   {
    "duration": 6,
    "start_time": "2022-01-13T09:32:14.331Z"
   },
   {
    "duration": 10,
    "start_time": "2022-01-13T09:32:14.338Z"
   },
   {
    "duration": 9,
    "start_time": "2022-01-13T09:32:14.349Z"
   },
   {
    "duration": 6,
    "start_time": "2022-01-13T09:32:14.360Z"
   },
   {
    "duration": 4,
    "start_time": "2022-01-13T09:54:21.401Z"
   },
   {
    "duration": 955,
    "start_time": "2022-01-13T13:44:32.854Z"
   },
   {
    "duration": 373,
    "start_time": "2022-01-13T13:44:35.657Z"
   },
   {
    "duration": 10,
    "start_time": "2022-01-13T13:44:39.059Z"
   },
   {
    "duration": 19,
    "start_time": "2022-01-13T13:44:41.325Z"
   },
   {
    "duration": 8,
    "start_time": "2022-01-13T13:44:43.778Z"
   },
   {
    "duration": 16,
    "start_time": "2022-01-13T13:44:50.734Z"
   },
   {
    "duration": 7,
    "start_time": "2022-01-13T13:45:39.638Z"
   },
   {
    "duration": 13,
    "start_time": "2022-01-13T13:45:43.209Z"
   },
   {
    "duration": 380,
    "start_time": "2022-01-13T13:51:59.836Z"
   },
   {
    "duration": 7,
    "start_time": "2022-01-13T13:52:00.644Z"
   },
   {
    "duration": 398,
    "start_time": "2022-01-13T14:05:28.462Z"
   },
   {
    "duration": 8,
    "start_time": "2022-01-13T14:05:31.265Z"
   },
   {
    "duration": 15,
    "start_time": "2022-01-13T14:05:35.908Z"
   },
   {
    "duration": 8,
    "start_time": "2022-01-13T14:05:55.863Z"
   },
   {
    "duration": 10,
    "start_time": "2022-01-13T14:06:00.426Z"
   },
   {
    "duration": 7,
    "start_time": "2022-01-13T14:06:17.553Z"
   },
   {
    "duration": 10,
    "start_time": "2022-01-13T14:06:21.922Z"
   },
   {
    "duration": 7,
    "start_time": "2022-01-13T14:06:27.719Z"
   },
   {
    "duration": 6,
    "start_time": "2022-01-13T14:06:32.240Z"
   },
   {
    "duration": 10,
    "start_time": "2022-01-13T14:06:43.954Z"
   },
   {
    "duration": 5,
    "start_time": "2022-01-13T14:06:50.881Z"
   },
   {
    "duration": 42,
    "start_time": "2022-01-13T14:07:33.086Z"
   },
   {
    "duration": 5,
    "start_time": "2022-01-13T14:07:38.613Z"
   },
   {
    "duration": 6255,
    "start_time": "2022-01-13T14:08:15.749Z"
   },
   {
    "duration": 25,
    "start_time": "2022-01-13T14:08:36.389Z"
   },
   {
    "duration": 9,
    "start_time": "2022-01-13T14:08:38.991Z"
   },
   {
    "duration": 235,
    "start_time": "2022-01-13T14:21:02.833Z"
   },
   {
    "duration": 233,
    "start_time": "2022-01-13T14:21:57.037Z"
   },
   {
    "duration": 4,
    "start_time": "2022-01-13T14:26:17.730Z"
   },
   {
    "duration": 11,
    "start_time": "2022-01-13T14:26:36.740Z"
   },
   {
    "duration": 10,
    "start_time": "2022-01-13T14:26:41.775Z"
   },
   {
    "duration": 4,
    "start_time": "2022-01-13T14:26:49.277Z"
   },
   {
    "duration": 13,
    "start_time": "2022-01-13T14:26:55.189Z"
   },
   {
    "duration": 4,
    "start_time": "2022-01-13T14:27:05.777Z"
   },
   {
    "duration": 77,
    "start_time": "2022-01-13T14:27:17.265Z"
   },
   {
    "duration": 235,
    "start_time": "2022-01-13T14:27:24.268Z"
   },
   {
    "duration": 17,
    "start_time": "2022-01-13T14:27:33.979Z"
   },
   {
    "duration": 4,
    "start_time": "2022-01-13T14:27:38.632Z"
   },
   {
    "duration": 15,
    "start_time": "2022-01-13T14:28:52.877Z"
   },
   {
    "duration": 8,
    "start_time": "2022-01-13T14:28:54.428Z"
   },
   {
    "duration": 16,
    "start_time": "2022-01-13T14:29:53.954Z"
   },
   {
    "duration": 8,
    "start_time": "2022-01-13T14:29:57.797Z"
   },
   {
    "duration": 3,
    "start_time": "2022-01-13T14:35:40.200Z"
   },
   {
    "duration": 51,
    "start_time": "2022-01-13T14:37:01.077Z"
   },
   {
    "duration": 9,
    "start_time": "2022-01-13T14:37:03.781Z"
   },
   {
    "duration": 3,
    "start_time": "2022-01-13T14:41:11.675Z"
   },
   {
    "duration": 57,
    "start_time": "2022-01-13T14:41:12.951Z"
   },
   {
    "duration": 10,
    "start_time": "2022-01-13T14:41:14.000Z"
   },
   {
    "duration": 625,
    "start_time": "2022-01-13T14:44:45.038Z"
   },
   {
    "duration": 16,
    "start_time": "2022-01-13T14:44:52.086Z"
   },
   {
    "duration": 20,
    "start_time": "2022-01-13T14:46:02.363Z"
   },
   {
    "duration": 3,
    "start_time": "2022-01-13T14:48:28.849Z"
   },
   {
    "duration": 6,
    "start_time": "2022-01-13T14:48:29.840Z"
   },
   {
    "duration": 7,
    "start_time": "2022-01-13T14:48:36.723Z"
   },
   {
    "duration": 5,
    "start_time": "2022-01-13T14:49:36.393Z"
   },
   {
    "duration": 5,
    "start_time": "2022-01-13T14:49:57.204Z"
   },
   {
    "duration": 5,
    "start_time": "2022-01-13T14:51:22.082Z"
   },
   {
    "duration": 6,
    "start_time": "2022-01-13T14:51:30.211Z"
   },
   {
    "duration": 21,
    "start_time": "2022-01-13T14:51:47.320Z"
   },
   {
    "duration": 5,
    "start_time": "2022-01-13T14:51:53.536Z"
   },
   {
    "duration": 18,
    "start_time": "2022-01-13T14:52:03.005Z"
   },
   {
    "duration": 8,
    "start_time": "2022-01-13T14:52:04.187Z"
   },
   {
    "duration": 50,
    "start_time": "2022-01-13T14:52:30.756Z"
   },
   {
    "duration": 4,
    "start_time": "2022-01-13T14:52:35.835Z"
   },
   {
    "duration": 5,
    "start_time": "2022-01-13T14:52:42.239Z"
   },
   {
    "duration": 4,
    "start_time": "2022-01-13T14:52:49.697Z"
   },
   {
    "duration": 6,
    "start_time": "2022-01-13T14:52:53.015Z"
   },
   {
    "duration": 5,
    "start_time": "2022-01-13T14:52:53.659Z"
   },
   {
    "duration": 4,
    "start_time": "2022-01-13T14:54:08.428Z"
   },
   {
    "duration": 4,
    "start_time": "2022-01-13T14:54:09.559Z"
   },
   {
    "duration": 12,
    "start_time": "2022-01-13T14:54:10.552Z"
   },
   {
    "duration": 4,
    "start_time": "2022-01-13T14:54:17.983Z"
   },
   {
    "duration": 9,
    "start_time": "2022-01-13T15:09:25.453Z"
   },
   {
    "duration": 17,
    "start_time": "2022-01-13T15:11:29.289Z"
   },
   {
    "duration": 22,
    "start_time": "2022-01-13T15:16:07.141Z"
   },
   {
    "duration": 20,
    "start_time": "2022-01-13T15:19:01.844Z"
   },
   {
    "duration": 21,
    "start_time": "2022-01-13T15:19:17.022Z"
   },
   {
    "duration": 24,
    "start_time": "2022-01-13T15:22:00.195Z"
   },
   {
    "duration": 8,
    "start_time": "2022-01-13T15:26:49.885Z"
   },
   {
    "duration": 15,
    "start_time": "2022-01-13T15:28:21.465Z"
   },
   {
    "duration": 8,
    "start_time": "2022-01-13T15:28:31.360Z"
   },
   {
    "duration": 15,
    "start_time": "2022-01-13T15:28:37.705Z"
   },
   {
    "duration": 17,
    "start_time": "2022-01-13T15:28:49.146Z"
   },
   {
    "duration": 7,
    "start_time": "2022-01-13T15:29:26.423Z"
   },
   {
    "duration": 9,
    "start_time": "2022-01-13T15:29:43.527Z"
   },
   {
    "duration": 14,
    "start_time": "2022-01-13T15:30:26.338Z"
   },
   {
    "duration": 87,
    "start_time": "2022-01-13T15:33:52.861Z"
   },
   {
    "duration": 984,
    "start_time": "2022-01-13T15:34:09.244Z"
   },
   {
    "duration": 401,
    "start_time": "2022-01-13T15:34:10.229Z"
   },
   {
    "duration": 11,
    "start_time": "2022-01-13T15:34:10.632Z"
   },
   {
    "duration": 14,
    "start_time": "2022-01-13T15:34:10.644Z"
   },
   {
    "duration": 6,
    "start_time": "2022-01-13T15:34:10.660Z"
   },
   {
    "duration": 12,
    "start_time": "2022-01-13T15:34:10.668Z"
   },
   {
    "duration": 6,
    "start_time": "2022-01-13T15:34:10.681Z"
   },
   {
    "duration": 23,
    "start_time": "2022-01-13T15:34:10.689Z"
   },
   {
    "duration": 6,
    "start_time": "2022-01-13T15:34:10.714Z"
   },
   {
    "duration": 7,
    "start_time": "2022-01-13T15:34:10.721Z"
   },
   {
    "duration": 13,
    "start_time": "2022-01-13T15:34:10.729Z"
   },
   {
    "duration": 8,
    "start_time": "2022-01-13T15:34:10.743Z"
   },
   {
    "duration": 65,
    "start_time": "2022-01-13T15:34:10.752Z"
   },
   {
    "duration": 4,
    "start_time": "2022-01-13T15:34:10.818Z"
   },
   {
    "duration": 29,
    "start_time": "2022-01-13T15:34:10.824Z"
   },
   {
    "duration": 8,
    "start_time": "2022-01-13T15:34:10.855Z"
   },
   {
    "duration": 6,
    "start_time": "2022-01-13T15:34:10.865Z"
   },
   {
    "duration": 10,
    "start_time": "2022-01-13T15:34:10.872Z"
   },
   {
    "duration": 5,
    "start_time": "2022-01-13T15:34:10.884Z"
   },
   {
    "duration": 33,
    "start_time": "2022-01-13T15:34:10.890Z"
   },
   {
    "duration": 3,
    "start_time": "2022-01-13T15:34:10.925Z"
   },
   {
    "duration": 95,
    "start_time": "2022-01-13T15:34:10.930Z"
   },
   {
    "duration": 17,
    "start_time": "2022-01-13T15:34:11.028Z"
   },
   {
    "duration": 16,
    "start_time": "2022-01-13T15:34:11.047Z"
   },
   {
    "duration": 3,
    "start_time": "2022-01-13T15:34:11.065Z"
   },
   {
    "duration": 7,
    "start_time": "2022-01-13T15:34:11.069Z"
   },
   {
    "duration": 10,
    "start_time": "2022-01-13T15:34:11.077Z"
   },
   {
    "duration": 26,
    "start_time": "2022-01-13T15:34:11.088Z"
   },
   {
    "duration": 5,
    "start_time": "2022-01-13T15:34:11.116Z"
   },
   {
    "duration": 4,
    "start_time": "2022-01-13T15:34:11.122Z"
   },
   {
    "duration": 22,
    "start_time": "2022-01-13T15:34:11.128Z"
   },
   {
    "duration": 4,
    "start_time": "2022-01-13T15:34:11.151Z"
   },
   {
    "duration": 14,
    "start_time": "2022-01-13T15:34:11.157Z"
   },
   {
    "duration": 43,
    "start_time": "2022-01-13T15:34:11.173Z"
   },
   {
    "duration": 34,
    "start_time": "2022-01-13T15:34:11.217Z"
   },
   {
    "duration": 4,
    "start_time": "2022-01-13T15:34:11.252Z"
   },
   {
    "duration": 5,
    "start_time": "2022-01-13T15:34:11.257Z"
   },
   {
    "duration": 5,
    "start_time": "2022-01-13T15:34:11.264Z"
   },
   {
    "duration": 5,
    "start_time": "2022-01-13T15:34:11.270Z"
   },
   {
    "duration": 8,
    "start_time": "2022-01-13T15:34:11.277Z"
   },
   {
    "duration": 26,
    "start_time": "2022-01-13T15:34:11.286Z"
   },
   {
    "duration": 5,
    "start_time": "2022-01-13T15:34:11.314Z"
   },
   {
    "duration": 12,
    "start_time": "2022-01-13T15:34:11.321Z"
   },
   {
    "duration": 5,
    "start_time": "2022-01-13T15:34:11.335Z"
   },
   {
    "duration": 9,
    "start_time": "2022-01-13T15:34:11.342Z"
   },
   {
    "duration": 308,
    "start_time": "2022-01-13T15:34:11.353Z"
   },
   {
    "duration": 233,
    "start_time": "2022-01-13T15:35:19.405Z"
   },
   {
    "duration": 8,
    "start_time": "2022-01-13T15:35:59.125Z"
   },
   {
    "duration": 236,
    "start_time": "2022-01-13T15:36:50.622Z"
   },
   {
    "duration": 4,
    "start_time": "2022-01-13T15:36:58.573Z"
   },
   {
    "duration": 8,
    "start_time": "2022-01-13T15:37:00.185Z"
   },
   {
    "duration": 18,
    "start_time": "2022-01-13T15:37:08.726Z"
   },
   {
    "duration": 14,
    "start_time": "2022-01-13T15:37:11.851Z"
   },
   {
    "duration": 19,
    "start_time": "2022-01-13T15:46:09.900Z"
   },
   {
    "duration": 224,
    "start_time": "2022-01-13T15:47:10.048Z"
   },
   {
    "duration": 7,
    "start_time": "2022-01-13T15:48:32.549Z"
   },
   {
    "duration": 17,
    "start_time": "2022-01-13T15:48:50.321Z"
   },
   {
    "duration": 17,
    "start_time": "2022-01-13T15:49:00.318Z"
   },
   {
    "duration": 7,
    "start_time": "2022-01-13T15:49:37.708Z"
   },
   {
    "duration": 912,
    "start_time": "2022-01-13T15:52:16.763Z"
   },
   {
    "duration": 390,
    "start_time": "2022-01-13T15:52:18.450Z"
   },
   {
    "duration": 10,
    "start_time": "2022-01-13T15:52:19.594Z"
   },
   {
    "duration": 13,
    "start_time": "2022-01-13T15:52:20.846Z"
   },
   {
    "duration": 8,
    "start_time": "2022-01-13T15:52:21.602Z"
   },
   {
    "duration": 10,
    "start_time": "2022-01-13T15:52:24.493Z"
   },
   {
    "duration": 7,
    "start_time": "2022-01-13T15:52:26.099Z"
   },
   {
    "duration": 12,
    "start_time": "2022-01-13T15:52:27.340Z"
   },
   {
    "duration": 7,
    "start_time": "2022-01-13T15:52:30.284Z"
   },
   {
    "duration": 6,
    "start_time": "2022-01-13T15:52:31.716Z"
   },
   {
    "duration": 9,
    "start_time": "2022-01-13T15:52:33.553Z"
   },
   {
    "duration": 6,
    "start_time": "2022-01-13T15:52:35.022Z"
   },
   {
    "duration": 45,
    "start_time": "2022-01-13T15:52:39.023Z"
   },
   {
    "duration": 4,
    "start_time": "2022-01-13T15:52:42.237Z"
   },
   {
    "duration": 21,
    "start_time": "2022-01-13T15:52:49.367Z"
   },
   {
    "duration": 12,
    "start_time": "2022-01-13T15:52:49.873Z"
   },
   {
    "duration": 5,
    "start_time": "2022-01-13T15:53:16.980Z"
   },
   {
    "duration": 9,
    "start_time": "2022-01-13T15:53:19.469Z"
   },
   {
    "duration": 5,
    "start_time": "2022-01-13T15:53:39.300Z"
   },
   {
    "duration": 23,
    "start_time": "2022-01-13T15:53:41.418Z"
   },
   {
    "duration": 6,
    "start_time": "2022-01-13T15:53:47.608Z"
   },
   {
    "duration": 87,
    "start_time": "2022-01-13T15:53:49.516Z"
   },
   {
    "duration": 15,
    "start_time": "2022-01-13T15:53:59.161Z"
   },
   {
    "duration": 17,
    "start_time": "2022-01-13T15:54:12.636Z"
   },
   {
    "duration": 4,
    "start_time": "2022-01-13T15:54:17.916Z"
   },
   {
    "duration": 5,
    "start_time": "2022-01-13T15:54:20.067Z"
   },
   {
    "duration": 8,
    "start_time": "2022-01-13T15:54:21.247Z"
   },
   {
    "duration": 4,
    "start_time": "2022-01-13T15:54:28.025Z"
   },
   {
    "duration": 4,
    "start_time": "2022-01-13T15:54:31.996Z"
   },
   {
    "duration": 4,
    "start_time": "2022-01-13T15:54:33.644Z"
   },
   {
    "duration": 20,
    "start_time": "2022-01-13T15:54:36.302Z"
   },
   {
    "duration": 5,
    "start_time": "2022-01-13T15:54:37.623Z"
   },
   {
    "duration": 14,
    "start_time": "2022-01-13T15:54:43.835Z"
   },
   {
    "duration": 7,
    "start_time": "2022-01-13T15:54:53.003Z"
   },
   {
    "duration": 33,
    "start_time": "2022-01-13T15:54:57.250Z"
   },
   {
    "duration": 5,
    "start_time": "2022-01-13T15:54:59.117Z"
   },
   {
    "duration": 4,
    "start_time": "2022-01-13T15:55:01.924Z"
   },
   {
    "duration": 4,
    "start_time": "2022-01-13T15:55:03.217Z"
   },
   {
    "duration": 4,
    "start_time": "2022-01-13T15:55:04.808Z"
   },
   {
    "duration": 4,
    "start_time": "2022-01-13T15:55:05.175Z"
   },
   {
    "duration": 4,
    "start_time": "2022-01-13T15:55:13.649Z"
   },
   {
    "duration": 3,
    "start_time": "2022-01-13T15:55:14.077Z"
   },
   {
    "duration": 10,
    "start_time": "2022-01-13T15:55:15.923Z"
   },
   {
    "duration": 4,
    "start_time": "2022-01-13T15:55:16.716Z"
   },
   {
    "duration": 10,
    "start_time": "2022-01-13T15:55:19.065Z"
   },
   {
    "duration": 12,
    "start_time": "2022-01-13T15:55:47.929Z"
   },
   {
    "duration": 4,
    "start_time": "2022-01-13T15:55:49.694Z"
   },
   {
    "duration": 320,
    "start_time": "2022-01-13T15:55:53.173Z"
   },
   {
    "duration": 15,
    "start_time": "2022-01-13T15:56:06.327Z"
   },
   {
    "duration": 19,
    "start_time": "2022-01-13T15:56:29.968Z"
   },
   {
    "duration": 19,
    "start_time": "2022-01-13T15:56:51.943Z"
   },
   {
    "duration": 7,
    "start_time": "2022-01-13T15:57:00.498Z"
   },
   {
    "duration": 13,
    "start_time": "2022-01-13T16:06:56.574Z"
   },
   {
    "duration": 8,
    "start_time": "2022-01-13T16:08:04.117Z"
   },
   {
    "duration": 8,
    "start_time": "2022-01-13T16:08:13.883Z"
   },
   {
    "duration": 13,
    "start_time": "2022-01-13T16:08:35.492Z"
   },
   {
    "duration": 9,
    "start_time": "2022-01-13T16:08:57.065Z"
   },
   {
    "duration": 10,
    "start_time": "2022-01-13T16:09:10.841Z"
   },
   {
    "duration": 12,
    "start_time": "2022-01-13T16:11:28.131Z"
   },
   {
    "duration": 10,
    "start_time": "2022-01-13T16:11:29.079Z"
   },
   {
    "duration": 5979,
    "start_time": "2022-01-13T16:13:15.018Z"
   },
   {
    "duration": 78,
    "start_time": "2022-01-13T16:13:59.462Z"
   },
   {
    "duration": 81,
    "start_time": "2022-01-13T16:14:04.978Z"
   },
   {
    "duration": 12,
    "start_time": "2022-01-13T16:14:31.833Z"
   },
   {
    "duration": 9,
    "start_time": "2022-01-13T16:14:34.126Z"
   },
   {
    "duration": 5,
    "start_time": "2022-01-13T16:16:20.465Z"
   },
   {
    "duration": 9,
    "start_time": "2022-01-13T16:16:21.006Z"
   },
   {
    "duration": 252,
    "start_time": "2022-01-13T16:27:11.995Z"
   },
   {
    "duration": 11,
    "start_time": "2022-01-13T16:28:45.837Z"
   },
   {
    "duration": 251,
    "start_time": "2022-01-13T16:33:09.910Z"
   },
   {
    "duration": 241,
    "start_time": "2022-01-13T16:35:01.357Z"
   },
   {
    "duration": 241,
    "start_time": "2022-01-13T16:35:21.525Z"
   },
   {
    "duration": 254,
    "start_time": "2022-01-13T16:35:29.865Z"
   },
   {
    "duration": 13,
    "start_time": "2022-01-13T16:36:04.212Z"
   },
   {
    "duration": 4,
    "start_time": "2022-01-13T16:36:06.726Z"
   },
   {
    "duration": 13,
    "start_time": "2022-01-13T16:36:07.622Z"
   },
   {
    "duration": 11,
    "start_time": "2022-01-13T16:37:31.531Z"
   },
   {
    "duration": 797,
    "start_time": "2022-01-13T16:38:22.553Z"
   },
   {
    "duration": 6,
    "start_time": "2022-01-13T16:38:32.171Z"
   },
   {
    "duration": 5,
    "start_time": "2022-01-13T16:39:12.040Z"
   },
   {
    "duration": 224,
    "start_time": "2022-01-13T16:39:18.547Z"
   },
   {
    "duration": 244,
    "start_time": "2022-01-13T16:39:22.220Z"
   },
   {
    "duration": 5,
    "start_time": "2022-01-13T16:39:25.228Z"
   },
   {
    "duration": 2,
    "start_time": "2022-01-13T16:41:13.805Z"
   },
   {
    "duration": 1209,
    "start_time": "2022-01-13T16:41:15.235Z"
   },
   {
    "duration": 3,
    "start_time": "2022-01-13T16:41:56.468Z"
   },
   {
    "duration": 4519,
    "start_time": "2022-01-13T16:41:56.868Z"
   },
   {
    "duration": 4,
    "start_time": "2022-01-13T16:43:21.962Z"
   },
   {
    "duration": 4,
    "start_time": "2022-01-13T16:43:32.164Z"
   },
   {
    "duration": 2,
    "start_time": "2022-01-13T16:44:26.580Z"
   },
   {
    "duration": 4968,
    "start_time": "2022-01-13T16:44:27.123Z"
   },
   {
    "duration": 3,
    "start_time": "2022-01-13T16:46:45.360Z"
   },
   {
    "duration": 6535,
    "start_time": "2022-01-13T16:46:45.772Z"
   },
   {
    "duration": 5,
    "start_time": "2022-01-13T16:47:00.416Z"
   },
   {
    "duration": 5877,
    "start_time": "2022-01-13T16:47:22.061Z"
   },
   {
    "duration": 11,
    "start_time": "2022-01-13T16:47:40.353Z"
   },
   {
    "duration": 4,
    "start_time": "2022-01-13T16:47:57.588Z"
   },
   {
    "duration": 6,
    "start_time": "2022-01-13T16:48:43.205Z"
   },
   {
    "duration": 3,
    "start_time": "2022-01-13T16:49:01.178Z"
   },
   {
    "duration": 7672,
    "start_time": "2022-01-13T16:49:02.598Z"
   },
   {
    "duration": 5,
    "start_time": "2022-01-13T16:49:39.991Z"
   },
   {
    "duration": 7,
    "start_time": "2022-01-13T16:53:13.278Z"
   },
   {
    "duration": 5,
    "start_time": "2022-01-13T16:53:23.059Z"
   },
   {
    "duration": 6,
    "start_time": "2022-01-13T16:54:50.071Z"
   },
   {
    "duration": 2,
    "start_time": "2022-01-13T16:55:12.160Z"
   },
   {
    "duration": 2131,
    "start_time": "2022-01-13T16:55:12.871Z"
   },
   {
    "duration": 3,
    "start_time": "2022-01-13T16:55:29.948Z"
   },
   {
    "duration": 2058,
    "start_time": "2022-01-13T16:55:30.816Z"
   },
   {
    "duration": 9,
    "start_time": "2022-01-13T16:55:51.645Z"
   },
   {
    "duration": 5,
    "start_time": "2022-01-13T17:03:16.173Z"
   },
   {
    "duration": 2336,
    "start_time": "2022-01-13T17:03:18.246Z"
   },
   {
    "duration": 11,
    "start_time": "2022-01-13T17:03:33.643Z"
   },
   {
    "duration": 9,
    "start_time": "2022-01-13T17:15:16.088Z"
   },
   {
    "duration": 12,
    "start_time": "2022-01-13T17:19:02.348Z"
   },
   {
    "duration": 12,
    "start_time": "2022-01-13T17:22:55.418Z"
   },
   {
    "duration": 10,
    "start_time": "2022-01-13T17:23:25.246Z"
   },
   {
    "duration": 10,
    "start_time": "2022-01-13T17:23:31.149Z"
   },
   {
    "duration": 9,
    "start_time": "2022-01-13T17:23:48.753Z"
   },
   {
    "duration": 11,
    "start_time": "2022-01-13T17:27:21.037Z"
   },
   {
    "duration": 11,
    "start_time": "2022-01-13T17:27:28.029Z"
   },
   {
    "duration": 9,
    "start_time": "2022-01-13T17:28:29.121Z"
   },
   {
    "duration": 212,
    "start_time": "2022-01-13T17:29:19.436Z"
   },
   {
    "duration": 10,
    "start_time": "2022-01-13T17:31:17.542Z"
   },
   {
    "duration": 10,
    "start_time": "2022-01-13T17:31:56.354Z"
   },
   {
    "duration": 10,
    "start_time": "2022-01-13T17:32:58.953Z"
   },
   {
    "duration": 192,
    "start_time": "2022-01-13T17:33:37.346Z"
   },
   {
    "duration": 9,
    "start_time": "2022-01-13T17:34:34.309Z"
   },
   {
    "duration": 10,
    "start_time": "2022-01-13T17:35:08.832Z"
   },
   {
    "duration": 10,
    "start_time": "2022-01-13T17:36:00.719Z"
   },
   {
    "duration": 206,
    "start_time": "2022-01-13T17:36:19.848Z"
   },
   {
    "duration": 206,
    "start_time": "2022-01-13T17:37:51.963Z"
   },
   {
    "duration": 218,
    "start_time": "2022-01-13T17:39:13.953Z"
   },
   {
    "duration": 10,
    "start_time": "2022-01-13T17:40:33.249Z"
   },
   {
    "duration": 10,
    "start_time": "2022-01-13T17:41:46.137Z"
   },
   {
    "duration": 4,
    "start_time": "2022-01-13T17:43:12.836Z"
   },
   {
    "duration": 4,
    "start_time": "2022-01-13T17:43:13.752Z"
   },
   {
    "duration": 5,
    "start_time": "2022-01-13T17:43:52.186Z"
   },
   {
    "duration": 4,
    "start_time": "2022-01-13T17:44:11.700Z"
   },
   {
    "duration": 5,
    "start_time": "2022-01-13T17:44:24.615Z"
   },
   {
    "duration": 4,
    "start_time": "2022-01-13T17:45:09.471Z"
   },
   {
    "duration": 4,
    "start_time": "2022-01-13T17:45:16.605Z"
   },
   {
    "duration": 4,
    "start_time": "2022-01-13T17:45:26.010Z"
   },
   {
    "duration": 197,
    "start_time": "2022-01-13T17:45:58.862Z"
   },
   {
    "duration": 234,
    "start_time": "2022-01-13T17:46:07.022Z"
   },
   {
    "duration": 224,
    "start_time": "2022-01-13T17:46:31.653Z"
   },
   {
    "duration": 5,
    "start_time": "2022-01-13T17:47:41.224Z"
   },
   {
    "duration": 6,
    "start_time": "2022-01-13T17:48:03.282Z"
   },
   {
    "duration": 6,
    "start_time": "2022-01-13T17:49:25.585Z"
   },
   {
    "duration": 15,
    "start_time": "2022-01-13T17:55:55.078Z"
   },
   {
    "duration": 260,
    "start_time": "2022-01-13T17:56:21.931Z"
   },
   {
    "duration": 4,
    "start_time": "2022-01-13T17:56:32.995Z"
   },
   {
    "duration": 5,
    "start_time": "2022-01-13T17:57:15.729Z"
   },
   {
    "duration": 4,
    "start_time": "2022-01-13T17:57:24.461Z"
   },
   {
    "duration": 5,
    "start_time": "2022-01-13T17:57:53.276Z"
   },
   {
    "duration": 5,
    "start_time": "2022-01-13T17:57:54.193Z"
   },
   {
    "duration": 4,
    "start_time": "2022-01-13T17:57:54.866Z"
   },
   {
    "duration": 221,
    "start_time": "2022-01-13T17:58:21.466Z"
   },
   {
    "duration": 295,
    "start_time": "2022-01-13T17:59:00.925Z"
   },
   {
    "duration": 5,
    "start_time": "2022-01-13T17:59:51.421Z"
   },
   {
    "duration": 5,
    "start_time": "2022-01-13T18:00:57.825Z"
   },
   {
    "duration": 13,
    "start_time": "2022-01-13T18:05:41.064Z"
   },
   {
    "duration": 4,
    "start_time": "2022-01-13T18:06:04.719Z"
   },
   {
    "duration": 4,
    "start_time": "2022-01-13T18:07:36.494Z"
   },
   {
    "duration": 6,
    "start_time": "2022-01-13T18:07:37.126Z"
   },
   {
    "duration": 4,
    "start_time": "2022-01-13T18:07:39.599Z"
   },
   {
    "duration": 4,
    "start_time": "2022-01-13T18:07:41.185Z"
   },
   {
    "duration": 4,
    "start_time": "2022-01-13T18:07:48.852Z"
   },
   {
    "duration": 5,
    "start_time": "2022-01-13T18:07:56.057Z"
   },
   {
    "duration": 4,
    "start_time": "2022-01-13T18:08:02.624Z"
   },
   {
    "duration": 242,
    "start_time": "2022-01-13T18:08:30.488Z"
   },
   {
    "duration": 225,
    "start_time": "2022-01-13T18:08:37.643Z"
   },
   {
    "duration": 204,
    "start_time": "2022-01-13T18:08:41.852Z"
   },
   {
    "duration": 227,
    "start_time": "2022-01-13T18:08:46.924Z"
   },
   {
    "duration": 214,
    "start_time": "2022-01-13T18:09:06.493Z"
   },
   {
    "duration": 6,
    "start_time": "2022-01-13T18:11:04.120Z"
   },
   {
    "duration": 225,
    "start_time": "2022-01-13T18:11:06.454Z"
   },
   {
    "duration": 5,
    "start_time": "2022-01-13T18:11:20.279Z"
   },
   {
    "duration": 1009,
    "start_time": "2022-01-13T20:13:03.748Z"
   },
   {
    "duration": 445,
    "start_time": "2022-01-13T20:13:04.759Z"
   },
   {
    "duration": 11,
    "start_time": "2022-01-13T20:13:05.206Z"
   },
   {
    "duration": 19,
    "start_time": "2022-01-13T20:13:05.219Z"
   },
   {
    "duration": 8,
    "start_time": "2022-01-13T20:13:05.240Z"
   },
   {
    "duration": 29,
    "start_time": "2022-01-13T20:13:05.250Z"
   },
   {
    "duration": 9,
    "start_time": "2022-01-13T20:13:05.281Z"
   },
   {
    "duration": 25,
    "start_time": "2022-01-13T20:13:05.293Z"
   },
   {
    "duration": 24,
    "start_time": "2022-01-13T20:13:05.320Z"
   },
   {
    "duration": 25,
    "start_time": "2022-01-13T20:13:05.346Z"
   },
   {
    "duration": 20,
    "start_time": "2022-01-13T20:13:05.373Z"
   },
   {
    "duration": 12,
    "start_time": "2022-01-13T20:13:05.394Z"
   },
   {
    "duration": 56,
    "start_time": "2022-01-13T20:13:05.408Z"
   },
   {
    "duration": 5,
    "start_time": "2022-01-13T20:13:05.466Z"
   },
   {
    "duration": 39,
    "start_time": "2022-01-13T20:13:05.472Z"
   },
   {
    "duration": 9,
    "start_time": "2022-01-13T20:13:05.512Z"
   },
   {
    "duration": 14,
    "start_time": "2022-01-13T20:13:05.523Z"
   },
   {
    "duration": 15,
    "start_time": "2022-01-13T20:13:05.538Z"
   },
   {
    "duration": 14,
    "start_time": "2022-01-13T20:13:05.555Z"
   },
   {
    "duration": 18,
    "start_time": "2022-01-13T20:13:05.571Z"
   },
   {
    "duration": 11,
    "start_time": "2022-01-13T20:13:05.590Z"
   },
   {
    "duration": 97,
    "start_time": "2022-01-13T20:13:05.602Z"
   },
   {
    "duration": 17,
    "start_time": "2022-01-13T20:13:05.703Z"
   },
   {
    "duration": 18,
    "start_time": "2022-01-13T20:13:05.723Z"
   },
   {
    "duration": 4,
    "start_time": "2022-01-13T20:13:05.743Z"
   },
   {
    "duration": 15,
    "start_time": "2022-01-13T20:13:05.749Z"
   },
   {
    "duration": 10,
    "start_time": "2022-01-13T20:13:05.765Z"
   },
   {
    "duration": 25,
    "start_time": "2022-01-13T20:13:05.777Z"
   },
   {
    "duration": 7,
    "start_time": "2022-01-13T20:13:05.804Z"
   },
   {
    "duration": 13,
    "start_time": "2022-01-13T20:13:05.812Z"
   },
   {
    "duration": 34,
    "start_time": "2022-01-13T20:13:05.827Z"
   },
   {
    "duration": 4,
    "start_time": "2022-01-13T20:13:05.862Z"
   },
   {
    "duration": 18,
    "start_time": "2022-01-13T20:13:05.867Z"
   },
   {
    "duration": 7,
    "start_time": "2022-01-13T20:13:05.898Z"
   },
   {
    "duration": 46,
    "start_time": "2022-01-13T20:13:05.907Z"
   },
   {
    "duration": 3,
    "start_time": "2022-01-13T20:13:05.955Z"
   },
   {
    "duration": 10,
    "start_time": "2022-01-13T20:13:05.960Z"
   },
   {
    "duration": 13,
    "start_time": "2022-01-13T20:13:05.971Z"
   },
   {
    "duration": 14,
    "start_time": "2022-01-13T20:13:05.986Z"
   },
   {
    "duration": 7,
    "start_time": "2022-01-13T20:13:06.002Z"
   },
   {
    "duration": 16,
    "start_time": "2022-01-13T20:13:06.011Z"
   },
   {
    "duration": 15,
    "start_time": "2022-01-13T20:13:06.029Z"
   },
   {
    "duration": 18,
    "start_time": "2022-01-13T20:13:06.045Z"
   },
   {
    "duration": 4,
    "start_time": "2022-01-13T20:13:06.064Z"
   },
   {
    "duration": 16,
    "start_time": "2022-01-13T20:13:06.070Z"
   },
   {
    "duration": 5,
    "start_time": "2022-01-13T20:13:06.087Z"
   },
   {
    "duration": 29,
    "start_time": "2022-01-13T20:13:06.094Z"
   },
   {
    "duration": 19,
    "start_time": "2022-01-13T20:13:06.125Z"
   },
   {
    "duration": 18,
    "start_time": "2022-01-13T20:13:06.146Z"
   },
   {
    "duration": 7,
    "start_time": "2022-01-13T20:13:06.166Z"
   },
   {
    "duration": 23,
    "start_time": "2022-01-13T20:13:06.175Z"
   },
   {
    "duration": 3,
    "start_time": "2022-01-13T20:13:06.200Z"
   },
   {
    "duration": 11,
    "start_time": "2022-01-13T20:13:06.205Z"
   },
   {
    "duration": 2088,
    "start_time": "2022-01-13T20:13:06.217Z"
   },
   {
    "duration": 8,
    "start_time": "2022-01-13T20:13:08.307Z"
   },
   {
    "duration": 16,
    "start_time": "2022-01-13T20:13:08.317Z"
   },
   {
    "duration": 2381,
    "start_time": "2022-01-13T20:13:08.335Z"
   },
   {
    "duration": 11,
    "start_time": "2022-01-13T20:13:10.717Z"
   },
   {
    "duration": 11,
    "start_time": "2022-01-13T20:13:18.537Z"
   },
   {
    "duration": 12,
    "start_time": "2022-01-13T20:13:24.427Z"
   },
   {
    "duration": 238,
    "start_time": "2022-01-13T20:13:30.369Z"
   },
   {
    "duration": 12,
    "start_time": "2022-01-13T20:13:38.252Z"
   },
   {
    "duration": 12,
    "start_time": "2022-01-13T20:13:39.783Z"
   },
   {
    "duration": 227,
    "start_time": "2022-01-13T20:13:40.285Z"
   },
   {
    "duration": 10,
    "start_time": "2022-01-13T20:13:48.771Z"
   },
   {
    "duration": 11,
    "start_time": "2022-01-13T20:13:50.147Z"
   },
   {
    "duration": 231,
    "start_time": "2022-01-13T20:13:50.743Z"
   },
   {
    "duration": 5,
    "start_time": "2022-01-13T20:13:59.707Z"
   },
   {
    "duration": 4,
    "start_time": "2022-01-13T20:14:00.426Z"
   },
   {
    "duration": 4,
    "start_time": "2022-01-13T20:14:01.655Z"
   },
   {
    "duration": 4,
    "start_time": "2022-01-13T20:14:17.946Z"
   },
   {
    "duration": 4,
    "start_time": "2022-01-13T20:14:18.692Z"
   },
   {
    "duration": 4,
    "start_time": "2022-01-13T20:14:19.190Z"
   },
   {
    "duration": 4,
    "start_time": "2022-01-13T20:14:19.711Z"
   },
   {
    "duration": 4,
    "start_time": "2022-01-13T20:14:21.697Z"
   },
   {
    "duration": 303,
    "start_time": "2022-01-13T20:14:23.939Z"
   },
   {
    "duration": 255,
    "start_time": "2022-01-13T20:14:34.205Z"
   },
   {
    "duration": 6,
    "start_time": "2022-01-13T20:15:43.572Z"
   },
   {
    "duration": 4,
    "start_time": "2022-01-13T20:16:35.536Z"
   },
   {
    "duration": 4,
    "start_time": "2022-01-13T20:16:55.506Z"
   },
   {
    "duration": 5,
    "start_time": "2022-01-13T20:17:36.239Z"
   },
   {
    "duration": 5,
    "start_time": "2022-01-13T20:17:37.765Z"
   },
   {
    "duration": 4,
    "start_time": "2022-01-13T20:17:42.357Z"
   },
   {
    "duration": 5,
    "start_time": "2022-01-13T20:17:42.949Z"
   },
   {
    "duration": 4,
    "start_time": "2022-01-13T20:17:44.247Z"
   },
   {
    "duration": 5,
    "start_time": "2022-01-13T20:17:44.882Z"
   },
   {
    "duration": 273,
    "start_time": "2022-01-13T20:17:46.655Z"
   },
   {
    "duration": 253,
    "start_time": "2022-01-13T20:17:48.203Z"
   },
   {
    "duration": 4,
    "start_time": "2022-01-13T20:18:09.516Z"
   },
   {
    "duration": 4,
    "start_time": "2022-01-13T20:18:33.559Z"
   },
   {
    "duration": 4,
    "start_time": "2022-01-13T20:20:46.527Z"
   },
   {
    "duration": 4,
    "start_time": "2022-01-13T20:20:46.817Z"
   },
   {
    "duration": 4,
    "start_time": "2022-01-13T20:20:47.192Z"
   },
   {
    "duration": 5,
    "start_time": "2022-01-13T20:20:47.624Z"
   },
   {
    "duration": 4,
    "start_time": "2022-01-13T20:20:48.806Z"
   },
   {
    "duration": 4,
    "start_time": "2022-01-13T20:20:49.238Z"
   },
   {
    "duration": 4,
    "start_time": "2022-01-13T20:20:50.257Z"
   },
   {
    "duration": 233,
    "start_time": "2022-01-13T20:20:51.473Z"
   },
   {
    "duration": 296,
    "start_time": "2022-01-13T20:20:55.294Z"
   },
   {
    "duration": 4,
    "start_time": "2022-01-13T20:21:13.229Z"
   },
   {
    "duration": 4,
    "start_time": "2022-01-13T20:21:33.434Z"
   },
   {
    "duration": 10,
    "start_time": "2022-01-13T20:28:12.228Z"
   },
   {
    "duration": 10,
    "start_time": "2022-01-13T20:29:49.773Z"
   },
   {
    "duration": 11,
    "start_time": "2022-01-13T20:29:59.990Z"
   },
   {
    "duration": 9,
    "start_time": "2022-01-13T20:30:03.862Z"
   },
   {
    "duration": 10,
    "start_time": "2022-01-13T20:33:02.738Z"
   },
   {
    "duration": 14,
    "start_time": "2022-01-13T20:33:56.501Z"
   },
   {
    "duration": 9,
    "start_time": "2022-01-13T20:34:08.138Z"
   },
   {
    "duration": 5,
    "start_time": "2022-01-13T20:34:22.975Z"
   },
   {
    "duration": 5,
    "start_time": "2022-01-13T20:34:35.679Z"
   },
   {
    "duration": 5,
    "start_time": "2022-01-13T20:35:12.994Z"
   },
   {
    "duration": 11,
    "start_time": "2022-01-13T20:35:20.130Z"
   },
   {
    "duration": 5,
    "start_time": "2022-01-13T20:36:01.869Z"
   },
   {
    "duration": 5,
    "start_time": "2022-01-13T20:49:03.393Z"
   },
   {
    "duration": 5,
    "start_time": "2022-01-13T20:51:18.796Z"
   },
   {
    "duration": 5,
    "start_time": "2022-01-13T20:54:35.421Z"
   },
   {
    "duration": 4,
    "start_time": "2022-01-13T20:54:51.495Z"
   },
   {
    "duration": 4,
    "start_time": "2022-01-13T20:54:55.372Z"
   },
   {
    "duration": 5,
    "start_time": "2022-01-13T20:55:04.319Z"
   },
   {
    "duration": 4,
    "start_time": "2022-01-13T20:55:46.688Z"
   },
   {
    "duration": 4,
    "start_time": "2022-01-13T20:55:53.407Z"
   },
   {
    "duration": 4,
    "start_time": "2022-01-13T20:56:00.187Z"
   },
   {
    "duration": 5,
    "start_time": "2022-01-13T20:56:05.919Z"
   },
   {
    "duration": 5,
    "start_time": "2022-01-13T20:56:11.446Z"
   },
   {
    "duration": 4,
    "start_time": "2022-01-13T20:56:15.503Z"
   },
   {
    "duration": 11,
    "start_time": "2022-01-13T20:56:22.298Z"
   },
   {
    "duration": 5,
    "start_time": "2022-01-13T20:56:28.778Z"
   },
   {
    "duration": 4,
    "start_time": "2022-01-13T20:56:40.541Z"
   },
   {
    "duration": 4,
    "start_time": "2022-01-13T20:56:47.667Z"
   },
   {
    "duration": 4,
    "start_time": "2022-01-13T20:56:52.095Z"
   },
   {
    "duration": 4,
    "start_time": "2022-01-13T20:56:55.788Z"
   },
   {
    "duration": 4,
    "start_time": "2022-01-13T20:57:22.778Z"
   },
   {
    "duration": 5,
    "start_time": "2022-01-13T20:57:30.005Z"
   },
   {
    "duration": 4,
    "start_time": "2022-01-13T20:57:34.503Z"
   },
   {
    "duration": 4,
    "start_time": "2022-01-13T20:58:10.088Z"
   },
   {
    "duration": 5,
    "start_time": "2022-01-13T21:00:24.186Z"
   },
   {
    "duration": 5,
    "start_time": "2022-01-13T21:00:43.954Z"
   },
   {
    "duration": 5,
    "start_time": "2022-01-13T21:00:52.244Z"
   },
   {
    "duration": 4,
    "start_time": "2022-01-13T21:00:57.083Z"
   },
   {
    "duration": 4,
    "start_time": "2022-01-13T21:01:03.374Z"
   },
   {
    "duration": 4,
    "start_time": "2022-01-13T21:01:09.496Z"
   },
   {
    "duration": 5,
    "start_time": "2022-01-13T21:01:15.103Z"
   },
   {
    "duration": 6,
    "start_time": "2022-01-13T21:01:22.054Z"
   },
   {
    "duration": 4,
    "start_time": "2022-01-13T21:01:49.305Z"
   },
   {
    "duration": 298,
    "start_time": "2022-01-13T21:05:34.137Z"
   },
   {
    "duration": 17,
    "start_time": "2022-01-13T21:06:03.289Z"
   },
   {
    "duration": 6,
    "start_time": "2022-01-13T21:06:12.163Z"
   },
   {
    "duration": 4,
    "start_time": "2022-01-13T21:06:42.265Z"
   },
   {
    "duration": 5,
    "start_time": "2022-01-13T21:06:46.653Z"
   },
   {
    "duration": 4,
    "start_time": "2022-01-13T21:06:50.793Z"
   },
   {
    "duration": 5,
    "start_time": "2022-01-13T21:06:56.715Z"
   },
   {
    "duration": 4,
    "start_time": "2022-01-13T21:13:48.019Z"
   },
   {
    "duration": 4,
    "start_time": "2022-01-13T21:13:54.014Z"
   },
   {
    "duration": 4,
    "start_time": "2022-01-13T21:13:58.520Z"
   },
   {
    "duration": 5,
    "start_time": "2022-01-13T21:14:03.052Z"
   },
   {
    "duration": 5,
    "start_time": "2022-01-13T21:14:08.030Z"
   },
   {
    "duration": 9,
    "start_time": "2022-01-13T21:20:58.484Z"
   },
   {
    "duration": 12,
    "start_time": "2022-01-13T21:21:22.387Z"
   },
   {
    "duration": 3,
    "start_time": "2022-01-13T21:22:49.897Z"
   },
   {
    "duration": 1444,
    "start_time": "2022-01-13T21:22:50.514Z"
   },
   {
    "duration": 2,
    "start_time": "2022-01-13T21:23:28.154Z"
   },
   {
    "duration": 826,
    "start_time": "2022-01-13T21:23:28.714Z"
   },
   {
    "duration": 12,
    "start_time": "2022-01-13T21:23:45.864Z"
   },
   {
    "duration": 826,
    "start_time": "2022-01-13T21:24:31.127Z"
   },
   {
    "duration": 1140,
    "start_time": "2022-01-13T21:26:38.823Z"
   },
   {
    "duration": 11,
    "start_time": "2022-01-13T21:26:50.446Z"
   },
   {
    "duration": 7,
    "start_time": "2022-01-13T21:29:33.119Z"
   },
   {
    "duration": 5,
    "start_time": "2022-01-13T21:31:49.779Z"
   },
   {
    "duration": 4,
    "start_time": "2022-01-13T21:34:19.772Z"
   },
   {
    "duration": 5,
    "start_time": "2022-01-13T21:34:30.827Z"
   },
   {
    "duration": 4,
    "start_time": "2022-01-13T21:34:36.759Z"
   },
   {
    "duration": 4,
    "start_time": "2022-01-13T21:34:45.482Z"
   },
   {
    "duration": 4,
    "start_time": "2022-01-13T21:34:55.389Z"
   },
   {
    "duration": 5,
    "start_time": "2022-01-13T21:37:15.366Z"
   },
   {
    "duration": 5,
    "start_time": "2022-01-13T21:38:21.250Z"
   },
   {
    "duration": 4,
    "start_time": "2022-01-13T21:38:26.479Z"
   },
   {
    "duration": 4,
    "start_time": "2022-01-13T21:38:31.909Z"
   },
   {
    "duration": 5,
    "start_time": "2022-01-13T21:38:36.103Z"
   },
   {
    "duration": 5,
    "start_time": "2022-01-13T21:38:43.272Z"
   },
   {
    "duration": 5,
    "start_time": "2022-01-13T21:38:47.550Z"
   },
   {
    "duration": 4,
    "start_time": "2022-01-13T21:38:50.890Z"
   },
   {
    "duration": 5,
    "start_time": "2022-01-13T21:38:56.323Z"
   },
   {
    "duration": 5,
    "start_time": "2022-01-13T21:39:01.439Z"
   },
   {
    "duration": 5,
    "start_time": "2022-01-13T21:39:05.469Z"
   },
   {
    "duration": 5,
    "start_time": "2022-01-13T21:39:11.336Z"
   },
   {
    "duration": 5,
    "start_time": "2022-01-13T21:39:16.815Z"
   },
   {
    "duration": 4,
    "start_time": "2022-01-13T21:39:22.675Z"
   },
   {
    "duration": 5,
    "start_time": "2022-01-13T21:39:26.215Z"
   },
   {
    "duration": 6,
    "start_time": "2022-01-13T21:39:31.727Z"
   },
   {
    "duration": 5,
    "start_time": "2022-01-13T21:40:03.738Z"
   },
   {
    "duration": 5,
    "start_time": "2022-01-13T21:42:26.789Z"
   },
   {
    "duration": 6,
    "start_time": "2022-01-13T21:48:16.267Z"
   },
   {
    "duration": 4,
    "start_time": "2022-01-13T21:49:10.883Z"
   },
   {
    "duration": 6,
    "start_time": "2022-01-13T21:49:23.058Z"
   },
   {
    "duration": 1502,
    "start_time": "2022-01-14T07:19:46.659Z"
   },
   {
    "duration": 665,
    "start_time": "2022-01-14T07:19:48.164Z"
   },
   {
    "duration": 20,
    "start_time": "2022-01-14T07:19:48.833Z"
   },
   {
    "duration": 24,
    "start_time": "2022-01-14T07:19:48.856Z"
   },
   {
    "duration": 14,
    "start_time": "2022-01-14T07:19:48.884Z"
   },
   {
    "duration": 20,
    "start_time": "2022-01-14T07:19:48.900Z"
   },
   {
    "duration": 10,
    "start_time": "2022-01-14T07:19:48.923Z"
   },
   {
    "duration": 16,
    "start_time": "2022-01-14T07:19:48.968Z"
   },
   {
    "duration": 19,
    "start_time": "2022-01-14T07:19:48.988Z"
   },
   {
    "duration": 13,
    "start_time": "2022-01-14T07:19:49.011Z"
   },
   {
    "duration": 58,
    "start_time": "2022-01-14T07:19:49.028Z"
   },
   {
    "duration": 19,
    "start_time": "2022-01-14T07:19:49.090Z"
   },
   {
    "duration": 134,
    "start_time": "2022-01-14T07:19:49.113Z"
   },
   {
    "duration": 18,
    "start_time": "2022-01-14T07:19:49.250Z"
   },
   {
    "duration": 32,
    "start_time": "2022-01-14T07:19:49.271Z"
   },
   {
    "duration": 13,
    "start_time": "2022-01-14T07:19:49.306Z"
   },
   {
    "duration": 6,
    "start_time": "2022-01-14T07:19:49.322Z"
   },
   {
    "duration": 47,
    "start_time": "2022-01-14T07:19:49.331Z"
   },
   {
    "duration": 7,
    "start_time": "2022-01-14T07:19:49.381Z"
   },
   {
    "duration": 21,
    "start_time": "2022-01-14T07:19:49.391Z"
   },
   {
    "duration": 6,
    "start_time": "2022-01-14T07:19:49.415Z"
   },
   {
    "duration": 182,
    "start_time": "2022-01-14T07:19:49.423Z"
   },
   {
    "duration": 26,
    "start_time": "2022-01-14T07:19:49.613Z"
   },
   {
    "duration": 43,
    "start_time": "2022-01-14T07:19:49.644Z"
   },
   {
    "duration": 5,
    "start_time": "2022-01-14T07:19:49.690Z"
   },
   {
    "duration": 12,
    "start_time": "2022-01-14T07:19:49.698Z"
   },
   {
    "duration": 17,
    "start_time": "2022-01-14T07:19:49.713Z"
   },
   {
    "duration": 8,
    "start_time": "2022-01-14T07:19:49.768Z"
   },
   {
    "duration": 11,
    "start_time": "2022-01-14T07:19:49.779Z"
   },
   {
    "duration": 9,
    "start_time": "2022-01-14T07:19:49.793Z"
   },
   {
    "duration": 78,
    "start_time": "2022-01-14T07:19:49.805Z"
   },
   {
    "duration": 8,
    "start_time": "2022-01-14T07:19:49.887Z"
   },
   {
    "duration": 22,
    "start_time": "2022-01-14T07:19:49.899Z"
   },
   {
    "duration": 47,
    "start_time": "2022-01-14T07:19:49.924Z"
   },
   {
    "duration": 58,
    "start_time": "2022-01-14T07:19:49.974Z"
   },
   {
    "duration": 34,
    "start_time": "2022-01-14T07:19:50.035Z"
   },
   {
    "duration": 7,
    "start_time": "2022-01-14T07:19:50.072Z"
   },
   {
    "duration": 8,
    "start_time": "2022-01-14T07:19:50.083Z"
   },
   {
    "duration": 8,
    "start_time": "2022-01-14T07:19:50.095Z"
   },
   {
    "duration": 10,
    "start_time": "2022-01-14T07:19:50.107Z"
   },
   {
    "duration": 7,
    "start_time": "2022-01-14T07:19:50.168Z"
   },
   {
    "duration": 7,
    "start_time": "2022-01-14T07:19:50.179Z"
   },
   {
    "duration": 25,
    "start_time": "2022-01-14T07:19:50.189Z"
   },
   {
    "duration": 7,
    "start_time": "2022-01-14T07:19:50.217Z"
   },
   {
    "duration": 16,
    "start_time": "2022-01-14T07:19:50.267Z"
   },
   {
    "duration": 9,
    "start_time": "2022-01-14T07:19:50.287Z"
   },
   {
    "duration": 34,
    "start_time": "2022-01-14T07:19:50.298Z"
   },
   {
    "duration": 74,
    "start_time": "2022-01-14T07:19:50.335Z"
   },
   {
    "duration": 60,
    "start_time": "2022-01-14T07:19:50.412Z"
   },
   {
    "duration": 16,
    "start_time": "2022-01-14T07:19:50.475Z"
   },
   {
    "duration": 34,
    "start_time": "2022-01-14T07:19:50.495Z"
   },
   {
    "duration": 37,
    "start_time": "2022-01-14T07:19:50.532Z"
   },
   {
    "duration": 5,
    "start_time": "2022-01-14T07:19:50.572Z"
   },
   {
    "duration": 6577,
    "start_time": "2022-01-14T07:19:50.580Z"
   },
   {
    "duration": 25,
    "start_time": "2022-01-14T07:19:57.160Z"
   },
   {
    "duration": 12,
    "start_time": "2022-01-14T07:19:57.187Z"
   },
   {
    "duration": 4441,
    "start_time": "2022-01-14T07:19:57.201Z"
   },
   {
    "duration": 29,
    "start_time": "2022-01-14T07:20:01.644Z"
   },
   {
    "duration": 51,
    "start_time": "2022-01-14T07:20:01.676Z"
   },
   {
    "duration": 57,
    "start_time": "2022-01-14T07:20:01.729Z"
   },
   {
    "duration": 395,
    "start_time": "2022-01-14T07:20:01.789Z"
   },
   {
    "duration": 19,
    "start_time": "2022-01-14T07:20:02.187Z"
   },
   {
    "duration": 24,
    "start_time": "2022-01-14T07:20:02.209Z"
   },
   {
    "duration": 406,
    "start_time": "2022-01-14T07:20:02.236Z"
   },
   {
    "duration": 25,
    "start_time": "2022-01-14T07:20:02.644Z"
   },
   {
    "duration": 18,
    "start_time": "2022-01-14T07:20:02.672Z"
   },
   {
    "duration": 427,
    "start_time": "2022-01-14T07:20:02.692Z"
   },
   {
    "duration": 6,
    "start_time": "2022-01-14T07:20:03.127Z"
   },
   {
    "duration": 8,
    "start_time": "2022-01-14T07:20:03.137Z"
   },
   {
    "duration": 8,
    "start_time": "2022-01-14T07:20:03.168Z"
   },
   {
    "duration": 9,
    "start_time": "2022-01-14T07:20:03.178Z"
   },
   {
    "duration": 8,
    "start_time": "2022-01-14T07:20:03.189Z"
   },
   {
    "duration": 9,
    "start_time": "2022-01-14T07:20:03.199Z"
   },
   {
    "duration": 59,
    "start_time": "2022-01-14T07:20:03.210Z"
   },
   {
    "duration": 7,
    "start_time": "2022-01-14T07:20:03.272Z"
   },
   {
    "duration": 477,
    "start_time": "2022-01-14T07:20:03.282Z"
   },
   {
    "duration": 432,
    "start_time": "2022-01-14T07:20:03.766Z"
   },
   {
    "duration": 8,
    "start_time": "2022-01-14T07:20:04.201Z"
   },
   {
    "duration": 9,
    "start_time": "2022-01-14T07:20:04.211Z"
   },
   {
    "duration": 10,
    "start_time": "2022-01-14T07:20:04.222Z"
   },
   {
    "duration": 36,
    "start_time": "2022-01-14T07:20:04.235Z"
   },
   {
    "duration": 8,
    "start_time": "2022-01-14T07:20:04.274Z"
   },
   {
    "duration": 12,
    "start_time": "2022-01-14T07:20:04.284Z"
   },
   {
    "duration": 7,
    "start_time": "2022-01-14T07:20:04.298Z"
   },
   {
    "duration": 9,
    "start_time": "2022-01-14T07:20:04.308Z"
   },
   {
    "duration": 460,
    "start_time": "2022-01-14T07:20:04.320Z"
   },
   {
    "duration": 416,
    "start_time": "2022-01-14T07:20:04.782Z"
   },
   {
    "duration": 6,
    "start_time": "2022-01-14T07:20:05.201Z"
   },
   {
    "duration": 8,
    "start_time": "2022-01-14T07:20:05.210Z"
   },
   {
    "duration": 8,
    "start_time": "2022-01-14T07:20:05.220Z"
   },
   {
    "duration": 39,
    "start_time": "2022-01-14T07:20:05.230Z"
   },
   {
    "duration": 11,
    "start_time": "2022-01-14T07:20:05.272Z"
   },
   {
    "duration": 9,
    "start_time": "2022-01-14T07:20:05.286Z"
   },
   {
    "duration": 11,
    "start_time": "2022-01-14T07:20:05.298Z"
   },
   {
    "duration": 17,
    "start_time": "2022-01-14T07:20:05.312Z"
   },
   {
    "duration": 7,
    "start_time": "2022-01-14T07:20:05.369Z"
   },
   {
    "duration": 413,
    "start_time": "2022-01-14T07:20:05.379Z"
   },
   {
    "duration": 746,
    "start_time": "2022-01-14T07:20:05.795Z"
   },
   {
    "duration": 9,
    "start_time": "2022-01-14T07:20:06.545Z"
   },
   {
    "duration": 8,
    "start_time": "2022-01-14T07:20:06.568Z"
   },
   {
    "duration": 16,
    "start_time": "2022-01-14T07:20:06.579Z"
   },
   {
    "duration": 15,
    "start_time": "2022-01-14T07:20:06.598Z"
   },
   {
    "duration": 9,
    "start_time": "2022-01-14T07:20:06.615Z"
   },
   {
    "duration": 7,
    "start_time": "2022-01-14T07:20:06.667Z"
   },
   {
    "duration": 13,
    "start_time": "2022-01-14T07:20:06.677Z"
   },
   {
    "duration": 6,
    "start_time": "2022-01-14T07:20:11.497Z"
   },
   {
    "duration": 1539,
    "start_time": "2022-01-14T07:20:26.705Z"
   },
   {
    "duration": 6,
    "start_time": "2022-01-14T07:21:01.294Z"
   },
   {
    "duration": 5,
    "start_time": "2022-01-14T07:21:21.751Z"
   },
   {
    "duration": 16,
    "start_time": "2022-01-14T07:21:37.308Z"
   },
   {
    "duration": 5,
    "start_time": "2022-01-14T07:21:56.407Z"
   },
   {
    "duration": 9,
    "start_time": "2022-01-14T07:22:12.163Z"
   },
   {
    "duration": 19,
    "start_time": "2022-01-14T07:23:05.132Z"
   },
   {
    "duration": 8,
    "start_time": "2022-01-14T07:47:29.211Z"
   },
   {
    "duration": 7,
    "start_time": "2022-01-14T07:51:49.907Z"
   },
   {
    "duration": 12,
    "start_time": "2022-01-14T08:01:35.909Z"
   },
   {
    "duration": 14,
    "start_time": "2022-01-14T08:03:49.860Z"
   },
   {
    "duration": 12,
    "start_time": "2022-01-14T08:04:09.104Z"
   },
   {
    "duration": 8,
    "start_time": "2022-01-14T08:05:38.373Z"
   },
   {
    "duration": 5117,
    "start_time": "2022-01-14T08:05:40.683Z"
   },
   {
    "duration": 15,
    "start_time": "2022-01-14T08:05:45.803Z"
   },
   {
    "duration": 1391,
    "start_time": "2022-01-14T08:07:46.420Z"
   },
   {
    "duration": 673,
    "start_time": "2022-01-14T08:07:47.814Z"
   },
   {
    "duration": 18,
    "start_time": "2022-01-14T08:07:48.490Z"
   },
   {
    "duration": 23,
    "start_time": "2022-01-14T08:07:48.511Z"
   },
   {
    "duration": 13,
    "start_time": "2022-01-14T08:07:48.536Z"
   },
   {
    "duration": 16,
    "start_time": "2022-01-14T08:07:48.568Z"
   },
   {
    "duration": 10,
    "start_time": "2022-01-14T08:07:48.587Z"
   },
   {
    "duration": 20,
    "start_time": "2022-01-14T08:07:48.602Z"
   },
   {
    "duration": 48,
    "start_time": "2022-01-14T08:07:48.626Z"
   },
   {
    "duration": 21,
    "start_time": "2022-01-14T08:07:48.676Z"
   },
   {
    "duration": 17,
    "start_time": "2022-01-14T08:07:48.699Z"
   },
   {
    "duration": 14,
    "start_time": "2022-01-14T08:07:48.719Z"
   },
   {
    "duration": 108,
    "start_time": "2022-01-14T08:07:48.735Z"
   },
   {
    "duration": 6,
    "start_time": "2022-01-14T08:07:48.846Z"
   },
   {
    "duration": 44,
    "start_time": "2022-01-14T08:07:48.854Z"
   },
   {
    "duration": 13,
    "start_time": "2022-01-14T08:07:48.900Z"
   },
   {
    "duration": 9,
    "start_time": "2022-01-14T08:07:48.915Z"
   },
   {
    "duration": 46,
    "start_time": "2022-01-14T08:07:48.927Z"
   },
   {
    "duration": 11,
    "start_time": "2022-01-14T08:07:48.975Z"
   },
   {
    "duration": 22,
    "start_time": "2022-01-14T08:07:48.988Z"
   },
   {
    "duration": 7,
    "start_time": "2022-01-14T08:07:49.012Z"
   },
   {
    "duration": 184,
    "start_time": "2022-01-14T08:07:49.021Z"
   },
   {
    "duration": 25,
    "start_time": "2022-01-14T08:07:49.210Z"
   },
   {
    "duration": 41,
    "start_time": "2022-01-14T08:07:49.238Z"
   },
   {
    "duration": 5,
    "start_time": "2022-01-14T08:07:49.281Z"
   },
   {
    "duration": 15,
    "start_time": "2022-01-14T08:07:49.288Z"
   },
   {
    "duration": 20,
    "start_time": "2022-01-14T08:07:49.305Z"
   },
   {
    "duration": 10,
    "start_time": "2022-01-14T08:07:49.328Z"
   },
   {
    "duration": 27,
    "start_time": "2022-01-14T08:07:49.341Z"
   },
   {
    "duration": 8,
    "start_time": "2022-01-14T08:07:49.371Z"
   },
   {
    "duration": 44,
    "start_time": "2022-01-14T08:07:49.381Z"
   },
   {
    "duration": 7,
    "start_time": "2022-01-14T08:07:49.427Z"
   },
   {
    "duration": 47,
    "start_time": "2022-01-14T08:07:49.436Z"
   },
   {
    "duration": 11,
    "start_time": "2022-01-14T08:07:49.486Z"
   },
   {
    "duration": 76,
    "start_time": "2022-01-14T08:07:49.500Z"
   },
   {
    "duration": 6,
    "start_time": "2022-01-14T08:07:49.579Z"
   },
   {
    "duration": 9,
    "start_time": "2022-01-14T08:07:49.587Z"
   },
   {
    "duration": 7,
    "start_time": "2022-01-14T08:07:49.598Z"
   },
   {
    "duration": 12,
    "start_time": "2022-01-14T08:07:49.607Z"
   },
   {
    "duration": 47,
    "start_time": "2022-01-14T08:07:49.622Z"
   },
   {
    "duration": 7,
    "start_time": "2022-01-14T08:07:49.671Z"
   },
   {
    "duration": 7,
    "start_time": "2022-01-14T08:07:49.680Z"
   },
   {
    "duration": 23,
    "start_time": "2022-01-14T08:07:49.690Z"
   },
   {
    "duration": 9,
    "start_time": "2022-01-14T08:07:49.715Z"
   },
   {
    "duration": 44,
    "start_time": "2022-01-14T08:07:49.726Z"
   },
   {
    "duration": 7,
    "start_time": "2022-01-14T08:07:49.772Z"
   },
   {
    "duration": 26,
    "start_time": "2022-01-14T08:07:49.781Z"
   },
   {
    "duration": 61,
    "start_time": "2022-01-14T08:07:49.809Z"
   },
   {
    "duration": 27,
    "start_time": "2022-01-14T08:07:49.873Z"
   },
   {
    "duration": 11,
    "start_time": "2022-01-14T08:07:49.902Z"
   },
   {
    "duration": 57,
    "start_time": "2022-01-14T08:07:49.917Z"
   },
   {
    "duration": 8,
    "start_time": "2022-01-14T08:07:49.976Z"
   },
   {
    "duration": 7,
    "start_time": "2022-01-14T08:07:49.986Z"
   },
   {
    "duration": 3877,
    "start_time": "2022-01-14T08:07:49.995Z"
   },
   {
    "duration": 16,
    "start_time": "2022-01-14T08:07:53.875Z"
   },
   {
    "duration": 16,
    "start_time": "2022-01-14T08:07:53.893Z"
   },
   {
    "duration": 16,
    "start_time": "2022-01-14T08:07:53.912Z"
   },
   {
    "duration": 45,
    "start_time": "2022-01-14T08:07:53.931Z"
   },
   {
    "duration": 8,
    "start_time": "2022-01-14T08:07:56.988Z"
   },
   {
    "duration": 4860,
    "start_time": "2022-01-14T08:07:58.762Z"
   },
   {
    "duration": 16,
    "start_time": "2022-01-14T08:08:03.624Z"
   },
   {
    "duration": 16,
    "start_time": "2022-01-14T08:08:09.159Z"
   },
   {
    "duration": 17,
    "start_time": "2022-01-14T08:08:13.157Z"
   },
   {
    "duration": 381,
    "start_time": "2022-01-14T08:08:14.402Z"
   },
   {
    "duration": 17,
    "start_time": "2022-01-14T08:08:17.925Z"
   },
   {
    "duration": 17,
    "start_time": "2022-01-14T08:08:18.303Z"
   },
   {
    "duration": 392,
    "start_time": "2022-01-14T08:08:20.194Z"
   },
   {
    "duration": 18,
    "start_time": "2022-01-14T08:08:22.429Z"
   },
   {
    "duration": 18,
    "start_time": "2022-01-14T08:08:24.045Z"
   },
   {
    "duration": 391,
    "start_time": "2022-01-14T08:08:24.424Z"
   },
   {
    "duration": 7,
    "start_time": "2022-01-14T08:08:32.520Z"
   },
   {
    "duration": 7,
    "start_time": "2022-01-14T08:08:33.469Z"
   },
   {
    "duration": 6,
    "start_time": "2022-01-14T08:08:34.087Z"
   },
   {
    "duration": 7,
    "start_time": "2022-01-14T08:08:34.931Z"
   },
   {
    "duration": 6,
    "start_time": "2022-01-14T08:08:35.297Z"
   },
   {
    "duration": 6,
    "start_time": "2022-01-14T08:08:36.475Z"
   },
   {
    "duration": 7,
    "start_time": "2022-01-14T08:08:36.874Z"
   },
   {
    "duration": 7,
    "start_time": "2022-01-14T08:08:37.271Z"
   },
   {
    "duration": 424,
    "start_time": "2022-01-14T08:08:38.716Z"
   },
   {
    "duration": 411,
    "start_time": "2022-01-14T08:08:41.010Z"
   },
   {
    "duration": 7,
    "start_time": "2022-01-14T08:08:42.658Z"
   },
   {
    "duration": 7,
    "start_time": "2022-01-14T08:08:44.534Z"
   },
   {
    "duration": 6,
    "start_time": "2022-01-14T08:08:46.548Z"
   },
   {
    "duration": 7,
    "start_time": "2022-01-14T08:08:47.006Z"
   },
   {
    "duration": 7,
    "start_time": "2022-01-14T08:08:47.316Z"
   },
   {
    "duration": 7,
    "start_time": "2022-01-14T08:08:47.649Z"
   },
   {
    "duration": 6,
    "start_time": "2022-01-14T08:08:48.973Z"
   },
   {
    "duration": 7,
    "start_time": "2022-01-14T08:08:49.267Z"
   },
   {
    "duration": 445,
    "start_time": "2022-01-14T08:08:49.562Z"
   },
   {
    "duration": 414,
    "start_time": "2022-01-14T08:08:50.558Z"
   },
   {
    "duration": 6,
    "start_time": "2022-01-14T08:08:52.138Z"
   },
   {
    "duration": 6,
    "start_time": "2022-01-14T08:08:52.906Z"
   },
   {
    "duration": 7,
    "start_time": "2022-01-14T08:08:56.239Z"
   },
   {
    "duration": 8,
    "start_time": "2022-01-14T08:08:56.918Z"
   },
   {
    "duration": 6,
    "start_time": "2022-01-14T08:08:58.171Z"
   },
   {
    "duration": 7,
    "start_time": "2022-01-14T08:09:00.253Z"
   },
   {
    "duration": 6,
    "start_time": "2022-01-14T08:09:01.100Z"
   },
   {
    "duration": 7,
    "start_time": "2022-01-14T08:09:02.090Z"
   },
   {
    "duration": 8,
    "start_time": "2022-01-14T08:09:03.675Z"
   },
   {
    "duration": 378,
    "start_time": "2022-01-14T08:09:09.387Z"
   },
   {
    "duration": 474,
    "start_time": "2022-01-14T08:09:11.573Z"
   },
   {
    "duration": 6,
    "start_time": "2022-01-14T08:09:14.083Z"
   },
   {
    "duration": 8,
    "start_time": "2022-01-14T08:09:15.495Z"
   },
   {
    "duration": 16,
    "start_time": "2022-01-14T08:09:21.549Z"
   },
   {
    "duration": 14,
    "start_time": "2022-01-14T08:09:25.376Z"
   },
   {
    "duration": 9,
    "start_time": "2022-01-14T08:09:28.086Z"
   },
   {
    "duration": 19,
    "start_time": "2022-01-14T08:09:29.822Z"
   },
   {
    "duration": 7,
    "start_time": "2022-01-14T08:09:33.659Z"
   },
   {
    "duration": 8,
    "start_time": "2022-01-14T08:09:35.473Z"
   },
   {
    "duration": 7,
    "start_time": "2022-01-14T08:09:37.191Z"
   },
   {
    "duration": 8,
    "start_time": "2022-01-14T08:18:32.413Z"
   },
   {
    "duration": 7,
    "start_time": "2022-01-14T08:20:41.104Z"
   },
   {
    "duration": 6,
    "start_time": "2022-01-14T08:20:46.327Z"
   },
   {
    "duration": 8,
    "start_time": "2022-01-14T08:21:55.224Z"
   },
   {
    "duration": 7,
    "start_time": "2022-01-14T08:22:32.769Z"
   },
   {
    "duration": 7,
    "start_time": "2022-01-14T08:23:26.751Z"
   },
   {
    "duration": 8,
    "start_time": "2022-01-14T08:23:46.225Z"
   },
   {
    "duration": 7,
    "start_time": "2022-01-14T08:23:53.531Z"
   },
   {
    "duration": 6,
    "start_time": "2022-01-14T08:24:00.623Z"
   },
   {
    "duration": 6,
    "start_time": "2022-01-14T08:24:05.396Z"
   },
   {
    "duration": 7,
    "start_time": "2022-01-14T08:24:11.005Z"
   },
   {
    "duration": 6,
    "start_time": "2022-01-14T08:24:16.513Z"
   },
   {
    "duration": 7,
    "start_time": "2022-01-14T08:24:25.072Z"
   },
   {
    "duration": 7,
    "start_time": "2022-01-14T08:24:30.836Z"
   },
   {
    "duration": 7,
    "start_time": "2022-01-14T08:24:38.400Z"
   },
   {
    "duration": 7,
    "start_time": "2022-01-14T08:24:43.392Z"
   },
   {
    "duration": 6,
    "start_time": "2022-01-14T08:24:56.084Z"
   },
   {
    "duration": 7,
    "start_time": "2022-01-14T08:26:38.630Z"
   },
   {
    "duration": 7,
    "start_time": "2022-01-14T08:30:23.345Z"
   },
   {
    "duration": 10,
    "start_time": "2022-01-14T08:30:52.547Z"
   },
   {
    "duration": 7,
    "start_time": "2022-01-14T08:31:27.595Z"
   },
   {
    "duration": 7,
    "start_time": "2022-01-14T08:31:35.741Z"
   },
   {
    "duration": 7,
    "start_time": "2022-01-14T08:31:44.553Z"
   },
   {
    "duration": 7,
    "start_time": "2022-01-14T08:31:51.366Z"
   },
   {
    "duration": 7,
    "start_time": "2022-01-14T08:31:58.407Z"
   },
   {
    "duration": 10,
    "start_time": "2022-01-14T08:32:04.961Z"
   },
   {
    "duration": 7,
    "start_time": "2022-01-14T08:32:09.743Z"
   },
   {
    "duration": 8,
    "start_time": "2022-01-14T08:35:26.465Z"
   },
   {
    "duration": 9,
    "start_time": "2022-01-14T08:36:42.665Z"
   },
   {
    "duration": 8,
    "start_time": "2022-01-14T08:36:55.298Z"
   },
   {
    "duration": 8,
    "start_time": "2022-01-14T08:37:01.810Z"
   },
   {
    "duration": 7,
    "start_time": "2022-01-14T08:37:05.639Z"
   },
   {
    "duration": 8,
    "start_time": "2022-01-14T08:39:02.608Z"
   },
   {
    "duration": 4,
    "start_time": "2022-01-14T08:45:14.362Z"
   },
   {
    "duration": 2129,
    "start_time": "2022-01-14T08:45:19.558Z"
   },
   {
    "duration": 12,
    "start_time": "2022-01-14T08:45:23.154Z"
   },
   {
    "duration": 12,
    "start_time": "2022-01-14T08:45:50.207Z"
   },
   {
    "duration": 97,
    "start_time": "2022-01-14T08:46:18.726Z"
   },
   {
    "duration": 12,
    "start_time": "2022-01-14T08:46:19.383Z"
   },
   {
    "duration": 10,
    "start_time": "2022-01-14T08:46:26.454Z"
   },
   {
    "duration": 7,
    "start_time": "2022-01-14T08:46:27.766Z"
   },
   {
    "duration": 7,
    "start_time": "2022-01-14T08:46:34.763Z"
   },
   {
    "duration": 8,
    "start_time": "2022-01-14T08:48:54.468Z"
   },
   {
    "duration": 7,
    "start_time": "2022-01-14T08:49:02.762Z"
   },
   {
    "duration": 7,
    "start_time": "2022-01-14T08:49:07.282Z"
   },
   {
    "duration": 1472,
    "start_time": "2022-01-14T09:07:01.579Z"
   },
   {
    "duration": 635,
    "start_time": "2022-01-14T09:07:03.054Z"
   },
   {
    "duration": 16,
    "start_time": "2022-01-14T09:07:03.692Z"
   },
   {
    "duration": 21,
    "start_time": "2022-01-14T09:07:03.710Z"
   },
   {
    "duration": 11,
    "start_time": "2022-01-14T09:07:03.734Z"
   },
   {
    "duration": 30,
    "start_time": "2022-01-14T09:07:03.747Z"
   },
   {
    "duration": 11,
    "start_time": "2022-01-14T09:07:03.779Z"
   },
   {
    "duration": 18,
    "start_time": "2022-01-14T09:07:03.794Z"
   },
   {
    "duration": 13,
    "start_time": "2022-01-14T09:07:03.815Z"
   },
   {
    "duration": 45,
    "start_time": "2022-01-14T09:07:03.830Z"
   },
   {
    "duration": 19,
    "start_time": "2022-01-14T09:07:03.877Z"
   },
   {
    "duration": 10,
    "start_time": "2022-01-14T09:07:03.899Z"
   },
   {
    "duration": 111,
    "start_time": "2022-01-14T09:07:03.912Z"
   },
   {
    "duration": 6,
    "start_time": "2022-01-14T09:07:04.026Z"
   },
   {
    "duration": 53,
    "start_time": "2022-01-14T09:07:04.035Z"
   },
   {
    "duration": 14,
    "start_time": "2022-01-14T09:07:04.091Z"
   },
   {
    "duration": 10,
    "start_time": "2022-01-14T09:07:04.107Z"
   },
   {
    "duration": 15,
    "start_time": "2022-01-14T09:07:04.120Z"
   },
   {
    "duration": 8,
    "start_time": "2022-01-14T09:07:04.167Z"
   },
   {
    "duration": 24,
    "start_time": "2022-01-14T09:07:04.179Z"
   },
   {
    "duration": 8,
    "start_time": "2022-01-14T09:07:04.206Z"
   },
   {
    "duration": 190,
    "start_time": "2022-01-14T09:07:04.217Z"
   },
   {
    "duration": 24,
    "start_time": "2022-01-14T09:07:04.413Z"
   },
   {
    "duration": 41,
    "start_time": "2022-01-14T09:07:04.441Z"
   },
   {
    "duration": 4,
    "start_time": "2022-01-14T09:07:04.485Z"
   },
   {
    "duration": 15,
    "start_time": "2022-01-14T09:07:04.491Z"
   },
   {
    "duration": 19,
    "start_time": "2022-01-14T09:07:04.508Z"
   },
   {
    "duration": 6,
    "start_time": "2022-01-14T09:07:04.530Z"
   },
   {
    "duration": 32,
    "start_time": "2022-01-14T09:07:04.538Z"
   },
   {
    "duration": 6,
    "start_time": "2022-01-14T09:07:04.573Z"
   },
   {
    "duration": 39,
    "start_time": "2022-01-14T09:07:04.581Z"
   },
   {
    "duration": 7,
    "start_time": "2022-01-14T09:07:04.622Z"
   },
   {
    "duration": 56,
    "start_time": "2022-01-14T09:07:04.631Z"
   },
   {
    "duration": 12,
    "start_time": "2022-01-14T09:07:04.689Z"
   },
   {
    "duration": 93,
    "start_time": "2022-01-14T09:07:04.703Z"
   },
   {
    "duration": 6,
    "start_time": "2022-01-14T09:07:04.799Z"
   },
   {
    "duration": 8,
    "start_time": "2022-01-14T09:07:04.808Z"
   },
   {
    "duration": 8,
    "start_time": "2022-01-14T09:07:04.819Z"
   },
   {
    "duration": 41,
    "start_time": "2022-01-14T09:07:04.830Z"
   },
   {
    "duration": 8,
    "start_time": "2022-01-14T09:07:04.875Z"
   },
   {
    "duration": 7,
    "start_time": "2022-01-14T09:07:04.886Z"
   },
   {
    "duration": 8,
    "start_time": "2022-01-14T09:07:04.896Z"
   },
   {
    "duration": 61,
    "start_time": "2022-01-14T09:07:04.906Z"
   },
   {
    "duration": 5,
    "start_time": "2022-01-14T09:07:04.970Z"
   },
   {
    "duration": 18,
    "start_time": "2022-01-14T09:07:04.978Z"
   },
   {
    "duration": 6,
    "start_time": "2022-01-14T09:07:04.999Z"
   },
   {
    "duration": 30,
    "start_time": "2022-01-14T09:07:05.007Z"
   },
   {
    "duration": 55,
    "start_time": "2022-01-14T09:07:05.039Z"
   },
   {
    "duration": 26,
    "start_time": "2022-01-14T09:07:05.096Z"
   },
   {
    "duration": 10,
    "start_time": "2022-01-14T09:07:05.125Z"
   },
   {
    "duration": 26,
    "start_time": "2022-01-14T09:07:05.168Z"
   },
   {
    "duration": 8,
    "start_time": "2022-01-14T09:07:05.196Z"
   },
   {
    "duration": 6,
    "start_time": "2022-01-14T09:07:05.207Z"
   },
   {
    "duration": 3862,
    "start_time": "2022-01-14T09:07:05.216Z"
   },
   {
    "duration": 14,
    "start_time": "2022-01-14T09:07:09.081Z"
   },
   {
    "duration": 15,
    "start_time": "2022-01-14T09:07:09.098Z"
   },
   {
    "duration": 16,
    "start_time": "2022-01-14T09:07:09.116Z"
   },
   {
    "duration": 16,
    "start_time": "2022-01-14T09:07:09.168Z"
   },
   {
    "duration": 11,
    "start_time": "2022-01-14T09:07:09.187Z"
   },
   {
    "duration": 4511,
    "start_time": "2022-01-14T09:07:09.201Z"
   },
   {
    "duration": 17,
    "start_time": "2022-01-14T09:07:13.715Z"
   },
   {
    "duration": 36,
    "start_time": "2022-01-14T09:07:13.735Z"
   },
   {
    "duration": 15,
    "start_time": "2022-01-14T09:07:13.774Z"
   },
   {
    "duration": 408,
    "start_time": "2022-01-14T09:07:13.792Z"
   },
   {
    "duration": 15,
    "start_time": "2022-01-14T09:07:14.202Z"
   },
   {
    "duration": 15,
    "start_time": "2022-01-14T09:07:14.220Z"
   },
   {
    "duration": 386,
    "start_time": "2022-01-14T09:07:14.268Z"
   },
   {
    "duration": 18,
    "start_time": "2022-01-14T09:07:14.667Z"
   },
   {
    "duration": 18,
    "start_time": "2022-01-14T09:07:14.689Z"
   },
   {
    "duration": 464,
    "start_time": "2022-01-14T09:07:14.709Z"
   },
   {
    "duration": 8,
    "start_time": "2022-01-14T09:07:15.176Z"
   },
   {
    "duration": 20,
    "start_time": "2022-01-14T09:07:15.188Z"
   },
   {
    "duration": 20,
    "start_time": "2022-01-14T09:07:15.211Z"
   },
   {
    "duration": 7,
    "start_time": "2022-01-14T09:07:15.233Z"
   },
   {
    "duration": 29,
    "start_time": "2022-01-14T09:07:15.242Z"
   },
   {
    "duration": 13,
    "start_time": "2022-01-14T09:07:15.274Z"
   },
   {
    "duration": 13,
    "start_time": "2022-01-14T09:07:15.290Z"
   },
   {
    "duration": 15,
    "start_time": "2022-01-14T09:07:15.305Z"
   },
   {
    "duration": 450,
    "start_time": "2022-01-14T09:07:15.322Z"
   },
   {
    "duration": 441,
    "start_time": "2022-01-14T09:07:15.774Z"
   },
   {
    "duration": 7,
    "start_time": "2022-01-14T09:07:16.217Z"
   },
   {
    "duration": 7,
    "start_time": "2022-01-14T09:07:16.226Z"
   },
   {
    "duration": 34,
    "start_time": "2022-01-14T09:07:16.235Z"
   },
   {
    "duration": 6,
    "start_time": "2022-01-14T09:07:16.272Z"
   },
   {
    "duration": 6,
    "start_time": "2022-01-14T09:07:16.281Z"
   },
   {
    "duration": 8,
    "start_time": "2022-01-14T09:07:16.289Z"
   },
   {
    "duration": 8,
    "start_time": "2022-01-14T09:07:16.299Z"
   },
   {
    "duration": 58,
    "start_time": "2022-01-14T09:07:16.309Z"
   },
   {
    "duration": 441,
    "start_time": "2022-01-14T09:07:16.369Z"
   },
   {
    "duration": 445,
    "start_time": "2022-01-14T09:07:16.812Z"
   },
   {
    "duration": 10,
    "start_time": "2022-01-14T09:07:17.260Z"
   },
   {
    "duration": 7,
    "start_time": "2022-01-14T09:07:17.273Z"
   },
   {
    "duration": 7,
    "start_time": "2022-01-14T09:07:17.283Z"
   },
   {
    "duration": 9,
    "start_time": "2022-01-14T09:07:17.293Z"
   },
   {
    "duration": 8,
    "start_time": "2022-01-14T09:07:17.304Z"
   },
   {
    "duration": 57,
    "start_time": "2022-01-14T09:07:17.315Z"
   },
   {
    "duration": 11,
    "start_time": "2022-01-14T09:07:17.375Z"
   },
   {
    "duration": 8,
    "start_time": "2022-01-14T09:07:17.389Z"
   },
   {
    "duration": 8,
    "start_time": "2022-01-14T09:07:17.400Z"
   },
   {
    "duration": 437,
    "start_time": "2022-01-14T09:07:17.411Z"
   },
   {
    "duration": 630,
    "start_time": "2022-01-14T09:07:17.850Z"
   },
   {
    "duration": 6,
    "start_time": "2022-01-14T09:07:18.482Z"
   },
   {
    "duration": 21,
    "start_time": "2022-01-14T09:07:18.491Z"
   },
   {
    "duration": 14,
    "start_time": "2022-01-14T09:07:18.515Z"
   },
   {
    "duration": 14,
    "start_time": "2022-01-14T09:07:18.532Z"
   },
   {
    "duration": 14,
    "start_time": "2022-01-14T09:07:18.548Z"
   },
   {
    "duration": 19,
    "start_time": "2022-01-14T09:07:18.565Z"
   },
   {
    "duration": 11,
    "start_time": "2022-01-14T09:07:18.587Z"
   },
   {
    "duration": 7,
    "start_time": "2022-01-14T09:07:18.601Z"
   },
   {
    "duration": 11,
    "start_time": "2022-01-14T09:07:18.610Z"
   },
   {
    "duration": 7,
    "start_time": "2022-01-14T09:07:18.624Z"
   },
   {
    "duration": 5,
    "start_time": "2022-01-14T09:07:18.634Z"
   },
   {
    "duration": 2659,
    "start_time": "2022-01-14T09:07:18.641Z"
   },
   {
    "duration": 11,
    "start_time": "2022-01-14T09:07:21.302Z"
   },
   {
    "duration": 9,
    "start_time": "2022-01-14T09:07:21.316Z"
   },
   {
    "duration": 1130,
    "start_time": "2022-01-14T19:03:26.080Z"
   },
   {
    "duration": 482,
    "start_time": "2022-01-14T19:03:27.215Z"
   },
   {
    "duration": 13,
    "start_time": "2022-01-14T19:03:27.699Z"
   },
   {
    "duration": 16,
    "start_time": "2022-01-14T19:03:27.715Z"
   },
   {
    "duration": 8,
    "start_time": "2022-01-14T19:03:27.733Z"
   },
   {
    "duration": 14,
    "start_time": "2022-01-14T19:03:27.743Z"
   },
   {
    "duration": 7,
    "start_time": "2022-01-14T19:03:27.758Z"
   },
   {
    "duration": 15,
    "start_time": "2022-01-14T19:03:27.767Z"
   },
   {
    "duration": 8,
    "start_time": "2022-01-14T19:03:27.784Z"
   },
   {
    "duration": 6,
    "start_time": "2022-01-14T19:03:27.793Z"
   },
   {
    "duration": 12,
    "start_time": "2022-01-14T19:03:27.801Z"
   },
   {
    "duration": 7,
    "start_time": "2022-01-14T19:03:27.815Z"
   },
   {
    "duration": 90,
    "start_time": "2022-01-14T19:03:27.824Z"
   },
   {
    "duration": 5,
    "start_time": "2022-01-14T19:03:27.916Z"
   },
   {
    "duration": 23,
    "start_time": "2022-01-14T19:03:27.922Z"
   },
   {
    "duration": 8,
    "start_time": "2022-01-14T19:03:27.961Z"
   },
   {
    "duration": 6,
    "start_time": "2022-01-14T19:03:27.971Z"
   },
   {
    "duration": 9,
    "start_time": "2022-01-14T19:03:27.978Z"
   },
   {
    "duration": 7,
    "start_time": "2022-01-14T19:03:27.989Z"
   },
   {
    "duration": 20,
    "start_time": "2022-01-14T19:03:27.997Z"
   },
   {
    "duration": 5,
    "start_time": "2022-01-14T19:03:28.019Z"
   },
   {
    "duration": 144,
    "start_time": "2022-01-14T19:03:28.025Z"
   },
   {
    "duration": 17,
    "start_time": "2022-01-14T19:03:28.171Z"
   },
   {
    "duration": 18,
    "start_time": "2022-01-14T19:03:28.190Z"
   },
   {
    "duration": 3,
    "start_time": "2022-01-14T19:03:28.209Z"
   },
   {
    "duration": 6,
    "start_time": "2022-01-14T19:03:28.216Z"
   },
   {
    "duration": 10,
    "start_time": "2022-01-14T19:03:28.224Z"
   },
   {
    "duration": 5,
    "start_time": "2022-01-14T19:03:28.261Z"
   },
   {
    "duration": 11,
    "start_time": "2022-01-14T19:03:28.267Z"
   },
   {
    "duration": 7,
    "start_time": "2022-01-14T19:03:28.280Z"
   },
   {
    "duration": 32,
    "start_time": "2022-01-14T19:03:28.289Z"
   },
   {
    "duration": 4,
    "start_time": "2022-01-14T19:03:28.323Z"
   },
   {
    "duration": 41,
    "start_time": "2022-01-14T19:03:28.329Z"
   },
   {
    "duration": 11,
    "start_time": "2022-01-14T19:03:28.372Z"
   },
   {
    "duration": 42,
    "start_time": "2022-01-14T19:03:28.385Z"
   },
   {
    "duration": 31,
    "start_time": "2022-01-14T19:03:28.430Z"
   },
   {
    "duration": 4,
    "start_time": "2022-01-14T19:03:28.463Z"
   },
   {
    "duration": 6,
    "start_time": "2022-01-14T19:03:28.469Z"
   },
   {
    "duration": 5,
    "start_time": "2022-01-14T19:03:28.477Z"
   },
   {
    "duration": 5,
    "start_time": "2022-01-14T19:03:28.484Z"
   },
   {
    "duration": 4,
    "start_time": "2022-01-14T19:03:28.490Z"
   },
   {
    "duration": 8,
    "start_time": "2022-01-14T19:03:28.496Z"
   },
   {
    "duration": 14,
    "start_time": "2022-01-14T19:03:28.505Z"
   },
   {
    "duration": 43,
    "start_time": "2022-01-14T19:03:28.520Z"
   },
   {
    "duration": 14,
    "start_time": "2022-01-14T19:03:28.565Z"
   },
   {
    "duration": 4,
    "start_time": "2022-01-14T19:03:28.581Z"
   },
   {
    "duration": 24,
    "start_time": "2022-01-14T19:03:28.587Z"
   },
   {
    "duration": 21,
    "start_time": "2022-01-14T19:03:28.613Z"
   },
   {
    "duration": 42,
    "start_time": "2022-01-14T19:03:28.636Z"
   },
   {
    "duration": 7,
    "start_time": "2022-01-14T19:03:28.679Z"
   },
   {
    "duration": 16,
    "start_time": "2022-01-14T19:03:28.688Z"
   },
   {
    "duration": 3,
    "start_time": "2022-01-14T19:03:28.706Z"
   },
   {
    "duration": 3,
    "start_time": "2022-01-14T19:03:28.711Z"
   },
   {
    "duration": 2168,
    "start_time": "2022-01-14T19:03:28.716Z"
   },
   {
    "duration": 8,
    "start_time": "2022-01-14T19:03:30.886Z"
   },
   {
    "duration": 22,
    "start_time": "2022-01-14T19:03:30.896Z"
   },
   {
    "duration": 18,
    "start_time": "2022-01-14T19:03:30.920Z"
   },
   {
    "duration": 15,
    "start_time": "2022-01-14T19:03:30.940Z"
   },
   {
    "duration": 16,
    "start_time": "2022-01-14T19:03:30.956Z"
   },
   {
    "duration": 2571,
    "start_time": "2022-01-14T19:03:30.974Z"
   },
   {
    "duration": 18,
    "start_time": "2022-01-14T19:03:33.547Z"
   },
   {
    "duration": 39,
    "start_time": "2022-01-14T19:03:33.567Z"
   },
   {
    "duration": 18,
    "start_time": "2022-01-14T19:03:33.608Z"
   },
   {
    "duration": 230,
    "start_time": "2022-01-14T19:03:33.628Z"
   },
   {
    "duration": 11,
    "start_time": "2022-01-14T19:03:33.860Z"
   },
   {
    "duration": 17,
    "start_time": "2022-01-14T19:03:33.873Z"
   },
   {
    "duration": 234,
    "start_time": "2022-01-14T19:03:33.891Z"
   },
   {
    "duration": 11,
    "start_time": "2022-01-14T19:03:34.127Z"
   },
   {
    "duration": 25,
    "start_time": "2022-01-14T19:03:34.140Z"
   },
   {
    "duration": 229,
    "start_time": "2022-01-14T19:03:34.167Z"
   },
   {
    "duration": 4,
    "start_time": "2022-01-14T19:03:34.398Z"
   },
   {
    "duration": 31,
    "start_time": "2022-01-14T19:03:34.404Z"
   },
   {
    "duration": 13,
    "start_time": "2022-01-14T19:03:34.437Z"
   },
   {
    "duration": 15,
    "start_time": "2022-01-14T19:03:34.452Z"
   },
   {
    "duration": 27,
    "start_time": "2022-01-14T19:03:34.469Z"
   },
   {
    "duration": 9,
    "start_time": "2022-01-14T19:03:34.498Z"
   },
   {
    "duration": 22,
    "start_time": "2022-01-14T19:03:34.509Z"
   },
   {
    "duration": 21,
    "start_time": "2022-01-14T19:03:34.533Z"
   },
   {
    "duration": 255,
    "start_time": "2022-01-14T19:03:34.556Z"
   },
   {
    "duration": 268,
    "start_time": "2022-01-14T19:03:34.819Z"
   },
   {
    "duration": 5,
    "start_time": "2022-01-14T19:03:35.089Z"
   },
   {
    "duration": 6,
    "start_time": "2022-01-14T19:03:35.096Z"
   },
   {
    "duration": 7,
    "start_time": "2022-01-14T19:03:35.104Z"
   },
   {
    "duration": 5,
    "start_time": "2022-01-14T19:03:35.113Z"
   },
   {
    "duration": 6,
    "start_time": "2022-01-14T19:03:35.120Z"
   },
   {
    "duration": 6,
    "start_time": "2022-01-14T19:03:35.127Z"
   },
   {
    "duration": 35,
    "start_time": "2022-01-14T19:03:35.135Z"
   },
   {
    "duration": 6,
    "start_time": "2022-01-14T19:03:35.171Z"
   },
   {
    "duration": 326,
    "start_time": "2022-01-14T19:03:35.178Z"
   },
   {
    "duration": 279,
    "start_time": "2022-01-14T19:03:35.506Z"
   },
   {
    "duration": 6,
    "start_time": "2022-01-14T19:03:35.787Z"
   },
   {
    "duration": 21,
    "start_time": "2022-01-14T19:03:35.795Z"
   },
   {
    "duration": 13,
    "start_time": "2022-01-14T19:03:35.818Z"
   },
   {
    "duration": 9,
    "start_time": "2022-01-14T19:03:35.833Z"
   },
   {
    "duration": 15,
    "start_time": "2022-01-14T19:03:35.843Z"
   },
   {
    "duration": 8,
    "start_time": "2022-01-14T19:03:35.859Z"
   },
   {
    "duration": 10,
    "start_time": "2022-01-14T19:03:35.869Z"
   },
   {
    "duration": 7,
    "start_time": "2022-01-14T19:03:35.880Z"
   },
   {
    "duration": 11,
    "start_time": "2022-01-14T19:03:35.888Z"
   },
   {
    "duration": 236,
    "start_time": "2022-01-14T19:03:35.901Z"
   },
   {
    "duration": 306,
    "start_time": "2022-01-14T19:03:36.139Z"
   },
   {
    "duration": 4,
    "start_time": "2022-01-14T19:03:36.447Z"
   },
   {
    "duration": 4,
    "start_time": "2022-01-14T19:03:36.460Z"
   },
   {
    "duration": 11,
    "start_time": "2022-01-14T19:03:36.466Z"
   },
   {
    "duration": 11,
    "start_time": "2022-01-14T19:03:36.479Z"
   },
   {
    "duration": 5,
    "start_time": "2022-01-14T19:03:36.492Z"
   },
   {
    "duration": 5,
    "start_time": "2022-01-14T19:03:36.499Z"
   },
   {
    "duration": 7,
    "start_time": "2022-01-14T19:03:36.505Z"
   },
   {
    "duration": 7,
    "start_time": "2022-01-14T19:03:36.513Z"
   },
   {
    "duration": 41,
    "start_time": "2022-01-14T19:03:36.521Z"
   },
   {
    "duration": 6,
    "start_time": "2022-01-14T19:03:36.563Z"
   },
   {
    "duration": 5,
    "start_time": "2022-01-14T19:03:36.570Z"
   },
   {
    "duration": 1233,
    "start_time": "2022-01-14T19:03:36.577Z"
   },
   {
    "duration": 7,
    "start_time": "2022-01-14T19:03:37.812Z"
   },
   {
    "duration": 6,
    "start_time": "2022-01-14T19:03:37.820Z"
   }
  ],
  "kernelspec": {
   "display_name": "Python 3 (ipykernel)",
   "language": "python",
   "name": "python3"
  },
  "language_info": {
   "codemirror_mode": {
    "name": "ipython",
    "version": 3
   },
   "file_extension": ".py",
   "mimetype": "text/x-python",
   "name": "python",
   "nbconvert_exporter": "python",
   "pygments_lexer": "ipython3",
   "version": "3.9.7"
  },
  "toc": {
   "base_numbering": 1,
   "nav_menu": {},
   "number_sections": true,
   "sideBar": true,
   "skip_h1_title": true,
   "title_cell": "Table of Contents",
   "title_sidebar": "Contents",
   "toc_cell": false,
   "toc_position": {},
   "toc_section_display": true,
   "toc_window_display": false
  }
 },
 "nbformat": 4,
 "nbformat_minor": 2
}
