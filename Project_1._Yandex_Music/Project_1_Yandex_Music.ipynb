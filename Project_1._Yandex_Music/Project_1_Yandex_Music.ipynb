{
 "cells": [
  {
   "cell_type": "markdown",
   "metadata": {
    "id": "E0vqbgi9ay0H"
   },
   "source": [
    "# Яндекс.Музыка. Изучение поведения пользователей из городов Москва, Петербург."
   ]
  },
  {
   "cell_type": "markdown",
   "metadata": {
    "id": "VUC88oWjTJw2"
   },
   "source": [
    "Сравнение Москвы и Петербурга окружено мифами. Например:\n",
    " * Москва — мегаполис, подчинённый жёсткому ритму рабочей недели;\n",
    " * Петербург — культурная столица, со своими вкусами.\n",
    "\n",
    "На данных Яндекс.Музыки вы сравните поведение пользователей двух столиц.\n",
    "\n",
    "**Цель исследования** — проверьте три гипотезы:\n",
    "1. Активность пользователей зависит от дня недели. Причём в Москве и Петербурге это проявляется по-разному.\n",
    "2. В понедельник утром в Москве преобладают одни жанры, а в Петербурге — другие. Так же и вечером пятницы преобладают разные жанры — в зависимости от города. \n",
    "3. Москва и Петербург предпочитают разные жанры музыки. В Москве чаще слушают поп-музыку, в Петербурге — русский рэп.\n",
    "\n",
    "**Ход исследования**\n",
    "\n",
    "О качестве данных ничего не известно. Поэтому перед проверкой гипотез понадобится обзор данных. \n",
    "\n",
    "Вы проверите данные на ошибки и оцените их влияние на исследование. Затем, на этапе предобработки вы поищете возможность исправить самые критичные ошибки данных.\n",
    " \n",
    "Таким образом, исследование пройдёт в три этапа:\n",
    " 1. Обзор данных.\n",
    " 2. Предобработка данных.\n",
    " 3. Проверка гипотез.\n",
    "\n"
   ]
  },
  {
   "cell_type": "markdown",
   "metadata": {
    "id": "Ml1hmfXC_Zcs"
   },
   "source": [
    "## Обзор данных\n",
    "\n",
    "Составьте первое представление о данных Яндекс.Музыки.\n",
    "\n",
    "\n"
   ]
  },
  {
   "cell_type": "markdown",
   "metadata": {
    "id": "57eAOGIz_Zcs"
   },
   "source": [
    "Основной инструмент аналитика — `pandas`. Импортируйте эту библиотеку."
   ]
  },
  {
   "cell_type": "code",
   "execution_count": 1,
   "metadata": {
    "id": "AXN7PHPN_Zcs"
   },
   "outputs": [],
   "source": [
    "import pandas as pd"
   ]
  },
  {
   "cell_type": "markdown",
   "metadata": {
    "id": "SG23P8tt_Zcs"
   },
   "source": [
    "Прочитайте файл `yandex_music_project.csv` из папки `/datasets` и сохраните его в переменной `df`:"
   ]
  },
  {
   "cell_type": "code",
   "execution_count": 2,
   "metadata": {
    "id": "fFVu7vqh_Zct"
   },
   "outputs": [],
   "source": [
    "df = pd.read_csv('/datasets/yandex_music_project.csv')"
   ]
  },
  {
   "cell_type": "markdown",
   "metadata": {
    "id": "rDoOMd3uTqnZ"
   },
   "source": [
    "Выведите на экран первые десять строк таблицы:"
   ]
  },
  {
   "cell_type": "code",
   "execution_count": 3,
   "metadata": {
    "id": "oWTVX3gW_Zct"
   },
   "outputs": [
    {
     "data": {
      "text/html": [
       "<div>\n",
       "<style scoped>\n",
       "    .dataframe tbody tr th:only-of-type {\n",
       "        vertical-align: middle;\n",
       "    }\n",
       "\n",
       "    .dataframe tbody tr th {\n",
       "        vertical-align: top;\n",
       "    }\n",
       "\n",
       "    .dataframe thead th {\n",
       "        text-align: right;\n",
       "    }\n",
       "</style>\n",
       "<table border=\"1\" class=\"dataframe\">\n",
       "  <thead>\n",
       "    <tr style=\"text-align: right;\">\n",
       "      <th></th>\n",
       "      <th>userID</th>\n",
       "      <th>Track</th>\n",
       "      <th>artist</th>\n",
       "      <th>genre</th>\n",
       "      <th>City</th>\n",
       "      <th>time</th>\n",
       "      <th>Day</th>\n",
       "    </tr>\n",
       "  </thead>\n",
       "  <tbody>\n",
       "    <tr>\n",
       "      <td>0</td>\n",
       "      <td>FFB692EC</td>\n",
       "      <td>Kamigata To Boots</td>\n",
       "      <td>The Mass Missile</td>\n",
       "      <td>rock</td>\n",
       "      <td>Saint-Petersburg</td>\n",
       "      <td>20:28:33</td>\n",
       "      <td>Wednesday</td>\n",
       "    </tr>\n",
       "    <tr>\n",
       "      <td>1</td>\n",
       "      <td>55204538</td>\n",
       "      <td>Delayed Because of Accident</td>\n",
       "      <td>Andreas Rönnberg</td>\n",
       "      <td>rock</td>\n",
       "      <td>Moscow</td>\n",
       "      <td>14:07:09</td>\n",
       "      <td>Friday</td>\n",
       "    </tr>\n",
       "    <tr>\n",
       "      <td>2</td>\n",
       "      <td>20EC38</td>\n",
       "      <td>Funiculì funiculà</td>\n",
       "      <td>Mario Lanza</td>\n",
       "      <td>pop</td>\n",
       "      <td>Saint-Petersburg</td>\n",
       "      <td>20:58:07</td>\n",
       "      <td>Wednesday</td>\n",
       "    </tr>\n",
       "    <tr>\n",
       "      <td>3</td>\n",
       "      <td>A3DD03C9</td>\n",
       "      <td>Dragons in the Sunset</td>\n",
       "      <td>Fire + Ice</td>\n",
       "      <td>folk</td>\n",
       "      <td>Saint-Petersburg</td>\n",
       "      <td>08:37:09</td>\n",
       "      <td>Monday</td>\n",
       "    </tr>\n",
       "    <tr>\n",
       "      <td>4</td>\n",
       "      <td>E2DC1FAE</td>\n",
       "      <td>Soul People</td>\n",
       "      <td>Space Echo</td>\n",
       "      <td>dance</td>\n",
       "      <td>Moscow</td>\n",
       "      <td>08:34:34</td>\n",
       "      <td>Monday</td>\n",
       "    </tr>\n",
       "    <tr>\n",
       "      <td>5</td>\n",
       "      <td>842029A1</td>\n",
       "      <td>Преданная</td>\n",
       "      <td>IMPERVTOR</td>\n",
       "      <td>rusrap</td>\n",
       "      <td>Saint-Petersburg</td>\n",
       "      <td>13:09:41</td>\n",
       "      <td>Friday</td>\n",
       "    </tr>\n",
       "    <tr>\n",
       "      <td>6</td>\n",
       "      <td>4CB90AA5</td>\n",
       "      <td>True</td>\n",
       "      <td>Roman Messer</td>\n",
       "      <td>dance</td>\n",
       "      <td>Moscow</td>\n",
       "      <td>13:00:07</td>\n",
       "      <td>Wednesday</td>\n",
       "    </tr>\n",
       "    <tr>\n",
       "      <td>7</td>\n",
       "      <td>F03E1C1F</td>\n",
       "      <td>Feeling This Way</td>\n",
       "      <td>Polina Griffith</td>\n",
       "      <td>dance</td>\n",
       "      <td>Moscow</td>\n",
       "      <td>20:47:49</td>\n",
       "      <td>Wednesday</td>\n",
       "    </tr>\n",
       "    <tr>\n",
       "      <td>8</td>\n",
       "      <td>8FA1D3BE</td>\n",
       "      <td>И вновь продолжается бой</td>\n",
       "      <td>NaN</td>\n",
       "      <td>ruspop</td>\n",
       "      <td>Moscow</td>\n",
       "      <td>09:17:40</td>\n",
       "      <td>Friday</td>\n",
       "    </tr>\n",
       "    <tr>\n",
       "      <td>9</td>\n",
       "      <td>E772D5C0</td>\n",
       "      <td>Pessimist</td>\n",
       "      <td>NaN</td>\n",
       "      <td>dance</td>\n",
       "      <td>Saint-Petersburg</td>\n",
       "      <td>21:20:49</td>\n",
       "      <td>Wednesday</td>\n",
       "    </tr>\n",
       "  </tbody>\n",
       "</table>\n",
       "</div>"
      ],
      "text/plain": [
       "     userID                        Track            artist   genre  \\\n",
       "0  FFB692EC            Kamigata To Boots  The Mass Missile    rock   \n",
       "1  55204538  Delayed Because of Accident  Andreas Rönnberg    rock   \n",
       "2    20EC38            Funiculì funiculà       Mario Lanza     pop   \n",
       "3  A3DD03C9        Dragons in the Sunset        Fire + Ice    folk   \n",
       "4  E2DC1FAE                  Soul People        Space Echo   dance   \n",
       "5  842029A1                    Преданная         IMPERVTOR  rusrap   \n",
       "6  4CB90AA5                         True      Roman Messer   dance   \n",
       "7  F03E1C1F             Feeling This Way   Polina Griffith   dance   \n",
       "8  8FA1D3BE     И вновь продолжается бой               NaN  ruspop   \n",
       "9  E772D5C0                    Pessimist               NaN   dance   \n",
       "\n",
       "             City        time        Day  \n",
       "0  Saint-Petersburg  20:28:33  Wednesday  \n",
       "1            Moscow  14:07:09     Friday  \n",
       "2  Saint-Petersburg  20:58:07  Wednesday  \n",
       "3  Saint-Petersburg  08:37:09     Monday  \n",
       "4            Moscow  08:34:34     Monday  \n",
       "5  Saint-Petersburg  13:09:41     Friday  \n",
       "6            Moscow  13:00:07  Wednesday  \n",
       "7            Moscow  20:47:49  Wednesday  \n",
       "8            Moscow  09:17:40     Friday  \n",
       "9  Saint-Petersburg  21:20:49  Wednesday  "
      ]
     },
     "execution_count": 3,
     "metadata": {},
     "output_type": "execute_result"
    }
   ],
   "source": [
    "df.head(10)"
   ]
  },
  {
   "cell_type": "markdown",
   "metadata": {
    "id": "EO73Kwic_Zct"
   },
   "source": [
    "Одной командой получить общую информацию о таблице:"
   ]
  },
  {
   "cell_type": "code",
   "execution_count": 4,
   "metadata": {
    "id": "DSf2kIb-_Zct"
   },
   "outputs": [
    {
     "name": "stdout",
     "output_type": "stream",
     "text": [
      "<class 'pandas.core.frame.DataFrame'>\n",
      "RangeIndex: 65079 entries, 0 to 65078\n",
      "Data columns (total 7 columns):\n",
      "  userID    65079 non-null object\n",
      "Track       63848 non-null object\n",
      "artist      57876 non-null object\n",
      "genre       63881 non-null object\n",
      "  City      65079 non-null object\n",
      "time        65079 non-null object\n",
      "Day         65079 non-null object\n",
      "dtypes: object(7)\n",
      "memory usage: 3.5+ MB\n"
     ]
    }
   ],
   "source": [
    "df.info()"
   ]
  },
  {
   "cell_type": "markdown",
   "metadata": {
    "id": "TaQ2Iwbr_Zct"
   },
   "source": [
    "Итак, в таблице семь столбцов. Тип данных во всех столбцах — `object`.\n",
    "\n",
    "Согласно документации к данным:\n",
    "* `userID` — идентификатор пользователя;\n",
    "* `Track` — название трека;  \n",
    "* `artist` — имя исполнителя;\n",
    "* `genre` — название жанра;\n",
    "* `City` — город пользователя;\n",
    "* `time` — время начала прослушивания;\n",
    "* `Day` — день недели.\n",
    "\n",
    "В названиях колонок видны три нарушения стиля:\n",
    "1. Строчные буквы сочетаются с прописными.\n",
    "2. Встречаются пробелы.\n",
    "3. Не используется змеиный_регистр.\n",
    "\n",
    "\n",
    "\n",
    "Количество значений в столбцах различается. Значит, в данных есть пропущенные значения.\n"
   ]
  },
  {
   "cell_type": "markdown",
   "metadata": {
    "id": "MCB6-dXG_Zct"
   },
   "source": [
    "**Выводы**\n",
    "\n",
    "В каждой строке таблицы — данные о прослушанном треке. Часть колонок описывает саму композицию: название, исполнителя и жанр. Остальные данные рассказывают о пользователе: из какого он города, когда он слушал музыку. \n",
    "\n",
    "Предварительно можно утверждать, что, данных достаточно для проверки гипотез. Но встречаются пропуски в данных, а в названиях колонок — расхождения с хорошим стилем.\n",
    "\n",
    "Чтобы двигаться дальше, нужно устранить проблемы в данных."
   ]
  },
  {
   "cell_type": "markdown",
   "metadata": {
    "id": "SjYF6Ub9_Zct"
   },
   "source": [
    "## Предобработка данных\n",
    "Исправьте стиль в заголовках столбцов, исключите пропуски. Затем проверьте данные на дубликаты."
   ]
  },
  {
   "cell_type": "markdown",
   "metadata": {
    "id": "dIaKXr29_Zct"
   },
   "source": [
    "### Стиль заголовков\n",
    "Выведите на экран названия столбцов:"
   ]
  },
  {
   "cell_type": "code",
   "execution_count": 5,
   "metadata": {
    "id": "oKOTdF_Q_Zct"
   },
   "outputs": [
    {
     "data": {
      "text/plain": [
       "Index(['  userID', 'Track', 'artist', 'genre', '  City  ', 'time', 'Day'], dtype='object')"
      ]
     },
     "execution_count": 5,
     "metadata": {},
     "output_type": "execute_result"
    }
   ],
   "source": [
    "df.columns"
   ]
  },
  {
   "cell_type": "markdown",
   "metadata": {
    "id": "zj5534cv_Zct"
   },
   "source": [
    "Приведите названия в соответствие с хорошим стилем:\n",
    "* несколько слов в названии запишите в «змеином_регистре»,\n",
    "* все символы сделайте строчными,\n",
    "* устраните пробелы.\n",
    "\n",
    "Для этого переименуйте колонки так:\n",
    "* `'  userID'` → `'user_id'`;\n",
    "* `'Track'` → `'track'`;\n",
    "* `'  City  '` → `'city'`;\n",
    "* `'Day'` → `'day'`."
   ]
  },
  {
   "cell_type": "code",
   "execution_count": 6,
   "metadata": {
    "id": "ISlFqs5y_Zct"
   },
   "outputs": [],
   "source": [
    "df = df.rename(columns={\n",
    "    '  userID': 'user_id',\n",
    "    'Track': 'track',\n",
    "    '  City  ': 'city',\n",
    "    'Day': 'day'\n",
    "})"
   ]
  },
  {
   "cell_type": "markdown",
   "metadata": {
    "id": "1dqbh00J_Zct"
   },
   "source": [
    "Проверьте результат. Для этого ещё раз выведите на экран названия столбцов:"
   ]
  },
  {
   "cell_type": "code",
   "execution_count": 7,
   "metadata": {
    "id": "d4NOAmTW_Zct"
   },
   "outputs": [
    {
     "data": {
      "text/plain": [
       "Index(['user_id', 'track', 'artist', 'genre', 'city', 'time', 'day'], dtype='object')"
      ]
     },
     "execution_count": 7,
     "metadata": {},
     "output_type": "execute_result"
    }
   ],
   "source": [
    "df.columns"
   ]
  },
  {
   "cell_type": "markdown",
   "metadata": {
    "id": "5ISfbcfY_Zct"
   },
   "source": [
    "### Пропуски значений\n",
    "Сначала посчитайте, сколько в таблице пропущенных значений. Для этого достаточно двух методов `pandas`:"
   ]
  },
  {
   "cell_type": "code",
   "execution_count": 8,
   "metadata": {
    "id": "RskX29qr_Zct"
   },
   "outputs": [
    {
     "data": {
      "text/plain": [
       "user_id       0\n",
       "track      1231\n",
       "artist     7203\n",
       "genre      1198\n",
       "city          0\n",
       "time          0\n",
       "day           0\n",
       "dtype: int64"
      ]
     },
     "execution_count": 8,
     "metadata": {},
     "output_type": "execute_result"
    }
   ],
   "source": [
    "df.isna().sum()"
   ]
  },
  {
   "cell_type": "markdown",
   "metadata": {
    "id": "qubhgnlO_Zct"
   },
   "source": [
    "Не все пропущенные значения влияют на исследование. Так в `track` и `artist` пропуски не важны для вашей работы. Достаточно заменить их явными обозначениями.\n",
    "\n",
    "Но пропуски в `genre` могут помешать сравнению музыкальных вкусов в Москве и Санкт-Петербурге. На практике было бы правильно установить причину пропусков и восстановить данные. Такой возможности нет в учебном проекте. Придётся:\n",
    "* заполнить и эти пропуски явными обозначениями,\n",
    "* оценить, насколько они повредят расчётам. "
   ]
  },
  {
   "cell_type": "markdown",
   "metadata": {
    "id": "fSv2laPA_Zct"
   },
   "source": [
    "Замените пропущенные значения в столбцах `track`, `artist` и `genre` на строку `'unknown'`. Для этого создайте список `columns_to_replace`, переберите его элементы циклом `for` и для каждого столбца выполните замену пропущенных значений:"
   ]
  },
  {
   "cell_type": "code",
   "execution_count": 9,
   "metadata": {
    "id": "KplB5qWs_Zct"
   },
   "outputs": [],
   "source": [
    "columns_to_replace = ['track', 'artist', 'genre']\n",
    "\n",
    "for column in columns_to_replace:\n",
    "    df[column] = df[column].fillna('unknown')"
   ]
  },
  {
   "cell_type": "markdown",
   "metadata": {
    "id": "Ilsm-MZo_Zct"
   },
   "source": [
    "Убедитесь, что в таблице не осталось пропусков. Для этого ещё раз посчитайте пропущенные значения."
   ]
  },
  {
   "cell_type": "code",
   "execution_count": 10,
   "metadata": {
    "id": "Tq4nYRX4_Zct"
   },
   "outputs": [
    {
     "data": {
      "text/plain": [
       "user_id    0\n",
       "track      0\n",
       "artist     0\n",
       "genre      0\n",
       "city       0\n",
       "time       0\n",
       "day        0\n",
       "dtype: int64"
      ]
     },
     "execution_count": 10,
     "metadata": {},
     "output_type": "execute_result"
    }
   ],
   "source": [
    "df.isna().sum()"
   ]
  },
  {
   "cell_type": "markdown",
   "metadata": {
    "id": "BWKRtBJ3_Zct"
   },
   "source": [
    "### Дубликаты\n",
    "Посчитайте явные дубликаты в таблице одной командой:"
   ]
  },
  {
   "cell_type": "code",
   "execution_count": 11,
   "metadata": {
    "id": "36eES_S0_Zct"
   },
   "outputs": [
    {
     "data": {
      "text/plain": [
       "3826"
      ]
     },
     "execution_count": 11,
     "metadata": {},
     "output_type": "execute_result"
    }
   ],
   "source": [
    "df.duplicated().sum()"
   ]
  },
  {
   "cell_type": "markdown",
   "metadata": {
    "id": "Ot25h6XR_Zct"
   },
   "source": [
    "Вызовите специальный метод `pandas`, чтобы удалить явные дубликаты:"
   ]
  },
  {
   "cell_type": "code",
   "execution_count": 12,
   "metadata": {
    "id": "exFHq6tt_Zct"
   },
   "outputs": [],
   "source": [
    "df = df.drop_duplicates().reset_index(drop=True)"
   ]
  },
  {
   "cell_type": "markdown",
   "metadata": {
    "id": "Im2YwBEG_Zct"
   },
   "source": [
    "Ещё раз посчитайте явные дубликаты в таблице — убедитесь, что полностью от них избавились:"
   ]
  },
  {
   "cell_type": "code",
   "execution_count": 13,
   "metadata": {
    "id": "-8PuNWQ0_Zct"
   },
   "outputs": [
    {
     "data": {
      "text/plain": [
       "0"
      ]
     },
     "execution_count": 13,
     "metadata": {},
     "output_type": "execute_result"
    }
   ],
   "source": [
    "df.duplicated().sum()"
   ]
  },
  {
   "cell_type": "markdown",
   "metadata": {
    "id": "QlFBsxAr_Zct"
   },
   "source": [
    "Теперь избавьтесь от неявных дубликатов в колонке `genre`. Например, название одного и того же жанра может быть записано немного по-разному. Такие ошибки тоже повлияют на результат исследования."
   ]
  },
  {
   "cell_type": "markdown",
   "metadata": {
    "id": "eSjWwsOh_Zct"
   },
   "source": [
    "Выведите на экран список уникальных названий жанров, отсортированный в алфавитном порядке. Для этого:\n",
    "* извлеките нужный столбец датафрейма, \n",
    "* примените к нему метод сортировки,\n",
    "* для отсортированного столбца вызовите метод, который вернёт уникальные значения из столбца."
   ]
  },
  {
   "cell_type": "code",
   "execution_count": 14,
   "metadata": {
    "id": "JIUcqzZN_Zct"
   },
   "outputs": [
    {
     "data": {
      "text/plain": [
       "array(['acid', 'acoustic', 'action', 'adult', 'africa', 'afrikaans',\n",
       "       'alternative', 'alternativepunk', 'ambient', 'americana',\n",
       "       'animated', 'anime', 'arabesk', 'arabic', 'arena',\n",
       "       'argentinetango', 'art', 'audiobook', 'author', 'avantgarde',\n",
       "       'axé', 'baile', 'balkan', 'beats', 'bigroom', 'black', 'bluegrass',\n",
       "       'blues', 'bollywood', 'bossa', 'brazilian', 'breakbeat', 'breaks',\n",
       "       'broadway', 'cantautori', 'cantopop', 'canzone', 'caribbean',\n",
       "       'caucasian', 'celtic', 'chamber', 'chanson', 'children', 'chill',\n",
       "       'chinese', 'choral', 'christian', 'christmas', 'classical',\n",
       "       'classicmetal', 'club', 'colombian', 'comedy', 'conjazz',\n",
       "       'contemporary', 'country', 'cuban', 'dance', 'dancehall',\n",
       "       'dancepop', 'dark', 'death', 'deep', 'deutschrock', 'deutschspr',\n",
       "       'dirty', 'disco', 'dnb', 'documentary', 'downbeat', 'downtempo',\n",
       "       'drum', 'dub', 'dubstep', 'eastern', 'easy', 'electronic',\n",
       "       'electropop', 'emo', 'entehno', 'epicmetal', 'estrada', 'ethnic',\n",
       "       'eurofolk', 'european', 'experimental', 'extrememetal', 'fado',\n",
       "       'fairytail', 'film', 'fitness', 'flamenco', 'folk', 'folklore',\n",
       "       'folkmetal', 'folkrock', 'folktronica', 'forró', 'frankreich',\n",
       "       'französisch', 'french', 'funk', 'future', 'gangsta', 'garage',\n",
       "       'german', 'ghazal', 'gitarre', 'glitch', 'gospel', 'gothic',\n",
       "       'grime', 'grunge', 'gypsy', 'handsup', \"hard'n'heavy\", 'hardcore',\n",
       "       'hardstyle', 'hardtechno', 'hip', 'hip-hop', 'hiphop',\n",
       "       'historisch', 'holiday', 'hop', 'horror', 'house', 'hymn', 'idm',\n",
       "       'independent', 'indian', 'indie', 'indipop', 'industrial',\n",
       "       'inspirational', 'instrumental', 'international', 'irish', 'jam',\n",
       "       'japanese', 'jazz', 'jewish', 'jpop', 'jungle', 'k-pop',\n",
       "       'karadeniz', 'karaoke', 'kayokyoku', 'korean', 'laiko', 'latin',\n",
       "       'latino', 'leftfield', 'local', 'lounge', 'loungeelectronic',\n",
       "       'lovers', 'malaysian', 'mandopop', 'marschmusik', 'meditative',\n",
       "       'mediterranean', 'melodic', 'metal', 'metalcore', 'mexican',\n",
       "       'middle', 'minimal', 'miscellaneous', 'modern', 'mood', 'mpb',\n",
       "       'muslim', 'native', 'neoklassik', 'neue', 'new', 'newage',\n",
       "       'newwave', 'nu', 'nujazz', 'numetal', 'oceania', 'old', 'opera',\n",
       "       'orchestral', 'other', 'piano', 'podcasts', 'pop', 'popdance',\n",
       "       'popelectronic', 'popeurodance', 'poprussian', 'post',\n",
       "       'posthardcore', 'postrock', 'power', 'progmetal', 'progressive',\n",
       "       'psychedelic', 'punjabi', 'punk', 'quebecois', 'ragga', 'ram',\n",
       "       'rancheras', 'rap', 'rave', 'reggae', 'reggaeton', 'regional',\n",
       "       'relax', 'religious', 'retro', 'rhythm', 'rnb', 'rnr', 'rock',\n",
       "       'rockabilly', 'rockalternative', 'rockindie', 'rockother',\n",
       "       'romance', 'roots', 'ruspop', 'rusrap', 'rusrock', 'russian',\n",
       "       'salsa', 'samba', 'scenic', 'schlager', 'self', 'sertanejo',\n",
       "       'shanson', 'shoegazing', 'showtunes', 'singer', 'ska', 'skarock',\n",
       "       'slow', 'smooth', 'soft', 'soul', 'soulful', 'sound', 'soundtrack',\n",
       "       'southern', 'specialty', 'speech', 'spiritual', 'sport',\n",
       "       'stonerrock', 'surf', 'swing', 'synthpop', 'synthrock',\n",
       "       'sängerportrait', 'tango', 'tanzorchester', 'taraftar', 'tatar',\n",
       "       'tech', 'techno', 'teen', 'thrash', 'top', 'traditional',\n",
       "       'tradjazz', 'trance', 'tribal', 'trip', 'triphop', 'tropical',\n",
       "       'türk', 'türkçe', 'ukrrock', 'unknown', 'urban', 'uzbek',\n",
       "       'variété', 'vi', 'videogame', 'vocal', 'western', 'world',\n",
       "       'worldbeat', 'ïîï', 'электроника'], dtype=object)"
      ]
     },
     "execution_count": 14,
     "metadata": {},
     "output_type": "execute_result"
    }
   ],
   "source": [
    "df['genre'].sort_values().unique()"
   ]
  },
  {
   "cell_type": "markdown",
   "metadata": {
    "id": "qej-Qmuo_Zct"
   },
   "source": [
    "Просмотрите список и найдите неявные дубликаты названия `hiphop`. Это могут быть названия с ошибками или альтернативные названия того же жанра.\n",
    "\n",
    "Вы увидите следующие неявные дубликаты:\n",
    "* *hip*,\n",
    "* *hop*,\n",
    "* *hip-hop*.\n",
    "\n",
    "Чтобы очистить от них таблицу, напишите функцию `replace_wrong_genres()` с двумя параметрами: \n",
    "* `wrong_genres` — список дубликатов,\n",
    "* `correct_genre` — строка с правильным значением.\n",
    "\n",
    "Функция должна исправить колонку `genre` в таблице `df`: заменить каждое значение из списка `wrong_genres` на значение из `correct_genre`."
   ]
  },
  {
   "cell_type": "markdown",
   "metadata": {},
   "source": [
    "Так же в таблице неявные дубликаты - `электроника` и `electronic`"
   ]
  },
  {
   "cell_type": "code",
   "execution_count": 15,
   "metadata": {
    "id": "ErNDkmns_Zct"
   },
   "outputs": [],
   "source": [
    "wrong_genres = ['hip', 'hop', 'hip-hop']\n",
    "correct_genre = 'hiphop'\n",
    "\n",
    "def replace_wrong_genres(wrong_genres, correct_genre):\n",
    "    for style in wrong_genres:\n",
    "        df['genre'] = df['genre'].replace(style, correct_genre)"
   ]
  },
  {
   "cell_type": "markdown",
   "metadata": {
    "id": "aDoBJxbA_Zct"
   },
   "source": [
    "Вызовите `replace_wrong_genres()` и передайте ей такие аргументы, чтобы она устранила неявные дубликаты: вместо `hip`, `hop` и `hip-hop` в таблице должно быть значение `hiphop`:"
   ]
  },
  {
   "cell_type": "code",
   "execution_count": 16,
   "metadata": {
    "id": "YN5i2hpmSo09"
   },
   "outputs": [],
   "source": [
    "replace_wrong_genres(wrong_genres, correct_genre)"
   ]
  },
  {
   "cell_type": "markdown",
   "metadata": {
    "id": "zQKF16_RG15m"
   },
   "source": [
    "Проверьте, что заменили неправильные названия:\n",
    "\n",
    "*   hip\n",
    "*   hop\n",
    "*   hip-hop\n",
    "\n",
    "Выведите отсортированный список уникальных значений столбца `genre`:"
   ]
  },
  {
   "cell_type": "code",
   "execution_count": 17,
   "metadata": {
    "id": "wvixALnFG15m"
   },
   "outputs": [
    {
     "data": {
      "text/plain": [
       "array(['acid', 'acoustic', 'action', 'adult', 'africa', 'afrikaans',\n",
       "       'alternative', 'alternativepunk', 'ambient', 'americana',\n",
       "       'animated', 'anime', 'arabesk', 'arabic', 'arena',\n",
       "       'argentinetango', 'art', 'audiobook', 'author', 'avantgarde',\n",
       "       'axé', 'baile', 'balkan', 'beats', 'bigroom', 'black', 'bluegrass',\n",
       "       'blues', 'bollywood', 'bossa', 'brazilian', 'breakbeat', 'breaks',\n",
       "       'broadway', 'cantautori', 'cantopop', 'canzone', 'caribbean',\n",
       "       'caucasian', 'celtic', 'chamber', 'chanson', 'children', 'chill',\n",
       "       'chinese', 'choral', 'christian', 'christmas', 'classical',\n",
       "       'classicmetal', 'club', 'colombian', 'comedy', 'conjazz',\n",
       "       'contemporary', 'country', 'cuban', 'dance', 'dancehall',\n",
       "       'dancepop', 'dark', 'death', 'deep', 'deutschrock', 'deutschspr',\n",
       "       'dirty', 'disco', 'dnb', 'documentary', 'downbeat', 'downtempo',\n",
       "       'drum', 'dub', 'dubstep', 'eastern', 'easy', 'electronic',\n",
       "       'electropop', 'emo', 'entehno', 'epicmetal', 'estrada', 'ethnic',\n",
       "       'eurofolk', 'european', 'experimental', 'extrememetal', 'fado',\n",
       "       'fairytail', 'film', 'fitness', 'flamenco', 'folk', 'folklore',\n",
       "       'folkmetal', 'folkrock', 'folktronica', 'forró', 'frankreich',\n",
       "       'französisch', 'french', 'funk', 'future', 'gangsta', 'garage',\n",
       "       'german', 'ghazal', 'gitarre', 'glitch', 'gospel', 'gothic',\n",
       "       'grime', 'grunge', 'gypsy', 'handsup', \"hard'n'heavy\", 'hardcore',\n",
       "       'hardstyle', 'hardtechno', 'hiphop', 'historisch', 'holiday',\n",
       "       'horror', 'house', 'hymn', 'idm', 'independent', 'indian', 'indie',\n",
       "       'indipop', 'industrial', 'inspirational', 'instrumental',\n",
       "       'international', 'irish', 'jam', 'japanese', 'jazz', 'jewish',\n",
       "       'jpop', 'jungle', 'k-pop', 'karadeniz', 'karaoke', 'kayokyoku',\n",
       "       'korean', 'laiko', 'latin', 'latino', 'leftfield', 'local',\n",
       "       'lounge', 'loungeelectronic', 'lovers', 'malaysian', 'mandopop',\n",
       "       'marschmusik', 'meditative', 'mediterranean', 'melodic', 'metal',\n",
       "       'metalcore', 'mexican', 'middle', 'minimal', 'miscellaneous',\n",
       "       'modern', 'mood', 'mpb', 'muslim', 'native', 'neoklassik', 'neue',\n",
       "       'new', 'newage', 'newwave', 'nu', 'nujazz', 'numetal', 'oceania',\n",
       "       'old', 'opera', 'orchestral', 'other', 'piano', 'podcasts', 'pop',\n",
       "       'popdance', 'popelectronic', 'popeurodance', 'poprussian', 'post',\n",
       "       'posthardcore', 'postrock', 'power', 'progmetal', 'progressive',\n",
       "       'psychedelic', 'punjabi', 'punk', 'quebecois', 'ragga', 'ram',\n",
       "       'rancheras', 'rap', 'rave', 'reggae', 'reggaeton', 'regional',\n",
       "       'relax', 'religious', 'retro', 'rhythm', 'rnb', 'rnr', 'rock',\n",
       "       'rockabilly', 'rockalternative', 'rockindie', 'rockother',\n",
       "       'romance', 'roots', 'ruspop', 'rusrap', 'rusrock', 'russian',\n",
       "       'salsa', 'samba', 'scenic', 'schlager', 'self', 'sertanejo',\n",
       "       'shanson', 'shoegazing', 'showtunes', 'singer', 'ska', 'skarock',\n",
       "       'slow', 'smooth', 'soft', 'soul', 'soulful', 'sound', 'soundtrack',\n",
       "       'southern', 'specialty', 'speech', 'spiritual', 'sport',\n",
       "       'stonerrock', 'surf', 'swing', 'synthpop', 'synthrock',\n",
       "       'sängerportrait', 'tango', 'tanzorchester', 'taraftar', 'tatar',\n",
       "       'tech', 'techno', 'teen', 'thrash', 'top', 'traditional',\n",
       "       'tradjazz', 'trance', 'tribal', 'trip', 'triphop', 'tropical',\n",
       "       'türk', 'türkçe', 'ukrrock', 'unknown', 'urban', 'uzbek',\n",
       "       'variété', 'vi', 'videogame', 'vocal', 'western', 'world',\n",
       "       'worldbeat', 'ïîï', 'электроника'], dtype=object)"
      ]
     },
     "execution_count": 17,
     "metadata": {},
     "output_type": "execute_result"
    }
   ],
   "source": [
    "df['genre'].sort_values().unique()"
   ]
  },
  {
   "cell_type": "markdown",
   "metadata": {
    "id": "jz6a9-7HQUDd"
   },
   "source": [
    "**Выводы**\n",
    "\n",
    "Предобработка обнаружила три проблемы в данных:\n",
    "\n",
    "- нарушения в стиле заголовков,\n",
    "- пропущенные значения,\n",
    "- дубликаты — явные и неявные.\n",
    "\n",
    "Вы исправили заголовки, чтобы упростить работу с таблицей. Без дубликатов исследование станет более точным.\n",
    "\n",
    "Пропущенные значения вы заменили на `'unknown'`. Ещё предстоит увидеть, не повредят ли исследованию пропуски в колонке `genre`.\n",
    "\n",
    "Теперь можно перейти к проверке гипотез. "
   ]
  },
  {
   "cell_type": "markdown",
   "metadata": {
    "id": "WttZHXH0SqKk"
   },
   "source": [
    "## Проверка гипотез"
   ]
  },
  {
   "cell_type": "markdown",
   "metadata": {
    "id": "Im936VVi_Zcu"
   },
   "source": [
    "### Сравнение поведения пользователей двух столиц"
   ]
  },
  {
   "cell_type": "markdown",
   "metadata": {
    "id": "nwt_MuaL_Zcu"
   },
   "source": [
    "Первая гипотеза утверждает, что пользователи по-разному слушают музыку в Москве и Санкт-Петербурге. Проверьте это предположение по данным о трёх днях недели — понедельнике, среде и пятнице. Для этого:\n",
    "\n",
    "* Разделите пользователей Москвы и Санкт-Петербурга\n",
    "* Сравните, сколько треков послушала каждая группа пользователей в понедельник, среду и пятницу.\n"
   ]
  },
  {
   "cell_type": "markdown",
   "metadata": {
    "id": "8Dw_YMmT_Zcu"
   },
   "source": [
    "Для тренировки сначала выполните каждый из расчётов по отдельности. \n",
    "\n",
    "Оцените активность пользователей в каждом городе. Сгруппируйте данные по городу и посчитайте прослушивания в каждой группе.\n",
    "\n"
   ]
  },
  {
   "cell_type": "code",
   "execution_count": 18,
   "metadata": {},
   "outputs": [
    {
     "data": {
      "text/plain": [
       "array(['Saint-Petersburg', 'Moscow'], dtype=object)"
      ]
     },
     "execution_count": 18,
     "metadata": {},
     "output_type": "execute_result"
    }
   ],
   "source": [
    "# проверим значения в колонке city\n",
    "df['city'].unique()"
   ]
  },
  {
   "cell_type": "code",
   "execution_count": 19,
   "metadata": {},
   "outputs": [
    {
     "data": {
      "text/plain": [
       "city\n",
       "Moscow              42741\n",
       "Saint-Petersburg    18512\n",
       "Name: user_id, dtype: int64"
      ]
     },
     "execution_count": 19,
     "metadata": {},
     "output_type": "execute_result"
    }
   ],
   "source": [
    "# количество прослушанных треков в каждом городе\n",
    "df.groupby('city')['user_id'].count()"
   ]
  },
  {
   "cell_type": "markdown",
   "metadata": {
    "id": "dzli3w8o_Zcu"
   },
   "source": [
    "В Москве прослушиваний больше, чем в Петербурге. Из этого не следует, что московские пользователи чаще слушают музыку. Просто самих пользователей в Москве больше.\n",
    "\n",
    "Теперь сгруппируйте данные по дню недели и подсчитайте прослушивания в понедельник, среду и пятницу. Учтите, что в данных есть информация только о прослушиваниях только за эти дни.\n"
   ]
  },
  {
   "cell_type": "code",
   "execution_count": 20,
   "metadata": {
    "id": "uZMKjiJz_Zcu",
    "scrolled": true
   },
   "outputs": [
    {
     "data": {
      "text/plain": [
       "day\n",
       "Friday       21840\n",
       "Monday       21354\n",
       "Wednesday    18059\n",
       "Name: track, dtype: int64"
      ]
     },
     "metadata": {},
     "output_type": "display_data"
    }
   ],
   "source": [
    "display(df.groupby('day')['track'].count())"
   ]
  },
  {
   "cell_type": "markdown",
   "metadata": {
    "id": "cC2tNrlL_Zcu"
   },
   "source": [
    "В среднем пользователи из двух городов менее активны по средам. Но картина может измениться, если рассмотреть каждый город в отдельности."
   ]
  },
  {
   "cell_type": "markdown",
   "metadata": {
    "id": "POzs8bGa_Zcu"
   },
   "source": [
    "Вы видели, как работает группировка по городу и по дням недели. Теперь напишите функцию, которая объединит два эти расчёта.\n",
    "\n",
    "Создайте функцию `number_tracks()`, которая посчитает прослушивания для заданного дня и города. Ей понадобятся два параметра:\n",
    "* день недели,\n",
    "* название города.\n",
    "\n",
    "В функции сохраните в переменную строки исходной таблицы, у которых значение:\n",
    "  * в колонке `day` равно параметру `day`,\n",
    "  * в колонке `city` равно параметру `city`.\n",
    "\n",
    "Для этого примените последовательную фильтрацию с логической индексацией.\n",
    "\n",
    "Затем посчитайте значения в столбце `user_id` получившейся таблицы. Результат сохраните в новую переменную. Верните эту переменную из функции."
   ]
  },
  {
   "cell_type": "code",
   "execution_count": 21,
   "metadata": {
    "id": "Nz3GdQB1_Zcu"
   },
   "outputs": [],
   "source": [
    "# <создание функции number_tracks()>\n",
    "def number_tracks(day, city):\n",
    "    track_list = df[(df['day'] == day) & (df['city'] == city)]\n",
    "    track_list_count = track_list['user_id'].count()\n",
    "    return track_list_count"
   ]
  },
  {
   "cell_type": "markdown",
   "metadata": {
    "id": "ytf7xFrFJQ2r"
   },
   "source": [
    "Вызовите `number_tracks()` шесть раз, меняя значение параметров — так, чтобы получить данные для каждого города в каждый из трёх дней."
   ]
  },
  {
   "cell_type": "code",
   "execution_count": 22,
   "metadata": {},
   "outputs": [
    {
     "name": "stdout",
     "output_type": "stream",
     "text": [
      "Количество прослушиваний в Moscow по Monday 15740\n",
      "Количество прослушиваний в Moscow по Wednesday 11056\n",
      "Количество прослушиваний в Moscow по Friday 15945\n",
      "Количество прослушиваний в Saint-Petersburg по Monday 5614\n",
      "Количество прослушиваний в Saint-Petersburg по Wednesday 7003\n",
      "Количество прослушиваний в Saint-Petersburg по Friday 5895\n"
     ]
    }
   ],
   "source": [
    "day_of_the_week = ['Monday', 'Wednesday', 'Friday']\n",
    "cities = ['Moscow', 'Saint-Petersburg']\n",
    "for city in cities:\n",
    "    for day in day_of_the_week:\n",
    "        print(f'Количество прослушиваний в {city} по {day}', number_tracks(day, city))"
   ]
  },
  {
   "cell_type": "markdown",
   "metadata": {
    "id": "7QXffbO-_Zcu"
   },
   "source": [
    "Создайте c помощью конструктора `pd.DataFrame` таблицу, где\n",
    "* названия колонок — `['city', 'monday', 'wednesday', 'friday']`;\n",
    "* данные — результаты, которые вы получили с помощью `number_tracks`."
   ]
  },
  {
   "cell_type": "code",
   "execution_count": 23,
   "metadata": {
    "id": "APAcLpOr_Zcu"
   },
   "outputs": [
    {
     "data": {
      "text/html": [
       "<div>\n",
       "<style scoped>\n",
       "    .dataframe tbody tr th:only-of-type {\n",
       "        vertical-align: middle;\n",
       "    }\n",
       "\n",
       "    .dataframe tbody tr th {\n",
       "        vertical-align: top;\n",
       "    }\n",
       "\n",
       "    .dataframe thead th {\n",
       "        text-align: right;\n",
       "    }\n",
       "</style>\n",
       "<table border=\"1\" class=\"dataframe\">\n",
       "  <thead>\n",
       "    <tr style=\"text-align: right;\">\n",
       "      <th></th>\n",
       "      <th>city</th>\n",
       "      <th>monday</th>\n",
       "      <th>wednesday</th>\n",
       "      <th>friday</th>\n",
       "    </tr>\n",
       "  </thead>\n",
       "  <tbody>\n",
       "    <tr>\n",
       "      <td>0</td>\n",
       "      <td>Moscow</td>\n",
       "      <td>15740</td>\n",
       "      <td>11056</td>\n",
       "      <td>15945</td>\n",
       "    </tr>\n",
       "    <tr>\n",
       "      <td>1</td>\n",
       "      <td>Saint-Petersburg</td>\n",
       "      <td>5614</td>\n",
       "      <td>7003</td>\n",
       "      <td>5895</td>\n",
       "    </tr>\n",
       "  </tbody>\n",
       "</table>\n",
       "</div>"
      ],
      "text/plain": [
       "               city  monday  wednesday  friday\n",
       "0            Moscow   15740      11056   15945\n",
       "1  Saint-Petersburg    5614       7003    5895"
      ]
     },
     "execution_count": 23,
     "metadata": {},
     "output_type": "execute_result"
    }
   ],
   "source": [
    "columns_table = ['city', 'monday', 'wednesday', 'friday']\n",
    "values_table = [\n",
    "    ['Moscow', 15740, 11056, 15945],\n",
    "    ['Saint-Petersburg', 5614, 7003, 5895]\n",
    "]\n",
    "results_first_hypothesis = pd.DataFrame(data=values_table, columns=columns_table)\n",
    "results_first_hypothesis"
   ]
  },
  {
   "cell_type": "markdown",
   "metadata": {
    "id": "-EgPIHYu_Zcu"
   },
   "source": [
    "**Выводы**\n",
    "\n",
    "Данные показывают разницу поведения пользователей:\n",
    "\n",
    "- В Москве пик прослушиваний приходится на понедельник и пятницу, а в среду заметен спад.\n",
    "- В Петербурге, наоборот, больше слушают музыку по средам. Активность в понедельник и пятницу здесь почти в равной мере уступает среде.\n",
    "\n",
    "Значит, данные говорят в пользу первой гипотезы."
   ]
  },
  {
   "cell_type": "markdown",
   "metadata": {
    "id": "atZAxtq4_Zcu"
   },
   "source": [
    "### Музыка в начале и в конце недели"
   ]
  },
  {
   "cell_type": "markdown",
   "metadata": {
    "id": "eXrQqXFH_Zcu"
   },
   "source": [
    "Согласно второй гипотезе, утром в понедельник в Москве преобладают одни жанры, а в Петербурге — другие. Так же и вечером пятницы преобладают разные жанры — в зависимости от города."
   ]
  },
  {
   "cell_type": "markdown",
   "metadata": {
    "id": "S8UcW6Hw_Zcu"
   },
   "source": [
    "Сохраните таблицы с данными в две переменные:\n",
    "* по Москве — в `moscow_general`;\n",
    "* по Санкт-Петербургу — в `spb_general`."
   ]
  },
  {
   "cell_type": "code",
   "execution_count": 24,
   "metadata": {
    "id": "qeaFfM_P_Zcu"
   },
   "outputs": [
    {
     "data": {
      "text/html": [
       "<div>\n",
       "<style scoped>\n",
       "    .dataframe tbody tr th:only-of-type {\n",
       "        vertical-align: middle;\n",
       "    }\n",
       "\n",
       "    .dataframe tbody tr th {\n",
       "        vertical-align: top;\n",
       "    }\n",
       "\n",
       "    .dataframe thead th {\n",
       "        text-align: right;\n",
       "    }\n",
       "</style>\n",
       "<table border=\"1\" class=\"dataframe\">\n",
       "  <thead>\n",
       "    <tr style=\"text-align: right;\">\n",
       "      <th></th>\n",
       "      <th>user_id</th>\n",
       "      <th>track</th>\n",
       "      <th>artist</th>\n",
       "      <th>genre</th>\n",
       "      <th>city</th>\n",
       "      <th>time</th>\n",
       "      <th>day</th>\n",
       "    </tr>\n",
       "  </thead>\n",
       "  <tbody>\n",
       "    <tr>\n",
       "      <td>1</td>\n",
       "      <td>55204538</td>\n",
       "      <td>Delayed Because of Accident</td>\n",
       "      <td>Andreas Rönnberg</td>\n",
       "      <td>rock</td>\n",
       "      <td>Moscow</td>\n",
       "      <td>14:07:09</td>\n",
       "      <td>Friday</td>\n",
       "    </tr>\n",
       "    <tr>\n",
       "      <td>4</td>\n",
       "      <td>E2DC1FAE</td>\n",
       "      <td>Soul People</td>\n",
       "      <td>Space Echo</td>\n",
       "      <td>dance</td>\n",
       "      <td>Moscow</td>\n",
       "      <td>08:34:34</td>\n",
       "      <td>Monday</td>\n",
       "    </tr>\n",
       "    <tr>\n",
       "      <td>6</td>\n",
       "      <td>4CB90AA5</td>\n",
       "      <td>True</td>\n",
       "      <td>Roman Messer</td>\n",
       "      <td>dance</td>\n",
       "      <td>Moscow</td>\n",
       "      <td>13:00:07</td>\n",
       "      <td>Wednesday</td>\n",
       "    </tr>\n",
       "    <tr>\n",
       "      <td>7</td>\n",
       "      <td>F03E1C1F</td>\n",
       "      <td>Feeling This Way</td>\n",
       "      <td>Polina Griffith</td>\n",
       "      <td>dance</td>\n",
       "      <td>Moscow</td>\n",
       "      <td>20:47:49</td>\n",
       "      <td>Wednesday</td>\n",
       "    </tr>\n",
       "    <tr>\n",
       "      <td>8</td>\n",
       "      <td>8FA1D3BE</td>\n",
       "      <td>И вновь продолжается бой</td>\n",
       "      <td>unknown</td>\n",
       "      <td>ruspop</td>\n",
       "      <td>Moscow</td>\n",
       "      <td>09:17:40</td>\n",
       "      <td>Friday</td>\n",
       "    </tr>\n",
       "  </tbody>\n",
       "</table>\n",
       "</div>"
      ],
      "text/plain": [
       "    user_id                        track            artist   genre    city  \\\n",
       "1  55204538  Delayed Because of Accident  Andreas Rönnberg    rock  Moscow   \n",
       "4  E2DC1FAE                  Soul People        Space Echo   dance  Moscow   \n",
       "6  4CB90AA5                         True      Roman Messer   dance  Moscow   \n",
       "7  F03E1C1F             Feeling This Way   Polina Griffith   dance  Moscow   \n",
       "8  8FA1D3BE     И вновь продолжается бой           unknown  ruspop  Moscow   \n",
       "\n",
       "       time        day  \n",
       "1  14:07:09     Friday  \n",
       "4  08:34:34     Monday  \n",
       "6  13:00:07  Wednesday  \n",
       "7  20:47:49  Wednesday  \n",
       "8  09:17:40     Friday  "
      ]
     },
     "execution_count": 24,
     "metadata": {},
     "output_type": "execute_result"
    }
   ],
   "source": [
    "# получение таблицы moscow_general из тех строк таблицы df, \n",
    "# для которых значение в столбце 'city' равно 'Moscow'\n",
    "moscow_general = df[df['city'] == 'Moscow']\n",
    "moscow_general.head()"
   ]
  },
  {
   "cell_type": "code",
   "execution_count": 25,
   "metadata": {
    "id": "ORaVRKto_Zcu"
   },
   "outputs": [
    {
     "data": {
      "text/html": [
       "<div>\n",
       "<style scoped>\n",
       "    .dataframe tbody tr th:only-of-type {\n",
       "        vertical-align: middle;\n",
       "    }\n",
       "\n",
       "    .dataframe tbody tr th {\n",
       "        vertical-align: top;\n",
       "    }\n",
       "\n",
       "    .dataframe thead th {\n",
       "        text-align: right;\n",
       "    }\n",
       "</style>\n",
       "<table border=\"1\" class=\"dataframe\">\n",
       "  <thead>\n",
       "    <tr style=\"text-align: right;\">\n",
       "      <th></th>\n",
       "      <th>user_id</th>\n",
       "      <th>track</th>\n",
       "      <th>artist</th>\n",
       "      <th>genre</th>\n",
       "      <th>city</th>\n",
       "      <th>time</th>\n",
       "      <th>day</th>\n",
       "    </tr>\n",
       "  </thead>\n",
       "  <tbody>\n",
       "    <tr>\n",
       "      <td>0</td>\n",
       "      <td>FFB692EC</td>\n",
       "      <td>Kamigata To Boots</td>\n",
       "      <td>The Mass Missile</td>\n",
       "      <td>rock</td>\n",
       "      <td>Saint-Petersburg</td>\n",
       "      <td>20:28:33</td>\n",
       "      <td>Wednesday</td>\n",
       "    </tr>\n",
       "    <tr>\n",
       "      <td>2</td>\n",
       "      <td>20EC38</td>\n",
       "      <td>Funiculì funiculà</td>\n",
       "      <td>Mario Lanza</td>\n",
       "      <td>pop</td>\n",
       "      <td>Saint-Petersburg</td>\n",
       "      <td>20:58:07</td>\n",
       "      <td>Wednesday</td>\n",
       "    </tr>\n",
       "    <tr>\n",
       "      <td>3</td>\n",
       "      <td>A3DD03C9</td>\n",
       "      <td>Dragons in the Sunset</td>\n",
       "      <td>Fire + Ice</td>\n",
       "      <td>folk</td>\n",
       "      <td>Saint-Petersburg</td>\n",
       "      <td>08:37:09</td>\n",
       "      <td>Monday</td>\n",
       "    </tr>\n",
       "    <tr>\n",
       "      <td>5</td>\n",
       "      <td>842029A1</td>\n",
       "      <td>Преданная</td>\n",
       "      <td>IMPERVTOR</td>\n",
       "      <td>rusrap</td>\n",
       "      <td>Saint-Petersburg</td>\n",
       "      <td>13:09:41</td>\n",
       "      <td>Friday</td>\n",
       "    </tr>\n",
       "    <tr>\n",
       "      <td>9</td>\n",
       "      <td>E772D5C0</td>\n",
       "      <td>Pessimist</td>\n",
       "      <td>unknown</td>\n",
       "      <td>dance</td>\n",
       "      <td>Saint-Petersburg</td>\n",
       "      <td>21:20:49</td>\n",
       "      <td>Wednesday</td>\n",
       "    </tr>\n",
       "  </tbody>\n",
       "</table>\n",
       "</div>"
      ],
      "text/plain": [
       "    user_id                  track            artist   genre  \\\n",
       "0  FFB692EC      Kamigata To Boots  The Mass Missile    rock   \n",
       "2    20EC38      Funiculì funiculà       Mario Lanza     pop   \n",
       "3  A3DD03C9  Dragons in the Sunset        Fire + Ice    folk   \n",
       "5  842029A1              Преданная         IMPERVTOR  rusrap   \n",
       "9  E772D5C0              Pessimist           unknown   dance   \n",
       "\n",
       "               city      time        day  \n",
       "0  Saint-Petersburg  20:28:33  Wednesday  \n",
       "2  Saint-Petersburg  20:58:07  Wednesday  \n",
       "3  Saint-Petersburg  08:37:09     Monday  \n",
       "5  Saint-Petersburg  13:09:41     Friday  \n",
       "9  Saint-Petersburg  21:20:49  Wednesday  "
      ]
     },
     "execution_count": 25,
     "metadata": {},
     "output_type": "execute_result"
    }
   ],
   "source": [
    "# получение таблицы spb_general из тех строк таблицы df,\n",
    "# для которых значение в столбце 'city' равно 'Saint-Petersburg'\n",
    "spb_general = df[df['city'] == 'Saint-Petersburg']\n",
    "spb_general.head()"
   ]
  },
  {
   "cell_type": "markdown",
   "metadata": {
    "id": "MEJV-CX2_Zcu"
   },
   "source": [
    "Создайте функцию `genre_weekday()` с четырьмя параметрами:\n",
    "* таблица (датафрейм) с данными,\n",
    "* день недели,\n",
    "* начальная временная метка в формате 'hh:mm', \n",
    "* последняя временная метка в формате 'hh:mm'.\n",
    "\n",
    "Функция должна вернуть информацию о топ-10 жанров тех треков, которые прослушивали в указанный день, в промежутке между двумя отметками времени."
   ]
  },
  {
   "cell_type": "code",
   "execution_count": 26,
   "metadata": {
    "id": "laJT9BYl_Zcu"
   },
   "outputs": [],
   "source": [
    "def genre_weekday(table, day, time1, time2):\n",
    "    genre_df = table[(table['day'] == day) & \n",
    "                     (table['time'] > time1) & \n",
    "                     (table['time'] < time2)]\n",
    "    genre_df_count = genre_df.groupby('genre')['user_id'].count()\n",
    "    genre_df_sorted = genre_df_count.sort_values(ascending=False)\n",
    "    return genre_df_sorted.head(10)"
   ]
  },
  {
   "cell_type": "markdown",
   "metadata": {
    "id": "la2s2_PF_Zcu"
   },
   "source": [
    "Cравните результаты функции `genre_weekday()` для Москвы и Санкт-Петербурга в понедельник утром (с 7:00 до 11:00) и в пятницу вечером (с 17:00 до 23:00):"
   ]
  },
  {
   "cell_type": "code",
   "execution_count": 27,
   "metadata": {
    "id": "yz7itPUQ_Zcu"
   },
   "outputs": [
    {
     "data": {
      "text/plain": [
       "genre\n",
       "pop            781\n",
       "dance          549\n",
       "electronic     480\n",
       "rock           474\n",
       "hiphop         286\n",
       "ruspop         186\n",
       "world          181\n",
       "rusrap         175\n",
       "alternative    164\n",
       "unknown        161\n",
       "Name: user_id, dtype: int64"
      ]
     },
     "execution_count": 27,
     "metadata": {},
     "output_type": "execute_result"
    }
   ],
   "source": [
    "# вызов функции для утра понедельника в Москве (вместо df — таблица moscow_general)\n",
    "# объекты, хранящие время, являются строками и сравниваются как строки\n",
    "# пример вызова: genre_weekday(moscow_general, 'Monday', '07:00', '11:00')\n",
    "genre_weekday(moscow_general, 'Monday', '07:00', '11:00')"
   ]
  },
  {
   "cell_type": "code",
   "execution_count": 28,
   "metadata": {
    "id": "kwUcHPdy_Zcu"
   },
   "outputs": [
    {
     "data": {
      "text/plain": [
       "genre\n",
       "pop            218\n",
       "dance          182\n",
       "rock           162\n",
       "electronic     147\n",
       "hiphop          80\n",
       "ruspop          64\n",
       "alternative     58\n",
       "rusrap          55\n",
       "jazz            44\n",
       "classical       40\n",
       "Name: user_id, dtype: int64"
      ]
     },
     "execution_count": 28,
     "metadata": {},
     "output_type": "execute_result"
    }
   ],
   "source": [
    "# вызов функции для утра понедельника в Петербурге (вместо df — таблица spb_general)\n",
    "genre_weekday(spb_general, 'Monday', '07:00', '11:00')"
   ]
  },
  {
   "cell_type": "code",
   "execution_count": 29,
   "metadata": {
    "id": "EzXVRE1o_Zcu"
   },
   "outputs": [
    {
     "data": {
      "text/plain": [
       "genre\n",
       "pop            713\n",
       "rock           517\n",
       "dance          495\n",
       "electronic     482\n",
       "hiphop         273\n",
       "world          208\n",
       "ruspop         170\n",
       "alternative    163\n",
       "classical      163\n",
       "rusrap         142\n",
       "Name: user_id, dtype: int64"
      ]
     },
     "execution_count": 29,
     "metadata": {},
     "output_type": "execute_result"
    }
   ],
   "source": [
    "# вызов функции для вечера пятницы в Москве\n",
    "genre_weekday(moscow_general, 'Friday', '17:00', '23:00')"
   ]
  },
  {
   "cell_type": "code",
   "execution_count": 30,
   "metadata": {
    "id": "JZaEKu5v_Zcu"
   },
   "outputs": [
    {
     "data": {
      "text/plain": [
       "genre\n",
       "pop            256\n",
       "rock           216\n",
       "electronic     216\n",
       "dance          210\n",
       "hiphop          97\n",
       "alternative     63\n",
       "jazz            61\n",
       "classical       60\n",
       "rusrap          59\n",
       "world           54\n",
       "Name: user_id, dtype: int64"
      ]
     },
     "execution_count": 30,
     "metadata": {},
     "output_type": "execute_result"
    }
   ],
   "source": [
    "# вызов функции для вечера пятницы в Петербурге\n",
    "genre_weekday(spb_general, 'Friday', '17:00', '23:00')"
   ]
  },
  {
   "cell_type": "markdown",
   "metadata": {
    "id": "wrCe4MNX_Zcu"
   },
   "source": [
    "**Выводы**\n",
    "\n",
    "Если сравнить топ-10 жанров в понедельник утром, можно сделать такие выводы:\n",
    "\n",
    "1. В Москве и Петербурге слушают похожую музыку. Единственное отличие — в московский рейтинг вошёл жанр “world”, а в петербургский — джаз и классика.\n",
    "\n",
    "2. В Москве пропущенных значений оказалось так много, что значение `'unknown'` заняло десятое место среди самых популярных жанров. Значит, пропущенные значения занимают существенную долю в данных и угрожают достоверности исследования.\n",
    "\n",
    "Вечер пятницы не меняет эту картину. Некоторые жанры поднимаются немного выше, другие спускаются, но в целом топ-10 остаётся тем же самым.\n",
    "\n",
    "Таким образом, вторая гипотеза подтвердилась лишь частично:\n",
    "* Пользователи слушают похожую музыку в начале недели и в конце.\n",
    "* Разница между Москвой и Петербургом не слишком выражена. В Москве чаще слушают русскую популярную музыку, в Петербурге — джаз.\n",
    "\n",
    "Однако пропуски в данных ставят под сомнение этот результат. В Москве их так много, что рейтинг топ-10 мог бы выглядеть иначе, если бы не утерянные  данные о жанрах."
   ]
  },
  {
   "cell_type": "markdown",
   "metadata": {
    "id": "JolODAqr_Zcu"
   },
   "source": [
    "### Жанровые предпочтения в Москве и Петербурге\n",
    "\n",
    "Гипотеза: Петербург — столица рэпа, музыку этого жанра там слушают чаще, чем в Москве.  А Москва — город контрастов, в котором, тем не менее, преобладает поп-музыка."
   ]
  },
  {
   "cell_type": "markdown",
   "metadata": {
    "id": "DlegSvaT_Zcu"
   },
   "source": [
    "Сгруппируйте таблицу `moscow_general` по жанру и посчитайте прослушивания треков каждого жанра методом `count()`. Затем отсортируйте результат в порядке убывания и сохраните его в таблице `moscow_genres`."
   ]
  },
  {
   "cell_type": "code",
   "execution_count": 31,
   "metadata": {
    "id": "r19lIPke_Zcu"
   },
   "outputs": [],
   "source": [
    "# одной строкой: группировка таблицы moscow_general по столбцу 'genre', \n",
    "# подсчёт числа значений 'genre' в этой группировке методом count(), \n",
    "# сортировка получившегося Series в порядке убывания и сохранение в moscow_genres\n",
    "moscow_genres = moscow_general.groupby('genre')['user_id'].count().sort_values(ascending=False)"
   ]
  },
  {
   "cell_type": "markdown",
   "metadata": {
    "id": "6kMuomxTiIr8"
   },
   "source": [
    "Выведите на экран первые десять строк `moscow_genres`:"
   ]
  },
  {
   "cell_type": "code",
   "execution_count": 32,
   "metadata": {
    "id": "WhCSooF8_Zcv"
   },
   "outputs": [
    {
     "data": {
      "text/plain": [
       "genre\n",
       "pop            5892\n",
       "dance          4435\n",
       "rock           3965\n",
       "electronic     3786\n",
       "hiphop         2096\n",
       "classical      1616\n",
       "world          1432\n",
       "alternative    1379\n",
       "ruspop         1372\n",
       "rusrap         1161\n",
       "Name: user_id, dtype: int64"
      ]
     },
     "execution_count": 32,
     "metadata": {},
     "output_type": "execute_result"
    }
   ],
   "source": [
    "moscow_genres.head(10)"
   ]
  },
  {
   "cell_type": "markdown",
   "metadata": {
    "id": "cnPG2vnN_Zcv"
   },
   "source": [
    "Теперь повторите то же и для Петербурга.\n",
    "\n",
    "Сгруппируйте таблицу `spb_general` по жанру. Посчитайте прослушивания треков каждого жанра. Результат отсортируйте в порядке убывания и сохраните в таблице `spb_genres`:\n"
   ]
  },
  {
   "cell_type": "code",
   "execution_count": 33,
   "metadata": {
    "id": "gluLIpE7_Zcv"
   },
   "outputs": [],
   "source": [
    "# одной строкой: группировка таблицы spb_general по столбцу 'genre', \n",
    "# подсчёт числа значений 'genre' в этой группировке методом count(), \n",
    "# сортировка получившегося Series в порядке убывания и сохранение в spb_genres\n",
    "spb_genres = spb_general.groupby('genre')['user_id'].count().sort_values(ascending=False)"
   ]
  },
  {
   "cell_type": "markdown",
   "metadata": {
    "id": "5Doha_ODgyQ8"
   },
   "source": [
    "Выведите на экран первые десять строк `spb_genres`:"
   ]
  },
  {
   "cell_type": "code",
   "execution_count": 34,
   "metadata": {
    "id": "uaGJHjVU_Zcv"
   },
   "outputs": [
    {
     "data": {
      "text/plain": [
       "genre\n",
       "pop            2431\n",
       "dance          1932\n",
       "rock           1879\n",
       "electronic     1736\n",
       "hiphop          960\n",
       "alternative     649\n",
       "classical       646\n",
       "rusrap          564\n",
       "ruspop          538\n",
       "world           515\n",
       "Name: user_id, dtype: int64"
      ]
     },
     "execution_count": 34,
     "metadata": {},
     "output_type": "execute_result"
    }
   ],
   "source": [
    "spb_genres.head(10)"
   ]
  },
  {
   "cell_type": "markdown",
   "metadata": {
    "id": "RY51YJYu_Zcv"
   },
   "source": [
    "**Выводы**"
   ]
  },
  {
   "cell_type": "markdown",
   "metadata": {
    "id": "nVhnJEm__Zcv"
   },
   "source": [
    "Гипотеза частично подтвердилась:\n",
    "* Поп-музыка — самый популярный жанр в Москве, как и предполагала гипотеза. Более того, в топ-10 жанров встречается близкий жанр — русская популярная музыка.\n",
    "* Вопреки ожиданиям, рэп одинаково популярен в Москве и Петербурге. \n"
   ]
  },
  {
   "cell_type": "markdown",
   "metadata": {
    "id": "ykKQ0N65_Zcv"
   },
   "source": [
    "## Итоги исследования"
   ]
  },
  {
   "cell_type": "markdown",
   "metadata": {
    "id": "tjUwbHb3_Zcv"
   },
   "source": [
    "Вы проверили три гипотезы и установили:\n",
    "\n",
    "1. День недели по-разному влияет на активность пользователей в Москве и Петербурге. \n",
    "\n",
    "Первая гипотеза полностью подтвердилась.\n",
    "\n",
    "2. Музыкальные предпочтения не сильно меняются в течение недели — будь то Москва или Петербург. Небольшие различия заметны в начале недели, по понедельникам:\n",
    "* в Москве слушают музыку жанра “world”,\n",
    "* в Петербурге — джаз и классику.\n",
    "\n",
    "Таким образом, вторая гипотеза подтвердилась лишь отчасти. Этот результат мог оказаться иным, если бы не пропуски в данных.\n",
    "\n",
    "3. Во вкусах пользователей Москвы и Петербурга больше общего чем различий. Вопреки ожиданиям, предпочтения жанров в Петербурге напоминают московские.\n",
    "\n",
    "Третья гипотеза не подтвердилась. Если различия в предпочтениях и существуют, на основной массе пользователей они незаметны.\n",
    "\n",
    "**На практике исследования содержат проверки статистических гипотез.**\n",
    "Из данных одного сервиса не всегда можно сделать вывод о всех жителях города.\n",
    "Проверки статистических гипотез покажут, насколько они достоверны, исходя из имеющихся данных. "
   ]
  },
  {
   "cell_type": "code",
   "execution_count": null,
   "metadata": {},
   "outputs": [],
   "source": []
  }
 ],
 "metadata": {
  "ExecuteTimeLog": [
   {
    "duration": 639,
    "start_time": "2021-11-20T14:34:25.035Z"
   },
   {
    "duration": 148,
    "start_time": "2021-11-20T14:35:10.369Z"
   },
   {
    "duration": 17,
    "start_time": "2021-11-20T14:35:26.427Z"
   },
   {
    "duration": 25,
    "start_time": "2021-11-20T14:36:03.328Z"
   },
   {
    "duration": 4,
    "start_time": "2021-11-20T14:39:33.291Z"
   },
   {
    "duration": 23,
    "start_time": "2021-11-20T14:42:55.445Z"
   },
   {
    "duration": 6,
    "start_time": "2021-11-20T14:43:09.953Z"
   },
   {
    "duration": 5,
    "start_time": "2021-11-20T14:43:20.775Z"
   },
   {
    "duration": 5,
    "start_time": "2021-11-20T14:43:25.981Z"
   },
   {
    "duration": 42,
    "start_time": "2021-11-20T14:44:25.402Z"
   },
   {
    "duration": 18,
    "start_time": "2021-11-20T14:48:32.908Z"
   },
   {
    "duration": 25,
    "start_time": "2021-11-20T14:48:35.230Z"
   },
   {
    "duration": 66,
    "start_time": "2021-11-20T14:49:08.471Z"
   },
   {
    "duration": 80,
    "start_time": "2021-11-20T14:50:33.104Z"
   },
   {
    "duration": 60,
    "start_time": "2021-11-20T14:50:34.950Z"
   },
   {
    "duration": 8,
    "start_time": "2021-11-20T14:51:50.725Z"
   },
   {
    "duration": 311,
    "start_time": "2021-11-20T14:52:25.146Z"
   },
   {
    "duration": 40,
    "start_time": "2021-11-20T14:52:59.078Z"
   },
   {
    "duration": 4,
    "start_time": "2021-11-20T15:16:43.281Z"
   },
   {
    "duration": 11,
    "start_time": "2021-11-20T15:16:45.493Z"
   },
   {
    "duration": 42,
    "start_time": "2021-11-20T15:17:02.316Z"
   },
   {
    "duration": 642,
    "start_time": "2021-11-22T09:01:27.821Z"
   },
   {
    "duration": 128,
    "start_time": "2021-11-22T09:01:28.465Z"
   },
   {
    "duration": 16,
    "start_time": "2021-11-22T09:01:28.595Z"
   },
   {
    "duration": 24,
    "start_time": "2021-11-22T09:01:28.613Z"
   },
   {
    "duration": 3,
    "start_time": "2021-11-22T09:01:28.644Z"
   },
   {
    "duration": 19,
    "start_time": "2021-11-22T09:01:28.649Z"
   },
   {
    "duration": 4,
    "start_time": "2021-11-22T09:01:28.670Z"
   },
   {
    "duration": 23,
    "start_time": "2021-11-22T09:01:28.676Z"
   },
   {
    "duration": 45,
    "start_time": "2021-11-22T09:01:28.701Z"
   },
   {
    "duration": 22,
    "start_time": "2021-11-22T09:01:28.748Z"
   },
   {
    "duration": 55,
    "start_time": "2021-11-22T09:01:28.772Z"
   },
   {
    "duration": 76,
    "start_time": "2021-11-22T09:01:28.829Z"
   },
   {
    "duration": 62,
    "start_time": "2021-11-22T09:01:28.907Z"
   },
   {
    "duration": 40,
    "start_time": "2021-11-22T09:01:28.971Z"
   },
   {
    "duration": 3,
    "start_time": "2021-11-22T09:01:29.013Z"
   },
   {
    "duration": 27,
    "start_time": "2021-11-22T09:01:29.017Z"
   },
   {
    "duration": 39,
    "start_time": "2021-11-22T09:01:29.046Z"
   },
   {
    "duration": 6,
    "start_time": "2021-11-22T09:04:00.233Z"
   },
   {
    "duration": 6,
    "start_time": "2021-11-22T09:04:50.519Z"
   },
   {
    "duration": 17,
    "start_time": "2021-11-22T09:06:54.000Z"
   },
   {
    "duration": 9,
    "start_time": "2021-11-22T09:11:34.329Z"
   },
   {
    "duration": 415,
    "start_time": "2021-11-22T09:24:52.164Z"
   },
   {
    "duration": 12,
    "start_time": "2021-11-22T09:24:58.673Z"
   },
   {
    "duration": 20,
    "start_time": "2021-11-22T09:28:41.043Z"
   },
   {
    "duration": 14,
    "start_time": "2021-11-22T09:28:47.731Z"
   },
   {
    "duration": 15,
    "start_time": "2021-11-22T09:29:55.903Z"
   },
   {
    "duration": 18,
    "start_time": "2021-11-22T09:30:15.131Z"
   },
   {
    "duration": 20,
    "start_time": "2021-11-22T09:30:27.357Z"
   },
   {
    "duration": 16,
    "start_time": "2021-11-22T09:35:31.620Z"
   },
   {
    "duration": 558,
    "start_time": "2021-11-22T09:38:56.995Z"
   },
   {
    "duration": 139,
    "start_time": "2021-11-22T09:38:57.555Z"
   },
   {
    "duration": 17,
    "start_time": "2021-11-22T09:38:57.696Z"
   },
   {
    "duration": 39,
    "start_time": "2021-11-22T09:38:57.715Z"
   },
   {
    "duration": 5,
    "start_time": "2021-11-22T09:38:57.755Z"
   },
   {
    "duration": 20,
    "start_time": "2021-11-22T09:38:57.762Z"
   },
   {
    "duration": 4,
    "start_time": "2021-11-22T09:38:57.784Z"
   },
   {
    "duration": 23,
    "start_time": "2021-11-22T09:38:57.791Z"
   },
   {
    "duration": 42,
    "start_time": "2021-11-22T09:38:57.816Z"
   },
   {
    "duration": 22,
    "start_time": "2021-11-22T09:38:57.860Z"
   },
   {
    "duration": 79,
    "start_time": "2021-11-22T09:38:57.884Z"
   },
   {
    "duration": 80,
    "start_time": "2021-11-22T09:38:57.965Z"
   },
   {
    "duration": 54,
    "start_time": "2021-11-22T09:38:58.046Z"
   },
   {
    "duration": 55,
    "start_time": "2021-11-22T09:38:58.102Z"
   },
   {
    "duration": 3,
    "start_time": "2021-11-22T09:38:58.159Z"
   },
   {
    "duration": 21,
    "start_time": "2021-11-22T09:38:58.164Z"
   },
   {
    "duration": 41,
    "start_time": "2021-11-22T09:38:58.187Z"
   },
   {
    "duration": 18,
    "start_time": "2021-11-22T09:38:58.229Z"
   },
   {
    "duration": 17,
    "start_time": "2021-11-22T09:38:58.249Z"
   },
   {
    "duration": 7,
    "start_time": "2021-11-22T09:38:58.268Z"
   },
   {
    "duration": 11,
    "start_time": "2021-11-22T09:39:59.828Z"
   },
   {
    "duration": 11,
    "start_time": "2021-11-22T09:42:04.884Z"
   },
   {
    "duration": 3,
    "start_time": "2021-11-22T10:06:55.349Z"
   },
   {
    "duration": 670,
    "start_time": "2021-11-22T10:12:47.785Z"
   },
   {
    "duration": 136,
    "start_time": "2021-11-22T10:12:48.457Z"
   },
   {
    "duration": 18,
    "start_time": "2021-11-22T10:12:48.595Z"
   },
   {
    "duration": 37,
    "start_time": "2021-11-22T10:12:48.615Z"
   },
   {
    "duration": 4,
    "start_time": "2021-11-22T10:12:48.654Z"
   },
   {
    "duration": 21,
    "start_time": "2021-11-22T10:12:48.659Z"
   },
   {
    "duration": 4,
    "start_time": "2021-11-22T10:12:48.682Z"
   },
   {
    "duration": 26,
    "start_time": "2021-11-22T10:12:48.688Z"
   },
   {
    "duration": 44,
    "start_time": "2021-11-22T10:12:48.716Z"
   },
   {
    "duration": 25,
    "start_time": "2021-11-22T10:12:48.761Z"
   },
   {
    "duration": 74,
    "start_time": "2021-11-22T10:12:48.787Z"
   },
   {
    "duration": 81,
    "start_time": "2021-11-22T10:12:48.863Z"
   },
   {
    "duration": 51,
    "start_time": "2021-11-22T10:12:48.946Z"
   },
   {
    "duration": 49,
    "start_time": "2021-11-22T10:12:48.998Z"
   },
   {
    "duration": 3,
    "start_time": "2021-11-22T10:12:49.049Z"
   },
   {
    "duration": 14,
    "start_time": "2021-11-22T10:12:49.053Z"
   },
   {
    "duration": 40,
    "start_time": "2021-11-22T10:12:49.069Z"
   },
   {
    "duration": 6,
    "start_time": "2021-11-22T10:12:49.111Z"
   },
   {
    "duration": 18,
    "start_time": "2021-11-22T10:12:49.145Z"
   },
   {
    "duration": 9,
    "start_time": "2021-11-22T10:12:49.164Z"
   },
   {
    "duration": 12,
    "start_time": "2021-11-22T10:12:49.175Z"
   },
   {
    "duration": 18,
    "start_time": "2021-11-22T10:12:49.189Z"
   },
   {
    "duration": 4,
    "start_time": "2021-11-22T10:12:49.246Z"
   },
   {
    "duration": 8122,
    "start_time": "2021-11-22T10:12:51.668Z"
   },
   {
    "duration": 7,
    "start_time": "2021-11-22T10:13:46.860Z"
   },
   {
    "duration": 4,
    "start_time": "2021-11-22T10:16:38.747Z"
   },
   {
    "duration": 1337,
    "start_time": "2021-11-22T10:16:42.002Z"
   },
   {
    "duration": 1422,
    "start_time": "2021-11-22T10:18:36.034Z"
   },
   {
    "duration": 4,
    "start_time": "2021-11-22T10:19:56.059Z"
   },
   {
    "duration": 15,
    "start_time": "2021-11-22T10:19:57.098Z"
   },
   {
    "duration": 68,
    "start_time": "2021-11-22T10:20:01.944Z"
   },
   {
    "duration": 66,
    "start_time": "2021-11-22T10:20:14.393Z"
   },
   {
    "duration": 2,
    "start_time": "2021-11-22T10:20:56.418Z"
   },
   {
    "duration": 1360,
    "start_time": "2021-11-22T10:22:00.090Z"
   },
   {
    "duration": 151,
    "start_time": "2021-11-22T10:22:01.452Z"
   },
   {
    "duration": 21,
    "start_time": "2021-11-22T10:22:01.605Z"
   },
   {
    "duration": 45,
    "start_time": "2021-11-22T10:22:01.628Z"
   },
   {
    "duration": 17,
    "start_time": "2021-11-22T10:22:01.675Z"
   },
   {
    "duration": 28,
    "start_time": "2021-11-22T10:22:01.694Z"
   },
   {
    "duration": 7,
    "start_time": "2021-11-22T10:22:01.724Z"
   },
   {
    "duration": 27,
    "start_time": "2021-11-22T10:22:01.734Z"
   },
   {
    "duration": 18,
    "start_time": "2021-11-22T10:22:01.763Z"
   },
   {
    "duration": 23,
    "start_time": "2021-11-22T10:22:01.783Z"
   },
   {
    "duration": 82,
    "start_time": "2021-11-22T10:22:01.808Z"
   },
   {
    "duration": 100,
    "start_time": "2021-11-22T10:22:01.892Z"
   },
   {
    "duration": 56,
    "start_time": "2021-11-22T10:22:01.994Z"
   },
   {
    "duration": 42,
    "start_time": "2021-11-22T10:22:02.052Z"
   },
   {
    "duration": 5,
    "start_time": "2021-11-22T10:22:02.097Z"
   },
   {
    "duration": 14,
    "start_time": "2021-11-22T10:22:02.103Z"
   },
   {
    "duration": 72,
    "start_time": "2021-11-22T10:22:02.118Z"
   },
   {
    "duration": 7,
    "start_time": "2021-11-22T10:22:02.192Z"
   },
   {
    "duration": 18,
    "start_time": "2021-11-22T10:22:02.201Z"
   },
   {
    "duration": 34,
    "start_time": "2021-11-22T10:22:02.220Z"
   },
   {
    "duration": 19,
    "start_time": "2021-11-22T10:22:02.256Z"
   },
   {
    "duration": 2,
    "start_time": "2021-11-22T10:22:02.277Z"
   },
   {
    "duration": 18,
    "start_time": "2021-11-22T10:22:02.282Z"
   },
   {
    "duration": 69,
    "start_time": "2021-11-22T10:22:06.972Z"
   },
   {
    "duration": 66,
    "start_time": "2021-11-22T10:30:18.018Z"
   },
   {
    "duration": 8,
    "start_time": "2021-11-22T10:34:05.131Z"
   },
   {
    "duration": 7,
    "start_time": "2021-11-22T10:35:13.941Z"
   },
   {
    "duration": 7,
    "start_time": "2021-11-22T10:35:40.673Z"
   },
   {
    "duration": 586,
    "start_time": "2021-11-22T10:35:54.267Z"
   },
   {
    "duration": 141,
    "start_time": "2021-11-22T10:35:54.855Z"
   },
   {
    "duration": 17,
    "start_time": "2021-11-22T10:35:54.998Z"
   },
   {
    "duration": 32,
    "start_time": "2021-11-22T10:35:55.017Z"
   },
   {
    "duration": 4,
    "start_time": "2021-11-22T10:35:55.051Z"
   },
   {
    "duration": 21,
    "start_time": "2021-11-22T10:35:55.056Z"
   },
   {
    "duration": 6,
    "start_time": "2021-11-22T10:35:55.079Z"
   },
   {
    "duration": 23,
    "start_time": "2021-11-22T10:35:55.088Z"
   },
   {
    "duration": 37,
    "start_time": "2021-11-22T10:35:55.113Z"
   },
   {
    "duration": 22,
    "start_time": "2021-11-22T10:35:55.152Z"
   },
   {
    "duration": 71,
    "start_time": "2021-11-22T10:35:55.176Z"
   },
   {
    "duration": 61,
    "start_time": "2021-11-22T10:35:55.249Z"
   },
   {
    "duration": 62,
    "start_time": "2021-11-22T10:35:55.312Z"
   },
   {
    "duration": 43,
    "start_time": "2021-11-22T10:35:55.376Z"
   },
   {
    "duration": 3,
    "start_time": "2021-11-22T10:35:55.421Z"
   },
   {
    "duration": 10,
    "start_time": "2021-11-22T10:35:55.444Z"
   },
   {
    "duration": 41,
    "start_time": "2021-11-22T10:35:55.455Z"
   },
   {
    "duration": 6,
    "start_time": "2021-11-22T10:35:55.498Z"
   },
   {
    "duration": 42,
    "start_time": "2021-11-22T10:35:55.506Z"
   },
   {
    "duration": 8,
    "start_time": "2021-11-22T10:35:55.549Z"
   },
   {
    "duration": 14,
    "start_time": "2021-11-22T10:35:55.558Z"
   },
   {
    "duration": 2,
    "start_time": "2021-11-22T10:35:55.574Z"
   },
   {
    "duration": 5,
    "start_time": "2021-11-22T10:35:55.579Z"
   },
   {
    "duration": 96,
    "start_time": "2021-11-22T10:35:55.586Z"
   },
   {
    "duration": 3,
    "start_time": "2021-11-22T10:35:55.684Z"
   },
   {
    "duration": 7,
    "start_time": "2021-11-22T10:35:55.688Z"
   },
   {
    "duration": 4,
    "start_time": "2021-11-22T10:35:55.697Z"
   },
   {
    "duration": 4,
    "start_time": "2021-11-22T10:35:55.703Z"
   },
   {
    "duration": 4,
    "start_time": "2021-11-22T10:35:55.709Z"
   },
   {
    "duration": 6,
    "start_time": "2021-11-22T10:35:55.715Z"
   },
   {
    "duration": 8,
    "start_time": "2021-11-22T10:35:58.501Z"
   },
   {
    "duration": 23,
    "start_time": "2021-11-22T10:38:23.566Z"
   },
   {
    "duration": 19,
    "start_time": "2021-11-22T10:40:17.069Z"
   },
   {
    "duration": 17,
    "start_time": "2021-11-22T10:40:20.441Z"
   },
   {
    "duration": 655,
    "start_time": "2021-11-22T11:13:54.438Z"
   },
   {
    "duration": 151,
    "start_time": "2021-11-22T11:13:55.095Z"
   },
   {
    "duration": 16,
    "start_time": "2021-11-22T11:13:55.249Z"
   },
   {
    "duration": 24,
    "start_time": "2021-11-22T11:13:55.267Z"
   },
   {
    "duration": 6,
    "start_time": "2021-11-22T11:13:55.293Z"
   },
   {
    "duration": 45,
    "start_time": "2021-11-22T11:13:55.300Z"
   },
   {
    "duration": 20,
    "start_time": "2021-11-22T11:13:55.347Z"
   },
   {
    "duration": 63,
    "start_time": "2021-11-22T11:13:55.370Z"
   },
   {
    "duration": 36,
    "start_time": "2021-11-22T11:13:55.435Z"
   },
   {
    "duration": 45,
    "start_time": "2021-11-22T11:13:55.473Z"
   },
   {
    "duration": 73,
    "start_time": "2021-11-22T11:13:55.520Z"
   },
   {
    "duration": 91,
    "start_time": "2021-11-22T11:13:55.594Z"
   },
   {
    "duration": 63,
    "start_time": "2021-11-22T11:13:55.687Z"
   },
   {
    "duration": 44,
    "start_time": "2021-11-22T11:13:55.752Z"
   },
   {
    "duration": 3,
    "start_time": "2021-11-22T11:13:55.798Z"
   },
   {
    "duration": 12,
    "start_time": "2021-11-22T11:13:55.803Z"
   },
   {
    "duration": 67,
    "start_time": "2021-11-22T11:13:55.817Z"
   },
   {
    "duration": 7,
    "start_time": "2021-11-22T11:13:55.886Z"
   },
   {
    "duration": 25,
    "start_time": "2021-11-22T11:13:55.895Z"
   },
   {
    "duration": 13,
    "start_time": "2021-11-22T11:13:55.944Z"
   },
   {
    "duration": 2,
    "start_time": "2021-11-22T11:13:55.959Z"
   },
   {
    "duration": 6,
    "start_time": "2021-11-22T11:13:55.963Z"
   },
   {
    "duration": 99,
    "start_time": "2021-11-22T11:13:55.972Z"
   },
   {
    "duration": 2,
    "start_time": "2021-11-22T11:13:56.073Z"
   },
   {
    "duration": 17,
    "start_time": "2021-11-22T11:13:56.077Z"
   },
   {
    "duration": 16,
    "start_time": "2021-11-22T11:13:56.095Z"
   },
   {
    "duration": 10,
    "start_time": "2021-11-22T11:13:56.113Z"
   },
   {
    "duration": 13,
    "start_time": "2021-11-22T11:13:56.125Z"
   },
   {
    "duration": 13,
    "start_time": "2021-11-22T11:13:56.140Z"
   },
   {
    "duration": 20,
    "start_time": "2021-11-22T11:13:56.155Z"
   },
   {
    "duration": 29,
    "start_time": "2021-11-22T11:13:56.177Z"
   },
   {
    "duration": 18,
    "start_time": "2021-11-22T11:13:56.207Z"
   },
   {
    "duration": 4,
    "start_time": "2021-11-22T11:13:59.043Z"
   },
   {
    "duration": 15,
    "start_time": "2021-11-22T11:15:37.982Z"
   },
   {
    "duration": 324,
    "start_time": "2021-11-22T11:16:53.595Z"
   },
   {
    "duration": 268,
    "start_time": "2021-11-22T11:17:17.379Z"
   },
   {
    "duration": 18,
    "start_time": "2021-11-22T11:17:31.055Z"
   },
   {
    "duration": 18,
    "start_time": "2021-11-22T11:17:48.987Z"
   },
   {
    "duration": 18,
    "start_time": "2021-11-22T11:18:49.685Z"
   },
   {
    "duration": 14,
    "start_time": "2021-11-22T11:19:18.547Z"
   },
   {
    "duration": 21,
    "start_time": "2021-11-22T11:20:08.835Z"
   },
   {
    "duration": 32,
    "start_time": "2021-11-22T11:20:19.487Z"
   },
   {
    "duration": 18,
    "start_time": "2021-11-22T11:20:34.935Z"
   },
   {
    "duration": 20,
    "start_time": "2021-11-22T11:21:21.740Z"
   },
   {
    "duration": 13,
    "start_time": "2021-11-22T11:21:59.080Z"
   },
   {
    "duration": 17,
    "start_time": "2021-11-22T11:23:32.971Z"
   },
   {
    "duration": 12,
    "start_time": "2021-11-22T11:23:34.652Z"
   },
   {
    "duration": 336,
    "start_time": "2021-11-22T11:49:37.012Z"
   },
   {
    "duration": 2,
    "start_time": "2021-11-22T11:49:45.952Z"
   },
   {
    "duration": 165,
    "start_time": "2021-11-22T11:49:45.956Z"
   },
   {
    "duration": 31,
    "start_time": "2021-11-22T11:49:46.123Z"
   },
   {
    "duration": 24,
    "start_time": "2021-11-22T11:49:46.156Z"
   },
   {
    "duration": 4,
    "start_time": "2021-11-22T11:49:46.182Z"
   },
   {
    "duration": 20,
    "start_time": "2021-11-22T11:49:46.187Z"
   },
   {
    "duration": 4,
    "start_time": "2021-11-22T11:49:46.210Z"
   },
   {
    "duration": 23,
    "start_time": "2021-11-22T11:49:46.244Z"
   },
   {
    "duration": 15,
    "start_time": "2021-11-22T11:49:46.269Z"
   },
   {
    "duration": 25,
    "start_time": "2021-11-22T11:49:46.286Z"
   },
   {
    "duration": 74,
    "start_time": "2021-11-22T11:49:46.312Z"
   },
   {
    "duration": 74,
    "start_time": "2021-11-22T11:49:46.387Z"
   },
   {
    "duration": 48,
    "start_time": "2021-11-22T11:49:46.462Z"
   },
   {
    "duration": 48,
    "start_time": "2021-11-22T11:49:46.512Z"
   },
   {
    "duration": 3,
    "start_time": "2021-11-22T11:49:46.561Z"
   },
   {
    "duration": 20,
    "start_time": "2021-11-22T11:49:46.566Z"
   },
   {
    "duration": 52,
    "start_time": "2021-11-22T11:49:46.587Z"
   },
   {
    "duration": 10,
    "start_time": "2021-11-22T11:49:46.641Z"
   },
   {
    "duration": 28,
    "start_time": "2021-11-22T11:49:46.654Z"
   },
   {
    "duration": 11,
    "start_time": "2021-11-22T11:49:46.684Z"
   },
   {
    "duration": 4,
    "start_time": "2021-11-22T11:49:46.697Z"
   },
   {
    "duration": 90,
    "start_time": "2021-11-22T11:49:46.703Z"
   },
   {
    "duration": 2,
    "start_time": "2021-11-22T11:49:46.795Z"
   },
   {
    "duration": 23,
    "start_time": "2021-11-22T11:49:46.799Z"
   },
   {
    "duration": 11,
    "start_time": "2021-11-22T11:49:46.823Z"
   },
   {
    "duration": 20,
    "start_time": "2021-11-22T11:49:46.835Z"
   },
   {
    "duration": 12,
    "start_time": "2021-11-22T11:49:46.856Z"
   },
   {
    "duration": 22,
    "start_time": "2021-11-22T11:49:46.870Z"
   },
   {
    "duration": 28,
    "start_time": "2021-11-22T11:49:46.894Z"
   },
   {
    "duration": 19,
    "start_time": "2021-11-22T11:49:46.923Z"
   },
   {
    "duration": 16,
    "start_time": "2021-11-22T11:49:46.944Z"
   },
   {
    "duration": 15,
    "start_time": "2021-11-22T11:49:46.961Z"
   },
   {
    "duration": 40,
    "start_time": "2021-11-22T11:49:46.977Z"
   },
   {
    "duration": 28,
    "start_time": "2021-11-22T11:49:47.019Z"
   },
   {
    "duration": 21,
    "start_time": "2021-11-22T11:49:47.049Z"
   },
   {
    "duration": 13,
    "start_time": "2021-11-22T11:49:47.072Z"
   },
   {
    "duration": 270,
    "start_time": "2021-11-22T11:49:49.479Z"
   },
   {
    "duration": 316,
    "start_time": "2021-11-22T11:51:33.326Z"
   },
   {
    "duration": 8,
    "start_time": "2021-11-22T11:51:40.813Z"
   },
   {
    "duration": 5,
    "start_time": "2021-11-22T11:51:42.847Z"
   },
   {
    "duration": 9,
    "start_time": "2021-11-22T11:52:39.038Z"
   },
   {
    "duration": 6,
    "start_time": "2021-11-22T11:52:40.311Z"
   },
   {
    "duration": 761,
    "start_time": "2021-11-22T11:54:52.482Z"
   },
   {
    "duration": 153,
    "start_time": "2021-11-22T11:54:55.836Z"
   },
   {
    "duration": 19,
    "start_time": "2021-11-22T11:54:57.868Z"
   },
   {
    "duration": 23,
    "start_time": "2021-11-22T11:55:08.106Z"
   },
   {
    "duration": 4,
    "start_time": "2021-11-22T11:55:21.740Z"
   },
   {
    "duration": 19,
    "start_time": "2021-11-22T11:55:25.069Z"
   },
   {
    "duration": 4,
    "start_time": "2021-11-22T11:55:27.529Z"
   },
   {
    "duration": 23,
    "start_time": "2021-11-22T11:55:33.206Z"
   },
   {
    "duration": 21,
    "start_time": "2021-11-22T11:55:46.150Z"
   },
   {
    "duration": 23,
    "start_time": "2021-11-22T11:55:53.462Z"
   },
   {
    "duration": 56,
    "start_time": "2021-11-22T11:55:58.696Z"
   },
   {
    "duration": 74,
    "start_time": "2021-11-22T11:55:59.836Z"
   },
   {
    "duration": 54,
    "start_time": "2021-11-22T11:56:01.207Z"
   },
   {
    "duration": 49,
    "start_time": "2021-11-22T11:56:04.644Z"
   },
   {
    "duration": 3,
    "start_time": "2021-11-22T11:56:28.170Z"
   },
   {
    "duration": 11,
    "start_time": "2021-11-22T11:56:31.700Z"
   },
   {
    "duration": 40,
    "start_time": "2021-11-22T11:56:53.961Z"
   },
   {
    "duration": 7,
    "start_time": "2021-11-22T11:57:07.670Z"
   },
   {
    "duration": 24,
    "start_time": "2021-11-22T11:57:22.397Z"
   },
   {
    "duration": 12,
    "start_time": "2021-11-22T11:57:41.473Z"
   },
   {
    "duration": 4,
    "start_time": "2021-11-22T11:58:17.922Z"
   },
   {
    "duration": 70,
    "start_time": "2021-11-22T11:58:23.414Z"
   },
   {
    "duration": 3,
    "start_time": "2021-11-22T11:58:55.405Z"
   },
   {
    "duration": 89,
    "start_time": "2021-11-22T11:58:56.313Z"
   },
   {
    "duration": 15,
    "start_time": "2021-11-22T11:59:10.545Z"
   },
   {
    "duration": 17,
    "start_time": "2021-11-22T11:59:15.487Z"
   },
   {
    "duration": 21,
    "start_time": "2021-11-22T11:59:16.938Z"
   },
   {
    "duration": 4,
    "start_time": "2021-11-22T11:59:32.223Z"
   },
   {
    "duration": 19,
    "start_time": "2021-11-22T11:59:56.684Z"
   },
   {
    "duration": 13,
    "start_time": "2021-11-22T11:59:58.080Z"
   },
   {
    "duration": 19,
    "start_time": "2021-11-22T11:59:59.226Z"
   },
   {
    "duration": 25,
    "start_time": "2021-11-22T12:00:00.244Z"
   },
   {
    "duration": 11,
    "start_time": "2021-11-22T12:00:05.058Z"
   },
   {
    "duration": 5,
    "start_time": "2021-11-22T12:00:08.514Z"
   },
   {
    "duration": 6,
    "start_time": "2021-11-22T12:00:10.393Z"
   },
   {
    "duration": 5,
    "start_time": "2021-11-22T12:00:12.208Z"
   },
   {
    "duration": 638,
    "start_time": "2021-11-22T18:36:46.282Z"
   },
   {
    "duration": 148,
    "start_time": "2021-11-22T18:36:46.921Z"
   },
   {
    "duration": 18,
    "start_time": "2021-11-22T18:36:47.071Z"
   },
   {
    "duration": 27,
    "start_time": "2021-11-22T18:36:47.092Z"
   },
   {
    "duration": 4,
    "start_time": "2021-11-22T18:36:47.122Z"
   },
   {
    "duration": 48,
    "start_time": "2021-11-22T18:36:47.128Z"
   },
   {
    "duration": 3,
    "start_time": "2021-11-22T18:36:47.178Z"
   },
   {
    "duration": 24,
    "start_time": "2021-11-22T18:36:47.184Z"
   },
   {
    "duration": 19,
    "start_time": "2021-11-22T18:36:47.211Z"
   },
   {
    "duration": 48,
    "start_time": "2021-11-22T18:36:47.231Z"
   },
   {
    "duration": 60,
    "start_time": "2021-11-22T18:36:47.281Z"
   },
   {
    "duration": 90,
    "start_time": "2021-11-22T18:36:47.342Z"
   },
   {
    "duration": 65,
    "start_time": "2021-11-22T18:36:47.433Z"
   },
   {
    "duration": 43,
    "start_time": "2021-11-22T18:36:47.500Z"
   },
   {
    "duration": 3,
    "start_time": "2021-11-22T18:36:47.544Z"
   },
   {
    "duration": 23,
    "start_time": "2021-11-22T18:36:47.549Z"
   },
   {
    "duration": 43,
    "start_time": "2021-11-22T18:36:47.574Z"
   },
   {
    "duration": 7,
    "start_time": "2021-11-22T18:36:47.619Z"
   },
   {
    "duration": 57,
    "start_time": "2021-11-22T18:36:47.628Z"
   },
   {
    "duration": 14,
    "start_time": "2021-11-22T18:36:47.687Z"
   },
   {
    "duration": 4,
    "start_time": "2021-11-22T18:36:47.703Z"
   },
   {
    "duration": 101,
    "start_time": "2021-11-22T18:36:47.709Z"
   },
   {
    "duration": 8,
    "start_time": "2021-11-22T18:36:47.815Z"
   },
   {
    "duration": 38,
    "start_time": "2021-11-22T18:36:47.826Z"
   },
   {
    "duration": 17,
    "start_time": "2021-11-22T18:36:47.866Z"
   },
   {
    "duration": 4,
    "start_time": "2021-11-22T18:36:47.884Z"
   },
   {
    "duration": 24,
    "start_time": "2021-11-22T18:36:47.890Z"
   },
   {
    "duration": 14,
    "start_time": "2021-11-22T18:36:47.916Z"
   },
   {
    "duration": 49,
    "start_time": "2021-11-22T18:36:47.932Z"
   },
   {
    "duration": 14,
    "start_time": "2021-11-22T18:36:47.983Z"
   },
   {
    "duration": 9,
    "start_time": "2021-11-22T18:36:48.000Z"
   },
   {
    "duration": 5,
    "start_time": "2021-11-22T18:36:48.012Z"
   },
   {
    "duration": 8,
    "start_time": "2021-11-22T18:36:48.018Z"
   },
   {
    "duration": 36,
    "start_time": "2021-11-22T18:36:48.027Z"
   },
   {
    "duration": 575,
    "start_time": "2021-11-22T19:25:12.495Z"
   },
   {
    "duration": 160,
    "start_time": "2021-11-22T19:25:13.072Z"
   },
   {
    "duration": 17,
    "start_time": "2021-11-22T19:25:13.234Z"
   },
   {
    "duration": 34,
    "start_time": "2021-11-22T19:25:13.254Z"
   },
   {
    "duration": 13,
    "start_time": "2021-11-22T19:25:13.290Z"
   },
   {
    "duration": 32,
    "start_time": "2021-11-22T19:25:13.305Z"
   },
   {
    "duration": 6,
    "start_time": "2021-11-22T19:25:13.339Z"
   },
   {
    "duration": 32,
    "start_time": "2021-11-22T19:25:13.347Z"
   },
   {
    "duration": 21,
    "start_time": "2021-11-22T19:25:13.381Z"
   },
   {
    "duration": 23,
    "start_time": "2021-11-22T19:25:13.405Z"
   },
   {
    "duration": 79,
    "start_time": "2021-11-22T19:25:13.431Z"
   },
   {
    "duration": 84,
    "start_time": "2021-11-22T19:25:13.513Z"
   },
   {
    "duration": 65,
    "start_time": "2021-11-22T19:25:13.599Z"
   },
   {
    "duration": 41,
    "start_time": "2021-11-22T19:25:13.666Z"
   },
   {
    "duration": 15,
    "start_time": "2021-11-22T19:25:13.709Z"
   },
   {
    "duration": 28,
    "start_time": "2021-11-22T19:25:13.726Z"
   },
   {
    "duration": 64,
    "start_time": "2021-11-22T19:25:13.756Z"
   },
   {
    "duration": 17,
    "start_time": "2021-11-22T19:25:13.822Z"
   },
   {
    "duration": 44,
    "start_time": "2021-11-22T19:25:13.841Z"
   },
   {
    "duration": 12,
    "start_time": "2021-11-22T19:25:13.886Z"
   },
   {
    "duration": 13,
    "start_time": "2021-11-22T19:25:13.900Z"
   },
   {
    "duration": 99,
    "start_time": "2021-11-22T19:25:13.915Z"
   },
   {
    "duration": 24,
    "start_time": "2021-11-22T19:25:14.016Z"
   },
   {
    "duration": 45,
    "start_time": "2021-11-22T19:25:14.043Z"
   },
   {
    "duration": 18,
    "start_time": "2021-11-22T19:25:14.090Z"
   },
   {
    "duration": 6,
    "start_time": "2021-11-22T19:25:14.110Z"
   },
   {
    "duration": 26,
    "start_time": "2021-11-22T19:25:14.117Z"
   },
   {
    "duration": 25,
    "start_time": "2021-11-22T19:25:14.146Z"
   },
   {
    "duration": 26,
    "start_time": "2021-11-22T19:25:14.174Z"
   },
   {
    "duration": 15,
    "start_time": "2021-11-22T19:25:14.202Z"
   },
   {
    "duration": 20,
    "start_time": "2021-11-22T19:25:14.219Z"
   },
   {
    "duration": 5,
    "start_time": "2021-11-22T19:25:14.240Z"
   },
   {
    "duration": 20,
    "start_time": "2021-11-22T19:25:14.247Z"
   },
   {
    "duration": 5,
    "start_time": "2021-11-22T19:25:14.268Z"
   },
   {
    "duration": 822,
    "start_time": "2021-11-23T08:04:08.726Z"
   },
   {
    "duration": 216,
    "start_time": "2021-11-23T08:04:09.551Z"
   },
   {
    "duration": 30,
    "start_time": "2021-11-23T08:04:09.770Z"
   },
   {
    "duration": 34,
    "start_time": "2021-11-23T08:04:09.804Z"
   },
   {
    "duration": 42,
    "start_time": "2021-11-23T08:04:09.841Z"
   },
   {
    "duration": 25,
    "start_time": "2021-11-23T08:04:09.886Z"
   },
   {
    "duration": 9,
    "start_time": "2021-11-23T08:04:09.914Z"
   },
   {
    "duration": 30,
    "start_time": "2021-11-23T08:04:09.925Z"
   },
   {
    "duration": 22,
    "start_time": "2021-11-23T08:04:09.983Z"
   },
   {
    "duration": 31,
    "start_time": "2021-11-23T08:04:10.008Z"
   },
   {
    "duration": 114,
    "start_time": "2021-11-23T08:04:10.041Z"
   },
   {
    "duration": 112,
    "start_time": "2021-11-23T08:04:10.158Z"
   },
   {
    "duration": 77,
    "start_time": "2021-11-23T08:04:10.272Z"
   },
   {
    "duration": 70,
    "start_time": "2021-11-23T08:04:10.352Z"
   },
   {
    "duration": 4,
    "start_time": "2021-11-23T08:04:10.424Z"
   },
   {
    "duration": 16,
    "start_time": "2021-11-23T08:04:10.431Z"
   },
   {
    "duration": 85,
    "start_time": "2021-11-23T08:04:10.450Z"
   },
   {
    "duration": 8,
    "start_time": "2021-11-23T08:04:14.098Z"
   },
   {
    "duration": 15,
    "start_time": "2021-11-23T08:05:34.433Z"
   },
   {
    "duration": 816,
    "start_time": "2021-11-23T16:53:55.005Z"
   },
   {
    "duration": 212,
    "start_time": "2021-11-23T16:53:55.824Z"
   },
   {
    "duration": 26,
    "start_time": "2021-11-23T16:53:56.040Z"
   },
   {
    "duration": 34,
    "start_time": "2021-11-23T16:53:56.069Z"
   },
   {
    "duration": 28,
    "start_time": "2021-11-23T16:53:56.106Z"
   },
   {
    "duration": 29,
    "start_time": "2021-11-23T16:53:56.137Z"
   },
   {
    "duration": 7,
    "start_time": "2021-11-23T16:53:56.168Z"
   },
   {
    "duration": 58,
    "start_time": "2021-11-23T16:53:56.177Z"
   },
   {
    "duration": 25,
    "start_time": "2021-11-23T16:53:56.241Z"
   },
   {
    "duration": 30,
    "start_time": "2021-11-23T16:53:56.270Z"
   },
   {
    "duration": 89,
    "start_time": "2021-11-23T16:53:56.336Z"
   },
   {
    "duration": 112,
    "start_time": "2021-11-23T16:53:56.438Z"
   },
   {
    "duration": 98,
    "start_time": "2021-11-23T16:53:56.553Z"
   },
   {
    "duration": 82,
    "start_time": "2021-11-23T16:53:56.653Z"
   },
   {
    "duration": 5,
    "start_time": "2021-11-23T16:53:56.738Z"
   },
   {
    "duration": 28,
    "start_time": "2021-11-23T16:53:56.746Z"
   },
   {
    "duration": 74,
    "start_time": "2021-11-23T16:53:56.777Z"
   },
   {
    "duration": 8,
    "start_time": "2021-11-23T16:53:56.853Z"
   },
   {
    "duration": 20,
    "start_time": "2021-11-23T16:53:56.863Z"
   },
   {
    "duration": 42,
    "start_time": "2021-11-23T16:53:56.886Z"
   },
   {
    "duration": 7,
    "start_time": "2021-11-23T16:53:56.935Z"
   },
   {
    "duration": 115,
    "start_time": "2021-11-23T16:53:56.945Z"
   },
   {
    "duration": 12,
    "start_time": "2021-11-23T16:53:57.063Z"
   },
   {
    "duration": 27,
    "start_time": "2021-11-23T16:53:57.077Z"
   },
   {
    "duration": 49,
    "start_time": "2021-11-23T16:53:57.107Z"
   },
   {
    "duration": 5,
    "start_time": "2021-11-23T16:53:57.158Z"
   },
   {
    "duration": 31,
    "start_time": "2021-11-23T16:53:57.167Z"
   },
   {
    "duration": 51,
    "start_time": "2021-11-23T16:53:57.201Z"
   },
   {
    "duration": 23,
    "start_time": "2021-11-23T16:53:57.254Z"
   },
   {
    "duration": 20,
    "start_time": "2021-11-23T16:53:57.279Z"
   },
   {
    "duration": 42,
    "start_time": "2021-11-23T16:53:57.301Z"
   },
   {
    "duration": 12,
    "start_time": "2021-11-23T16:53:57.345Z"
   },
   {
    "duration": 10,
    "start_time": "2021-11-23T16:53:57.360Z"
   },
   {
    "duration": 6,
    "start_time": "2021-11-23T16:53:57.373Z"
   }
  ],
  "colab": {
   "collapsed_sections": [
    "E0vqbgi9ay0H",
    "VUC88oWjTJw2"
   ],
   "name": "yandex_music_project_2021.2.ipynb",
   "provenance": []
  },
  "kernelspec": {
   "display_name": "Python 3 (ipykernel)",
   "language": "python",
   "name": "python3"
  },
  "language_info": {
   "codemirror_mode": {
    "name": "ipython",
    "version": 3
   },
   "file_extension": ".py",
   "mimetype": "text/x-python",
   "name": "python",
   "nbconvert_exporter": "python",
   "pygments_lexer": "ipython3",
   "version": "3.9.7"
  },
  "toc": {
   "base_numbering": 1,
   "nav_menu": {},
   "number_sections": true,
   "sideBar": true,
   "skip_h1_title": true,
   "title_cell": "Table of Contents",
   "title_sidebar": "Contents",
   "toc_cell": false,
   "toc_position": {
    "height": "calc(100% - 180px)",
    "left": "10px",
    "top": "150px",
    "width": "165px"
   },
   "toc_section_display": true,
   "toc_window_display": true
  }
 },
 "nbformat": 4,
 "nbformat_minor": 1
}
