{
 "cells": [
  {
   "cell_type": "markdown",
   "metadata": {},
   "source": [
    "# Исследование надёжности заёмщиков\n",
    "\n",
    "Заказчик — кредитный отдел банка. Нужно разобраться, влияет ли семейное положение и количество детей клиента на факт погашения кредита в срок. Входные данные от банка — статистика о платёжеспособности клиентов.\n",
    "\n",
    "Результаты исследования будут учтены при построении модели **кредитного скоринга** — специальной системы, которая оценивает способность потенциального заёмщика вернуть кредит банку."
   ]
  },
  {
   "cell_type": "markdown",
   "metadata": {},
   "source": [
    "## Шаг 1. Откройте файл с данными и изучите общую информацию"
   ]
  },
  {
   "cell_type": "code",
   "execution_count": 1,
   "metadata": {},
   "outputs": [],
   "source": [
    "import pandas as pd\n",
    "from pymystem3 import Mystem\n",
    "m = Mystem()\n",
    "import math"
   ]
  },
  {
   "cell_type": "code",
   "execution_count": 2,
   "metadata": {},
   "outputs": [
    {
     "data": {
      "text/html": [
       "<div>\n",
       "<style scoped>\n",
       "    .dataframe tbody tr th:only-of-type {\n",
       "        vertical-align: middle;\n",
       "    }\n",
       "\n",
       "    .dataframe tbody tr th {\n",
       "        vertical-align: top;\n",
       "    }\n",
       "\n",
       "    .dataframe thead th {\n",
       "        text-align: right;\n",
       "    }\n",
       "</style>\n",
       "<table border=\"1\" class=\"dataframe\">\n",
       "  <thead>\n",
       "    <tr style=\"text-align: right;\">\n",
       "      <th></th>\n",
       "      <th>children</th>\n",
       "      <th>days_employed</th>\n",
       "      <th>dob_years</th>\n",
       "      <th>education</th>\n",
       "      <th>education_id</th>\n",
       "      <th>family_status</th>\n",
       "      <th>family_status_id</th>\n",
       "      <th>gender</th>\n",
       "      <th>income_type</th>\n",
       "      <th>debt</th>\n",
       "      <th>total_income</th>\n",
       "      <th>purpose</th>\n",
       "    </tr>\n",
       "  </thead>\n",
       "  <tbody>\n",
       "    <tr>\n",
       "      <td>0</td>\n",
       "      <td>1</td>\n",
       "      <td>-8437.673028</td>\n",
       "      <td>42</td>\n",
       "      <td>высшее</td>\n",
       "      <td>0</td>\n",
       "      <td>женат / замужем</td>\n",
       "      <td>0</td>\n",
       "      <td>F</td>\n",
       "      <td>сотрудник</td>\n",
       "      <td>0</td>\n",
       "      <td>253875.639453</td>\n",
       "      <td>покупка жилья</td>\n",
       "    </tr>\n",
       "    <tr>\n",
       "      <td>1</td>\n",
       "      <td>1</td>\n",
       "      <td>-4024.803754</td>\n",
       "      <td>36</td>\n",
       "      <td>среднее</td>\n",
       "      <td>1</td>\n",
       "      <td>женат / замужем</td>\n",
       "      <td>0</td>\n",
       "      <td>F</td>\n",
       "      <td>сотрудник</td>\n",
       "      <td>0</td>\n",
       "      <td>112080.014102</td>\n",
       "      <td>приобретение автомобиля</td>\n",
       "    </tr>\n",
       "    <tr>\n",
       "      <td>2</td>\n",
       "      <td>0</td>\n",
       "      <td>-5623.422610</td>\n",
       "      <td>33</td>\n",
       "      <td>Среднее</td>\n",
       "      <td>1</td>\n",
       "      <td>женат / замужем</td>\n",
       "      <td>0</td>\n",
       "      <td>M</td>\n",
       "      <td>сотрудник</td>\n",
       "      <td>0</td>\n",
       "      <td>145885.952297</td>\n",
       "      <td>покупка жилья</td>\n",
       "    </tr>\n",
       "    <tr>\n",
       "      <td>3</td>\n",
       "      <td>3</td>\n",
       "      <td>-4124.747207</td>\n",
       "      <td>32</td>\n",
       "      <td>среднее</td>\n",
       "      <td>1</td>\n",
       "      <td>женат / замужем</td>\n",
       "      <td>0</td>\n",
       "      <td>M</td>\n",
       "      <td>сотрудник</td>\n",
       "      <td>0</td>\n",
       "      <td>267628.550329</td>\n",
       "      <td>дополнительное образование</td>\n",
       "    </tr>\n",
       "    <tr>\n",
       "      <td>4</td>\n",
       "      <td>0</td>\n",
       "      <td>340266.072047</td>\n",
       "      <td>53</td>\n",
       "      <td>среднее</td>\n",
       "      <td>1</td>\n",
       "      <td>гражданский брак</td>\n",
       "      <td>1</td>\n",
       "      <td>F</td>\n",
       "      <td>пенсионер</td>\n",
       "      <td>0</td>\n",
       "      <td>158616.077870</td>\n",
       "      <td>сыграть свадьбу</td>\n",
       "    </tr>\n",
       "  </tbody>\n",
       "</table>\n",
       "</div>"
      ],
      "text/plain": [
       "   children  days_employed  dob_years education  education_id  \\\n",
       "0         1   -8437.673028         42    высшее             0   \n",
       "1         1   -4024.803754         36   среднее             1   \n",
       "2         0   -5623.422610         33   Среднее             1   \n",
       "3         3   -4124.747207         32   среднее             1   \n",
       "4         0  340266.072047         53   среднее             1   \n",
       "\n",
       "      family_status  family_status_id gender income_type  debt   total_income  \\\n",
       "0   женат / замужем                 0      F   сотрудник     0  253875.639453   \n",
       "1   женат / замужем                 0      F   сотрудник     0  112080.014102   \n",
       "2   женат / замужем                 0      M   сотрудник     0  145885.952297   \n",
       "3   женат / замужем                 0      M   сотрудник     0  267628.550329   \n",
       "4  гражданский брак                 1      F   пенсионер     0  158616.077870   \n",
       "\n",
       "                      purpose  \n",
       "0               покупка жилья  \n",
       "1     приобретение автомобиля  \n",
       "2               покупка жилья  \n",
       "3  дополнительное образование  \n",
       "4             сыграть свадьбу  "
      ]
     },
     "execution_count": 2,
     "metadata": {},
     "output_type": "execute_result"
    }
   ],
   "source": [
    "df = pd.read_csv('/datasets/data.csv')\n",
    "df.head()"
   ]
  },
  {
   "cell_type": "code",
   "execution_count": 3,
   "metadata": {},
   "outputs": [
    {
     "name": "stdout",
     "output_type": "stream",
     "text": [
      "<class 'pandas.core.frame.DataFrame'>\n",
      "RangeIndex: 21525 entries, 0 to 21524\n",
      "Data columns (total 12 columns):\n",
      "children            21525 non-null int64\n",
      "days_employed       19351 non-null float64\n",
      "dob_years           21525 non-null int64\n",
      "education           21525 non-null object\n",
      "education_id        21525 non-null int64\n",
      "family_status       21525 non-null object\n",
      "family_status_id    21525 non-null int64\n",
      "gender              21525 non-null object\n",
      "income_type         21525 non-null object\n",
      "debt                21525 non-null int64\n",
      "total_income        19351 non-null float64\n",
      "purpose             21525 non-null object\n",
      "dtypes: float64(2), int64(5), object(5)\n",
      "memory usage: 2.0+ MB\n"
     ]
    }
   ],
   "source": [
    "df.info()"
   ]
  },
  {
   "cell_type": "markdown",
   "metadata": {},
   "source": [
    "**Вывод:**"
   ]
  },
  {
   "cell_type": "markdown",
   "metadata": {},
   "source": [
    "- в датафрейме 21525 строки, 12 колонок\n",
    "- числовые данные имеют тип int64 и float64, строчные object\n",
    "- в данных есть пропуски, а именно в колонках: трудовой стаж и ежемесячный доход\n",
    "- в колонке трудовой стаж есть отрицательные числа"
   ]
  },
  {
   "cell_type": "markdown",
   "metadata": {},
   "source": [
    "## Шаг 2. Предобработка данных"
   ]
  },
  {
   "cell_type": "markdown",
   "metadata": {},
   "source": [
    "### Обработка пропусков"
   ]
  },
  {
   "cell_type": "code",
   "execution_count": 4,
   "metadata": {},
   "outputs": [
    {
     "data": {
      "text/plain": [
       "children               0\n",
       "days_employed       2174\n",
       "dob_years              0\n",
       "education              0\n",
       "education_id           0\n",
       "family_status          0\n",
       "family_status_id       0\n",
       "gender                 0\n",
       "income_type            0\n",
       "debt                   0\n",
       "total_income        2174\n",
       "purpose                0\n",
       "dtype: int64"
      ]
     },
     "execution_count": 4,
     "metadata": {},
     "output_type": "execute_result"
    }
   ],
   "source": [
    "df.isna().sum()"
   ]
  },
  {
   "cell_type": "markdown",
   "metadata": {},
   "source": [
    "Количесво пропусков в колонках *days_employed* и *total_income* одинаковое.\n",
    "\n",
    "В этих колонках представлен числовой тип данных *float64*"
   ]
  },
  {
   "cell_type": "code",
   "execution_count": 5,
   "metadata": {},
   "outputs": [
    {
     "data": {
      "text/plain": [
       "2174"
      ]
     },
     "execution_count": 5,
     "metadata": {},
     "output_type": "execute_result"
    }
   ],
   "source": [
    "len(df[(df.days_employed.isna()) & (df.total_income.isna())])"
   ]
  },
  {
   "cell_type": "markdown",
   "metadata": {},
   "source": [
    "Длинна среза совпадает с количеством пропусков в колонках *days_employed*, *total_income*, значит пропуски взаимосвязаны.\n",
    "\n",
    "Может быть, что если клиент не указал стаж работы, то и средняя зарплата не запрашивается.\n",
    "\n",
    "2174 строк это примерно 10% данных, поэтому удалять их нельзя, теряется большой обьем данных; заполнять 0 тоже не желательно, это может сильно повлиять на дольшейшие показатели. Думаю стоить заполнить медианой или средним числом."
   ]
  },
  {
   "cell_type": "code",
   "execution_count": 6,
   "metadata": {},
   "outputs": [
    {
     "name": "stdout",
     "output_type": "stream",
     "text": [
      "-18388.949900568383\n"
     ]
    },
    {
     "data": {
      "text/plain": [
       "401755.40047533"
      ]
     },
     "execution_count": 6,
     "metadata": {},
     "output_type": "execute_result"
    }
   ],
   "source": [
    "print(df['days_employed'].min())\n",
    "df['days_employed'].max()"
   ]
  },
  {
   "cell_type": "code",
   "execution_count": 7,
   "metadata": {},
   "outputs": [
    {
     "name": "stdout",
     "output_type": "stream",
     "text": [
      "20667.26379327158\n"
     ]
    },
    {
     "data": {
      "text/plain": [
       "2265604.028722744"
      ]
     },
     "execution_count": 7,
     "metadata": {},
     "output_type": "execute_result"
    }
   ],
   "source": [
    "print(df['total_income'].min())\n",
    "df['total_income'].max()"
   ]
  },
  {
   "cell_type": "markdown",
   "metadata": {},
   "source": [
    "Общий трудовой стаж: \n",
    "- минимальное значение -18388 дня, стаж не может быть отрицательным.\n",
    "- максимальное 401755 дней - это более 1000 лет стажа. Возможно, эти данные собирались не в днях а в часах."
   ]
  },
  {
   "cell_type": "code",
   "execution_count": 8,
   "metadata": {},
   "outputs": [
    {
     "data": {
      "text/plain": [
       "45.83203858570333"
      ]
     },
     "execution_count": 8,
     "metadata": {},
     "output_type": "execute_result"
    }
   ],
   "source": [
    "# Среднее количество дней, за которое Земля делает полный оборот вокруг Солнца - это 365,2425 суток.\n",
    "401755.40047533 / 24 / 365.2425"
   ]
  },
  {
   "cell_type": "markdown",
   "metadata": {},
   "source": [
    "Получилось примерно 45 лет, это уже больше похоже на праду. Переведу все аномально большие значения в дни, то есть поделю на 24.\n",
    "\n",
    "Предположу, что максимально человек может проработать 50 лет.\n",
    "\n",
    "Буду менять все значения, которые больше 50 * 365.2425."
   ]
  },
  {
   "cell_type": "code",
   "execution_count": 9,
   "metadata": {},
   "outputs": [
    {
     "data": {
      "text/plain": [
       "3445"
      ]
     },
     "execution_count": 9,
     "metadata": {},
     "output_type": "execute_result"
    }
   ],
   "source": [
    "len(df.loc[df['days_employed'] >= 50 * 365.2425])"
   ]
  },
  {
   "cell_type": "code",
   "execution_count": 10,
   "metadata": {},
   "outputs": [],
   "source": [
    "def days_employed_in_days(row):\n",
    "    '''Если число row больше (50 * 365.2425), то оно делится на 24 и получается количество дней'''\n",
    "    if row >= (50 * 365.2425):\n",
    "        return row / 24\n",
    "    return row"
   ]
  },
  {
   "cell_type": "code",
   "execution_count": 11,
   "metadata": {},
   "outputs": [],
   "source": [
    "df['days_employed'] = df['days_employed'].apply(days_employed_in_days)"
   ]
  },
  {
   "cell_type": "markdown",
   "metadata": {},
   "source": [
    "В колонке трудовой стаж встречаются отрицательные числа, явно это ошибка, так как стаж не может быть меньше 0. Нужно это исправить"
   ]
  },
  {
   "cell_type": "code",
   "execution_count": 12,
   "metadata": {},
   "outputs": [],
   "source": [
    "df['days_employed'] = abs(df['days_employed'])"
   ]
  },
  {
   "cell_type": "code",
   "execution_count": 13,
   "metadata": {},
   "outputs": [
    {
     "name": "stdout",
     "output_type": "stream",
     "text": [
      "24.14163324048118\n"
     ]
    },
    {
     "data": {
      "text/plain": [
       "18388.949900568383"
      ]
     },
     "execution_count": 13,
     "metadata": {},
     "output_type": "execute_result"
    }
   ],
   "source": [
    "print(df['days_employed'].min())\n",
    "df['days_employed'].max()"
   ]
  },
  {
   "cell_type": "code",
   "execution_count": 14,
   "metadata": {},
   "outputs": [
    {
     "data": {
      "text/plain": [
       "50.347234783926794"
      ]
     },
     "execution_count": 14,
     "metadata": {},
     "output_type": "execute_result"
    }
   ],
   "source": [
    "df['days_employed'].max() / 365.2425"
   ]
  },
  {
   "cell_type": "markdown",
   "metadata": {},
   "source": [
    "Получилось, что максимум клиент из этого датасета проработал 50 с небольшим лет"
   ]
  },
  {
   "cell_type": "markdown",
   "metadata": {},
   "source": [
    "Клиентов можно разделить на категории по возрасту. \n",
    "\n",
    "Дальше в каждой категории найти средний стаж работы.\n",
    "\n",
    "Потом заполню пропуски в колонке *days_employed* средним значением по трудовому стажу, в зависимости от категории по возрасту.\n",
    "\n",
    "В колонке *dob_years* (возраст) есть 0."
   ]
  },
  {
   "cell_type": "code",
   "execution_count": 15,
   "metadata": {},
   "outputs": [
    {
     "data": {
      "text/plain": [
       "10"
      ]
     },
     "execution_count": 15,
     "metadata": {},
     "output_type": "execute_result"
    }
   ],
   "source": [
    "len(df.loc[(df['dob_years'] == 0) & (df.days_employed.isna())])"
   ]
  },
  {
   "cell_type": "code",
   "execution_count": 16,
   "metadata": {},
   "outputs": [
    {
     "data": {
      "text/html": [
       "<div>\n",
       "<style scoped>\n",
       "    .dataframe tbody tr th:only-of-type {\n",
       "        vertical-align: middle;\n",
       "    }\n",
       "\n",
       "    .dataframe tbody tr th {\n",
       "        vertical-align: top;\n",
       "    }\n",
       "\n",
       "    .dataframe thead th {\n",
       "        text-align: right;\n",
       "    }\n",
       "</style>\n",
       "<table border=\"1\" class=\"dataframe\">\n",
       "  <thead>\n",
       "    <tr style=\"text-align: right;\">\n",
       "      <th></th>\n",
       "      <th>children</th>\n",
       "      <th>days_employed</th>\n",
       "      <th>dob_years</th>\n",
       "      <th>education</th>\n",
       "      <th>education_id</th>\n",
       "      <th>family_status</th>\n",
       "      <th>family_status_id</th>\n",
       "      <th>gender</th>\n",
       "      <th>income_type</th>\n",
       "      <th>debt</th>\n",
       "      <th>total_income</th>\n",
       "      <th>purpose</th>\n",
       "    </tr>\n",
       "  </thead>\n",
       "  <tbody>\n",
       "    <tr>\n",
       "      <td>1890</td>\n",
       "      <td>0</td>\n",
       "      <td>NaN</td>\n",
       "      <td>0</td>\n",
       "      <td>высшее</td>\n",
       "      <td>0</td>\n",
       "      <td>Не женат / не замужем</td>\n",
       "      <td>4</td>\n",
       "      <td>F</td>\n",
       "      <td>сотрудник</td>\n",
       "      <td>0</td>\n",
       "      <td>NaN</td>\n",
       "      <td>жилье</td>\n",
       "    </tr>\n",
       "    <tr>\n",
       "      <td>2284</td>\n",
       "      <td>0</td>\n",
       "      <td>NaN</td>\n",
       "      <td>0</td>\n",
       "      <td>среднее</td>\n",
       "      <td>1</td>\n",
       "      <td>вдовец / вдова</td>\n",
       "      <td>2</td>\n",
       "      <td>F</td>\n",
       "      <td>пенсионер</td>\n",
       "      <td>0</td>\n",
       "      <td>NaN</td>\n",
       "      <td>недвижимость</td>\n",
       "    </tr>\n",
       "    <tr>\n",
       "      <td>4064</td>\n",
       "      <td>1</td>\n",
       "      <td>NaN</td>\n",
       "      <td>0</td>\n",
       "      <td>среднее</td>\n",
       "      <td>1</td>\n",
       "      <td>гражданский брак</td>\n",
       "      <td>1</td>\n",
       "      <td>M</td>\n",
       "      <td>компаньон</td>\n",
       "      <td>0</td>\n",
       "      <td>NaN</td>\n",
       "      <td>ремонт жилью</td>\n",
       "    </tr>\n",
       "    <tr>\n",
       "      <td>5014</td>\n",
       "      <td>0</td>\n",
       "      <td>NaN</td>\n",
       "      <td>0</td>\n",
       "      <td>среднее</td>\n",
       "      <td>1</td>\n",
       "      <td>женат / замужем</td>\n",
       "      <td>0</td>\n",
       "      <td>F</td>\n",
       "      <td>компаньон</td>\n",
       "      <td>0</td>\n",
       "      <td>NaN</td>\n",
       "      <td>покупка недвижимости</td>\n",
       "    </tr>\n",
       "    <tr>\n",
       "      <td>6411</td>\n",
       "      <td>0</td>\n",
       "      <td>NaN</td>\n",
       "      <td>0</td>\n",
       "      <td>высшее</td>\n",
       "      <td>0</td>\n",
       "      <td>гражданский брак</td>\n",
       "      <td>1</td>\n",
       "      <td>F</td>\n",
       "      <td>пенсионер</td>\n",
       "      <td>0</td>\n",
       "      <td>NaN</td>\n",
       "      <td>свадьба</td>\n",
       "    </tr>\n",
       "  </tbody>\n",
       "</table>\n",
       "</div>"
      ],
      "text/plain": [
       "      children  days_employed  dob_years education  education_id  \\\n",
       "1890         0            NaN          0    высшее             0   \n",
       "2284         0            NaN          0   среднее             1   \n",
       "4064         1            NaN          0   среднее             1   \n",
       "5014         0            NaN          0   среднее             1   \n",
       "6411         0            NaN          0    высшее             0   \n",
       "\n",
       "              family_status  family_status_id gender income_type  debt  \\\n",
       "1890  Не женат / не замужем                 4      F   сотрудник     0   \n",
       "2284         вдовец / вдова                 2      F   пенсионер     0   \n",
       "4064       гражданский брак                 1      M   компаньон     0   \n",
       "5014        женат / замужем                 0      F   компаньон     0   \n",
       "6411       гражданский брак                 1      F   пенсионер     0   \n",
       "\n",
       "      total_income               purpose  \n",
       "1890           NaN                 жилье  \n",
       "2284           NaN          недвижимость  \n",
       "4064           NaN          ремонт жилью  \n",
       "5014           NaN  покупка недвижимости  \n",
       "6411           NaN               свадьба  "
      ]
     },
     "execution_count": 16,
     "metadata": {},
     "output_type": "execute_result"
    }
   ],
   "source": [
    "df.loc[(df['dob_years'] == 0) & (df.days_employed.isna())].head()"
   ]
  },
  {
   "cell_type": "markdown",
   "metadata": {},
   "source": [
    "Есть 10 строк где не указан возраст, стаж работы, зарплата. У этих клиентов укажу минимальный стаж работы из датасета."
   ]
  },
  {
   "cell_type": "markdown",
   "metadata": {},
   "source": [
    "Категории клиентов по возрасту:\n",
    "- 0 - возраст равен 0\n",
    "- 1 - 18..20\n",
    "- 2 - 20..30\n",
    "- 3 - 30..40\n",
    "- 4 - 40..50\n",
    "- 5 - 50..75"
   ]
  },
  {
   "cell_type": "code",
   "execution_count": 17,
   "metadata": {},
   "outputs": [],
   "source": [
    "def age_category(row):\n",
    "    if row == 0:\n",
    "        return 0\n",
    "    if 18 <= row < 20:\n",
    "        return 1\n",
    "    if 20 <= row < 30:\n",
    "        return 2\n",
    "    if 30 <= row < 40:\n",
    "        return 3\n",
    "    if 40 <= row < 50:\n",
    "        return 4\n",
    "    if 50 <= row:\n",
    "        return 5"
   ]
  },
  {
   "cell_type": "code",
   "execution_count": 18,
   "metadata": {},
   "outputs": [],
   "source": [
    "df['dob_years_category'] = df['dob_years'].apply(age_category)"
   ]
  },
  {
   "cell_type": "code",
   "execution_count": 19,
   "metadata": {},
   "outputs": [
    {
     "data": {
      "text/plain": [
       "5    7196\n",
       "3    5674\n",
       "4    5371\n",
       "2    3169\n",
       "0     101\n",
       "1      14\n",
       "Name: dob_years_category, dtype: int64"
      ]
     },
     "execution_count": 19,
     "metadata": {},
     "output_type": "execute_result"
    }
   ],
   "source": [
    "# Проверю как заполнилась колонкаdob_years_category\n",
    "df['dob_years_category'].value_counts()"
   ]
  },
  {
   "cell_type": "markdown",
   "metadata": {},
   "source": [
    "Теперь в каждой категории возраста определяю средний стаж работы."
   ]
  },
  {
   "cell_type": "code",
   "execution_count": 20,
   "metadata": {},
   "outputs": [
    {
     "data": {
      "text/plain": [
       "dob_years_category\n",
       "0    4611.266086\n",
       "1     633.678086\n",
       "2    1246.231977\n",
       "3    2103.700591\n",
       "4    3065.967424\n",
       "5    9365.134544\n",
       "Name: days_employed, dtype: float64"
      ]
     },
     "execution_count": 20,
     "metadata": {},
     "output_type": "execute_result"
    }
   ],
   "source": [
    "df.groupby('dob_years_category')['days_employed'].mean()"
   ]
  },
  {
   "cell_type": "markdown",
   "metadata": {},
   "source": [
    "Видно, что категории 0 клиенты в среднем проработали больше 12 лет."
   ]
  },
  {
   "cell_type": "code",
   "execution_count": 21,
   "metadata": {},
   "outputs": [],
   "source": [
    "def work_experience(row):\n",
    "    '''Если ячейка в колонке days_employed не пустая(не равна NaN), \n",
    "    то выводиться певоначальное значение days_employed.\n",
    "    Иначе выбирается среднее значение трудового стажа в зависимости от категории.\n",
    "    Есть у клиента не указан возраст, стаж работы, то выводится минимальный стаж работы из датасета.'''\n",
    "    if math.isnan(row['days_employed']):\n",
    "        if (row['dob_years'] == 0) and (math.isnan(row['days_employed'])):\n",
    "            return 24\n",
    "        if row['dob_years_category'] == 0:\n",
    "            return 4611.266086\n",
    "        elif row['dob_years_category'] == 1:\n",
    "            return 633.678086\n",
    "        elif row['dob_years_category'] == 2:\n",
    "            return 1246.231977\n",
    "        elif row['dob_years_category'] == 3:\n",
    "            return 2103.700591\n",
    "        elif row['dob_years_category'] == 4:\n",
    "            return 3065.967424\n",
    "        elif row['dob_years_category'] == 5:\n",
    "            return 9365.134544\n",
    "    else:\n",
    "        return row['days_employed']"
   ]
  },
  {
   "cell_type": "code",
   "execution_count": 22,
   "metadata": {},
   "outputs": [],
   "source": [
    "df['days_employed'] = df.apply(work_experience, axis=1)"
   ]
  },
  {
   "cell_type": "code",
   "execution_count": 23,
   "metadata": {},
   "outputs": [
    {
     "data": {
      "text/plain": [
       "income_type\n",
       "безработный        131339.751676\n",
       "в декрете           53829.130729\n",
       "госслужащий        170898.309923\n",
       "компаньон          202417.461462\n",
       "пенсионер          137127.465690\n",
       "предприниматель    499163.144947\n",
       "сотрудник          161380.260488\n",
       "студент             98201.625314\n",
       "Name: total_income, dtype: float64"
      ]
     },
     "execution_count": 23,
     "metadata": {},
     "output_type": "execute_result"
    }
   ],
   "source": [
    "df.groupby(['income_type'])['total_income'].mean()"
   ]
  },
  {
   "cell_type": "code",
   "execution_count": 24,
   "metadata": {},
   "outputs": [
    {
     "data": {
      "text/plain": [
       "income_type\n",
       "безработный        131339.751676\n",
       "в декрете           53829.130729\n",
       "госслужащий        150447.935283\n",
       "компаньон          172357.950966\n",
       "пенсионер          118514.486412\n",
       "предприниматель    499163.144947\n",
       "сотрудник          142594.396847\n",
       "студент             98201.625314\n",
       "Name: total_income, dtype: float64"
      ]
     },
     "execution_count": 24,
     "metadata": {},
     "output_type": "execute_result"
    }
   ],
   "source": [
    "df.groupby(['income_type'])['total_income'].median()"
   ]
  },
  {
   "cell_type": "markdown",
   "metadata": {},
   "source": [
    "У безработных хороший ежемесячный доход.\n",
    "\n",
    "В колонке *total_income* медиана и среднее значение близки.\n",
    "\n",
    "Для заполнения пропусков в колонке *total_income* выбиру медиану."
   ]
  },
  {
   "cell_type": "code",
   "execution_count": 25,
   "metadata": {},
   "outputs": [],
   "source": [
    "def salary_by_position(row):\n",
    "    if math.isnan(row['total_income']):\n",
    "        if row['income_type'] == 'безработный':\n",
    "            return 131339.751676\n",
    "        elif row['income_type'] == 'в декрете':\n",
    "            return 53829.130729\n",
    "        elif row['income_type'] == 'госслужащий':\n",
    "            return 150447.935283\n",
    "        elif row['income_type'] == 'компаньон':\n",
    "            return 172357.950966\n",
    "        elif row['income_type'] == 'пенсионер':\n",
    "            return 118514.486412\n",
    "        elif row['income_type'] == 'предприниматель':\n",
    "            return 499163.144947\n",
    "        elif row['income_type'] == 'сотрудник':\n",
    "            return 142594.396847\n",
    "        elif row['income_type'] == 'студент':\n",
    "            return 98201.625314\n",
    "    else:\n",
    "        return row['total_income']"
   ]
  },
  {
   "cell_type": "code",
   "execution_count": 26,
   "metadata": {},
   "outputs": [],
   "source": [
    "df['total_income'] = df.apply(salary_by_position, axis=1)"
   ]
  },
  {
   "cell_type": "code",
   "execution_count": 27,
   "metadata": {},
   "outputs": [
    {
     "data": {
      "text/plain": [
       "children              0\n",
       "days_employed         0\n",
       "dob_years             0\n",
       "education             0\n",
       "education_id          0\n",
       "family_status         0\n",
       "family_status_id      0\n",
       "gender                0\n",
       "income_type           0\n",
       "debt                  0\n",
       "total_income          0\n",
       "purpose               0\n",
       "dob_years_category    0\n",
       "dtype: int64"
      ]
     },
     "execution_count": 27,
     "metadata": {},
     "output_type": "execute_result"
    }
   ],
   "source": [
    "df.isna().sum()"
   ]
  },
  {
   "cell_type": "markdown",
   "metadata": {},
   "source": [
    "**Вывод**"
   ]
  },
  {
   "cell_type": "markdown",
   "metadata": {},
   "source": [
    "- в колонке трудовой стаж были отрицательные числа, заменила их положительные.\n",
    "- в колонке трудовой стаж были очень большие числа, возможно это трудовой стаж в часах, а не в днях, поделила все аномально большие числа на 24.\n",
    "- я разделила клиентов на категории по возрасту, потом в каждой категории нашла средний стаж работы и заполнила пропуски в колонке *days_employed*, в зависимости от категории стажа.\n",
    "- в датасете есть колонка с информацией о должности клинта (income_type — тип занятости), по каждому типу занятости я нашла медиану по зарплате и заполнила пропуски в колонке *total_income*, в зависимости от должности клиента."
   ]
  },
  {
   "cell_type": "markdown",
   "metadata": {},
   "source": [
    "### Замена типа данных"
   ]
  },
  {
   "cell_type": "markdown",
   "metadata": {},
   "source": [
    "Нужно заменить вещественный тип данных на целочисленный.\n",
    "\n",
    "С типом float64 всего 2 колонки."
   ]
  },
  {
   "cell_type": "code",
   "execution_count": 28,
   "metadata": {},
   "outputs": [],
   "source": [
    "df['days_employed'] = df['days_employed'].astype('int')"
   ]
  },
  {
   "cell_type": "code",
   "execution_count": 29,
   "metadata": {},
   "outputs": [],
   "source": [
    "df['total_income'] = df['total_income'].astype('int')"
   ]
  },
  {
   "cell_type": "code",
   "execution_count": 30,
   "metadata": {},
   "outputs": [
    {
     "name": "stdout",
     "output_type": "stream",
     "text": [
      "<class 'pandas.core.frame.DataFrame'>\n",
      "RangeIndex: 21525 entries, 0 to 21524\n",
      "Data columns (total 13 columns):\n",
      "children              21525 non-null int64\n",
      "days_employed         21525 non-null int64\n",
      "dob_years             21525 non-null int64\n",
      "education             21525 non-null object\n",
      "education_id          21525 non-null int64\n",
      "family_status         21525 non-null object\n",
      "family_status_id      21525 non-null int64\n",
      "gender                21525 non-null object\n",
      "income_type           21525 non-null object\n",
      "debt                  21525 non-null int64\n",
      "total_income          21525 non-null int64\n",
      "purpose               21525 non-null object\n",
      "dob_years_category    21525 non-null int64\n",
      "dtypes: int64(8), object(5)\n",
      "memory usage: 2.1+ MB\n"
     ]
    }
   ],
   "source": [
    "# проверяю получились ли изменения\n",
    "df.info()"
   ]
  },
  {
   "cell_type": "markdown",
   "metadata": {},
   "source": [
    "**Вывод**"
   ]
  },
  {
   "cell_type": "markdown",
   "metadata": {},
   "source": [
    "Воспользуюсь методом `astype`, так как он переведет из типа float в int."
   ]
  },
  {
   "cell_type": "markdown",
   "metadata": {},
   "source": [
    "### Обработка дубликатов"
   ]
  },
  {
   "cell_type": "code",
   "execution_count": 31,
   "metadata": {},
   "outputs": [
    {
     "data": {
      "text/plain": [
       "54"
      ]
     },
     "execution_count": 31,
     "metadata": {},
     "output_type": "execute_result"
    }
   ],
   "source": [
    "# Явные дубликаты\n",
    "df.duplicated().sum()"
   ]
  },
  {
   "cell_type": "code",
   "execution_count": 32,
   "metadata": {},
   "outputs": [],
   "source": [
    "# Удаляю явные дубликату и обновляю индексы\n",
    "df = df.drop_duplicates().reset_index(drop=True)"
   ]
  },
  {
   "cell_type": "code",
   "execution_count": 33,
   "metadata": {},
   "outputs": [
    {
     "data": {
      "text/plain": [
       "0"
      ]
     },
     "execution_count": 33,
     "metadata": {},
     "output_type": "execute_result"
    }
   ],
   "source": [
    "df.duplicated().sum()"
   ]
  },
  {
   "cell_type": "markdown",
   "metadata": {},
   "source": [
    "Неявные дубликаты"
   ]
  },
  {
   "cell_type": "code",
   "execution_count": 34,
   "metadata": {},
   "outputs": [
    {
     "data": {
      "text/plain": [
       "array(['покупка жилья', 'приобретение автомобиля',\n",
       "       'дополнительное образование', 'сыграть свадьбу',\n",
       "       'операции с жильем', 'образование', 'на проведение свадьбы',\n",
       "       'покупка жилья для семьи', 'покупка недвижимости',\n",
       "       'покупка коммерческой недвижимости', 'покупка жилой недвижимости',\n",
       "       'строительство собственной недвижимости', 'недвижимость',\n",
       "       'строительство недвижимости', 'на покупку подержанного автомобиля',\n",
       "       'на покупку своего автомобиля',\n",
       "       'операции с коммерческой недвижимостью',\n",
       "       'строительство жилой недвижимости', 'жилье',\n",
       "       'операции со своей недвижимостью', 'автомобили',\n",
       "       'заняться образованием', 'сделка с подержанным автомобилем',\n",
       "       'получение образования', 'автомобиль', 'свадьба',\n",
       "       'получение дополнительного образования', 'покупка своего жилья',\n",
       "       'операции с недвижимостью', 'получение высшего образования',\n",
       "       'свой автомобиль', 'сделка с автомобилем',\n",
       "       'профильное образование', 'высшее образование',\n",
       "       'покупка жилья для сдачи', 'на покупку автомобиля', 'ремонт жилью',\n",
       "       'заняться высшим образованием'], dtype=object)"
      ]
     },
     "execution_count": 34,
     "metadata": {},
     "output_type": "execute_result"
    }
   ],
   "source": [
    "df['purpose'].unique()"
   ]
  },
  {
   "cell_type": "markdown",
   "metadata": {},
   "source": [
    "В колонке *purpose* неявных дубликатов нет"
   ]
  },
  {
   "cell_type": "code",
   "execution_count": 35,
   "metadata": {},
   "outputs": [
    {
     "data": {
      "text/plain": [
       "array(['высшее', 'среднее', 'Среднее', 'СРЕДНЕЕ', 'ВЫСШЕЕ',\n",
       "       'неоконченное высшее', 'начальное', 'Высшее',\n",
       "       'НЕОКОНЧЕННОЕ ВЫСШЕЕ', 'Неоконченное высшее', 'НАЧАЛЬНОЕ',\n",
       "       'Начальное', 'Ученая степень', 'УЧЕНАЯ СТЕПЕНЬ', 'ученая степень'],\n",
       "      dtype=object)"
      ]
     },
     "execution_count": 35,
     "metadata": {},
     "output_type": "execute_result"
    }
   ],
   "source": [
    "df['education'].unique()"
   ]
  },
  {
   "cell_type": "markdown",
   "metadata": {},
   "source": [
    "Приведу все слова к нижнему регистру"
   ]
  },
  {
   "cell_type": "code",
   "execution_count": 36,
   "metadata": {},
   "outputs": [],
   "source": [
    "df['education'] = df['education'].str.lower()"
   ]
  },
  {
   "cell_type": "code",
   "execution_count": 37,
   "metadata": {},
   "outputs": [
    {
     "data": {
      "text/plain": [
       "array(['высшее', 'среднее', 'неоконченное высшее', 'начальное',\n",
       "       'ученая степень'], dtype=object)"
      ]
     },
     "execution_count": 37,
     "metadata": {},
     "output_type": "execute_result"
    }
   ],
   "source": [
    "df['education'].unique()"
   ]
  },
  {
   "cell_type": "code",
   "execution_count": 38,
   "metadata": {},
   "outputs": [
    {
     "data": {
      "text/plain": [
       "array(['женат / замужем', 'гражданский брак', 'вдовец / вдова',\n",
       "       'в разводе', 'Не женат / не замужем'], dtype=object)"
      ]
     },
     "execution_count": 38,
     "metadata": {},
     "output_type": "execute_result"
    }
   ],
   "source": [
    "df['family_status'].unique()"
   ]
  },
  {
   "cell_type": "markdown",
   "metadata": {},
   "source": [
    "В колонке *family_status* дубликатов нет"
   ]
  },
  {
   "cell_type": "code",
   "execution_count": 39,
   "metadata": {},
   "outputs": [
    {
     "data": {
      "text/plain": [
       "array(['F', 'M', 'XNA'], dtype=object)"
      ]
     },
     "execution_count": 39,
     "metadata": {},
     "output_type": "execute_result"
    }
   ],
   "source": [
    "df['gender'].unique()"
   ]
  },
  {
   "cell_type": "markdown",
   "metadata": {},
   "source": [
    "В колонке *gender* дубликатов нет, но есть средний пол."
   ]
  },
  {
   "cell_type": "code",
   "execution_count": 40,
   "metadata": {},
   "outputs": [
    {
     "data": {
      "text/html": [
       "<div>\n",
       "<style scoped>\n",
       "    .dataframe tbody tr th:only-of-type {\n",
       "        vertical-align: middle;\n",
       "    }\n",
       "\n",
       "    .dataframe tbody tr th {\n",
       "        vertical-align: top;\n",
       "    }\n",
       "\n",
       "    .dataframe thead th {\n",
       "        text-align: right;\n",
       "    }\n",
       "</style>\n",
       "<table border=\"1\" class=\"dataframe\">\n",
       "  <thead>\n",
       "    <tr style=\"text-align: right;\">\n",
       "      <th></th>\n",
       "      <th>children</th>\n",
       "      <th>days_employed</th>\n",
       "      <th>dob_years</th>\n",
       "      <th>education</th>\n",
       "      <th>education_id</th>\n",
       "      <th>family_status</th>\n",
       "      <th>family_status_id</th>\n",
       "      <th>gender</th>\n",
       "      <th>income_type</th>\n",
       "      <th>debt</th>\n",
       "      <th>total_income</th>\n",
       "      <th>purpose</th>\n",
       "      <th>dob_years_category</th>\n",
       "    </tr>\n",
       "  </thead>\n",
       "  <tbody>\n",
       "    <tr>\n",
       "      <td>10690</td>\n",
       "      <td>0</td>\n",
       "      <td>2358</td>\n",
       "      <td>24</td>\n",
       "      <td>неоконченное высшее</td>\n",
       "      <td>2</td>\n",
       "      <td>гражданский брак</td>\n",
       "      <td>1</td>\n",
       "      <td>XNA</td>\n",
       "      <td>компаньон</td>\n",
       "      <td>0</td>\n",
       "      <td>203905</td>\n",
       "      <td>покупка недвижимости</td>\n",
       "      <td>2</td>\n",
       "    </tr>\n",
       "  </tbody>\n",
       "</table>\n",
       "</div>"
      ],
      "text/plain": [
       "       children  days_employed  dob_years            education  education_id  \\\n",
       "10690         0           2358         24  неоконченное высшее             2   \n",
       "\n",
       "          family_status  family_status_id gender income_type  debt  \\\n",
       "10690  гражданский брак                 1    XNA   компаньон     0   \n",
       "\n",
       "       total_income               purpose  dob_years_category  \n",
       "10690        203905  покупка недвижимости                   2  "
      ]
     },
     "execution_count": 40,
     "metadata": {},
     "output_type": "execute_result"
    }
   ],
   "source": [
    "df.loc[df['gender'] == 'XNA']"
   ]
  },
  {
   "cell_type": "markdown",
   "metadata": {},
   "source": [
    "Всего один человек с полом XNA, это может быть и женщина и мужчина."
   ]
  },
  {
   "cell_type": "code",
   "execution_count": 41,
   "metadata": {},
   "outputs": [
    {
     "data": {
      "text/plain": [
       "17"
      ]
     },
     "execution_count": 41,
     "metadata": {},
     "output_type": "execute_result"
    }
   ],
   "source": [
    "# после устранения неявных дубликатов, делаю опять проверку на явные дубликаты\n",
    "df.duplicated().sum()"
   ]
  },
  {
   "cell_type": "code",
   "execution_count": 42,
   "metadata": {},
   "outputs": [],
   "source": [
    "# удаляю явные дубликаты\n",
    "df = df.drop_duplicates().reset_index(drop=True)"
   ]
  },
  {
   "cell_type": "code",
   "execution_count": 43,
   "metadata": {},
   "outputs": [
    {
     "data": {
      "text/plain": [
       "0"
      ]
     },
     "execution_count": 43,
     "metadata": {},
     "output_type": "execute_result"
    }
   ],
   "source": [
    "df.duplicated().sum()"
   ]
  },
  {
   "cell_type": "markdown",
   "metadata": {},
   "source": [
    "**Вывод**"
   ]
  },
  {
   "cell_type": "markdown",
   "metadata": {},
   "source": [
    "Что бы найти дубликаты воспользовалась методом `duplicated()` и сложила их, что бы получить общее количество явных дубликатов.\n",
    "\n",
    "С помощью метода `drop_duplicates()` удалила дубликаты и потом обновила индексы.\n",
    "\n",
    "Причины появления дубликатов:\n",
    "- возможно клиенты несколько раз обращались в банк за кредитом\n",
    "- клиенты приходили в разные филиалы банка за кредитом и их басы не были синхронизированы\n",
    "- может здесь указаны клиенты разных банков\n",
    "- техническая ошибка"
   ]
  },
  {
   "cell_type": "markdown",
   "metadata": {},
   "source": [
    "### Лемматизация"
   ]
  },
  {
   "cell_type": "markdown",
   "metadata": {},
   "source": [
    "Нужно выделить леммы в значениях столбца с целями получения кредита"
   ]
  },
  {
   "cell_type": "code",
   "execution_count": 44,
   "metadata": {},
   "outputs": [
    {
     "data": {
      "text/plain": [
       "array(['покупка жилья', 'приобретение автомобиля',\n",
       "       'дополнительное образование', 'сыграть свадьбу',\n",
       "       'операции с жильем', 'образование', 'на проведение свадьбы',\n",
       "       'покупка жилья для семьи', 'покупка недвижимости',\n",
       "       'покупка коммерческой недвижимости', 'покупка жилой недвижимости',\n",
       "       'строительство собственной недвижимости', 'недвижимость',\n",
       "       'строительство недвижимости', 'на покупку подержанного автомобиля',\n",
       "       'на покупку своего автомобиля',\n",
       "       'операции с коммерческой недвижимостью',\n",
       "       'строительство жилой недвижимости', 'жилье',\n",
       "       'операции со своей недвижимостью', 'автомобили',\n",
       "       'заняться образованием', 'сделка с подержанным автомобилем',\n",
       "       'получение образования', 'автомобиль', 'свадьба',\n",
       "       'получение дополнительного образования', 'покупка своего жилья',\n",
       "       'операции с недвижимостью', 'получение высшего образования',\n",
       "       'свой автомобиль', 'сделка с автомобилем',\n",
       "       'профильное образование', 'высшее образование',\n",
       "       'покупка жилья для сдачи', 'на покупку автомобиля', 'ремонт жилью',\n",
       "       'заняться высшим образованием'], dtype=object)"
      ]
     },
     "execution_count": 44,
     "metadata": {},
     "output_type": "execute_result"
    }
   ],
   "source": [
    "# посмотрим какие уникальные значения есть, что бы составить категории для цели кредита\n",
    "df['purpose'].unique()"
   ]
  },
  {
   "cell_type": "markdown",
   "metadata": {},
   "source": [
    "Я сделала 7 категорий:\n",
    "1) Цели кретида связанные с: покупкой жилья, операции с жильем, покупка жилой недвижимости, отнесла в категориь *жилье*.\n",
    "\n",
    "2) Цели кретида связанные с: покупкой автомобиля, сделка с автомобилем, отнесла в категорию *автомобиль*.\n",
    "\n",
    "3) Если цель кредита обучение, образование любого уровня, то категория *образование*.\n",
    "\n",
    "4) Если кредит берется на строительство жилой нежвижимсоти, коммерческой недвижимости, дома, то категория *строительство*.\n",
    "\n",
    "5) Любой кредит на свадьбу относиться к категории *свадьба*\n",
    "\n",
    "6) Кретит на ремонт относиться к категории *ремонт*\n",
    "\n",
    "7) И отдельно выделила категорию *коммерческой недвижимости*, так как она отличается от жилой недвижимости."
   ]
  },
  {
   "cell_type": "code",
   "execution_count": 45,
   "metadata": {},
   "outputs": [],
   "source": [
    "def lemmatization(row):\n",
    "    '''Функция обрабатывает каждую ячейку из колонки df['purpose'], \n",
    "    в процессе обработки цели кредита функция m.lemmatize() определяет леммы слов, \n",
    "    а затем по ключевому слову в лемме определяет категорию цели кредита \n",
    "    и цель кредита попадает в новую колонку'''\n",
    "    lemmas = m.lemmatize(row)\n",
    "    if ('коммерческий' in lemmas) and ('недвижимость' in lemmas) and (not 'строительство' in lemmas):\n",
    "        return 'коммерческая недвижимость'\n",
    "    if ('жилье' in lemmas) or (('недвижимость' in lemmas) and (not 'строительство' in lemmas)):\n",
    "        return 'жилье'\n",
    "    if 'автомобиль' in lemmas:\n",
    "        return 'автомобиль'\n",
    "    if 'образование' in lemmas:\n",
    "        return 'образование'\n",
    "    if 'свадьба' in lemmas:\n",
    "        return 'свадьба'\n",
    "    if 'строительство' in lemmas:\n",
    "        return 'строительство'\n",
    "    if 'ремонт' in lemmas:\n",
    "        return 'ремонт'"
   ]
  },
  {
   "cell_type": "code",
   "execution_count": 46,
   "metadata": {},
   "outputs": [],
   "source": [
    "df['category_purpose'] = df['purpose'].apply(lemmatization)"
   ]
  },
  {
   "cell_type": "markdown",
   "metadata": {},
   "source": [
    "Проверяю, что в колонке *category_purpose* нет пропущенных значений."
   ]
  },
  {
   "cell_type": "code",
   "execution_count": 47,
   "metadata": {},
   "outputs": [
    {
     "data": {
      "text/plain": [
       "0"
      ]
     },
     "execution_count": 47,
     "metadata": {},
     "output_type": "execute_result"
    }
   ],
   "source": [
    "df['category_purpose'].isna().sum()"
   ]
  },
  {
   "cell_type": "markdown",
   "metadata": {},
   "source": [
    "**Вывод**"
   ]
  },
  {
   "cell_type": "markdown",
   "metadata": {},
   "source": [
    "Выполнила лемматизацию колонки *purpose* и на основе ключевых слов из лемм определила категории целей кредитов."
   ]
  },
  {
   "cell_type": "markdown",
   "metadata": {},
   "source": [
    "### Категоризация данных"
   ]
  },
  {
   "cell_type": "markdown",
   "metadata": {},
   "source": [
    "Для дальнейшего анализа, мне надо клиентов разделить на группы по:\n",
    "1) наличие или отсутсвие детей\n",
    "\n",
    "2) семейное положение\n",
    "\n",
    "3) уровень дохода\n",
    "\n",
    "4) цели кредита"
   ]
  },
  {
   "cell_type": "code",
   "execution_count": 48,
   "metadata": {},
   "outputs": [
    {
     "data": {
      "text/plain": [
       "жилье                        7622\n",
       "автомобиль                   4306\n",
       "образование                  4013\n",
       "свадьба                      2324\n",
       "строительство                1878\n",
       "коммерческая недвижимость    1311\n",
       "Name: category_purpose, dtype: int64"
      ]
     },
     "execution_count": 48,
     "metadata": {},
     "output_type": "execute_result"
    }
   ],
   "source": [
    "# категории целей кредита\n",
    "df['category_purpose'].value_counts()"
   ]
  },
  {
   "cell_type": "code",
   "execution_count": 49,
   "metadata": {},
   "outputs": [
    {
     "data": {
      "text/plain": [
       "женат / замужем          12339\n",
       "гражданский брак          4151\n",
       "Не женат / не замужем     2810\n",
       "в разводе                 1195\n",
       "вдовец / вдова             959\n",
       "Name: family_status, dtype: int64"
      ]
     },
     "execution_count": 49,
     "metadata": {},
     "output_type": "execute_result"
    }
   ],
   "source": [
    "# категории семейного положения\n",
    "df['family_status'].value_counts()"
   ]
  },
  {
   "cell_type": "code",
   "execution_count": 50,
   "metadata": {},
   "outputs": [
    {
     "data": {
      "text/plain": [
       " 0     14091\n",
       " 1      4808\n",
       " 2      2052\n",
       " 3       330\n",
       " 20       76\n",
       "-1        47\n",
       " 4        41\n",
       " 5         9\n",
       "Name: children, dtype: int64"
      ]
     },
     "execution_count": 50,
     "metadata": {},
     "output_type": "execute_result"
    }
   ],
   "source": [
    "df['children'].value_counts()"
   ]
  },
  {
   "cell_type": "markdown",
   "metadata": {},
   "source": [
    "Есть отрицательные числа. И у 76 семей по 20 детей, наверное, это ошибка. Возможно изначально это было число типа float 2.0. Но потом при копировании они превратилось в 20.\n",
    "\n",
    "Введу новую категорию наличие детей в семье:\n",
    "- нет - нет детей\n",
    "- да - есть дети, 1-2 ребенка\n",
    "- многодетные - есть дети, 3 и более детей"
   ]
  },
  {
   "cell_type": "code",
   "execution_count": 51,
   "metadata": {},
   "outputs": [],
   "source": [
    "# исправляю отрицательное число\n",
    "df['children'] = abs(df['children'])"
   ]
  },
  {
   "cell_type": "code",
   "execution_count": 52,
   "metadata": {},
   "outputs": [],
   "source": [
    "def count_children(row):\n",
    "    if row == 20:\n",
    "        return 2\n",
    "    return row"
   ]
  },
  {
   "cell_type": "code",
   "execution_count": 53,
   "metadata": {},
   "outputs": [],
   "source": [
    "# 20 детей в семье заменяю на 2\n",
    "df['children'] = df['children'].apply(count_children)"
   ]
  },
  {
   "cell_type": "code",
   "execution_count": 54,
   "metadata": {},
   "outputs": [],
   "source": [
    "def children_in_family(row):\n",
    "    if row == 0:\n",
    "        return 'нет'\n",
    "    elif (row == 1) or (row == 2):\n",
    "        return 'да'\n",
    "    else:\n",
    "        return 'многодетные'"
   ]
  },
  {
   "cell_type": "code",
   "execution_count": 55,
   "metadata": {},
   "outputs": [],
   "source": [
    "df['having_children'] = df['children'].apply(children_in_family)"
   ]
  },
  {
   "cell_type": "code",
   "execution_count": 56,
   "metadata": {},
   "outputs": [
    {
     "data": {
      "text/plain": [
       "нет            14091\n",
       "да              6983\n",
       "многодетные      380\n",
       "Name: having_children, dtype: int64"
      ]
     },
     "execution_count": 56,
     "metadata": {},
     "output_type": "execute_result"
    }
   ],
   "source": [
    "# получилась новая категория с отсутствием млм наличием детей в семье\n",
    "df['having_children'].value_counts()"
   ]
  },
  {
   "cell_type": "markdown",
   "metadata": {},
   "source": [
    "Так как доход у всех разный, нужно категоризовать данные.\n",
    "\n",
    "Введу 6 категории:\n",
    "- очень низкий\n",
    "- низкий\n",
    "- средний\n",
    "- выше среднего\n",
    "- высокий\n",
    "- очень высокий"
   ]
  },
  {
   "cell_type": "markdown",
   "metadata": {},
   "source": [
    "- очень низкий уровень дохода (от 20 000 до 50 000 )\n",
    "- низкий уровень дохода (от 50 000 до 100 000)\n",
    "- средний уровень дохода (от 100 000 до 200 000)\n",
    "- выше среднего уровень дохода (от 200 000 до 500 000)\n",
    "- высокий уровень дохода ( от 500 000 до 1 000000)\n",
    "- очень высокий уровень дохода (от 1 000000)"
   ]
  },
  {
   "cell_type": "code",
   "execution_count": 57,
   "metadata": {},
   "outputs": [],
   "source": [
    "def total_income_category(salary):\n",
    "    if 20000 < salary < 50000:\n",
    "        return 'очень низкий'\n",
    "    if 50000 <= salary < 100000:\n",
    "        return 'низкий'\n",
    "    if 100000 <= salary < 200000:\n",
    "        return 'средний'\n",
    "    if 200000 <= salary < 500000:\n",
    "        return 'выше среднего'\n",
    "    if 500000 <= salary < 1000000:\n",
    "        return 'высокий'\n",
    "    if 1000000 <= salary:\n",
    "        return 'очень высокий'"
   ]
  },
  {
   "cell_type": "code",
   "execution_count": 58,
   "metadata": {},
   "outputs": [],
   "source": [
    "df['income_categories'] = df['total_income'].apply(total_income_category)"
   ]
  },
  {
   "cell_type": "code",
   "execution_count": 59,
   "metadata": {},
   "outputs": [
    {
     "data": {
      "text/plain": [
       "средний          11924\n",
       "выше среднего     4845\n",
       "низкий            4091\n",
       "очень низкий       372\n",
       "высокий            197\n",
       "очень высокий       25\n",
       "Name: income_categories, dtype: int64"
      ]
     },
     "execution_count": 59,
     "metadata": {},
     "output_type": "execute_result"
    }
   ],
   "source": [
    "df['income_categories'].value_counts()"
   ]
  },
  {
   "cell_type": "markdown",
   "metadata": {},
   "source": [
    "**Вывод**"
   ]
  },
  {
   "cell_type": "markdown",
   "metadata": {},
   "source": [
    "Для дальнейшего анализа, мне понадобятся 4 характеристики клиентов:\n",
    "1) наличие или отсутсвие детей\n",
    "\n",
    "2) семейное положение\n",
    "\n",
    "3) уровень дохода\n",
    "\n",
    "4) цели кредита\n",
    "\n",
    "Категоризацыю недостающих недостающих характеристик выполнила. Данные готовы к исследованию."
   ]
  },
  {
   "cell_type": "markdown",
   "metadata": {},
   "source": [
    "## Шаг 3. Ответьте на вопросы"
   ]
  },
  {
   "cell_type": "markdown",
   "metadata": {},
   "source": [
    "- Есть ли зависимость между наличием детей и возвратом кредита в срок?"
   ]
  },
  {
   "cell_type": "markdown",
   "metadata": {},
   "source": [
    "*debt* — имел ли задолженность по возврату кредитов\n",
    "\n",
    "*having_children* — наличие детей в семье"
   ]
  },
  {
   "cell_type": "code",
   "execution_count": 60,
   "metadata": {},
   "outputs": [
    {
     "data": {
      "text/plain": [
       "array(['да', 'нет', 'многодетные'], dtype=object)"
      ]
     },
     "execution_count": 60,
     "metadata": {},
     "output_type": "execute_result"
    }
   ],
   "source": [
    "df['having_children'].unique()"
   ]
  },
  {
   "cell_type": "markdown",
   "metadata": {},
   "source": [
    "Примерно у 65,7% клиентов нет детей, у 32% 1-2 ребенка и у остальных 3 и более детей."
   ]
  },
  {
   "cell_type": "code",
   "execution_count": 61,
   "metadata": {},
   "outputs": [
    {
     "data": {
      "text/plain": [
       "array([0, 1])"
      ]
     },
     "execution_count": 61,
     "metadata": {},
     "output_type": "execute_result"
    }
   ],
   "source": [
    "df['debt'].unique()"
   ]
  },
  {
   "cell_type": "code",
   "execution_count": 62,
   "metadata": {},
   "outputs": [
    {
     "data": {
      "text/plain": [
       "0    19713\n",
       "1     1741\n",
       "Name: debt, dtype: int64"
      ]
     },
     "execution_count": 62,
     "metadata": {},
     "output_type": "execute_result"
    }
   ],
   "source": [
    "df['debt'].value_counts()\n"
   ]
  },
  {
   "cell_type": "code",
   "execution_count": 63,
   "metadata": {},
   "outputs": [
    {
     "name": "stdout",
     "output_type": "stream",
     "text": [
      "клиенты, которые не имеют задолжность - 92%\n",
      "клиенты, которые имеют задолжность - 8%\n"
     ]
    }
   ],
   "source": [
    "print('клиенты, которые не имеют задолжность - {:.0%}'.format(19730 / df['debt'].count()))\n",
    "print('клиенты, которые имеют задолжность - {:.0%}'.format(1741 / df['debt'].count()))"
   ]
  },
  {
   "cell_type": "code",
   "execution_count": 64,
   "metadata": {},
   "outputs": [
    {
     "data": {
      "text/html": [
       "<div>\n",
       "<style scoped>\n",
       "    .dataframe tbody tr th:only-of-type {\n",
       "        vertical-align: middle;\n",
       "    }\n",
       "\n",
       "    .dataframe tbody tr th {\n",
       "        vertical-align: top;\n",
       "    }\n",
       "\n",
       "    .dataframe thead th {\n",
       "        text-align: right;\n",
       "    }\n",
       "</style>\n",
       "<table border=\"1\" class=\"dataframe\">\n",
       "  <thead>\n",
       "    <tr style=\"text-align: right;\">\n",
       "      <th></th>\n",
       "      <th>debt</th>\n",
       "    </tr>\n",
       "    <tr>\n",
       "      <th>having_children</th>\n",
       "      <th></th>\n",
       "    </tr>\n",
       "  </thead>\n",
       "  <tbody>\n",
       "    <tr>\n",
       "      <td>да</td>\n",
       "      <td>0.092654</td>\n",
       "    </tr>\n",
       "    <tr>\n",
       "      <td>многодетные</td>\n",
       "      <td>0.081579</td>\n",
       "    </tr>\n",
       "    <tr>\n",
       "      <td>нет</td>\n",
       "      <td>0.075438</td>\n",
       "    </tr>\n",
       "  </tbody>\n",
       "</table>\n",
       "</div>"
      ],
      "text/plain": [
       "                     debt\n",
       "having_children          \n",
       "да               0.092654\n",
       "многодетные      0.081579\n",
       "нет              0.075438"
      ]
     },
     "execution_count": 64,
     "metadata": {},
     "output_type": "execute_result"
    }
   ],
   "source": [
    "# Сводная таблтца по количеству детей у клиента и наличием или отсутствием задолжности\n",
    "pivot_debt_children = pd.pivot_table(df, index=['having_children'], values='debt', aggfunc='mean')\n",
    "pivot_debt_children"
   ]
  },
  {
   "cell_type": "markdown",
   "metadata": {},
   "source": [
    "**Вывод**"
   ]
  },
  {
   "cell_type": "markdown",
   "metadata": {},
   "source": [
    "Если среднее число из сводной таблице ближе к 1, значит у этой категории клиентов чаще встречаются долг по кредиту.\n",
    "\n",
    "Если у клиента 1-2 ребенка, то чаще есть задержки по кредиту.\n",
    "\n",
    "У многодетных клиентов и клиентов без детей вероятность задержки по кредиту близка.\n",
    "\n",
    "Изначально в датасете было много представлено клиентов без детей, все таки сравнивая группы, они должны быть примерно одинаковые по количеству."
   ]
  },
  {
   "cell_type": "markdown",
   "metadata": {},
   "source": [
    "- Есть ли зависимость между семейным положением и возвратом кредита в срок?"
   ]
  },
  {
   "cell_type": "code",
   "execution_count": 65,
   "metadata": {},
   "outputs": [
    {
     "data": {
      "text/plain": [
       "женат / замужем          12339\n",
       "гражданский брак          4151\n",
       "Не женат / не замужем     2810\n",
       "в разводе                 1195\n",
       "вдовец / вдова             959\n",
       "Name: family_status, dtype: int64"
      ]
     },
     "execution_count": 65,
     "metadata": {},
     "output_type": "execute_result"
    }
   ],
   "source": [
    "df['family_status'].value_counts()"
   ]
  },
  {
   "cell_type": "code",
   "execution_count": 66,
   "metadata": {},
   "outputs": [
    {
     "data": {
      "text/html": [
       "<div>\n",
       "<style scoped>\n",
       "    .dataframe tbody tr th:only-of-type {\n",
       "        vertical-align: middle;\n",
       "    }\n",
       "\n",
       "    .dataframe tbody tr th {\n",
       "        vertical-align: top;\n",
       "    }\n",
       "\n",
       "    .dataframe thead th {\n",
       "        text-align: right;\n",
       "    }\n",
       "</style>\n",
       "<table border=\"1\" class=\"dataframe\">\n",
       "  <thead>\n",
       "    <tr style=\"text-align: right;\">\n",
       "      <th></th>\n",
       "      <th>debt</th>\n",
       "    </tr>\n",
       "    <tr>\n",
       "      <th>family_status</th>\n",
       "      <th></th>\n",
       "    </tr>\n",
       "  </thead>\n",
       "  <tbody>\n",
       "    <tr>\n",
       "      <td>Не женат / не замужем</td>\n",
       "      <td>0.097509</td>\n",
       "    </tr>\n",
       "    <tr>\n",
       "      <td>в разводе</td>\n",
       "      <td>0.071130</td>\n",
       "    </tr>\n",
       "    <tr>\n",
       "      <td>вдовец / вдова</td>\n",
       "      <td>0.065693</td>\n",
       "    </tr>\n",
       "    <tr>\n",
       "      <td>гражданский брак</td>\n",
       "      <td>0.093471</td>\n",
       "    </tr>\n",
       "    <tr>\n",
       "      <td>женат / замужем</td>\n",
       "      <td>0.075452</td>\n",
       "    </tr>\n",
       "  </tbody>\n",
       "</table>\n",
       "</div>"
      ],
      "text/plain": [
       "                           debt\n",
       "family_status                  \n",
       "Не женат / не замужем  0.097509\n",
       "в разводе              0.071130\n",
       "вдовец / вдова         0.065693\n",
       "гражданский брак       0.093471\n",
       "женат / замужем        0.075452"
      ]
     },
     "execution_count": 66,
     "metadata": {},
     "output_type": "execute_result"
    }
   ],
   "source": [
    "# Сводная таблтца по семейному положению и наличием или отсутствием задолжности\n",
    "pivot_debt_family_status = pd.pivot_table(df, index=['family_status'], values='debt', aggfunc='mean')\n",
    "pivot_debt_family_status"
   ]
  },
  {
   "cell_type": "markdown",
   "metadata": {},
   "source": [
    "**Вывод**"
   ]
  },
  {
   "cell_type": "markdown",
   "metadata": {},
   "source": [
    "Клиенты, которые находятся в *граждаском браке* или *не замужние* чаще имеют задержки по кредиту.\n",
    "\n",
    "Овдовевшие клиенты надежней сотальных, реже встречаются должники.\n",
    "\n",
    "В категориях клиентов: замужние / женатые, в разводе, количество должников близкое друг к другу."
   ]
  },
  {
   "cell_type": "markdown",
   "metadata": {},
   "source": [
    "- Есть ли зависимость между уровнем дохода и возвратом кредита в срок?"
   ]
  },
  {
   "cell_type": "code",
   "execution_count": 67,
   "metadata": {},
   "outputs": [
    {
     "data": {
      "text/plain": [
       "средний          11924\n",
       "выше среднего     4845\n",
       "низкий            4091\n",
       "очень низкий       372\n",
       "высокий            197\n",
       "очень высокий       25\n",
       "Name: income_categories, dtype: int64"
      ]
     },
     "execution_count": 67,
     "metadata": {},
     "output_type": "execute_result"
    }
   ],
   "source": [
    "df['income_categories'].value_counts()"
   ]
  },
  {
   "cell_type": "markdown",
   "metadata": {},
   "source": [
    "Сводная таблица между категорией доходов и возвратом кредита в срок"
   ]
  },
  {
   "cell_type": "code",
   "execution_count": 68,
   "metadata": {},
   "outputs": [
    {
     "data": {
      "text/html": [
       "<div>\n",
       "<style scoped>\n",
       "    .dataframe tbody tr th:only-of-type {\n",
       "        vertical-align: middle;\n",
       "    }\n",
       "\n",
       "    .dataframe tbody tr th {\n",
       "        vertical-align: top;\n",
       "    }\n",
       "\n",
       "    .dataframe thead th {\n",
       "        text-align: right;\n",
       "    }\n",
       "</style>\n",
       "<table border=\"1\" class=\"dataframe\">\n",
       "  <thead>\n",
       "    <tr style=\"text-align: right;\">\n",
       "      <th></th>\n",
       "      <th>debt</th>\n",
       "    </tr>\n",
       "    <tr>\n",
       "      <th>income_categories</th>\n",
       "      <th></th>\n",
       "    </tr>\n",
       "  </thead>\n",
       "  <tbody>\n",
       "    <tr>\n",
       "      <td>высокий</td>\n",
       "      <td>0.060914</td>\n",
       "    </tr>\n",
       "    <tr>\n",
       "      <td>выше среднего</td>\n",
       "      <td>0.071001</td>\n",
       "    </tr>\n",
       "    <tr>\n",
       "      <td>низкий</td>\n",
       "      <td>0.080909</td>\n",
       "    </tr>\n",
       "    <tr>\n",
       "      <td>очень высокий</td>\n",
       "      <td>0.080000</td>\n",
       "    </tr>\n",
       "    <tr>\n",
       "      <td>очень низкий</td>\n",
       "      <td>0.061828</td>\n",
       "    </tr>\n",
       "    <tr>\n",
       "      <td>средний</td>\n",
       "      <td>0.086297</td>\n",
       "    </tr>\n",
       "  </tbody>\n",
       "</table>\n",
       "</div>"
      ],
      "text/plain": [
       "                       debt\n",
       "income_categories          \n",
       "высокий            0.060914\n",
       "выше среднего      0.071001\n",
       "низкий             0.080909\n",
       "очень высокий      0.080000\n",
       "очень низкий       0.061828\n",
       "средний            0.086297"
      ]
     },
     "execution_count": 68,
     "metadata": {},
     "output_type": "execute_result"
    }
   ],
   "source": [
    "pivot_salaries_debt = pd.pivot_table(df, index=['income_categories'], values='debt', aggfunc='mean')\n",
    "pivot_salaries_debt"
   ]
  },
  {
   "cell_type": "markdown",
   "metadata": {},
   "source": [
    "**Вывод**"
   ]
  },
  {
   "cell_type": "markdown",
   "metadata": {},
   "source": [
    "Клиенты со средним доходом чаще остальных имеют задержки по кредиту.\n",
    "\n",
    "Клиенты с низким и очень высоким доходом схожи по частоте задержки вредита.\n",
    "\n",
    "Надежныек клиенты чаще втречаются в категории клиентов с высоким( от 500 000 до 1 000000) и очень низким доходом(от 20 000 до 50 000 )."
   ]
  },
  {
   "cell_type": "markdown",
   "metadata": {},
   "source": [
    "- Как разные цели кредита влияют на его возврат в срок?"
   ]
  },
  {
   "cell_type": "code",
   "execution_count": 69,
   "metadata": {},
   "outputs": [
    {
     "data": {
      "text/html": [
       "<div>\n",
       "<style scoped>\n",
       "    .dataframe tbody tr th:only-of-type {\n",
       "        vertical-align: middle;\n",
       "    }\n",
       "\n",
       "    .dataframe tbody tr th {\n",
       "        vertical-align: top;\n",
       "    }\n",
       "\n",
       "    .dataframe thead th {\n",
       "        text-align: right;\n",
       "    }\n",
       "</style>\n",
       "<table border=\"1\" class=\"dataframe\">\n",
       "  <thead>\n",
       "    <tr style=\"text-align: right;\">\n",
       "      <th></th>\n",
       "      <th>debt</th>\n",
       "    </tr>\n",
       "    <tr>\n",
       "      <th>category_purpose</th>\n",
       "      <th></th>\n",
       "    </tr>\n",
       "  </thead>\n",
       "  <tbody>\n",
       "    <tr>\n",
       "      <td>автомобиль</td>\n",
       "      <td>0.093590</td>\n",
       "    </tr>\n",
       "    <tr>\n",
       "      <td>жилье</td>\n",
       "      <td>0.070716</td>\n",
       "    </tr>\n",
       "    <tr>\n",
       "      <td>коммерческая недвижимость</td>\n",
       "      <td>0.075515</td>\n",
       "    </tr>\n",
       "    <tr>\n",
       "      <td>образование</td>\n",
       "      <td>0.092200</td>\n",
       "    </tr>\n",
       "    <tr>\n",
       "      <td>свадьба</td>\n",
       "      <td>0.080034</td>\n",
       "    </tr>\n",
       "    <tr>\n",
       "      <td>строительство</td>\n",
       "      <td>0.076677</td>\n",
       "    </tr>\n",
       "  </tbody>\n",
       "</table>\n",
       "</div>"
      ],
      "text/plain": [
       "                               debt\n",
       "category_purpose                   \n",
       "автомобиль                 0.093590\n",
       "жилье                      0.070716\n",
       "коммерческая недвижимость  0.075515\n",
       "образование                0.092200\n",
       "свадьба                    0.080034\n",
       "строительство              0.076677"
      ]
     },
     "execution_count": 69,
     "metadata": {},
     "output_type": "execute_result"
    }
   ],
   "source": [
    "pivot_purpose_debt = pd.pivot_table(df, index=['category_purpose'], values='debt', aggfunc='mean')\n",
    "pivot_purpose_debt"
   ]
  },
  {
   "cell_type": "markdown",
   "metadata": {},
   "source": [
    "**Вывод**"
   ]
  },
  {
   "cell_type": "markdown",
   "metadata": {},
   "source": [
    "Клиенты, которые берут кредит на автомобиль, образование чаще имеют задолжности по кредиту.\n",
    "\n",
    "Клиенты, берущие кредит на жилье, надежней остальных."
   ]
  },
  {
   "cell_type": "markdown",
   "metadata": {},
   "source": [
    "## Шаг 4. Общий вывод"
   ]
  },
  {
   "cell_type": "markdown",
   "metadata": {},
   "source": [
    "Расчеты показали, что различные характеристики клиента могут влиять на задолность:\n",
    "- Если у клиента 1-2 ребенка, то чаще есть задержки по кредиту.\n",
    "- У многодетных клиентов и клиентов без детей вероятность задержки по кредиту близка и эти клиенты надежней клиентов, у которых 1-2 ребенка.\n",
    "- Клиенты, которые находятся в *граждаском браке* или *не замужние* чаще имеют задержки по кредиту.\n",
    "- Овдовевшие клиенты надежней сотальных, реже встречаются должники.\n",
    "- В категориях клиентов: замужние / женатые, в разводе, количество должников близкое друг к другу.\n",
    "- Клиенты со средним доходом чаще остальных имеют задержки по кредиту.\n",
    "- Клиенты с низким и очень высоким доходом схожи по частоте задержки вредита.\n",
    "- Надежные клиенты чаще втречаются в категории клиентов с высоким(от 500 000 до 1 000000) и очень низким доходом(от 20 000 до 50 000).\n",
    "- Клиенты имеющие кредит на автомобиль, образование чаще имеют задолжности по кредиту.\n",
    "- Клиенты, берущие кредит на жилье, надежней остальных. Все креиты связанные с любым жильем(коммерческое, некоммерческое) близки по количеству задолжников."
   ]
  }
 ],
 "metadata": {
  "ExecuteTimeLog": [
   {
    "duration": 553,
    "start_time": "2021-12-04T08:33:14.015Z"
   },
   {
    "duration": 76,
    "start_time": "2021-12-04T08:33:39.636Z"
   },
   {
    "duration": 12,
    "start_time": "2021-12-04T08:33:58.661Z"
   },
   {
    "duration": 10,
    "start_time": "2021-12-04T08:35:39.271Z"
   },
   {
    "duration": 16,
    "start_time": "2021-12-04T08:36:03.081Z"
   },
   {
    "duration": 6,
    "start_time": "2021-12-04T08:36:43.315Z"
   },
   {
    "duration": 8,
    "start_time": "2021-12-04T08:36:51.204Z"
   },
   {
    "duration": 4,
    "start_time": "2021-12-04T08:37:17.412Z"
   },
   {
    "duration": 6,
    "start_time": "2021-12-04T08:37:24.739Z"
   },
   {
    "duration": 8,
    "start_time": "2021-12-04T08:37:47.643Z"
   },
   {
    "duration": 8,
    "start_time": "2021-12-04T08:38:34.031Z"
   },
   {
    "duration": 9,
    "start_time": "2021-12-04T08:38:34.599Z"
   },
   {
    "duration": 15,
    "start_time": "2021-12-04T08:38:35.002Z"
   },
   {
    "duration": 4,
    "start_time": "2021-12-04T08:41:10.167Z"
   },
   {
    "duration": 4,
    "start_time": "2021-12-04T08:41:17.963Z"
   },
   {
    "duration": 11,
    "start_time": "2021-12-04T08:41:27.000Z"
   },
   {
    "duration": 15,
    "start_time": "2021-12-04T08:42:43.855Z"
   },
   {
    "duration": 17,
    "start_time": "2021-12-04T08:42:54.423Z"
   },
   {
    "duration": 17,
    "start_time": "2021-12-04T08:43:02.427Z"
   },
   {
    "duration": 7,
    "start_time": "2021-12-04T08:46:07.525Z"
   },
   {
    "duration": 4,
    "start_time": "2021-12-04T08:47:36.666Z"
   },
   {
    "duration": 3542,
    "start_time": "2021-12-04T08:47:51.693Z"
   },
   {
    "duration": 231,
    "start_time": "2021-12-04T08:49:26.151Z"
   },
   {
    "duration": 6,
    "start_time": "2021-12-04T08:49:46.184Z"
   },
   {
    "duration": 8,
    "start_time": "2021-12-04T10:40:08.438Z"
   },
   {
    "duration": 4,
    "start_time": "2021-12-04T10:41:14.817Z"
   },
   {
    "duration": 2643,
    "start_time": "2021-12-04T10:41:17.164Z"
   },
   {
    "duration": 6,
    "start_time": "2021-12-04T10:41:21.829Z"
   },
   {
    "duration": 8,
    "start_time": "2021-12-04T10:41:31.073Z"
   },
   {
    "duration": 6,
    "start_time": "2021-12-04T11:06:04.675Z"
   },
   {
    "duration": 7,
    "start_time": "2021-12-04T11:06:46.809Z"
   },
   {
    "duration": 4,
    "start_time": "2021-12-04T11:07:32.535Z"
   },
   {
    "duration": 5,
    "start_time": "2021-12-04T11:07:49.716Z"
   },
   {
    "duration": 546,
    "start_time": "2021-12-04T11:08:11.206Z"
   },
   {
    "duration": 74,
    "start_time": "2021-12-04T11:08:11.754Z"
   },
   {
    "duration": 10,
    "start_time": "2021-12-04T11:08:11.830Z"
   },
   {
    "duration": 8,
    "start_time": "2021-12-04T11:08:11.842Z"
   },
   {
    "duration": 13,
    "start_time": "2021-12-04T11:08:11.852Z"
   },
   {
    "duration": 25,
    "start_time": "2021-12-04T11:08:11.867Z"
   },
   {
    "duration": 5,
    "start_time": "2021-12-04T11:08:11.893Z"
   },
   {
    "duration": 5,
    "start_time": "2021-12-04T11:08:11.900Z"
   },
   {
    "duration": 8,
    "start_time": "2021-12-04T11:08:11.907Z"
   },
   {
    "duration": 7,
    "start_time": "2021-12-04T11:08:11.916Z"
   },
   {
    "duration": 5,
    "start_time": "2021-12-04T11:08:11.925Z"
   },
   {
    "duration": 6,
    "start_time": "2021-12-04T11:08:11.932Z"
   },
   {
    "duration": 8,
    "start_time": "2021-12-04T11:08:11.940Z"
   },
   {
    "duration": 42,
    "start_time": "2021-12-04T11:08:11.950Z"
   },
   {
    "duration": 7,
    "start_time": "2021-12-04T11:08:11.993Z"
   },
   {
    "duration": 13,
    "start_time": "2021-12-04T11:08:12.002Z"
   },
   {
    "duration": 13,
    "start_time": "2021-12-04T11:08:12.017Z"
   },
   {
    "duration": 16,
    "start_time": "2021-12-04T11:08:12.031Z"
   },
   {
    "duration": 13,
    "start_time": "2021-12-04T11:08:12.048Z"
   },
   {
    "duration": 29,
    "start_time": "2021-12-04T11:08:12.063Z"
   },
   {
    "duration": 4,
    "start_time": "2021-12-04T11:08:12.094Z"
   },
   {
    "duration": 3418,
    "start_time": "2021-12-04T11:08:12.100Z"
   },
   {
    "duration": 5,
    "start_time": "2021-12-04T11:08:15.522Z"
   },
   {
    "duration": 9,
    "start_time": "2021-12-04T11:08:15.529Z"
   },
   {
    "duration": 5,
    "start_time": "2021-12-04T11:08:40.760Z"
   },
   {
    "duration": 4,
    "start_time": "2021-12-04T11:08:51.104Z"
   },
   {
    "duration": 7,
    "start_time": "2021-12-04T11:09:08.371Z"
   },
   {
    "duration": 5,
    "start_time": "2021-12-04T11:16:55.905Z"
   },
   {
    "duration": 6,
    "start_time": "2021-12-04T11:17:26.507Z"
   },
   {
    "duration": 26,
    "start_time": "2021-12-04T11:19:13.799Z"
   },
   {
    "duration": 12,
    "start_time": "2021-12-04T11:19:36.505Z"
   },
   {
    "duration": 8,
    "start_time": "2021-12-04T11:20:07.672Z"
   },
   {
    "duration": 9,
    "start_time": "2021-12-04T11:20:31.480Z"
   },
   {
    "duration": 21,
    "start_time": "2021-12-04T11:21:34.883Z"
   },
   {
    "duration": 7,
    "start_time": "2021-12-04T11:22:52.763Z"
   },
   {
    "duration": 4,
    "start_time": "2021-12-04T11:29:40.163Z"
   },
   {
    "duration": 7,
    "start_time": "2021-12-04T11:29:51.464Z"
   },
   {
    "duration": 2293,
    "start_time": "2021-12-04T11:31:37.550Z"
   },
   {
    "duration": 165,
    "start_time": "2021-12-04T11:31:57.171Z"
   },
   {
    "duration": 2092,
    "start_time": "2021-12-04T11:32:14.765Z"
   },
   {
    "duration": 184,
    "start_time": "2021-12-04T11:33:22.874Z"
   },
   {
    "duration": 6,
    "start_time": "2021-12-04T11:33:29.401Z"
   },
   {
    "duration": 161,
    "start_time": "2021-12-04T11:33:34.531Z"
   },
   {
    "duration": 2070,
    "start_time": "2021-12-04T11:33:49.619Z"
   },
   {
    "duration": 2471,
    "start_time": "2021-12-04T11:34:10.579Z"
   },
   {
    "duration": -531,
    "start_time": "2021-12-04T11:34:13.583Z"
   },
   {
    "duration": 7,
    "start_time": "2021-12-04T11:35:45.833Z"
   },
   {
    "duration": 6,
    "start_time": "2021-12-04T11:37:08.859Z"
   },
   {
    "duration": 4,
    "start_time": "2021-12-04T11:39:16.738Z"
   },
   {
    "duration": 4,
    "start_time": "2021-12-04T11:39:31.877Z"
   },
   {
    "duration": 4,
    "start_time": "2021-12-04T11:39:56.967Z"
   },
   {
    "duration": 10,
    "start_time": "2021-12-04T11:41:34.548Z"
   },
   {
    "duration": 7,
    "start_time": "2021-12-04T11:41:52.856Z"
   },
   {
    "duration": 11,
    "start_time": "2021-12-04T11:47:23.189Z"
   },
   {
    "duration": 171,
    "start_time": "2021-12-04T12:22:19.850Z"
   },
   {
    "duration": 178,
    "start_time": "2021-12-04T12:22:45.920Z"
   },
   {
    "duration": 180,
    "start_time": "2021-12-04T12:25:08.668Z"
   },
   {
    "duration": 14,
    "start_time": "2021-12-04T12:26:04.071Z"
   },
   {
    "duration": 18,
    "start_time": "2021-12-04T12:26:56.362Z"
   },
   {
    "duration": 18,
    "start_time": "2021-12-04T12:37:41.247Z"
   },
   {
    "duration": 18,
    "start_time": "2021-12-04T12:38:02.782Z"
   },
   {
    "duration": 19,
    "start_time": "2021-12-04T12:38:51.308Z"
   },
   {
    "duration": 17,
    "start_time": "2021-12-04T12:39:22.379Z"
   },
   {
    "duration": 3084,
    "start_time": "2021-12-04T12:40:28.600Z"
   },
   {
    "duration": 4,
    "start_time": "2021-12-04T12:40:42.222Z"
   },
   {
    "duration": 4,
    "start_time": "2021-12-04T12:40:53.375Z"
   },
   {
    "duration": 5,
    "start_time": "2021-12-04T12:41:03.759Z"
   },
   {
    "duration": 163,
    "start_time": "2021-12-04T12:42:47.469Z"
   },
   {
    "duration": 6,
    "start_time": "2021-12-04T12:43:23.888Z"
   },
   {
    "duration": 11,
    "start_time": "2021-12-04T12:43:36.373Z"
   },
   {
    "duration": 12,
    "start_time": "2021-12-04T12:43:56.772Z"
   },
   {
    "duration": 20,
    "start_time": "2021-12-04T12:44:32.262Z"
   },
   {
    "duration": 7,
    "start_time": "2021-12-04T12:44:50.110Z"
   },
   {
    "duration": 13,
    "start_time": "2021-12-04T12:44:51.258Z"
   },
   {
    "duration": 15,
    "start_time": "2021-12-04T13:01:19.183Z"
   },
   {
    "duration": 18,
    "start_time": "2021-12-04T13:02:48.129Z"
   },
   {
    "duration": 4,
    "start_time": "2021-12-04T13:02:49.517Z"
   },
   {
    "duration": 15,
    "start_time": "2021-12-04T13:03:00.642Z"
   },
   {
    "duration": 20,
    "start_time": "2021-12-04T13:03:18.769Z"
   },
   {
    "duration": 4,
    "start_time": "2021-12-04T13:03:20.687Z"
   },
   {
    "duration": 17,
    "start_time": "2021-12-04T13:03:21.618Z"
   },
   {
    "duration": 7,
    "start_time": "2021-12-04T13:10:56.296Z"
   },
   {
    "duration": 7,
    "start_time": "2021-12-04T13:17:52.949Z"
   },
   {
    "duration": 18,
    "start_time": "2021-12-04T13:20:33.081Z"
   },
   {
    "duration": 28,
    "start_time": "2021-12-04T13:22:01.582Z"
   },
   {
    "duration": 21,
    "start_time": "2021-12-04T13:22:55.742Z"
   },
   {
    "duration": 17,
    "start_time": "2021-12-04T13:23:40.163Z"
   },
   {
    "duration": 20,
    "start_time": "2021-12-04T13:23:49.304Z"
   },
   {
    "duration": 11,
    "start_time": "2021-12-04T13:26:07.649Z"
   },
   {
    "duration": 14,
    "start_time": "2021-12-04T13:28:19.351Z"
   },
   {
    "duration": 514,
    "start_time": "2021-12-04T13:29:50.353Z"
   },
   {
    "duration": 75,
    "start_time": "2021-12-04T13:29:50.869Z"
   },
   {
    "duration": 11,
    "start_time": "2021-12-04T13:29:50.946Z"
   },
   {
    "duration": 9,
    "start_time": "2021-12-04T13:29:50.959Z"
   },
   {
    "duration": 28,
    "start_time": "2021-12-04T13:29:50.970Z"
   },
   {
    "duration": 9,
    "start_time": "2021-12-04T13:29:51.000Z"
   },
   {
    "duration": 7,
    "start_time": "2021-12-04T13:29:51.010Z"
   },
   {
    "duration": 3,
    "start_time": "2021-12-04T13:29:51.019Z"
   },
   {
    "duration": 8,
    "start_time": "2021-12-04T13:29:51.024Z"
   },
   {
    "duration": 10,
    "start_time": "2021-12-04T13:29:51.033Z"
   },
   {
    "duration": 48,
    "start_time": "2021-12-04T13:29:51.046Z"
   },
   {
    "duration": 6,
    "start_time": "2021-12-04T13:29:51.095Z"
   },
   {
    "duration": 9,
    "start_time": "2021-12-04T13:29:51.103Z"
   },
   {
    "duration": 4,
    "start_time": "2021-12-04T13:29:51.114Z"
   },
   {
    "duration": 6,
    "start_time": "2021-12-04T13:29:51.119Z"
   },
   {
    "duration": 14,
    "start_time": "2021-12-04T13:29:51.127Z"
   },
   {
    "duration": 15,
    "start_time": "2021-12-04T13:29:51.142Z"
   },
   {
    "duration": 48,
    "start_time": "2021-12-04T13:29:51.159Z"
   },
   {
    "duration": 16,
    "start_time": "2021-12-04T13:29:51.208Z"
   },
   {
    "duration": 6,
    "start_time": "2021-12-04T13:29:51.226Z"
   },
   {
    "duration": 5,
    "start_time": "2021-12-04T13:29:51.233Z"
   },
   {
    "duration": 3491,
    "start_time": "2021-12-04T13:29:51.240Z"
   },
   {
    "duration": 5,
    "start_time": "2021-12-04T13:29:54.735Z"
   },
   {
    "duration": 9,
    "start_time": "2021-12-04T13:29:54.742Z"
   },
   {
    "duration": 6,
    "start_time": "2021-12-04T13:29:54.753Z"
   },
   {
    "duration": 9,
    "start_time": "2021-12-04T13:29:54.760Z"
   },
   {
    "duration": 22,
    "start_time": "2021-12-04T13:29:54.771Z"
   },
   {
    "duration": 8,
    "start_time": "2021-12-04T13:29:54.794Z"
   },
   {
    "duration": 4,
    "start_time": "2021-12-04T13:29:54.803Z"
   },
   {
    "duration": 7,
    "start_time": "2021-12-04T13:29:54.808Z"
   },
   {
    "duration": 5,
    "start_time": "2021-12-04T13:29:54.816Z"
   },
   {
    "duration": 23,
    "start_time": "2021-12-04T13:29:54.823Z"
   },
   {
    "duration": 3,
    "start_time": "2021-12-04T13:29:54.848Z"
   },
   {
    "duration": 46,
    "start_time": "2021-12-04T13:29:54.852Z"
   },
   {
    "duration": 9,
    "start_time": "2021-12-04T13:29:54.900Z"
   },
   {
    "duration": 20,
    "start_time": "2021-12-04T13:29:54.910Z"
   },
   {
    "duration": 10,
    "start_time": "2021-12-04T13:29:54.932Z"
   },
   {
    "duration": 14,
    "start_time": "2021-12-04T13:30:02.983Z"
   },
   {
    "duration": 5,
    "start_time": "2021-12-04T13:36:00.802Z"
   },
   {
    "duration": 4,
    "start_time": "2021-12-04T13:37:02.898Z"
   },
   {
    "duration": 5,
    "start_time": "2021-12-04T13:41:50.836Z"
   },
   {
    "duration": 5,
    "start_time": "2021-12-04T13:43:24.043Z"
   },
   {
    "duration": 4,
    "start_time": "2021-12-04T14:04:37.727Z"
   },
   {
    "duration": 9,
    "start_time": "2021-12-04T14:04:40.261Z"
   },
   {
    "duration": 7,
    "start_time": "2021-12-04T14:04:42.042Z"
   },
   {
    "duration": 21,
    "start_time": "2021-12-04T14:08:54.533Z"
   },
   {
    "duration": 11,
    "start_time": "2021-12-04T14:18:59.165Z"
   },
   {
    "duration": 3,
    "start_time": "2021-12-04T14:19:59.127Z"
   },
   {
    "duration": 9,
    "start_time": "2021-12-04T14:19:59.756Z"
   },
   {
    "duration": 7,
    "start_time": "2021-12-04T14:20:00.318Z"
   },
   {
    "duration": 18,
    "start_time": "2021-12-04T14:20:03.687Z"
   },
   {
    "duration": 12,
    "start_time": "2021-12-04T14:20:07.940Z"
   },
   {
    "duration": 18,
    "start_time": "2021-12-04T14:21:58.800Z"
   },
   {
    "duration": 13,
    "start_time": "2021-12-04T14:22:41.677Z"
   },
   {
    "duration": 23,
    "start_time": "2021-12-04T15:41:31.337Z"
   },
   {
    "duration": 65,
    "start_time": "2021-12-04T15:41:31.937Z"
   },
   {
    "duration": 11,
    "start_time": "2021-12-04T15:41:33.644Z"
   },
   {
    "duration": 9,
    "start_time": "2021-12-04T15:41:38.071Z"
   },
   {
    "duration": 16,
    "start_time": "2021-12-04T15:41:39.818Z"
   },
   {
    "duration": 7,
    "start_time": "2021-12-04T15:41:41.610Z"
   },
   {
    "duration": 7,
    "start_time": "2021-12-04T15:41:42.102Z"
   },
   {
    "duration": 4,
    "start_time": "2021-12-04T15:41:44.239Z"
   },
   {
    "duration": 6,
    "start_time": "2021-12-04T15:41:44.784Z"
   },
   {
    "duration": 9,
    "start_time": "2021-12-04T15:41:47.301Z"
   },
   {
    "duration": 15,
    "start_time": "2021-12-04T15:43:50.441Z"
   },
   {
    "duration": 535,
    "start_time": "2021-12-04T15:44:32.112Z"
   },
   {
    "duration": 76,
    "start_time": "2021-12-04T15:44:34.077Z"
   },
   {
    "duration": 12,
    "start_time": "2021-12-04T15:44:35.629Z"
   },
   {
    "duration": 10,
    "start_time": "2021-12-04T15:44:38.787Z"
   },
   {
    "duration": 16,
    "start_time": "2021-12-04T15:44:40.957Z"
   },
   {
    "duration": 7,
    "start_time": "2021-12-04T15:44:42.693Z"
   },
   {
    "duration": 6,
    "start_time": "2021-12-04T15:44:43.285Z"
   },
   {
    "duration": 4,
    "start_time": "2021-12-04T15:44:44.876Z"
   },
   {
    "duration": 6,
    "start_time": "2021-12-04T15:44:45.321Z"
   },
   {
    "duration": 8,
    "start_time": "2021-12-04T15:44:47.152Z"
   },
   {
    "duration": 7,
    "start_time": "2021-12-04T15:44:54.302Z"
   },
   {
    "duration": 6,
    "start_time": "2021-12-04T15:44:54.935Z"
   },
   {
    "duration": 11,
    "start_time": "2021-12-04T15:44:57.096Z"
   },
   {
    "duration": 5,
    "start_time": "2021-12-04T15:48:26.879Z"
   },
   {
    "duration": 16,
    "start_time": "2021-12-04T15:48:38.422Z"
   },
   {
    "duration": 17,
    "start_time": "2021-12-04T15:48:39.331Z"
   },
   {
    "duration": 16,
    "start_time": "2021-12-04T15:48:40.137Z"
   },
   {
    "duration": 4,
    "start_time": "2021-12-04T15:49:04.154Z"
   },
   {
    "duration": 5,
    "start_time": "2021-12-04T15:49:04.704Z"
   },
   {
    "duration": 12,
    "start_time": "2021-12-04T15:49:05.107Z"
   },
   {
    "duration": 16,
    "start_time": "2021-12-04T15:49:09.585Z"
   },
   {
    "duration": 19,
    "start_time": "2021-12-04T15:49:09.954Z"
   },
   {
    "duration": 16,
    "start_time": "2021-12-04T15:49:10.358Z"
   },
   {
    "duration": 6,
    "start_time": "2021-12-04T15:49:14.089Z"
   },
   {
    "duration": 4,
    "start_time": "2021-12-04T15:49:25.382Z"
   },
   {
    "duration": 3327,
    "start_time": "2021-12-04T15:49:27.520Z"
   },
   {
    "duration": 6,
    "start_time": "2021-12-04T15:49:34.233Z"
   },
   {
    "duration": 8,
    "start_time": "2021-12-04T15:50:10.498Z"
   },
   {
    "duration": 5,
    "start_time": "2021-12-04T15:50:35.645Z"
   },
   {
    "duration": 4,
    "start_time": "2021-12-04T15:50:41.284Z"
   },
   {
    "duration": 6,
    "start_time": "2021-12-04T15:50:41.746Z"
   },
   {
    "duration": 8,
    "start_time": "2021-12-04T15:50:47.107Z"
   },
   {
    "duration": 5,
    "start_time": "2021-12-04T15:51:07.003Z"
   },
   {
    "duration": 5,
    "start_time": "2021-12-04T15:51:07.651Z"
   },
   {
    "duration": 4,
    "start_time": "2021-12-04T15:51:29.039Z"
   },
   {
    "duration": 21,
    "start_time": "2021-12-04T15:52:17.416Z"
   },
   {
    "duration": 3,
    "start_time": "2021-12-04T15:52:31.027Z"
   },
   {
    "duration": 227,
    "start_time": "2021-12-04T15:52:48.650Z"
   },
   {
    "duration": 14,
    "start_time": "2021-12-04T15:53:10.461Z"
   },
   {
    "duration": 13,
    "start_time": "2021-12-04T15:55:11.081Z"
   },
   {
    "duration": 13,
    "start_time": "2021-12-04T15:55:58.909Z"
   },
   {
    "duration": 8,
    "start_time": "2021-12-04T15:59:01.018Z"
   },
   {
    "duration": 19,
    "start_time": "2021-12-04T15:59:31.292Z"
   },
   {
    "duration": 176,
    "start_time": "2021-12-04T16:01:57.902Z"
   },
   {
    "duration": 14,
    "start_time": "2021-12-04T16:02:21.572Z"
   },
   {
    "duration": 12,
    "start_time": "2021-12-04T16:07:23.202Z"
   },
   {
    "duration": 19,
    "start_time": "2021-12-04T16:07:28.587Z"
   },
   {
    "duration": 11,
    "start_time": "2021-12-04T16:07:29.359Z"
   },
   {
    "duration": 5,
    "start_time": "2021-12-04T16:11:19.740Z"
   },
   {
    "duration": 5,
    "start_time": "2021-12-04T16:11:22.202Z"
   },
   {
    "duration": 3,
    "start_time": "2021-12-04T16:15:43.295Z"
   },
   {
    "duration": 10,
    "start_time": "2021-12-04T16:15:45.645Z"
   },
   {
    "duration": 7,
    "start_time": "2021-12-04T16:15:46.099Z"
   },
   {
    "duration": 21,
    "start_time": "2021-12-04T16:16:02.597Z"
   },
   {
    "duration": 18,
    "start_time": "2021-12-04T16:16:37.068Z"
   },
   {
    "duration": 12,
    "start_time": "2021-12-04T16:16:50.075Z"
   },
   {
    "duration": 12,
    "start_time": "2021-12-04T16:18:33.434Z"
   },
   {
    "duration": 19,
    "start_time": "2021-12-04T16:19:31.621Z"
   },
   {
    "duration": 11,
    "start_time": "2021-12-04T16:19:32.629Z"
   },
   {
    "duration": 17,
    "start_time": "2021-12-04T16:24:04.477Z"
   },
   {
    "duration": 13,
    "start_time": "2021-12-04T16:24:07.055Z"
   },
   {
    "duration": 641,
    "start_time": "2021-12-05T14:14:33.606Z"
   },
   {
    "duration": 76,
    "start_time": "2021-12-05T14:14:34.790Z"
   },
   {
    "duration": 13,
    "start_time": "2021-12-05T14:14:37.227Z"
   },
   {
    "duration": 11,
    "start_time": "2021-12-05T14:15:00.574Z"
   },
   {
    "duration": 14,
    "start_time": "2021-12-05T14:15:07.752Z"
   },
   {
    "duration": 5,
    "start_time": "2021-12-05T14:15:30.402Z"
   },
   {
    "duration": 6,
    "start_time": "2021-12-05T14:15:38.747Z"
   },
   {
    "duration": 4,
    "start_time": "2021-12-05T14:15:45.299Z"
   },
   {
    "duration": 7,
    "start_time": "2021-12-05T14:15:46.048Z"
   },
   {
    "duration": 9,
    "start_time": "2021-12-05T14:15:48.827Z"
   },
   {
    "duration": 7,
    "start_time": "2021-12-05T14:16:36.594Z"
   },
   {
    "duration": 6,
    "start_time": "2021-12-05T14:16:47.346Z"
   },
   {
    "duration": 6,
    "start_time": "2021-12-05T14:16:47.905Z"
   },
   {
    "duration": 9,
    "start_time": "2021-12-05T14:16:48.435Z"
   },
   {
    "duration": 4,
    "start_time": "2021-12-05T14:16:59.016Z"
   },
   {
    "duration": 4,
    "start_time": "2021-12-05T14:16:59.495Z"
   },
   {
    "duration": 11,
    "start_time": "2021-12-05T14:17:00.336Z"
   },
   {
    "duration": 15,
    "start_time": "2021-12-05T14:17:03.955Z"
   },
   {
    "duration": 17,
    "start_time": "2021-12-05T14:17:04.391Z"
   },
   {
    "duration": 15,
    "start_time": "2021-12-05T14:17:04.762Z"
   },
   {
    "duration": 5,
    "start_time": "2021-12-05T14:17:39.096Z"
   },
   {
    "duration": 4,
    "start_time": "2021-12-05T14:17:46.363Z"
   },
   {
    "duration": 3408,
    "start_time": "2021-12-05T14:17:48.792Z"
   },
   {
    "duration": 6,
    "start_time": "2021-12-05T14:17:52.297Z"
   },
   {
    "duration": 8,
    "start_time": "2021-12-05T14:18:07.339Z"
   },
   {
    "duration": 4,
    "start_time": "2021-12-05T14:18:15.206Z"
   },
   {
    "duration": 4,
    "start_time": "2021-12-05T14:18:17.487Z"
   },
   {
    "duration": 5,
    "start_time": "2021-12-05T14:18:17.855Z"
   },
   {
    "duration": 12,
    "start_time": "2021-12-05T14:18:19.457Z"
   },
   {
    "duration": 4,
    "start_time": "2021-12-05T14:18:21.637Z"
   },
   {
    "duration": 6,
    "start_time": "2021-12-05T14:18:22.154Z"
   },
   {
    "duration": 4,
    "start_time": "2021-12-05T14:18:24.226Z"
   },
   {
    "duration": 4,
    "start_time": "2021-12-05T14:18:46.968Z"
   },
   {
    "duration": 22,
    "start_time": "2021-12-05T14:18:52.069Z"
   },
   {
    "duration": 3,
    "start_time": "2021-12-05T14:18:56.662Z"
   },
   {
    "duration": 14,
    "start_time": "2021-12-05T14:18:59.700Z"
   },
   {
    "duration": 7,
    "start_time": "2021-12-05T14:20:57.850Z"
   },
   {
    "duration": 19,
    "start_time": "2021-12-05T14:20:58.361Z"
   },
   {
    "duration": 11,
    "start_time": "2021-12-05T14:21:01.081Z"
   },
   {
    "duration": 4,
    "start_time": "2021-12-05T14:28:17.554Z"
   },
   {
    "duration": 5,
    "start_time": "2021-12-05T14:28:19.097Z"
   },
   {
    "duration": 3,
    "start_time": "2021-12-05T14:29:09.144Z"
   },
   {
    "duration": 9,
    "start_time": "2021-12-05T14:29:11.816Z"
   },
   {
    "duration": 8,
    "start_time": "2021-12-05T14:29:12.329Z"
   },
   {
    "duration": 20,
    "start_time": "2021-12-05T14:29:26.229Z"
   },
   {
    "duration": 11,
    "start_time": "2021-12-05T14:29:28.747Z"
   },
   {
    "duration": 23,
    "start_time": "2021-12-05T14:30:24.380Z"
   },
   {
    "duration": 12,
    "start_time": "2021-12-05T14:30:26.298Z"
   },
   {
    "duration": 12,
    "start_time": "2021-12-05T14:39:43.638Z"
   },
   {
    "duration": 495,
    "start_time": "2021-12-06T03:21:33.846Z"
   },
   {
    "duration": 67,
    "start_time": "2021-12-06T03:21:34.343Z"
   },
   {
    "duration": 10,
    "start_time": "2021-12-06T03:21:34.412Z"
   },
   {
    "duration": 9,
    "start_time": "2021-12-06T03:21:34.423Z"
   },
   {
    "duration": 12,
    "start_time": "2021-12-06T03:21:34.433Z"
   },
   {
    "duration": 5,
    "start_time": "2021-12-06T03:21:34.446Z"
   },
   {
    "duration": 5,
    "start_time": "2021-12-06T03:21:34.453Z"
   },
   {
    "duration": 3,
    "start_time": "2021-12-06T03:21:34.489Z"
   },
   {
    "duration": 7,
    "start_time": "2021-12-06T03:21:34.494Z"
   },
   {
    "duration": 7,
    "start_time": "2021-12-06T03:21:34.502Z"
   },
   {
    "duration": 5,
    "start_time": "2021-12-06T03:21:34.510Z"
   },
   {
    "duration": 9,
    "start_time": "2021-12-06T03:21:34.517Z"
   },
   {
    "duration": 17,
    "start_time": "2021-12-06T03:21:34.527Z"
   },
   {
    "duration": 3,
    "start_time": "2021-12-06T03:21:34.546Z"
   },
   {
    "duration": 11,
    "start_time": "2021-12-06T03:21:34.551Z"
   },
   {
    "duration": 32,
    "start_time": "2021-12-06T03:21:34.563Z"
   },
   {
    "duration": 16,
    "start_time": "2021-12-06T03:21:34.597Z"
   },
   {
    "duration": 19,
    "start_time": "2021-12-06T03:21:34.615Z"
   },
   {
    "duration": 17,
    "start_time": "2021-12-06T03:21:34.635Z"
   },
   {
    "duration": 35,
    "start_time": "2021-12-06T03:21:34.653Z"
   },
   {
    "duration": 5,
    "start_time": "2021-12-06T03:21:34.690Z"
   },
   {
    "duration": 3205,
    "start_time": "2021-12-06T03:21:34.697Z"
   },
   {
    "duration": 7,
    "start_time": "2021-12-06T03:21:37.906Z"
   },
   {
    "duration": 8,
    "start_time": "2021-12-06T03:21:37.915Z"
   },
   {
    "duration": 4,
    "start_time": "2021-12-06T03:21:37.925Z"
   },
   {
    "duration": 3,
    "start_time": "2021-12-06T03:21:37.931Z"
   },
   {
    "duration": 7,
    "start_time": "2021-12-06T03:21:37.935Z"
   },
   {
    "duration": 10,
    "start_time": "2021-12-06T03:21:37.943Z"
   },
   {
    "duration": 3,
    "start_time": "2021-12-06T03:21:37.954Z"
   },
   {
    "duration": 29,
    "start_time": "2021-12-06T03:21:37.959Z"
   },
   {
    "duration": 3,
    "start_time": "2021-12-06T03:21:37.990Z"
   },
   {
    "duration": 20,
    "start_time": "2021-12-06T03:21:37.995Z"
   },
   {
    "duration": 3,
    "start_time": "2021-12-06T03:21:38.016Z"
   },
   {
    "duration": 12,
    "start_time": "2021-12-06T03:21:38.020Z"
   },
   {
    "duration": 7,
    "start_time": "2021-12-06T03:21:38.034Z"
   },
   {
    "duration": 50,
    "start_time": "2021-12-06T03:21:38.042Z"
   },
   {
    "duration": 10,
    "start_time": "2021-12-06T03:21:38.093Z"
   },
   {
    "duration": 5,
    "start_time": "2021-12-06T03:21:38.104Z"
   },
   {
    "duration": 7,
    "start_time": "2021-12-06T03:21:38.111Z"
   },
   {
    "duration": 4,
    "start_time": "2021-12-06T03:21:38.119Z"
   },
   {
    "duration": 10,
    "start_time": "2021-12-06T03:21:38.124Z"
   },
   {
    "duration": 7,
    "start_time": "2021-12-06T03:21:38.136Z"
   },
   {
    "duration": 44,
    "start_time": "2021-12-06T03:21:38.145Z"
   },
   {
    "duration": 10,
    "start_time": "2021-12-06T03:21:38.190Z"
   },
   {
    "duration": 16,
    "start_time": "2021-12-06T03:21:38.201Z"
   },
   {
    "duration": 9,
    "start_time": "2021-12-06T03:21:38.219Z"
   },
   {
    "duration": 480,
    "start_time": "2021-12-06T10:10:13.310Z"
   },
   {
    "duration": 737,
    "start_time": "2021-12-06T10:10:25.697Z"
   },
   {
    "duration": 103,
    "start_time": "2021-12-06T10:10:29.686Z"
   },
   {
    "duration": 21,
    "start_time": "2021-12-06T10:10:40.503Z"
   },
   {
    "duration": 600,
    "start_time": "2021-12-06T16:26:09.604Z"
   },
   {
    "duration": 65,
    "start_time": "2021-12-06T16:26:11.618Z"
   },
   {
    "duration": 12,
    "start_time": "2021-12-06T16:26:17.986Z"
   },
   {
    "duration": 10,
    "start_time": "2021-12-06T16:26:34.311Z"
   },
   {
    "duration": 15,
    "start_time": "2021-12-06T16:27:09.079Z"
   },
   {
    "duration": 6,
    "start_time": "2021-12-06T16:27:51.706Z"
   },
   {
    "duration": 6,
    "start_time": "2021-12-06T16:31:04.253Z"
   },
   {
    "duration": 5,
    "start_time": "2021-12-06T16:31:05.645Z"
   },
   {
    "duration": 4,
    "start_time": "2021-12-06T16:31:07.315Z"
   },
   {
    "duration": 6,
    "start_time": "2021-12-06T16:31:09.080Z"
   },
   {
    "duration": 4,
    "start_time": "2021-12-06T16:45:21.618Z"
   },
   {
    "duration": 4,
    "start_time": "2021-12-06T16:45:31.820Z"
   },
   {
    "duration": 20,
    "start_time": "2021-12-06T16:51:30.779Z"
   },
   {
    "duration": 21,
    "start_time": "2021-12-06T16:54:41.240Z"
   },
   {
    "duration": 6,
    "start_time": "2021-12-06T16:55:57.897Z"
   },
   {
    "duration": 3,
    "start_time": "2021-12-06T16:59:34.951Z"
   },
   {
    "duration": 10,
    "start_time": "2021-12-06T17:05:15.593Z"
   },
   {
    "duration": 9,
    "start_time": "2021-12-06T17:05:38.223Z"
   },
   {
    "duration": 5,
    "start_time": "2021-12-06T17:05:52.559Z"
   },
   {
    "duration": 3,
    "start_time": "2021-12-06T17:07:44.127Z"
   },
   {
    "duration": 4,
    "start_time": "2021-12-06T17:09:23.983Z"
   },
   {
    "duration": 60,
    "start_time": "2021-12-06T17:10:10.423Z"
   },
   {
    "duration": 8,
    "start_time": "2021-12-06T17:10:26.523Z"
   },
   {
    "duration": 3,
    "start_time": "2021-12-06T17:14:25.626Z"
   },
   {
    "duration": 7,
    "start_time": "2021-12-06T17:17:42.649Z"
   },
   {
    "duration": 21,
    "start_time": "2021-12-06T17:19:56.510Z"
   },
   {
    "duration": 7,
    "start_time": "2021-12-06T17:20:39.531Z"
   },
   {
    "duration": 15,
    "start_time": "2021-12-06T17:20:54.738Z"
   },
   {
    "duration": 6,
    "start_time": "2021-12-06T17:24:45.957Z"
   },
   {
    "duration": 5,
    "start_time": "2021-12-06T17:33:10.803Z"
   },
   {
    "duration": 3,
    "start_time": "2021-12-06T17:33:30.659Z"
   },
   {
    "duration": 248,
    "start_time": "2021-12-06T17:34:34.764Z"
   },
   {
    "duration": 3,
    "start_time": "2021-12-06T17:34:54.233Z"
   },
   {
    "duration": 4,
    "start_time": "2021-12-06T17:35:02.326Z"
   },
   {
    "duration": 3,
    "start_time": "2021-12-06T17:35:27.288Z"
   },
   {
    "duration": 5,
    "start_time": "2021-12-06T17:35:31.699Z"
   },
   {
    "duration": 167,
    "start_time": "2021-12-06T17:35:49.312Z"
   },
   {
    "duration": 6,
    "start_time": "2021-12-06T17:36:14.422Z"
   },
   {
    "duration": 3,
    "start_time": "2021-12-06T17:44:50.783Z"
   },
   {
    "duration": 189,
    "start_time": "2021-12-06T17:48:21.926Z"
   },
   {
    "duration": 13,
    "start_time": "2021-12-06T17:48:50.362Z"
   },
   {
    "duration": 6,
    "start_time": "2021-12-06T17:49:12.280Z"
   },
   {
    "duration": 161,
    "start_time": "2021-12-06T17:51:22.895Z"
   },
   {
    "duration": 9,
    "start_time": "2021-12-06T17:51:35.601Z"
   },
   {
    "duration": 3,
    "start_time": "2021-12-06T17:54:41.621Z"
   },
   {
    "duration": 10,
    "start_time": "2021-12-06T17:54:42.771Z"
   },
   {
    "duration": 7,
    "start_time": "2021-12-06T17:54:45.441Z"
   },
   {
    "duration": 25,
    "start_time": "2021-12-06T17:55:52.756Z"
   },
   {
    "duration": 7,
    "start_time": "2021-12-06T17:56:07.241Z"
   },
   {
    "duration": 6,
    "start_time": "2021-12-06T17:58:23.289Z"
   },
   {
    "duration": 5,
    "start_time": "2021-12-06T17:58:46.394Z"
   },
   {
    "duration": 3,
    "start_time": "2021-12-06T18:01:50.303Z"
   },
   {
    "duration": 12,
    "start_time": "2021-12-06T18:01:51.341Z"
   },
   {
    "duration": 6,
    "start_time": "2021-12-06T18:01:51.782Z"
   },
   {
    "duration": 8,
    "start_time": "2021-12-06T18:02:29.020Z"
   },
   {
    "duration": 557,
    "start_time": "2021-12-06T18:06:10.486Z"
   },
   {
    "duration": 68,
    "start_time": "2021-12-06T18:06:12.949Z"
   },
   {
    "duration": 12,
    "start_time": "2021-12-06T18:06:16.306Z"
   },
   {
    "duration": 10,
    "start_time": "2021-12-06T18:06:23.795Z"
   },
   {
    "duration": 7,
    "start_time": "2021-12-06T18:06:27.330Z"
   },
   {
    "duration": 5,
    "start_time": "2021-12-06T18:06:30.824Z"
   },
   {
    "duration": 6,
    "start_time": "2021-12-06T18:06:32.490Z"
   },
   {
    "duration": 4,
    "start_time": "2021-12-06T18:06:34.636Z"
   },
   {
    "duration": 6,
    "start_time": "2021-12-06T18:06:36.559Z"
   },
   {
    "duration": 4,
    "start_time": "2021-12-06T18:06:39.422Z"
   },
   {
    "duration": 6,
    "start_time": "2021-12-06T18:06:43.454Z"
   },
   {
    "duration": 4,
    "start_time": "2021-12-06T18:06:45.409Z"
   },
   {
    "duration": 8,
    "start_time": "2021-12-06T18:06:46.061Z"
   },
   {
    "duration": 5,
    "start_time": "2021-12-06T18:06:46.557Z"
   },
   {
    "duration": 3,
    "start_time": "2021-12-06T18:06:54.697Z"
   },
   {
    "duration": 14,
    "start_time": "2021-12-06T18:06:58.010Z"
   },
   {
    "duration": 6,
    "start_time": "2021-12-06T18:06:59.134Z"
   },
   {
    "duration": 8,
    "start_time": "2021-12-06T18:07:21.671Z"
   },
   {
    "duration": 222,
    "start_time": "2021-12-06T18:10:53.254Z"
   },
   {
    "duration": 6,
    "start_time": "2021-12-06T18:11:24.543Z"
   },
   {
    "duration": 175,
    "start_time": "2021-12-06T18:12:14.303Z"
   },
   {
    "duration": 3,
    "start_time": "2021-12-06T18:17:20.102Z"
   },
   {
    "duration": 4,
    "start_time": "2021-12-06T18:17:55.883Z"
   },
   {
    "duration": 4,
    "start_time": "2021-12-06T18:23:23.013Z"
   },
   {
    "duration": 4,
    "start_time": "2021-12-06T18:24:41.745Z"
   },
   {
    "duration": 13,
    "start_time": "2021-12-06T18:26:29.802Z"
   },
   {
    "duration": 353,
    "start_time": "2021-12-06T18:26:40.245Z"
   },
   {
    "duration": 4,
    "start_time": "2021-12-06T18:27:46.303Z"
   },
   {
    "duration": 2135,
    "start_time": "2021-12-06T18:27:49.963Z"
   },
   {
    "duration": 13,
    "start_time": "2021-12-06T18:28:05.205Z"
   },
   {
    "duration": 584,
    "start_time": "2021-12-06T18:28:40.068Z"
   },
   {
    "duration": 73,
    "start_time": "2021-12-06T18:28:43.096Z"
   },
   {
    "duration": 12,
    "start_time": "2021-12-06T18:28:44.553Z"
   },
   {
    "duration": 10,
    "start_time": "2021-12-06T18:28:47.655Z"
   },
   {
    "duration": 7,
    "start_time": "2021-12-06T18:28:49.782Z"
   },
   {
    "duration": 5,
    "start_time": "2021-12-06T18:28:51.881Z"
   },
   {
    "duration": 5,
    "start_time": "2021-12-06T18:28:53.088Z"
   },
   {
    "duration": 4,
    "start_time": "2021-12-06T18:28:54.615Z"
   },
   {
    "duration": 6,
    "start_time": "2021-12-06T18:28:55.320Z"
   },
   {
    "duration": 3,
    "start_time": "2021-12-06T18:28:56.794Z"
   },
   {
    "duration": 6,
    "start_time": "2021-12-06T18:28:58.345Z"
   },
   {
    "duration": 3,
    "start_time": "2021-12-06T18:28:59.800Z"
   },
   {
    "duration": 10,
    "start_time": "2021-12-06T18:29:00.294Z"
   },
   {
    "duration": 5,
    "start_time": "2021-12-06T18:29:00.764Z"
   },
   {
    "duration": 4,
    "start_time": "2021-12-06T18:29:04.641Z"
   },
   {
    "duration": 14,
    "start_time": "2021-12-06T18:29:07.727Z"
   },
   {
    "duration": 6,
    "start_time": "2021-12-06T18:29:08.119Z"
   },
   {
    "duration": 8,
    "start_time": "2021-12-06T18:29:09.986Z"
   },
   {
    "duration": 3,
    "start_time": "2021-12-06T18:29:12.179Z"
   },
   {
    "duration": 13,
    "start_time": "2021-12-06T18:29:14.019Z"
   },
   {
    "duration": 375,
    "start_time": "2021-12-06T18:29:16.641Z"
   },
   {
    "duration": 13,
    "start_time": "2021-12-06T18:29:17.986Z"
   },
   {
    "duration": 7,
    "start_time": "2021-12-06T18:32:33.802Z"
   },
   {
    "duration": 81,
    "start_time": "2021-12-06T18:39:45.821Z"
   },
   {
    "duration": 299,
    "start_time": "2021-12-06T18:40:07.980Z"
   },
   {
    "duration": 60,
    "start_time": "2021-12-06T18:40:27.805Z"
   },
   {
    "duration": 67,
    "start_time": "2021-12-06T18:41:25.403Z"
   },
   {
    "duration": 7,
    "start_time": "2021-12-06T18:51:05.036Z"
   },
   {
    "duration": 9,
    "start_time": "2021-12-06T18:51:20.779Z"
   },
   {
    "duration": 5,
    "start_time": "2021-12-06T19:06:30.769Z"
   },
   {
    "duration": 15,
    "start_time": "2021-12-06T19:06:47.243Z"
   },
   {
    "duration": 383,
    "start_time": "2021-12-06T19:08:10.930Z"
   },
   {
    "duration": 13,
    "start_time": "2021-12-06T19:08:20.427Z"
   },
   {
    "duration": 9,
    "start_time": "2021-12-06T19:08:37.585Z"
   },
   {
    "duration": 5,
    "start_time": "2021-12-06T19:21:00.591Z"
   },
   {
    "duration": 4,
    "start_time": "2021-12-06T19:21:01.926Z"
   },
   {
    "duration": 12,
    "start_time": "2021-12-06T19:21:02.319Z"
   },
   {
    "duration": 16,
    "start_time": "2021-12-06T19:21:10.425Z"
   },
   {
    "duration": 17,
    "start_time": "2021-12-06T19:21:10.935Z"
   },
   {
    "duration": 16,
    "start_time": "2021-12-06T19:21:11.309Z"
   },
   {
    "duration": 6,
    "start_time": "2021-12-06T19:26:23.844Z"
   },
   {
    "duration": 5,
    "start_time": "2021-12-06T19:29:27.324Z"
   },
   {
    "duration": 5,
    "start_time": "2021-12-06T19:29:39.994Z"
   },
   {
    "duration": 221,
    "start_time": "2021-12-06T19:31:12.215Z"
   },
   {
    "duration": 11,
    "start_time": "2021-12-06T19:31:44.559Z"
   },
   {
    "duration": 7,
    "start_time": "2021-12-06T19:31:54.405Z"
   },
   {
    "duration": 5,
    "start_time": "2021-12-06T19:32:55.753Z"
   },
   {
    "duration": 5,
    "start_time": "2021-12-06T19:33:59.485Z"
   },
   {
    "duration": 11,
    "start_time": "2021-12-06T19:35:39.143Z"
   },
   {
    "duration": 16,
    "start_time": "2021-12-06T19:39:29.189Z"
   },
   {
    "duration": 15,
    "start_time": "2021-12-06T19:40:18.538Z"
   },
   {
    "duration": 18,
    "start_time": "2021-12-06T19:40:57.495Z"
   },
   {
    "duration": 15,
    "start_time": "2021-12-06T19:41:03.959Z"
   },
   {
    "duration": 587,
    "start_time": "2021-12-06T21:10:46.917Z"
   },
   {
    "duration": 62,
    "start_time": "2021-12-06T21:10:48.302Z"
   },
   {
    "duration": 11,
    "start_time": "2021-12-06T21:10:51.740Z"
   },
   {
    "duration": 9,
    "start_time": "2021-12-06T21:10:55.465Z"
   },
   {
    "duration": 6,
    "start_time": "2021-12-06T21:10:58.348Z"
   },
   {
    "duration": 5,
    "start_time": "2021-12-06T21:12:35.284Z"
   },
   {
    "duration": 6,
    "start_time": "2021-12-06T21:12:36.987Z"
   },
   {
    "duration": 4,
    "start_time": "2021-12-06T21:12:52.227Z"
   },
   {
    "duration": 5,
    "start_time": "2021-12-06T21:12:54.682Z"
   },
   {
    "duration": 4,
    "start_time": "2021-12-06T21:12:55.581Z"
   },
   {
    "duration": 6,
    "start_time": "2021-12-06T21:14:49.840Z"
   },
   {
    "duration": 3,
    "start_time": "2021-12-06T21:14:55.045Z"
   },
   {
    "duration": 8,
    "start_time": "2021-12-06T21:14:59.952Z"
   },
   {
    "duration": 4,
    "start_time": "2021-12-06T21:15:00.984Z"
   },
   {
    "duration": 14,
    "start_time": "2021-12-06T21:18:50.249Z"
   },
   {
    "duration": 6,
    "start_time": "2021-12-06T21:19:53.053Z"
   },
   {
    "duration": 3,
    "start_time": "2021-12-06T21:20:51.168Z"
   },
   {
    "duration": 12,
    "start_time": "2021-12-06T21:20:54.153Z"
   },
   {
    "duration": 5,
    "start_time": "2021-12-06T21:20:54.898Z"
   },
   {
    "duration": 7,
    "start_time": "2021-12-06T21:21:05.061Z"
   },
   {
    "duration": 3,
    "start_time": "2021-12-06T21:21:42.895Z"
   },
   {
    "duration": 377,
    "start_time": "2021-12-06T21:21:45.061Z"
   },
   {
    "duration": 5,
    "start_time": "2021-12-06T21:24:25.861Z"
   },
   {
    "duration": 553,
    "start_time": "2021-12-06T21:24:43.549Z"
   },
   {
    "duration": 62,
    "start_time": "2021-12-06T21:24:46.284Z"
   },
   {
    "duration": 10,
    "start_time": "2021-12-06T21:24:52.217Z"
   },
   {
    "duration": 10,
    "start_time": "2021-12-06T21:24:57.614Z"
   },
   {
    "duration": 7,
    "start_time": "2021-12-06T21:25:10.678Z"
   },
   {
    "duration": 8,
    "start_time": "2021-12-06T21:25:31.478Z"
   },
   {
    "duration": 6,
    "start_time": "2021-12-06T21:25:42.217Z"
   },
   {
    "duration": 5,
    "start_time": "2021-12-06T21:25:46.994Z"
   },
   {
    "duration": 4,
    "start_time": "2021-12-06T21:28:23.168Z"
   },
   {
    "duration": 6,
    "start_time": "2021-12-06T21:28:29.544Z"
   },
   {
    "duration": 3,
    "start_time": "2021-12-06T21:28:58.892Z"
   },
   {
    "duration": 8,
    "start_time": "2021-12-06T21:29:03.430Z"
   },
   {
    "duration": 4,
    "start_time": "2021-12-06T21:29:04.909Z"
   },
   {
    "duration": 4,
    "start_time": "2021-12-06T21:29:41.899Z"
   },
   {
    "duration": 5,
    "start_time": "2021-12-06T21:29:43.813Z"
   },
   {
    "duration": 5,
    "start_time": "2021-12-06T21:29:48.646Z"
   },
   {
    "duration": 4,
    "start_time": "2021-12-06T21:30:05.475Z"
   },
   {
    "duration": 13,
    "start_time": "2021-12-06T21:30:06.038Z"
   },
   {
    "duration": 6,
    "start_time": "2021-12-06T21:30:06.456Z"
   },
   {
    "duration": 8,
    "start_time": "2021-12-06T21:30:09.171Z"
   },
   {
    "duration": 3,
    "start_time": "2021-12-06T21:30:14.996Z"
   },
   {
    "duration": 391,
    "start_time": "2021-12-06T21:30:18.816Z"
   },
   {
    "duration": 8,
    "start_time": "2021-12-06T21:30:31.332Z"
   },
   {
    "duration": 7,
    "start_time": "2021-12-06T21:30:33.609Z"
   },
   {
    "duration": 4,
    "start_time": "2021-12-06T21:30:49.233Z"
   },
   {
    "duration": 374,
    "start_time": "2021-12-06T21:30:57.747Z"
   },
   {
    "duration": 9,
    "start_time": "2021-12-06T21:31:00.820Z"
   },
   {
    "duration": 4,
    "start_time": "2021-12-06T21:31:41.004Z"
   },
   {
    "duration": 3,
    "start_time": "2021-12-06T21:31:42.547Z"
   },
   {
    "duration": 11,
    "start_time": "2021-12-06T21:31:45.103Z"
   },
   {
    "duration": 14,
    "start_time": "2021-12-06T21:31:50.209Z"
   },
   {
    "duration": 17,
    "start_time": "2021-12-06T21:31:51.408Z"
   },
   {
    "duration": 14,
    "start_time": "2021-12-06T21:31:51.828Z"
   },
   {
    "duration": 5,
    "start_time": "2021-12-06T21:31:55.396Z"
   },
   {
    "duration": 5,
    "start_time": "2021-12-06T21:31:57.842Z"
   },
   {
    "duration": 10,
    "start_time": "2021-12-06T21:32:01.791Z"
   },
   {
    "duration": 6,
    "start_time": "2021-12-06T21:32:04.295Z"
   },
   {
    "duration": 5,
    "start_time": "2021-12-06T21:32:15.004Z"
   },
   {
    "duration": 5,
    "start_time": "2021-12-06T21:32:15.985Z"
   },
   {
    "duration": 14,
    "start_time": "2021-12-06T21:32:21.468Z"
   },
   {
    "duration": 15,
    "start_time": "2021-12-06T21:32:46.496Z"
   },
   {
    "duration": 17,
    "start_time": "2021-12-06T21:32:48.609Z"
   },
   {
    "duration": 15,
    "start_time": "2021-12-06T21:32:49.101Z"
   },
   {
    "duration": 5,
    "start_time": "2021-12-06T21:37:24.389Z"
   },
   {
    "duration": 3,
    "start_time": "2021-12-06T21:37:44.656Z"
   },
   {
    "duration": 3331,
    "start_time": "2021-12-06T21:37:47.644Z"
   },
   {
    "duration": 15,
    "start_time": "2021-12-06T21:37:50.977Z"
   },
   {
    "duration": 8,
    "start_time": "2021-12-06T21:38:01.162Z"
   },
   {
    "duration": 7,
    "start_time": "2021-12-06T21:49:30.248Z"
   },
   {
    "duration": 7,
    "start_time": "2021-12-06T21:50:04.531Z"
   },
   {
    "duration": 6,
    "start_time": "2021-12-06T21:52:02.651Z"
   },
   {
    "duration": 3,
    "start_time": "2021-12-06T21:59:25.702Z"
   },
   {
    "duration": 2,
    "start_time": "2021-12-06T22:03:06.676Z"
   },
   {
    "duration": 19,
    "start_time": "2021-12-06T22:04:40.849Z"
   },
   {
    "duration": 5,
    "start_time": "2021-12-06T22:04:48.932Z"
   },
   {
    "duration": 9,
    "start_time": "2021-12-06T22:05:55.924Z"
   },
   {
    "duration": 6,
    "start_time": "2021-12-06T22:06:24.534Z"
   },
   {
    "duration": 5,
    "start_time": "2021-12-06T22:07:12.398Z"
   },
   {
    "duration": 4,
    "start_time": "2021-12-06T22:14:38.724Z"
   },
   {
    "duration": 9,
    "start_time": "2021-12-06T22:14:39.353Z"
   },
   {
    "duration": 7,
    "start_time": "2021-12-06T22:15:09.139Z"
   },
   {
    "duration": 3,
    "start_time": "2021-12-06T22:16:00.701Z"
   },
   {
    "duration": 10,
    "start_time": "2021-12-06T22:16:01.249Z"
   },
   {
    "duration": 8,
    "start_time": "2021-12-06T22:16:01.902Z"
   },
   {
    "duration": 528,
    "start_time": "2021-12-07T13:24:16.506Z"
   },
   {
    "duration": 59,
    "start_time": "2021-12-07T13:24:18.730Z"
   },
   {
    "duration": 14,
    "start_time": "2021-12-07T13:24:22.350Z"
   },
   {
    "duration": 8,
    "start_time": "2021-12-07T13:24:39.008Z"
   },
   {
    "duration": 5,
    "start_time": "2021-12-07T13:24:43.206Z"
   },
   {
    "duration": 5,
    "start_time": "2021-12-07T13:24:49.114Z"
   },
   {
    "duration": 5,
    "start_time": "2021-12-07T13:24:51.550Z"
   },
   {
    "duration": 4,
    "start_time": "2021-12-07T13:25:08.805Z"
   },
   {
    "duration": 5,
    "start_time": "2021-12-07T13:27:49.679Z"
   },
   {
    "duration": 3,
    "start_time": "2021-12-07T13:27:58.462Z"
   },
   {
    "duration": 8,
    "start_time": "2021-12-07T13:28:14.067Z"
   },
   {
    "duration": 4,
    "start_time": "2021-12-07T13:28:18.190Z"
   },
   {
    "duration": 5,
    "start_time": "2021-12-07T13:28:18.814Z"
   },
   {
    "duration": 4,
    "start_time": "2021-12-07T13:28:26.660Z"
   },
   {
    "duration": 6,
    "start_time": "2021-12-07T13:30:37.238Z"
   },
   {
    "duration": 14,
    "start_time": "2021-12-07T13:31:03.538Z"
   },
   {
    "duration": 12,
    "start_time": "2021-12-07T13:31:16.476Z"
   },
   {
    "duration": 3,
    "start_time": "2021-12-07T13:36:48.354Z"
   },
   {
    "duration": 12,
    "start_time": "2021-12-07T13:36:48.869Z"
   },
   {
    "duration": 7,
    "start_time": "2021-12-07T13:36:51.083Z"
   },
   {
    "duration": 7,
    "start_time": "2021-12-07T13:36:57.919Z"
   },
   {
    "duration": 4,
    "start_time": "2021-12-07T13:42:57.479Z"
   },
   {
    "duration": 368,
    "start_time": "2021-12-07T13:43:08.535Z"
   },
   {
    "duration": 7,
    "start_time": "2021-12-07T13:43:33.651Z"
   },
   {
    "duration": 7,
    "start_time": "2021-12-07T13:43:34.212Z"
   },
   {
    "duration": 4,
    "start_time": "2021-12-07T13:43:40.867Z"
   },
   {
    "duration": 635,
    "start_time": "2021-12-07T13:43:42.955Z"
   },
   {
    "duration": 9,
    "start_time": "2021-12-07T13:43:45.712Z"
   },
   {
    "duration": 4,
    "start_time": "2021-12-07T13:44:09.559Z"
   },
   {
    "duration": 3,
    "start_time": "2021-12-07T13:44:09.855Z"
   },
   {
    "duration": 11,
    "start_time": "2021-12-07T13:44:10.161Z"
   },
   {
    "duration": 13,
    "start_time": "2021-12-07T13:44:14.022Z"
   },
   {
    "duration": 16,
    "start_time": "2021-12-07T13:44:14.448Z"
   },
   {
    "duration": 15,
    "start_time": "2021-12-07T13:44:14.761Z"
   },
   {
    "duration": 5,
    "start_time": "2021-12-07T13:44:15.905Z"
   },
   {
    "duration": 5,
    "start_time": "2021-12-07T13:44:19.850Z"
   },
   {
    "duration": 9,
    "start_time": "2021-12-07T13:44:20.559Z"
   },
   {
    "duration": 6,
    "start_time": "2021-12-07T13:44:20.858Z"
   },
   {
    "duration": 5,
    "start_time": "2021-12-07T13:44:22.051Z"
   },
   {
    "duration": 5,
    "start_time": "2021-12-07T13:44:22.792Z"
   },
   {
    "duration": 12,
    "start_time": "2021-12-07T13:44:24.730Z"
   },
   {
    "duration": 21,
    "start_time": "2021-12-07T13:44:25.614Z"
   },
   {
    "duration": 22,
    "start_time": "2021-12-07T13:44:27.165Z"
   },
   {
    "duration": 21,
    "start_time": "2021-12-07T13:44:27.526Z"
   },
   {
    "duration": 6,
    "start_time": "2021-12-07T13:44:35.406Z"
   },
   {
    "duration": 6,
    "start_time": "2021-12-07T13:44:58.444Z"
   },
   {
    "duration": 3671,
    "start_time": "2021-12-07T13:44:59.381Z"
   },
   {
    "duration": 5,
    "start_time": "2021-12-07T13:45:03.054Z"
   },
   {
    "duration": 7,
    "start_time": "2021-12-07T13:45:21.258Z"
   },
   {
    "duration": 8,
    "start_time": "2021-12-07T13:45:21.750Z"
   },
   {
    "duration": 6,
    "start_time": "2021-12-07T13:45:28.782Z"
   },
   {
    "duration": 3,
    "start_time": "2021-12-07T13:47:05.116Z"
   },
   {
    "duration": 18,
    "start_time": "2021-12-07T13:47:09.190Z"
   },
   {
    "duration": 3,
    "start_time": "2021-12-07T13:49:37.938Z"
   },
   {
    "duration": 6,
    "start_time": "2021-12-07T13:49:40.730Z"
   },
   {
    "duration": 6,
    "start_time": "2021-12-07T13:49:42.074Z"
   },
   {
    "duration": 4,
    "start_time": "2021-12-07T13:51:26.096Z"
   },
   {
    "duration": 9,
    "start_time": "2021-12-07T13:51:28.788Z"
   },
   {
    "duration": 7,
    "start_time": "2021-12-07T13:51:29.926Z"
   },
   {
    "duration": 5,
    "start_time": "2021-12-07T13:54:58.520Z"
   },
   {
    "duration": 4,
    "start_time": "2021-12-07T13:55:36.196Z"
   },
   {
    "duration": 564,
    "start_time": "2021-12-07T13:56:24.957Z"
   },
   {
    "duration": 59,
    "start_time": "2021-12-07T13:56:26.633Z"
   },
   {
    "duration": 10,
    "start_time": "2021-12-07T13:56:29.122Z"
   },
   {
    "duration": 5,
    "start_time": "2021-12-07T13:56:38.460Z"
   },
   {
    "duration": 10,
    "start_time": "2021-12-07T13:56:54.870Z"
   },
   {
    "duration": 7,
    "start_time": "2021-12-07T13:57:00.609Z"
   },
   {
    "duration": 6,
    "start_time": "2021-12-07T13:57:09.744Z"
   },
   {
    "duration": 7,
    "start_time": "2021-12-07T13:57:11.010Z"
   },
   {
    "duration": 4,
    "start_time": "2021-12-07T13:57:23.759Z"
   },
   {
    "duration": 6,
    "start_time": "2021-12-07T13:57:35.470Z"
   },
   {
    "duration": 3,
    "start_time": "2021-12-07T13:57:48.919Z"
   },
   {
    "duration": 8,
    "start_time": "2021-12-07T13:57:54.752Z"
   },
   {
    "duration": 4,
    "start_time": "2021-12-07T13:58:01.718Z"
   },
   {
    "duration": 5,
    "start_time": "2021-12-07T13:58:02.216Z"
   },
   {
    "duration": 5,
    "start_time": "2021-12-07T13:58:05.780Z"
   },
   {
    "duration": 7,
    "start_time": "2021-12-07T13:58:23.289Z"
   },
   {
    "duration": 13,
    "start_time": "2021-12-07T13:58:32.326Z"
   },
   {
    "duration": 3,
    "start_time": "2021-12-07T13:58:49.022Z"
   },
   {
    "duration": 12,
    "start_time": "2021-12-07T13:58:52.667Z"
   },
   {
    "duration": 8,
    "start_time": "2021-12-07T13:58:58.021Z"
   },
   {
    "duration": 9,
    "start_time": "2021-12-07T13:59:09.058Z"
   },
   {
    "duration": 6,
    "start_time": "2021-12-07T13:59:53.388Z"
   },
   {
    "duration": 433,
    "start_time": "2021-12-07T14:00:32.386Z"
   },
   {
    "duration": 8,
    "start_time": "2021-12-07T14:00:35.050Z"
   },
   {
    "duration": 9,
    "start_time": "2021-12-07T14:00:38.814Z"
   },
   {
    "duration": 6,
    "start_time": "2021-12-07T14:00:52.833Z"
   },
   {
    "duration": 416,
    "start_time": "2021-12-07T14:01:01.744Z"
   },
   {
    "duration": 10,
    "start_time": "2021-12-07T14:01:03.433Z"
   },
   {
    "duration": 5,
    "start_time": "2021-12-07T14:01:10.151Z"
   },
   {
    "duration": 4,
    "start_time": "2021-12-07T14:01:10.617Z"
   },
   {
    "duration": 12,
    "start_time": "2021-12-07T14:01:11.506Z"
   },
   {
    "duration": 13,
    "start_time": "2021-12-07T14:01:15.054Z"
   },
   {
    "duration": 16,
    "start_time": "2021-12-07T14:01:17.396Z"
   },
   {
    "duration": 21,
    "start_time": "2021-12-07T14:01:18.139Z"
   },
   {
    "duration": 5,
    "start_time": "2021-12-07T14:01:21.222Z"
   },
   {
    "duration": 5,
    "start_time": "2021-12-07T14:01:23.609Z"
   },
   {
    "duration": 11,
    "start_time": "2021-12-07T14:01:30.993Z"
   },
   {
    "duration": 6,
    "start_time": "2021-12-07T14:01:32.702Z"
   },
   {
    "duration": 5,
    "start_time": "2021-12-07T14:01:35.192Z"
   },
   {
    "duration": 5,
    "start_time": "2021-12-07T14:01:38.086Z"
   },
   {
    "duration": 13,
    "start_time": "2021-12-07T14:01:47.628Z"
   },
   {
    "duration": 15,
    "start_time": "2021-12-07T14:02:05.128Z"
   },
   {
    "duration": 17,
    "start_time": "2021-12-07T14:02:08.526Z"
   },
   {
    "duration": 15,
    "start_time": "2021-12-07T14:02:09.665Z"
   },
   {
    "duration": 5,
    "start_time": "2021-12-07T14:02:17.071Z"
   },
   {
    "duration": 4,
    "start_time": "2021-12-07T14:02:22.866Z"
   },
   {
    "duration": 3547,
    "start_time": "2021-12-07T14:02:23.385Z"
   },
   {
    "duration": 5,
    "start_time": "2021-12-07T14:02:29.110Z"
   },
   {
    "duration": 7,
    "start_time": "2021-12-07T14:02:35.729Z"
   },
   {
    "duration": 10,
    "start_time": "2021-12-07T14:02:37.746Z"
   },
   {
    "duration": 6,
    "start_time": "2021-12-07T14:02:42.473Z"
   },
   {
    "duration": 2,
    "start_time": "2021-12-07T14:04:35.398Z"
   },
   {
    "duration": 10,
    "start_time": "2021-12-07T14:04:36.855Z"
   },
   {
    "duration": 4,
    "start_time": "2021-12-07T14:04:49.561Z"
   },
   {
    "duration": 8,
    "start_time": "2021-12-07T14:04:50.256Z"
   },
   {
    "duration": 7,
    "start_time": "2021-12-07T14:04:50.745Z"
   },
   {
    "duration": 4,
    "start_time": "2021-12-07T14:05:00.194Z"
   },
   {
    "duration": 10,
    "start_time": "2021-12-07T14:05:01.672Z"
   },
   {
    "duration": 7,
    "start_time": "2021-12-07T14:05:02.193Z"
   },
   {
    "duration": 5,
    "start_time": "2021-12-07T14:05:09.410Z"
   },
   {
    "duration": 4,
    "start_time": "2021-12-07T14:05:13.255Z"
   },
   {
    "duration": 6,
    "start_time": "2021-12-07T14:05:17.670Z"
   },
   {
    "duration": 4,
    "start_time": "2021-12-07T14:12:59.666Z"
   },
   {
    "duration": 16,
    "start_time": "2021-12-07T14:15:16.275Z"
   },
   {
    "duration": 13,
    "start_time": "2021-12-07T14:18:30.174Z"
   },
   {
    "duration": 16,
    "start_time": "2021-12-07T14:18:58.183Z"
   },
   {
    "duration": 7,
    "start_time": "2021-12-07T14:24:16.046Z"
   },
   {
    "duration": 18,
    "start_time": "2021-12-07T14:24:19.604Z"
   },
   {
    "duration": 311,
    "start_time": "2021-12-07T14:24:31.761Z"
   },
   {
    "duration": 8,
    "start_time": "2021-12-07T14:24:41.006Z"
   },
   {
    "duration": 17,
    "start_time": "2021-12-07T14:24:41.660Z"
   },
   {
    "duration": 239,
    "start_time": "2021-12-07T14:24:43.084Z"
   },
   {
    "duration": 249,
    "start_time": "2021-12-07T14:25:34.867Z"
   },
   {
    "duration": 13,
    "start_time": "2021-12-07T14:26:31.592Z"
   },
   {
    "duration": 7,
    "start_time": "2021-12-07T14:27:57.941Z"
   },
   {
    "duration": 88,
    "start_time": "2021-12-07T14:29:15.904Z"
   },
   {
    "duration": 13,
    "start_time": "2021-12-07T14:30:10.168Z"
   },
   {
    "duration": 13,
    "start_time": "2021-12-07T14:36:07.713Z"
   },
   {
    "duration": 656,
    "start_time": "2021-12-08T14:00:23.801Z"
   },
   {
    "duration": 66,
    "start_time": "2021-12-08T14:00:24.459Z"
   },
   {
    "duration": 10,
    "start_time": "2021-12-08T14:00:24.527Z"
   },
   {
    "duration": 9,
    "start_time": "2021-12-08T14:00:24.539Z"
   },
   {
    "duration": 7,
    "start_time": "2021-12-08T14:00:24.549Z"
   },
   {
    "duration": 34,
    "start_time": "2021-12-08T14:00:24.557Z"
   },
   {
    "duration": 5,
    "start_time": "2021-12-08T14:00:24.593Z"
   },
   {
    "duration": 9,
    "start_time": "2021-12-08T14:00:24.600Z"
   },
   {
    "duration": 7,
    "start_time": "2021-12-08T14:00:24.611Z"
   },
   {
    "duration": 11,
    "start_time": "2021-12-08T14:00:24.620Z"
   },
   {
    "duration": 16,
    "start_time": "2021-12-08T14:00:24.633Z"
   },
   {
    "duration": 12,
    "start_time": "2021-12-08T14:00:24.650Z"
   },
   {
    "duration": 23,
    "start_time": "2021-12-08T14:00:24.664Z"
   },
   {
    "duration": 15,
    "start_time": "2021-12-08T14:00:24.689Z"
   },
   {
    "duration": 24,
    "start_time": "2021-12-08T14:00:24.706Z"
   },
   {
    "duration": 17,
    "start_time": "2021-12-08T14:00:24.731Z"
   },
   {
    "duration": 25,
    "start_time": "2021-12-08T14:00:24.749Z"
   },
   {
    "duration": 28,
    "start_time": "2021-12-08T14:00:24.776Z"
   },
   {
    "duration": 12,
    "start_time": "2021-12-08T14:00:24.805Z"
   },
   {
    "duration": 29,
    "start_time": "2021-12-08T14:00:24.818Z"
   },
   {
    "duration": 13,
    "start_time": "2021-12-08T14:00:24.848Z"
   },
   {
    "duration": 436,
    "start_time": "2021-12-08T14:00:24.862Z"
   },
   {
    "duration": 7,
    "start_time": "2021-12-08T14:00:25.302Z"
   },
   {
    "duration": 8,
    "start_time": "2021-12-08T14:00:25.312Z"
   },
   {
    "duration": 5,
    "start_time": "2021-12-08T14:00:25.321Z"
   },
   {
    "duration": 439,
    "start_time": "2021-12-08T14:00:25.327Z"
   },
   {
    "duration": 9,
    "start_time": "2021-12-08T14:00:25.768Z"
   },
   {
    "duration": 15,
    "start_time": "2021-12-08T14:00:25.778Z"
   },
   {
    "duration": 7,
    "start_time": "2021-12-08T14:00:25.794Z"
   },
   {
    "duration": 14,
    "start_time": "2021-12-08T14:00:25.803Z"
   },
   {
    "duration": 14,
    "start_time": "2021-12-08T14:00:25.819Z"
   },
   {
    "duration": 15,
    "start_time": "2021-12-08T14:00:25.834Z"
   },
   {
    "duration": 14,
    "start_time": "2021-12-08T14:00:25.851Z"
   },
   {
    "duration": 5,
    "start_time": "2021-12-08T14:00:25.890Z"
   },
   {
    "duration": 5,
    "start_time": "2021-12-08T14:00:25.897Z"
   },
   {
    "duration": 11,
    "start_time": "2021-12-08T14:00:25.904Z"
   },
   {
    "duration": 8,
    "start_time": "2021-12-08T14:00:25.916Z"
   },
   {
    "duration": 5,
    "start_time": "2021-12-08T14:00:25.926Z"
   },
   {
    "duration": 7,
    "start_time": "2021-12-08T14:00:25.932Z"
   },
   {
    "duration": 13,
    "start_time": "2021-12-08T14:00:25.940Z"
   },
   {
    "duration": 47,
    "start_time": "2021-12-08T14:00:25.954Z"
   },
   {
    "duration": 17,
    "start_time": "2021-12-08T14:00:26.003Z"
   },
   {
    "duration": 18,
    "start_time": "2021-12-08T14:00:26.022Z"
   },
   {
    "duration": 5,
    "start_time": "2021-12-08T14:00:26.041Z"
   },
   {
    "duration": 5,
    "start_time": "2021-12-08T14:00:26.047Z"
   },
   {
    "duration": 3355,
    "start_time": "2021-12-08T14:00:26.054Z"
   },
   {
    "duration": 5,
    "start_time": "2021-12-08T14:00:29.412Z"
   },
   {
    "duration": 9,
    "start_time": "2021-12-08T14:00:29.419Z"
   },
   {
    "duration": 9,
    "start_time": "2021-12-08T14:00:29.429Z"
   },
   {
    "duration": 7,
    "start_time": "2021-12-08T14:00:29.439Z"
   },
   {
    "duration": 5,
    "start_time": "2021-12-08T14:00:29.448Z"
   },
   {
    "duration": 5,
    "start_time": "2021-12-08T14:00:29.454Z"
   },
   {
    "duration": 32,
    "start_time": "2021-12-08T14:00:29.460Z"
   },
   {
    "duration": 2,
    "start_time": "2021-12-08T14:00:29.494Z"
   },
   {
    "duration": 10,
    "start_time": "2021-12-08T14:00:29.498Z"
   },
   {
    "duration": 11,
    "start_time": "2021-12-08T14:00:29.510Z"
   },
   {
    "duration": 4,
    "start_time": "2021-12-08T14:00:29.523Z"
   },
   {
    "duration": 12,
    "start_time": "2021-12-08T14:00:29.529Z"
   },
   {
    "duration": 9,
    "start_time": "2021-12-08T14:00:29.543Z"
   },
   {
    "duration": 6,
    "start_time": "2021-12-08T14:00:29.553Z"
   },
   {
    "duration": 32,
    "start_time": "2021-12-08T14:00:29.560Z"
   },
   {
    "duration": 5,
    "start_time": "2021-12-08T14:00:29.594Z"
   },
   {
    "duration": 8,
    "start_time": "2021-12-08T14:00:29.600Z"
   },
   {
    "duration": 22,
    "start_time": "2021-12-08T14:00:29.609Z"
   },
   {
    "duration": 6,
    "start_time": "2021-12-08T14:00:29.632Z"
   },
   {
    "duration": 14,
    "start_time": "2021-12-08T14:00:29.640Z"
   },
   {
    "duration": 5,
    "start_time": "2021-12-08T14:00:29.656Z"
   },
   {
    "duration": 38,
    "start_time": "2021-12-08T14:00:29.665Z"
   },
   {
    "duration": 12,
    "start_time": "2021-12-08T14:00:29.705Z"
   }
  ],
  "kernelspec": {
   "display_name": "Python 3 (ipykernel)",
   "language": "python",
   "name": "python3"
  },
  "language_info": {
   "codemirror_mode": {
    "name": "ipython",
    "version": 3
   },
   "file_extension": ".py",
   "mimetype": "text/x-python",
   "name": "python",
   "nbconvert_exporter": "python",
   "pygments_lexer": "ipython3",
   "version": "3.9.7"
  },
  "toc": {
   "base_numbering": 1,
   "nav_menu": {},
   "number_sections": true,
   "sideBar": true,
   "skip_h1_title": true,
   "title_cell": "Table of Contents",
   "title_sidebar": "Contents",
   "toc_cell": false,
   "toc_position": {},
   "toc_section_display": true,
   "toc_window_display": false
  }
 },
 "nbformat": 4,
 "nbformat_minor": 2
}
